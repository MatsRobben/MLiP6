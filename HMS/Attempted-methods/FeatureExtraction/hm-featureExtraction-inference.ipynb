{
 "cells": [
  {
   "cell_type": "markdown",
   "id": "4f7fa1e0",
   "metadata": {
    "papermill": {
     "duration": 0.010541,
     "end_time": "2024-03-01T10:33:14.795500",
     "exception": false,
     "start_time": "2024-03-01T10:33:14.784959",
     "status": "completed"
    },
    "tags": []
   },
   "source": [
    "## Load Packages"
   ]
  },
  {
   "cell_type": "code",
   "execution_count": 1,
   "id": "835ba4f6",
   "metadata": {
    "execution": {
     "iopub.execute_input": "2024-03-01T10:33:14.816167Z",
     "iopub.status.busy": "2024-03-01T10:33:14.815874Z",
     "iopub.status.idle": "2024-03-01T10:33:25.167916Z",
     "shell.execute_reply": "2024-03-01T10:33:25.166987Z"
    },
    "papermill": {
     "duration": 10.364697,
     "end_time": "2024-03-01T10:33:25.170080",
     "exception": false,
     "start_time": "2024-03-01T10:33:14.805383",
     "status": "completed"
    },
    "tags": []
   },
   "outputs": [
    {
     "name": "stdout",
     "output_type": "stream",
     "text": [
      "Using 1 GPU(s)\n"
     ]
    }
   ],
   "source": [
    "import albumentations as A\n",
    "import gc\n",
    "import librosa\n",
    "import matplotlib.pyplot as plt\n",
    "import math\n",
    "import multiprocessing\n",
    "import numpy as np\n",
    "import os\n",
    "import pandas as pd\n",
    "import pywt\n",
    "import random\n",
    "import time\n",
    "import timm\n",
    "import torch\n",
    "import torch.nn as nn\n",
    "import torch.nn.functional as F\n",
    "\n",
    "from torchvision.models.feature_extraction import get_graph_node_names, create_feature_extractor\n",
    "\n",
    "from albumentations.pytorch import ToTensorV2\n",
    "from glob import glob\n",
    "from torch.utils.data import DataLoader, Dataset\n",
    "from tqdm import tqdm\n",
    "from typing import Dict, List\n",
    "\n",
    "os.environ[\"CUDA_VISIBLE_DEVICES\"] = \"0,1\"\n",
    "device = torch.device(\"cuda:0\" if torch.cuda.is_available() else \"cpu\")\n",
    "print('Using', torch.cuda.device_count(), 'GPU(s)')"
   ]
  },
  {
   "cell_type": "code",
   "execution_count": 2,
   "id": "db4ca20a",
   "metadata": {
    "execution": {
     "iopub.execute_input": "2024-03-01T10:33:25.192382Z",
     "iopub.status.busy": "2024-03-01T10:33:25.192084Z",
     "iopub.status.idle": "2024-03-01T10:33:34.555107Z",
     "shell.execute_reply": "2024-03-01T10:33:34.554058Z"
    },
    "papermill": {
     "duration": 9.377596,
     "end_time": "2024-03-01T10:33:34.557849",
     "exception": false,
     "start_time": "2024-03-01T10:33:25.180253",
     "status": "completed"
    },
    "tags": []
   },
   "outputs": [
    {
     "name": "stderr",
     "output_type": "stream",
     "text": [
      "2024-03-01 10:33:26.685553: E external/local_xla/xla/stream_executor/cuda/cuda_dnn.cc:9261] Unable to register cuDNN factory: Attempting to register factory for plugin cuDNN when one has already been registered\n",
      "2024-03-01 10:33:26.685666: E external/local_xla/xla/stream_executor/cuda/cuda_fft.cc:607] Unable to register cuFFT factory: Attempting to register factory for plugin cuFFT when one has already been registered\n",
      "2024-03-01 10:33:26.806725: E external/local_xla/xla/stream_executor/cuda/cuda_blas.cc:1515] Unable to register cuBLAS factory: Attempting to register factory for plugin cuBLAS when one has already been registered\n"
     ]
    }
   ],
   "source": [
    "import tensorflow as tf\n",
    "gpus = tf.config.experimental.list_physical_devices('GPU')\n",
    "for gpu in gpus:\n",
    "  tf.config.experimental.set_memory_growth(gpu, True)"
   ]
  },
  {
   "cell_type": "code",
   "execution_count": 3,
   "id": "d05bbfee",
   "metadata": {
    "execution": {
     "iopub.execute_input": "2024-03-01T10:33:34.583362Z",
     "iopub.status.busy": "2024-03-01T10:33:34.582799Z",
     "iopub.status.idle": "2024-03-01T10:33:34.605445Z",
     "shell.execute_reply": "2024-03-01T10:33:34.604633Z"
    },
    "papermill": {
     "duration": 0.035944,
     "end_time": "2024-03-01T10:33:34.607820",
     "exception": false,
     "start_time": "2024-03-01T10:33:34.571876",
     "status": "completed"
    },
    "tags": []
   },
   "outputs": [
    {
     "data": {
      "text/plain": [
       "['/kaggle/input/brain-eegs/WaveNet_Model/WaveNet_fold2.h5',\n",
       " '/kaggle/input/brain-eegs/WaveNet_Model/WaveNet_fold1.h5',\n",
       " '/kaggle/input/brain-eegs/WaveNet_Model/WaveNet_fold0.h5',\n",
       " '/kaggle/input/brain-eegs/WaveNet_Model/WaveNet_fold4.h5',\n",
       " '/kaggle/input/brain-eegs/WaveNet_Model/WaveNet_fold3.h5']"
      ]
     },
     "execution_count": 3,
     "metadata": {},
     "output_type": "execute_result"
    }
   ],
   "source": [
    "class config:\n",
    "    BATCH_SIZE = 64\n",
    "    MODEL = \"tf_efficientnet_b0\"\n",
    "    NUM_WORKERS = 0 # multiprocessing.cpu_count()\n",
    "    PRINT_FREQ = 20\n",
    "    SEED = 20\n",
    "    VISUALIZE = False\n",
    "    FREEZE = False\n",
    "    \n",
    "    \n",
    "class paths:\n",
    "    MODEL_WEIGHTS = \"/kaggle/input/hms-multi-class-image-classification-train/tf_efficientnet_b0_epoch_3.pth\"\n",
    "    OUTPUT_DIR = \"/kaggle/working/\"\n",
    "    TEST_CSV = \"/kaggle/input/hms-harmful-brain-activity-classification/test.csv\"\n",
    "    TEST_EEGS= \"/kaggle/input/hms-harmful-brain-activity-classification/test_eegs/\"\n",
    "    TEST_SPECTROGRAMS = \"/kaggle/input/hms-harmful-brain-activity-classification/test_spectrograms/\"\n",
    "    \n",
    "    TRAIN_CSV = \"/kaggle/input/hms-harmful-brain-activity-classification/train.csv\"\n",
    "    \n",
    "efficentnet_model_weights = [x for x in glob(\"/kaggle/input/hms-efficientnetb0-5-folds/*.pth\")]\n",
    "wavenet_model_weights = [x for x in glob(\"/kaggle/input/brain-eegs/WaveNet_Model/WaveNet_fold*.h5\")]\n",
    "\n",
    "wavenet_model_weights"
   ]
  },
  {
   "cell_type": "code",
   "execution_count": 4,
   "id": "3e318a62",
   "metadata": {
    "execution": {
     "iopub.execute_input": "2024-03-01T10:33:34.634299Z",
     "iopub.status.busy": "2024-03-01T10:33:34.633532Z",
     "iopub.status.idle": "2024-03-01T10:33:34.653205Z",
     "shell.execute_reply": "2024-03-01T10:33:34.652322Z"
    },
    "papermill": {
     "duration": 0.032849,
     "end_time": "2024-03-01T10:33:34.655123",
     "exception": false,
     "start_time": "2024-03-01T10:33:34.622274",
     "status": "completed"
    },
    "tags": []
   },
   "outputs": [
    {
     "name": "stdout",
     "output_type": "stream",
     "text": [
      "Test dataframe shape is: (1, 3)\n"
     ]
    },
    {
     "data": {
      "text/html": [
       "<div>\n",
       "<style scoped>\n",
       "    .dataframe tbody tr th:only-of-type {\n",
       "        vertical-align: middle;\n",
       "    }\n",
       "\n",
       "    .dataframe tbody tr th {\n",
       "        vertical-align: top;\n",
       "    }\n",
       "\n",
       "    .dataframe thead th {\n",
       "        text-align: right;\n",
       "    }\n",
       "</style>\n",
       "<table border=\"1\" class=\"dataframe\">\n",
       "  <thead>\n",
       "    <tr style=\"text-align: right;\">\n",
       "      <th></th>\n",
       "      <th>spectrogram_id</th>\n",
       "      <th>eeg_id</th>\n",
       "      <th>patient_id</th>\n",
       "    </tr>\n",
       "  </thead>\n",
       "  <tbody>\n",
       "    <tr>\n",
       "      <th>0</th>\n",
       "      <td>853520</td>\n",
       "      <td>3911565283</td>\n",
       "      <td>6885</td>\n",
       "    </tr>\n",
       "  </tbody>\n",
       "</table>\n",
       "</div>"
      ],
      "text/plain": [
       "   spectrogram_id      eeg_id  patient_id\n",
       "0          853520  3911565283        6885"
      ]
     },
     "execution_count": 4,
     "metadata": {},
     "output_type": "execute_result"
    }
   ],
   "source": [
    "test_df = pd.read_csv(paths.TEST_CSV)\n",
    "print(f\"Test dataframe shape is: {test_df.shape}\")\n",
    "test_df.head()"
   ]
  },
  {
   "cell_type": "markdown",
   "id": "6c6c31dc",
   "metadata": {
    "papermill": {
     "duration": 0.010131,
     "end_time": "2024-03-01T10:33:34.675710",
     "exception": false,
     "start_time": "2024-03-01T10:33:34.665579",
     "status": "completed"
    },
    "tags": []
   },
   "source": [
    "## WaveNet Mode"
   ]
  },
  {
   "cell_type": "markdown",
   "id": "e32672c0",
   "metadata": {
    "papermill": {
     "duration": 0.010077,
     "end_time": "2024-03-01T10:33:34.696969",
     "exception": false,
     "start_time": "2024-03-01T10:33:34.686892",
     "status": "completed"
    },
    "tags": []
   },
   "source": [
    "### Load Data"
   ]
  },
  {
   "cell_type": "code",
   "execution_count": 5,
   "id": "2792dcc1",
   "metadata": {
    "execution": {
     "iopub.execute_input": "2024-03-01T10:33:34.719153Z",
     "iopub.status.busy": "2024-03-01T10:33:34.718501Z",
     "iopub.status.idle": "2024-03-01T10:33:34.723722Z",
     "shell.execute_reply": "2024-03-01T10:33:34.722867Z"
    },
    "papermill": {
     "duration": 0.018353,
     "end_time": "2024-03-01T10:33:34.725644",
     "exception": false,
     "start_time": "2024-03-01T10:33:34.707291",
     "status": "completed"
    },
    "tags": []
   },
   "outputs": [],
   "source": [
    "FEATS = ['Fp1','T3','C3','O1','Fp2','C4','T4','O2']\n",
    "FEAT2IDX = {x:y for x,y in zip(FEATS,range(len(FEATS)))}"
   ]
  },
  {
   "cell_type": "code",
   "execution_count": 6,
   "id": "bc48783f",
   "metadata": {
    "execution": {
     "iopub.execute_input": "2024-03-01T10:33:34.747962Z",
     "iopub.status.busy": "2024-03-01T10:33:34.747250Z",
     "iopub.status.idle": "2024-03-01T10:33:34.814364Z",
     "shell.execute_reply": "2024-03-01T10:33:34.813587Z"
    },
    "papermill": {
     "duration": 0.080421,
     "end_time": "2024-03-01T10:33:34.816403",
     "exception": false,
     "start_time": "2024-03-01T10:33:34.735982",
     "status": "completed"
    },
    "tags": []
   },
   "outputs": [],
   "source": [
    "from scipy.signal import butter, lfilter\n",
    "\n",
    "def butter_lowpass_filter(data, cutoff_freq=20, sampling_rate=200, order=4):\n",
    "    nyquist = 0.5 * sampling_rate\n",
    "    normal_cutoff = cutoff_freq / nyquist\n",
    "    b, a = butter(order, normal_cutoff, btype='low', analog=False)\n",
    "    filtered_data = lfilter(b, a, data, axis=0)\n",
    "    return filtered_data\n",
    "\n",
    "def eeg_from_parquet(parquet_path, display=False):\n",
    "    \n",
    "    # EXTRACT MIDDLE 50 SECONDS\n",
    "    eeg = pd.read_parquet(parquet_path, columns=FEATS)\n",
    "    rows = len(eeg)\n",
    "    offset = (rows-10_000)//2\n",
    "    eeg = eeg.iloc[offset:offset+10_000]\n",
    "    \n",
    "    if display: \n",
    "        plt.figure(figsize=(10,5))\n",
    "        offset = 0\n",
    "    \n",
    "    # CONVERT TO NUMPY\n",
    "    data = np.zeros((10_000,len(FEATS)))\n",
    "    for j,col in enumerate(FEATS):\n",
    "        \n",
    "        # FILL NAN\n",
    "        x = eeg[col].values.astype('float32')\n",
    "        m = np.nanmean(x)\n",
    "        if np.isnan(x).mean()<1: x = np.nan_to_num(x,nan=m)\n",
    "        else: x[:] = 0\n",
    "            \n",
    "        data[:,j] = x\n",
    "        \n",
    "        if display: \n",
    "            if j!=0: offset += x.max()\n",
    "            plt.plot(range(10_000),x-offset,label=col)\n",
    "            offset -= x.min()\n",
    "            \n",
    "    if display:\n",
    "        plt.legend()\n",
    "        name = parquet_path.split('/')[-1]\n",
    "        name = name.split('.')[0]\n",
    "        plt.title(f'EEG {name}',size=16)\n",
    "        plt.show()\n",
    "        \n",
    "    return data"
   ]
  },
  {
   "cell_type": "code",
   "execution_count": 7,
   "id": "1d161e22",
   "metadata": {
    "execution": {
     "iopub.execute_input": "2024-03-01T10:33:34.838968Z",
     "iopub.status.busy": "2024-03-01T10:33:34.838095Z",
     "iopub.status.idle": "2024-03-01T10:33:35.719836Z",
     "shell.execute_reply": "2024-03-01T10:33:35.718929Z"
    },
    "papermill": {
     "duration": 0.895488,
     "end_time": "2024-03-01T10:33:35.722305",
     "exception": false,
     "start_time": "2024-03-01T10:33:34.826817",
     "status": "completed"
    },
    "tags": []
   },
   "outputs": [
    {
     "name": "stdout",
     "output_type": "stream",
     "text": [
      "Processing Test EEG parquets...\n",
      "\n"
     ]
    },
    {
     "data": {
      "image/png": "[encoded data removed]",
      "text/plain": [
       "<Figure size 1000x500 with 1 Axes>"
      ]
     },
     "metadata": {},
     "output_type": "display_data"
    }
   ],
   "source": [
    "all_eegs = {}\n",
    "DISPLAY = 1\n",
    "EEG_IDS2 = test_df.eeg_id.unique()\n",
    "PATH2 = '/kaggle/input/hms-harmful-brain-activity-classification/test_eegs/'\n",
    "\n",
    "print('Processing Test EEG parquets...'); print()\n",
    "for i,eeg_id in enumerate(EEG_IDS2):\n",
    "    # SAVE EEG TO PYTHON DICTIONARY OF NUMPY ARRAYS\n",
    "    data = eeg_from_parquet(f'{PATH2}{eeg_id}.parquet', i<DISPLAY)\n",
    "    all_eegs[eeg_id] = data"
   ]
  },
  {
   "cell_type": "code",
   "execution_count": 8,
   "id": "a9984487",
   "metadata": {
    "execution": {
     "iopub.execute_input": "2024-03-01T10:33:35.748274Z",
     "iopub.status.busy": "2024-03-01T10:33:35.747924Z",
     "iopub.status.idle": "2024-03-01T10:33:35.763469Z",
     "shell.execute_reply": "2024-03-01T10:33:35.762749Z"
    },
    "papermill": {
     "duration": 0.030439,
     "end_time": "2024-03-01T10:33:35.765268",
     "exception": false,
     "start_time": "2024-03-01T10:33:35.734829",
     "status": "completed"
    },
    "tags": []
   },
   "outputs": [],
   "source": [
    "class DataGenerator(tf.keras.utils.Sequence):\n",
    "    'Generates data for Keras'\n",
    "    def __init__(self, data, batch_size=32, shuffle=False, eegs=all_eegs, mode='train',\n",
    "                 downsample=5): \n",
    "\n",
    "        self.data = data\n",
    "        self.batch_size = batch_size\n",
    "        self.shuffle = shuffle\n",
    "        self.eegs = eegs\n",
    "        self.mode = mode\n",
    "        self.downsample = downsample\n",
    "        self.on_epoch_end()\n",
    "        \n",
    "    def __len__(self):\n",
    "        'Denotes the number of batches per epoch'\n",
    "        ct = int( np.ceil( len(self.data) / self.batch_size ) )\n",
    "        return ct\n",
    "\n",
    "    def __getitem__(self, index):\n",
    "        'Generate one batch of data'\n",
    "        indexes = self.indexes[index*self.batch_size:(index+1)*self.batch_size]\n",
    "        X, y = self.__data_generation(indexes)\n",
    "        return X[:,::self.downsample,:], y\n",
    "\n",
    "    def on_epoch_end(self):\n",
    "        'Updates indexes after each epoch'\n",
    "        self.indexes = np.arange( len(self.data) )\n",
    "        if self.shuffle: np.random.shuffle(self.indexes)\n",
    "                        \n",
    "    def __data_generation(self, indexes):\n",
    "        'Generates data containing batch_size samples' \n",
    "    \n",
    "        X = np.zeros((len(indexes),10_000,8),dtype='float32')\n",
    "        y = np.zeros((len(indexes),6),dtype='float32')\n",
    "        \n",
    "        sample = np.zeros((10_000,X.shape[-1]))\n",
    "        for j,i in enumerate(indexes):\n",
    "            row = self.data.iloc[i]      \n",
    "            data = self.eegs[row.eeg_id]\n",
    "            \n",
    "            # FEATURE ENGINEER\n",
    "            sample[:,0] = data[:,FEAT2IDX['Fp1']] - data[:,FEAT2IDX['T3']]\n",
    "            sample[:,1] = data[:,FEAT2IDX['T3']] - data[:,FEAT2IDX['O1']]\n",
    "            \n",
    "            sample[:,2] = data[:,FEAT2IDX['Fp1']] - data[:,FEAT2IDX['C3']]\n",
    "            sample[:,3] = data[:,FEAT2IDX['C3']] - data[:,FEAT2IDX['O1']]\n",
    "            \n",
    "            sample[:,4] = data[:,FEAT2IDX['Fp2']] - data[:,FEAT2IDX['C4']]\n",
    "            sample[:,5] = data[:,FEAT2IDX['C4']] - data[:,FEAT2IDX['O2']]\n",
    "            \n",
    "            sample[:,6] = data[:,FEAT2IDX['Fp2']] - data[:,FEAT2IDX['T4']]\n",
    "            sample[:,7] = data[:,FEAT2IDX['T4']] - data[:,FEAT2IDX['O2']]\n",
    "            \n",
    "            # STANDARDIZE\n",
    "            sample = np.clip(sample,-1024,1024)\n",
    "            sample = np.nan_to_num(sample, nan=0) / 32.0\n",
    "            \n",
    "            # BUTTER LOW-PASS FILTER\n",
    "            sample = butter_lowpass_filter(sample)\n",
    "            \n",
    "            X[j,] = sample\n",
    "            if self.mode!='test':\n",
    "                y[j] = row[TARGETS]\n",
    "            \n",
    "        return X,y"
   ]
  },
  {
   "cell_type": "code",
   "execution_count": 9,
   "id": "75ffa4ff",
   "metadata": {
    "execution": {
     "iopub.execute_input": "2024-03-01T10:33:35.790129Z",
     "iopub.status.busy": "2024-03-01T10:33:35.789663Z",
     "iopub.status.idle": "2024-03-01T10:33:35.793880Z",
     "shell.execute_reply": "2024-03-01T10:33:35.793053Z"
    },
    "papermill": {
     "duration": 0.018675,
     "end_time": "2024-03-01T10:33:35.795816",
     "exception": false,
     "start_time": "2024-03-01T10:33:35.777141",
     "status": "completed"
    },
    "tags": []
   },
   "outputs": [],
   "source": [
    "test_gen = DataGenerator(test_df, shuffle=False, batch_size=64, eegs=all_eegs, mode='test')"
   ]
  },
  {
   "cell_type": "markdown",
   "id": "2db14663",
   "metadata": {
    "papermill": {
     "duration": 0.011609,
     "end_time": "2024-03-01T10:33:35.819407",
     "exception": false,
     "start_time": "2024-03-01T10:33:35.807798",
     "status": "completed"
    },
    "tags": []
   },
   "source": [
    "### Model"
   ]
  },
  {
   "cell_type": "code",
   "execution_count": 10,
   "id": "1d42c7da",
   "metadata": {
    "execution": {
     "iopub.execute_input": "2024-03-01T10:33:35.844613Z",
     "iopub.status.busy": "2024-03-01T10:33:35.844357Z",
     "iopub.status.idle": "2024-03-01T10:33:35.863062Z",
     "shell.execute_reply": "2024-03-01T10:33:35.862397Z"
    },
    "papermill": {
     "duration": 0.033654,
     "end_time": "2024-03-01T10:33:35.864855",
     "exception": false,
     "start_time": "2024-03-01T10:33:35.831201",
     "status": "completed"
    },
    "tags": []
   },
   "outputs": [],
   "source": [
    "from tensorflow.keras.layers import Input, Dense, Multiply, Add, Conv1D, Concatenate\n",
    "\n",
    "def wave_block(x, filters, kernel_size, n):\n",
    "    dilation_rates = [2**i for i in range(n)]\n",
    "    x = Conv1D(filters = filters,\n",
    "               kernel_size = 1,\n",
    "               padding = 'same')(x)\n",
    "    res_x = x\n",
    "    for dilation_rate in dilation_rates:\n",
    "        tanh_out = Conv1D(filters = filters,\n",
    "                          kernel_size = kernel_size,\n",
    "                          padding = 'same', \n",
    "                          activation = 'tanh', \n",
    "                          dilation_rate = dilation_rate)(x)\n",
    "        sigm_out = Conv1D(filters = filters,\n",
    "                          kernel_size = kernel_size,\n",
    "                          padding = 'same',\n",
    "                          activation = 'sigmoid', \n",
    "                          dilation_rate = dilation_rate)(x)\n",
    "        x = Multiply()([tanh_out, sigm_out])\n",
    "        x = Conv1D(filters = filters,\n",
    "                   kernel_size = 1,\n",
    "                   padding = 'same')(x)\n",
    "        res_x = Add()([res_x, x])\n",
    "    return res_x\n",
    "\n",
    "def build_model():\n",
    "        \n",
    "    # INPUT \n",
    "    inp = tf.keras.Input(shape=(2_000,8))\n",
    "    \n",
    "    ############\n",
    "    # FEATURE EXTRACTION SUB MODEL\n",
    "    inp2 = tf.keras.Input(shape=(2_000,1))\n",
    "    x = wave_block(inp2, 8, 3, 12)\n",
    "    x = wave_block(x, 16, 3, 8)\n",
    "    x = wave_block(x, 32, 3, 4)\n",
    "    x = wave_block(x, 64, 3, 1)\n",
    "    model2 = tf.keras.Model(inputs=inp2, outputs=x)\n",
    "    ###########\n",
    "    \n",
    "    # LEFT TEMPORAL CHAIN\n",
    "    x1 = model2(inp[:,:,0:1])\n",
    "    x1 = tf.keras.layers.GlobalAveragePooling1D()(x1)\n",
    "    x2 = model2(inp[:,:,1:2])\n",
    "    x2 = tf.keras.layers.GlobalAveragePooling1D()(x2)\n",
    "    z1 = tf.keras.layers.Average()([x1,x2])\n",
    "    \n",
    "    # LEFT PARASAGITTAL CHAIN\n",
    "    x1 = model2(inp[:,:,2:3])\n",
    "    x1 = tf.keras.layers.GlobalAveragePooling1D()(x1)\n",
    "    x2 = model2(inp[:,:,3:4])\n",
    "    x2 = tf.keras.layers.GlobalAveragePooling1D()(x2)\n",
    "    z2 = tf.keras.layers.Average()([x1,x2])\n",
    "    \n",
    "    # RIGHT PARASAGITTAL CHAIN\n",
    "    x1 = model2(inp[:,:,4:5])\n",
    "    x1 = tf.keras.layers.GlobalAveragePooling1D()(x1)\n",
    "    x2 = model2(inp[:,:,5:6])\n",
    "    x2 = tf.keras.layers.GlobalAveragePooling1D()(x2)\n",
    "    z3 = tf.keras.layers.Average()([x1,x2])\n",
    "    \n",
    "    # RIGHT TEMPORAL CHAIN\n",
    "    x1 = model2(inp[:,:,6:7])\n",
    "    x1 = tf.keras.layers.GlobalAveragePooling1D()(x1)\n",
    "    x2 = model2(inp[:,:,7:8])\n",
    "    x2 = tf.keras.layers.GlobalAveragePooling1D()(x2)\n",
    "    z4 = tf.keras.layers.Average()([x1,x2])\n",
    "    \n",
    "    # COMBINE CHAINS\n",
    "    y = tf.keras.layers.Concatenate()([z1,z2,z3,z4])\n",
    "    y = tf.keras.layers.Dense(64, activation='relu')(y)\n",
    "    y = tf.keras.layers.Dense(6,activation='softmax', dtype='float32')(y)\n",
    "    \n",
    "    # COMPILE MODEL\n",
    "    model = tf.keras.Model(inputs=inp, outputs=y)\n",
    "    opt = tf.keras.optimizers.Adam(learning_rate = 1e-3)\n",
    "    loss = tf.keras.losses.KLDivergence()\n",
    "    model.compile(loss=loss, optimizer = opt)\n",
    "    \n",
    "    return model"
   ]
  },
  {
   "cell_type": "code",
   "execution_count": 11,
   "id": "7ed66ca0",
   "metadata": {
    "execution": {
     "iopub.execute_input": "2024-03-01T10:33:35.890142Z",
     "iopub.status.busy": "2024-03-01T10:33:35.889860Z",
     "iopub.status.idle": "2024-03-01T10:33:36.698226Z",
     "shell.execute_reply": "2024-03-01T10:33:36.697233Z"
    },
    "papermill": {
     "duration": 0.82326,
     "end_time": "2024-03-01T10:33:36.700576",
     "exception": false,
     "start_time": "2024-03-01T10:33:35.877316",
     "status": "completed"
    },
    "tags": []
   },
   "outputs": [],
   "source": [
    "model = build_model()"
   ]
  },
  {
   "cell_type": "code",
   "execution_count": 12,
   "id": "7e371778",
   "metadata": {
    "execution": {
     "iopub.execute_input": "2024-03-01T10:33:36.726405Z",
     "iopub.status.busy": "2024-03-01T10:33:36.726090Z",
     "iopub.status.idle": "2024-03-01T10:33:36.732201Z",
     "shell.execute_reply": "2024-03-01T10:33:36.731488Z"
    },
    "papermill": {
     "duration": 0.021197,
     "end_time": "2024-03-01T10:33:36.734141",
     "exception": false,
     "start_time": "2024-03-01T10:33:36.712944",
     "status": "completed"
    },
    "tags": []
   },
   "outputs": [],
   "source": [
    "from tensorflow.keras.models import Model\n",
    "\n",
    "def get_concatenated_features(model, layer):\n",
    "    # Extract features up to the concatenate_2 layer\n",
    "    feature_extraction_model = Model(inputs=model.input, outputs=model.get_layer(layer).output)\n",
    "    return feature_extraction_model"
   ]
  },
  {
   "cell_type": "code",
   "execution_count": 13,
   "id": "cbb166fe",
   "metadata": {
    "execution": {
     "iopub.execute_input": "2024-03-01T10:33:36.759162Z",
     "iopub.status.busy": "2024-03-01T10:33:36.758864Z",
     "iopub.status.idle": "2024-03-01T10:35:28.327530Z",
     "shell.execute_reply": "2024-03-01T10:35:28.326493Z"
    },
    "papermill": {
     "duration": 111.583758,
     "end_time": "2024-03-01T10:35:28.329873",
     "exception": false,
     "start_time": "2024-03-01T10:33:36.746115",
     "status": "completed"
    },
    "tags": []
   },
   "outputs": [
    {
     "name": "stderr",
     "output_type": "stream",
     "text": [
      "/opt/conda/lib/python3.10/site-packages/keras/src/trainers/data_adapters/py_dataset_adapter.py:122: UserWarning: Your `PyDataset` class should call `super().__init__(**kwargs)` in its constructor. `**kwargs` can include `workers`, `use_multiprocessing`, `max_queue_size`. Do not pass these arguments to `fit()`, as they will be ignored.\n",
      "  self._warn_if_super_not_called()\n"
     ]
    },
    {
     "name": "stdout",
     "output_type": "stream",
     "text": [
      "\u001b[1m1/1\u001b[0m \u001b[32m━━━━━━━━━━━━━━━━━━━━\u001b[0m\u001b[37m\u001b[0m \u001b[1m23s\u001b[0m 23s/step\n"
     ]
    },
    {
     "name": "stderr",
     "output_type": "stream",
     "text": [
      "WARNING: All log messages before absl::InitializeLog() is called are written to STDERR\n",
      "I0000 00:00:1709289240.457991      93 device_compiler.h:186] Compiled cluster using XLA!  This line is logged at most once for the lifetime of the process.\n"
     ]
    },
    {
     "name": "stdout",
     "output_type": "stream",
     "text": [
      "\u001b[1m1/1\u001b[0m \u001b[32m━━━━━━━━━━━━━━━━━━━━\u001b[0m\u001b[37m\u001b[0m \u001b[1m21s\u001b[0m 21s/step\n",
      "\u001b[1m1/1\u001b[0m \u001b[32m━━━━━━━━━━━━━━━━━━━━\u001b[0m\u001b[37m\u001b[0m \u001b[1m20s\u001b[0m 20s/step\n",
      "\u001b[1m1/1\u001b[0m \u001b[32m━━━━━━━━━━━━━━━━━━━━\u001b[0m\u001b[37m\u001b[0m \u001b[1m20s\u001b[0m 20s/step\n",
      "\u001b[1m1/1\u001b[0m \u001b[32m━━━━━━━━━━━━━━━━━━━━\u001b[0m\u001b[37m\u001b[0m \u001b[1m20s\u001b[0m 20s/step\n"
     ]
    }
   ],
   "source": [
    "import tensorflow.keras.backend as K, gc\n",
    "\n",
    "wavenet_features = []\n",
    "\n",
    "for i in range(5):\n",
    "    model = build_model()\n",
    "    model.load_weights(f'/kaggle/input/brain-eegs/WaveNet_Model/WaveNet_fold{i}.h5')\n",
    "    \n",
    "    feature_extraction_model = get_concatenated_features(model, f'concatenate_{i+1}')\n",
    "    features = feature_extraction_model.predict(test_gen, verbose=1)\n",
    "    \n",
    "    wavenet_features.append(features)\n",
    "    del model, feature_extraction_model, features\n",
    "    gc.collect()"
   ]
  },
  {
   "cell_type": "code",
   "execution_count": 14,
   "id": "847bbb3e",
   "metadata": {
    "execution": {
     "iopub.execute_input": "2024-03-01T10:35:28.362240Z",
     "iopub.status.busy": "2024-03-01T10:35:28.361486Z",
     "iopub.status.idle": "2024-03-01T10:35:28.374385Z",
     "shell.execute_reply": "2024-03-01T10:35:28.373516Z"
    },
    "papermill": {
     "duration": 0.032816,
     "end_time": "2024-03-01T10:35:28.376233",
     "exception": false,
     "start_time": "2024-03-01T10:35:28.343417",
     "status": "completed"
    },
    "tags": []
   },
   "outputs": [
    {
     "data": {
      "text/plain": [
       "(1, 256)"
      ]
     },
     "execution_count": 14,
     "metadata": {},
     "output_type": "execute_result"
    }
   ],
   "source": [
    "wavenet_features[0].shape"
   ]
  },
  {
   "cell_type": "code",
   "execution_count": 15,
   "id": "d1668719",
   "metadata": {
    "execution": {
     "iopub.execute_input": "2024-03-01T10:35:28.403338Z",
     "iopub.status.busy": "2024-03-01T10:35:28.403051Z",
     "iopub.status.idle": "2024-03-01T10:35:28.694939Z",
     "shell.execute_reply": "2024-03-01T10:35:28.694061Z"
    },
    "papermill": {
     "duration": 0.307568,
     "end_time": "2024-03-01T10:35:28.696919",
     "exception": false,
     "start_time": "2024-03-01T10:35:28.389351",
     "status": "completed"
    },
    "tags": []
   },
   "outputs": [],
   "source": [
    "def clear_gpu_memory():\n",
    "    torch.cuda.empty_cache()\n",
    "    gc.collect()\n",
    "\n",
    "# Call the function before proceeding with your PyTorch model\n",
    "clear_gpu_memory()"
   ]
  },
  {
   "cell_type": "markdown",
   "id": "a41292f0",
   "metadata": {
    "papermill": {
     "duration": 0.012977,
     "end_time": "2024-03-01T10:35:28.723473",
     "exception": false,
     "start_time": "2024-03-01T10:35:28.710496",
     "status": "completed"
    },
    "tags": []
   },
   "source": [
    "## EfficientNet Model"
   ]
  },
  {
   "cell_type": "code",
   "execution_count": 16,
   "id": "ad9b9e09",
   "metadata": {
    "execution": {
     "iopub.execute_input": "2024-03-01T10:35:28.750924Z",
     "iopub.status.busy": "2024-03-01T10:35:28.750643Z",
     "iopub.status.idle": "2024-03-01T10:35:28.762290Z",
     "shell.execute_reply": "2024-03-01T10:35:28.761438Z"
    },
    "papermill": {
     "duration": 0.02741,
     "end_time": "2024-03-01T10:35:28.764142",
     "exception": false,
     "start_time": "2024-03-01T10:35:28.736732",
     "status": "completed"
    },
    "tags": []
   },
   "outputs": [],
   "source": [
    "USE_WAVELET = None \n",
    "\n",
    "FEATS = [['Fp1','F7','T3','T5','O1'],\n",
    "         ['Fp1','F3','C3','P3','O1'],\n",
    "         ['Fp2','F8','T4','T6','O2'],\n",
    "         ['Fp2','F4','C4','P4','O2']]\n",
    "\n",
    "def spectrogram_from_eeg(parquet_path, display=False):\n",
    "    # LOAD MIDDLE 50 SECONDS OF EEG SERIES\n",
    "    eeg = pd.read_parquet(parquet_path)\n",
    "    middle = (len(eeg)-10_000)//2\n",
    "    eeg = eeg.iloc[middle:middle+10_000]\n",
    "    \n",
    "    # VARIABLE TO HOLD SPECTROGRAM\n",
    "    img = np.zeros((128,256,4),dtype='float32')\n",
    "    \n",
    "    signals = []\n",
    "    for k in range(4):\n",
    "        COLS = FEATS[k]\n",
    "        \n",
    "        for kk in range(4):\n",
    "            \n",
    "            \n",
    "            # COMPUTE PAIR DIFFERENCES\n",
    "            x = eeg[COLS[kk]].values - eeg[COLS[kk+1]].values\n",
    "\n",
    "            # FILL NANS\n",
    "            m = np.nanmean(x)\n",
    "            if np.isnan(x).mean()<1: x = np.nan_to_num(x,nan=m)\n",
    "            else: x[:] = 0\n",
    "\n",
    "            # DENOISE\n",
    "            if USE_WAVELET:\n",
    "                x = denoise(x, wavelet=USE_WAVELET)\n",
    "            signals.append(x)\n",
    "\n",
    "            # RAW SPECTROGRAM\n",
    "            mel_spec = librosa.feature.melspectrogram(y=x, sr=200, hop_length=len(x)//256, \n",
    "                  n_fft=1024, n_mels=128, fmin=0, fmax=20, win_length=128)\n",
    "\n",
    "            # LOG TRANSFORM\n",
    "            width = (mel_spec.shape[1]//32)*32\n",
    "            mel_spec_db = librosa.power_to_db(mel_spec, ref=np.max).astype(np.float32)[:,:width]\n",
    "\n",
    "            # STANDARDIZE TO -1 TO 1\n",
    "            mel_spec_db = (mel_spec_db+40)/40 \n",
    "            img[:,:,k] += mel_spec_db\n",
    "                \n",
    "        # AVERAGE THE 4 MONTAGE DIFFERENCES\n",
    "        img[:,:,k] /= 4.0\n",
    "\n",
    "    return img"
   ]
  },
  {
   "cell_type": "code",
   "execution_count": 17,
   "id": "66defea6",
   "metadata": {
    "execution": {
     "iopub.execute_input": "2024-03-01T10:35:28.791286Z",
     "iopub.status.busy": "2024-03-01T10:35:28.791005Z",
     "iopub.status.idle": "2024-03-01T10:35:28.848265Z",
     "shell.execute_reply": "2024-03-01T10:35:28.847371Z"
    },
    "papermill": {
     "duration": 0.073206,
     "end_time": "2024-03-01T10:35:28.850447",
     "exception": false,
     "start_time": "2024-03-01T10:35:28.777241",
     "status": "completed"
    },
    "tags": []
   },
   "outputs": [
    {
     "name": "stderr",
     "output_type": "stream",
     "text": [
      "100%|██████████| 1/1 [00:00<00:00, 20.74it/s]\n"
     ]
    }
   ],
   "source": [
    "PATH2 = '/kaggle/input/hms-harmful-brain-activity-classification/test_spectrograms/'\n",
    "\n",
    "EEG_IDS2 = test_df.spectrogram_id.unique()\n",
    "all_spectrograms = {}\n",
    "\n",
    "for spectogram_id in tqdm(EEG_IDS2):\n",
    "    aux = pd.read_parquet(f'{PATH2}{spectogram_id}.parquet')\n",
    "    all_spectrograms[spectogram_id] = aux.iloc[:,1:].values\n",
    "    del aux"
   ]
  },
  {
   "cell_type": "code",
   "execution_count": 18,
   "id": "be56a292",
   "metadata": {
    "execution": {
     "iopub.execute_input": "2024-03-01T10:35:28.878884Z",
     "iopub.status.busy": "2024-03-01T10:35:28.878611Z",
     "iopub.status.idle": "2024-03-01T10:35:38.793873Z",
     "shell.execute_reply": "2024-03-01T10:35:38.792590Z"
    },
    "papermill": {
     "duration": 9.933518,
     "end_time": "2024-03-01T10:35:38.797891",
     "exception": false,
     "start_time": "2024-03-01T10:35:28.864373",
     "status": "completed"
    },
    "tags": []
   },
   "outputs": [
    {
     "name": "stderr",
     "output_type": "stream",
     "text": [
      "100%|██████████| 1/1 [00:09<00:00,  9.90s/it]\n"
     ]
    }
   ],
   "source": [
    "PATH2 = '/kaggle/input/hms-harmful-brain-activity-classification/test_eegs/'\n",
    "EEG_IDS2 = test_df.eeg_id.unique()\n",
    "all_eegs = {}\n",
    "counter = 0\n",
    "\n",
    "for eeg_id in tqdm(EEG_IDS2):\n",
    "    eeg_spectrogram = spectrogram_from_eeg(f'{PATH2}{eeg_id}.parquet', counter < 1)\n",
    "    all_eegs[int(eeg_id)] = eeg_spectrogram\n",
    "    counter += 1"
   ]
  },
  {
   "cell_type": "code",
   "execution_count": 19,
   "id": "4310bff0",
   "metadata": {
    "execution": {
     "iopub.execute_input": "2024-03-01T10:35:38.914202Z",
     "iopub.status.busy": "2024-03-01T10:35:38.913355Z",
     "iopub.status.idle": "2024-03-01T10:35:38.928903Z",
     "shell.execute_reply": "2024-03-01T10:35:38.928084Z"
    },
    "papermill": {
     "duration": 0.080942,
     "end_time": "2024-03-01T10:35:38.931331",
     "exception": false,
     "start_time": "2024-03-01T10:35:38.850389",
     "status": "completed"
    },
    "tags": []
   },
   "outputs": [],
   "source": [
    "class CustomModel(nn.Module):\n",
    "    def __init__(self, config, num_classes: int = 6):\n",
    "        super(CustomModel, self).__init__()\n",
    "        self.USE_KAGGLE_SPECTROGRAMS = True\n",
    "        self.USE_EEG_SPECTROGRAMS = True\n",
    "        self.model = timm.create_model(\n",
    "            config.MODEL,\n",
    "            pretrained=False\n",
    "        )\n",
    "        self.features = nn.Sequential(*list(self.model.children())[:-2])\n",
    "        self.custom_layers = nn.Sequential(\n",
    "            nn.AdaptiveAvgPool2d(1),\n",
    "            nn.Flatten(),\n",
    "            nn.Linear(self.model.num_features, num_classes)\n",
    "        )\n",
    "\n",
    "    def __reshape_input(self, x):\n",
    "        \"\"\"\n",
    "        Reshapes input (128, 256, 8) -> (512, 512, 3) monotone image.\n",
    "        \"\"\" \n",
    "        # === Get spectrograms ===\n",
    "        spectrograms = [x[:, :, :, i:i+1] for i in range(4)]\n",
    "        spectrograms = torch.cat(spectrograms, dim=1)\n",
    "        \n",
    "        # === Get EEG spectrograms ===\n",
    "        eegs = [x[:, :, :, i:i+1] for i in range(4,8)]\n",
    "        eegs = torch.cat(eegs, dim=1)\n",
    "        \n",
    "        # === Reshape (512,512,3) ===\n",
    "        if self.USE_KAGGLE_SPECTROGRAMS & self.USE_EEG_SPECTROGRAMS:\n",
    "            x = torch.cat([spectrograms, eegs], dim=2)\n",
    "        elif self.USE_EEG_SPECTROGRAMS:\n",
    "            x = eegs\n",
    "        else:\n",
    "            x = spectrograms\n",
    "            \n",
    "        x = torch.cat([x,x,x], dim=3)\n",
    "        x = x.permute(0, 3, 1, 2)\n",
    "        return x\n",
    "    \n",
    "    def forward(self, x):\n",
    "        x = self.__reshape_input(x)\n",
    "        x = self.features(x)\n",
    "        x = self.custom_layers(x)\n",
    "        return x"
   ]
  },
  {
   "cell_type": "code",
   "execution_count": 20,
   "id": "17a05109",
   "metadata": {
    "execution": {
     "iopub.execute_input": "2024-03-01T10:35:38.961983Z",
     "iopub.status.busy": "2024-03-01T10:35:38.961278Z",
     "iopub.status.idle": "2024-03-01T10:35:38.980212Z",
     "shell.execute_reply": "2024-03-01T10:35:38.979380Z"
    },
    "papermill": {
     "duration": 0.036224,
     "end_time": "2024-03-01T10:35:38.982234",
     "exception": false,
     "start_time": "2024-03-01T10:35:38.946010",
     "status": "completed"
    },
    "tags": []
   },
   "outputs": [],
   "source": [
    "class CustomDataset(Dataset):\n",
    "    def __init__(\n",
    "        self, df: pd.DataFrame, config,\n",
    "        augment: bool = False, mode: str = 'train',\n",
    "        specs: Dict[int, np.ndarray] = all_spectrograms,\n",
    "        eeg_specs: Dict[int, np.ndarray] = all_eegs\n",
    "    ): \n",
    "        self.df = df\n",
    "        self.config = config\n",
    "        self.batch_size = self.config.BATCH_SIZE\n",
    "        self.augment = augment\n",
    "        self.mode = mode\n",
    "        self.spectrograms = all_spectrograms\n",
    "        self.eeg_spectrograms = all_eegs\n",
    "        \n",
    "    def __len__(self):\n",
    "        \"\"\"\n",
    "        Denotes the number of batches per epoch.\n",
    "        \"\"\"\n",
    "        return len(self.df)\n",
    "        \n",
    "    def __getitem__(self, index):\n",
    "        \"\"\"\n",
    "        Generate one batch of data.\n",
    "        \"\"\"\n",
    "        X, y = self.__data_generation(index)\n",
    "        if self.augment:\n",
    "            X = self.__transform(X)\n",
    "        return torch.tensor(X, dtype=torch.float32), torch.tensor(y, dtype=torch.float32)\n",
    "                        \n",
    "    def __data_generation(self, index):\n",
    "        \"\"\"\n",
    "        Generates data containing batch_size samples.\n",
    "        \"\"\"\n",
    "        X = np.zeros((128, 256, 8), dtype='float32')\n",
    "        y = np.zeros(6, dtype='float32')\n",
    "        img = np.ones((128,256), dtype='float32')\n",
    "        row = self.df.iloc[index]\n",
    "        if self.mode=='test': \n",
    "            r = 0\n",
    "        else: \n",
    "            r = int((row['min'] + row['max']) // 4)\n",
    "            \n",
    "        for region in range(4):\n",
    "            img = self.spectrograms[row.spectrogram_id][r:r+300, region*100:(region+1)*100].T\n",
    "            \n",
    "            # Log transform spectrogram\n",
    "            img = np.clip(img, np.exp(-4), np.exp(8))\n",
    "            img = np.log(img)\n",
    "\n",
    "            # Standarize per image\n",
    "            ep = 1e-6\n",
    "            mu = np.nanmean(img.flatten())\n",
    "            std = np.nanstd(img.flatten())\n",
    "            img = (img-mu)/(std+ep)\n",
    "            img = np.nan_to_num(img, nan=0.0)\n",
    "            X[14:-14, :, region] = img[:, 22:-22] / 2.0\n",
    "            img = self.eeg_spectrograms[row.eeg_id]\n",
    "            X[:, :, 4:] = img\n",
    "                \n",
    "            if self.mode != 'test':\n",
    "                y = row[label_cols].values.astype(np.float32)\n",
    "            \n",
    "        return X, y\n",
    "    \n",
    "    def __transform(self, img):\n",
    "        transforms = A.Compose([\n",
    "            A.HorizontalFlip(p=0.5),\n",
    "        ])\n",
    "        return transforms(image=img)['image']"
   ]
  },
  {
   "cell_type": "code",
   "execution_count": 21,
   "id": "97aedba3",
   "metadata": {
    "execution": {
     "iopub.execute_input": "2024-03-01T10:35:39.011495Z",
     "iopub.status.busy": "2024-03-01T10:35:39.011217Z",
     "iopub.status.idle": "2024-03-01T10:35:39.046220Z",
     "shell.execute_reply": "2024-03-01T10:35:39.045300Z"
    },
    "papermill": {
     "duration": 0.051516,
     "end_time": "2024-03-01T10:35:39.048060",
     "exception": false,
     "start_time": "2024-03-01T10:35:38.996544",
     "status": "completed"
    },
    "tags": []
   },
   "outputs": [
    {
     "name": "stdout",
     "output_type": "stream",
     "text": [
      "X shape: torch.Size([128, 256, 8])\n",
      "y shape: torch.Size([6])\n"
     ]
    }
   ],
   "source": [
    "test_dataset = CustomDataset(test_df, config, mode=\"test\")\n",
    "test_loader = DataLoader(\n",
    "    test_dataset,\n",
    "    batch_size=config.BATCH_SIZE,\n",
    "    shuffle=False,\n",
    "    num_workers=config.NUM_WORKERS, \n",
    "    pin_memory=True, drop_last=False\n",
    ")\n",
    "\n",
    "X, y = test_dataset[0]\n",
    "print(f\"X shape: {X.shape}\")\n",
    "print(f\"y shape: {y.shape}\")"
   ]
  },
  {
   "cell_type": "code",
   "execution_count": 22,
   "id": "080eb6b0",
   "metadata": {
    "execution": {
     "iopub.execute_input": "2024-03-01T10:35:39.084861Z",
     "iopub.status.busy": "2024-03-01T10:35:39.084101Z",
     "iopub.status.idle": "2024-03-01T10:35:39.089837Z",
     "shell.execute_reply": "2024-03-01T10:35:39.088864Z"
    },
    "papermill": {
     "duration": 0.02798,
     "end_time": "2024-03-01T10:35:39.091750",
     "exception": false,
     "start_time": "2024-03-01T10:35:39.063770",
     "status": "completed"
    },
    "tags": []
   },
   "outputs": [],
   "source": [
    "def load_weights(model, weights_path):\n",
    "    checkpoint = torch.load(weights_path, map_location=torch.device(device))\n",
    "    model.load_state_dict(checkpoint[\"model\"])\n",
    "    model.to(device)\n",
    "    return model"
   ]
  },
  {
   "cell_type": "code",
   "execution_count": 23,
   "id": "3db32e9a",
   "metadata": {
    "execution": {
     "iopub.execute_input": "2024-03-01T10:35:39.121112Z",
     "iopub.status.busy": "2024-03-01T10:35:39.120469Z",
     "iopub.status.idle": "2024-03-01T10:35:39.127209Z",
     "shell.execute_reply": "2024-03-01T10:35:39.126345Z"
    },
    "papermill": {
     "duration": 0.023622,
     "end_time": "2024-03-01T10:35:39.129359",
     "exception": false,
     "start_time": "2024-03-01T10:35:39.105737",
     "status": "completed"
    },
    "tags": []
   },
   "outputs": [],
   "source": [
    "def extract_features(model, dataloader):\n",
    "    features = []\n",
    "    model.eval()\n",
    "    with torch.no_grad():\n",
    "        for inputs, _ in tqdm(dataloader, desc=\"Extracting features\", leave=False):\n",
    "            # Forward pass through the model to extract features\n",
    "            inputs=inputs.to(device)\n",
    "            \n",
    "            outputs = model(inputs)\n",
    "            features.append(outputs['custom_layers.1'])\n",
    "            \n",
    "    return torch.cat(features, dim=0)"
   ]
  },
  {
   "cell_type": "code",
   "execution_count": 24,
   "id": "2c5436d1",
   "metadata": {
    "execution": {
     "iopub.execute_input": "2024-03-01T10:35:39.161358Z",
     "iopub.status.busy": "2024-03-01T10:35:39.161102Z",
     "iopub.status.idle": "2024-03-01T10:35:49.528137Z",
     "shell.execute_reply": "2024-03-01T10:35:49.527050Z"
    },
    "papermill": {
     "duration": 10.384065,
     "end_time": "2024-03-01T10:35:49.530126",
     "exception": false,
     "start_time": "2024-03-01T10:35:39.146061",
     "status": "completed"
    },
    "tags": []
   },
   "outputs": [
    {
     "name": "stderr",
     "output_type": "stream",
     "text": [
      "/opt/conda/lib/python3.10/site-packages/torch/overrides.py:110: UserWarning: 'has_cuda' is deprecated, please use 'torch.backends.cuda.is_built()'\n",
      "  torch.has_cuda,\n",
      "/opt/conda/lib/python3.10/site-packages/torch/overrides.py:111: UserWarning: 'has_cudnn' is deprecated, please use 'torch.backends.cudnn.is_available()'\n",
      "  torch.has_cudnn,\n",
      "/opt/conda/lib/python3.10/site-packages/torch/overrides.py:117: UserWarning: 'has_mps' is deprecated, please use 'torch.backends.mps.is_built()'\n",
      "  torch.has_mps,\n",
      "/opt/conda/lib/python3.10/site-packages/torch/overrides.py:118: UserWarning: 'has_mkldnn' is deprecated, please use 'torch.backends.mkldnn.is_available()'\n",
      "  torch.has_mkldnn,\n",
      "                                                          \r"
     ]
    }
   ],
   "source": [
    "efficientnet_features = []\n",
    "\n",
    "for i in range(5):\n",
    "    custom_model = CustomModel(config)\n",
    "    custom_model = load_weights(custom_model, f\"/kaggle/input/hms-efficientnetb0-5-folds/tf_efficientnet_b0_fold_{i}_best.pth\")\n",
    "\n",
    "    feature_extractor = create_feature_extractor(\n",
    "        custom_model,\n",
    "        train_return_nodes=['custom_layers.1'],\n",
    "        eval_return_nodes=['custom_layers.1'],\n",
    "        tracer_kwargs={'autowrap_functions': [timm.layers.padding.pad_same]}\n",
    "    ).to(device)\n",
    "    \n",
    "    features = extract_features(feature_extractor, test_loader)\n",
    "    \n",
    "    efficientnet_features.append(features)"
   ]
  },
  {
   "cell_type": "code",
   "execution_count": 25,
   "id": "f3a55140",
   "metadata": {
    "execution": {
     "iopub.execute_input": "2024-03-01T10:35:49.562717Z",
     "iopub.status.busy": "2024-03-01T10:35:49.562428Z",
     "iopub.status.idle": "2024-03-01T10:35:49.568105Z",
     "shell.execute_reply": "2024-03-01T10:35:49.567252Z"
    },
    "papermill": {
     "duration": 0.024235,
     "end_time": "2024-03-01T10:35:49.570007",
     "exception": false,
     "start_time": "2024-03-01T10:35:49.545772",
     "status": "completed"
    },
    "tags": []
   },
   "outputs": [
    {
     "data": {
      "text/plain": [
       "torch.Size([1, 1280])"
      ]
     },
     "execution_count": 25,
     "metadata": {},
     "output_type": "execute_result"
    }
   ],
   "source": [
    "efficientnet_features[0].shape"
   ]
  },
  {
   "cell_type": "code",
   "execution_count": 26,
   "id": "1ffcc509",
   "metadata": {
    "execution": {
     "iopub.execute_input": "2024-03-01T10:35:49.601246Z",
     "iopub.status.busy": "2024-03-01T10:35:49.600962Z",
     "iopub.status.idle": "2024-03-01T10:35:59.443576Z",
     "shell.execute_reply": "2024-03-01T10:35:59.442486Z"
    },
    "papermill": {
     "duration": 9.860482,
     "end_time": "2024-03-01T10:35:59.445596",
     "exception": false,
     "start_time": "2024-03-01T10:35:49.585114",
     "status": "completed"
    },
    "tags": []
   },
   "outputs": [
    {
     "name": "stderr",
     "output_type": "stream",
     "text": [
      "                                                          \r"
     ]
    }
   ],
   "source": [
    "efficientnetV2_features = []\n",
    "\n",
    "for i in range(5):\n",
    "    custom_model = CustomModel(config)\n",
    "    custom_model = load_weights(custom_model, \n",
    "                                f\"/kaggle/input/hms-efficientnetb0-weights/pop_2_weight_oof/tf_efficientnet_b0_ns_fold{i}_best_version2_stage2.pth\")\n",
    "\n",
    "    feature_extractor = create_feature_extractor(\n",
    "        custom_model,\n",
    "        train_return_nodes=['custom_layers.1'],\n",
    "        eval_return_nodes=['custom_layers.1'],\n",
    "        tracer_kwargs={'autowrap_functions': [timm.layers.padding.pad_same]}\n",
    "    ).to(device)\n",
    "    \n",
    "    features = extract_features(feature_extractor, test_loader)\n",
    "    \n",
    "    efficientnetV2_features.append(features)"
   ]
  },
  {
   "cell_type": "code",
   "execution_count": 27,
   "id": "343b36a8",
   "metadata": {
    "execution": {
     "iopub.execute_input": "2024-03-01T10:35:59.481941Z",
     "iopub.status.busy": "2024-03-01T10:35:59.481633Z",
     "iopub.status.idle": "2024-03-01T10:35:59.487457Z",
     "shell.execute_reply": "2024-03-01T10:35:59.486471Z"
    },
    "papermill": {
     "duration": 0.027034,
     "end_time": "2024-03-01T10:35:59.489589",
     "exception": false,
     "start_time": "2024-03-01T10:35:59.462555",
     "status": "completed"
    },
    "tags": []
   },
   "outputs": [
    {
     "data": {
      "text/plain": [
       "torch.Size([1, 1280])"
      ]
     },
     "execution_count": 27,
     "metadata": {},
     "output_type": "execute_result"
    }
   ],
   "source": [
    "efficientnetV2_features[0].shape"
   ]
  },
  {
   "cell_type": "markdown",
   "id": "60ae40f2",
   "metadata": {
    "papermill": {
     "duration": 0.01865,
     "end_time": "2024-03-01T10:35:59.525938",
     "exception": false,
     "start_time": "2024-03-01T10:35:59.507288",
     "status": "completed"
    },
    "tags": []
   },
   "source": [
    "## Ensemble Model"
   ]
  },
  {
   "cell_type": "code",
   "execution_count": 28,
   "id": "2c281fb3",
   "metadata": {
    "execution": {
     "iopub.execute_input": "2024-03-01T10:35:59.566318Z",
     "iopub.status.busy": "2024-03-01T10:35:59.565625Z",
     "iopub.status.idle": "2024-03-01T10:35:59.571998Z",
     "shell.execute_reply": "2024-03-01T10:35:59.571177Z"
    },
    "papermill": {
     "duration": 0.028674,
     "end_time": "2024-03-01T10:35:59.573909",
     "exception": false,
     "start_time": "2024-03-01T10:35:59.545235",
     "status": "completed"
    },
    "tags": []
   },
   "outputs": [],
   "source": [
    "wavenet_features_tensors = [torch.from_numpy(arr).to(device) for arr in wavenet_features]\n",
    "efficientnet_features_tensors = [tensor.to(device) for tensor in efficientnet_features]\n",
    "efficientnet_featuresV2_tensors = [tensor.to(device) for tensor in efficientnetV2_features]\n",
    "\n",
    "concatenated_features = torch.cat(efficientnet_featuresV2_tensors + wavenet_features_tensors + efficientnet_features_tensors, dim=1)"
   ]
  },
  {
   "cell_type": "code",
   "execution_count": 29,
   "id": "ad2c6afe",
   "metadata": {
    "execution": {
     "iopub.execute_input": "2024-03-01T10:35:59.612883Z",
     "iopub.status.busy": "2024-03-01T10:35:59.612590Z",
     "iopub.status.idle": "2024-03-01T10:35:59.619638Z",
     "shell.execute_reply": "2024-03-01T10:35:59.618683Z"
    },
    "papermill": {
     "duration": 0.029235,
     "end_time": "2024-03-01T10:35:59.621880",
     "exception": false,
     "start_time": "2024-03-01T10:35:59.592645",
     "status": "completed"
    },
    "tags": []
   },
   "outputs": [],
   "source": [
    "class EnsembleModel(nn.Module):\n",
    "    def __init__(self, input_size, num_classes):\n",
    "        super(EnsembleModel, self).__init__()\n",
    "        self.fc1 = nn.Linear(input_size, 128)\n",
    "        self.bn1 = nn.BatchNorm1d(128)\n",
    "        self.dropout = nn.Dropout(0.5) \n",
    "        self.fc2 = nn.Linear(128, num_classes)\n",
    "\n",
    "    def forward(self, x):\n",
    "        x = F.relu(self.bn1(self.fc1(x)))\n",
    "        x = self.dropout(x)\n",
    "        x = self.fc2(x)\n",
    "        return x"
   ]
  },
  {
   "cell_type": "code",
   "execution_count": 30,
   "id": "a5a6bb1e",
   "metadata": {
    "execution": {
     "iopub.execute_input": "2024-03-01T10:35:59.702612Z",
     "iopub.status.busy": "2024-03-01T10:35:59.701841Z",
     "iopub.status.idle": "2024-03-01T10:35:59.934809Z",
     "shell.execute_reply": "2024-03-01T10:35:59.933993Z"
    },
    "papermill": {
     "duration": 0.254963,
     "end_time": "2024-03-01T10:35:59.937160",
     "exception": false,
     "start_time": "2024-03-01T10:35:59.682197",
     "status": "completed"
    },
    "tags": []
   },
   "outputs": [],
   "source": [
    "model_path = '/kaggle/input/hms-ensemble-features/best_ensemble_model.pth'\n",
    "num_of_feautres = concatenated_features.shape[1]\n",
    "num_of_classes = 6\n",
    "\n",
    "model = EnsembleModel(num_of_feautres, num_of_classes)\n",
    "model.load_state_dict(torch.load(model_path, map_location=torch.device('cpu')))\n",
    "model.to(device)\n",
    "model.eval()\n",
    "\n",
    "predictions = model(concatenated_features)\n",
    "predictions = F.softmax(predictions, dim=1).detach().cpu().numpy()"
   ]
  },
  {
   "cell_type": "code",
   "execution_count": 31,
   "id": "2e1bddf0",
   "metadata": {
    "_cell_guid": "b1076dfc-b9ad-4769-8c92-a6c4dae69d19",
    "_uuid": "8f2839f25d086af736a60e9eeb907d3b93b6e0e5",
    "execution": {
     "iopub.execute_input": "2024-03-01T10:35:59.972282Z",
     "iopub.status.busy": "2024-03-01T10:35:59.971656Z",
     "iopub.status.idle": "2024-03-01T10:35:59.990266Z",
     "shell.execute_reply": "2024-03-01T10:35:59.989336Z"
    },
    "papermill": {
     "duration": 0.038174,
     "end_time": "2024-03-01T10:35:59.992374",
     "exception": false,
     "start_time": "2024-03-01T10:35:59.954200",
     "status": "completed"
    },
    "tags": []
   },
   "outputs": [
    {
     "name": "stdout",
     "output_type": "stream",
     "text": [
      "Submissionn shape: (1, 7)\n"
     ]
    },
    {
     "data": {
      "text/html": [
       "<div>\n",
       "<style scoped>\n",
       "    .dataframe tbody tr th:only-of-type {\n",
       "        vertical-align: middle;\n",
       "    }\n",
       "\n",
       "    .dataframe tbody tr th {\n",
       "        vertical-align: top;\n",
       "    }\n",
       "\n",
       "    .dataframe thead th {\n",
       "        text-align: right;\n",
       "    }\n",
       "</style>\n",
       "<table border=\"1\" class=\"dataframe\">\n",
       "  <thead>\n",
       "    <tr style=\"text-align: right;\">\n",
       "      <th></th>\n",
       "      <th>eeg_id</th>\n",
       "      <th>seizure_vote</th>\n",
       "      <th>lpd_vote</th>\n",
       "      <th>gpd_vote</th>\n",
       "      <th>lrda_vote</th>\n",
       "      <th>grda_vote</th>\n",
       "      <th>other_vote</th>\n",
       "    </tr>\n",
       "  </thead>\n",
       "  <tbody>\n",
       "    <tr>\n",
       "      <th>0</th>\n",
       "      <td>3911565283</td>\n",
       "      <td>0.266541</td>\n",
       "      <td>0.033121</td>\n",
       "      <td>0.000224</td>\n",
       "      <td>0.373011</td>\n",
       "      <td>0.01139</td>\n",
       "      <td>0.315715</td>\n",
       "    </tr>\n",
       "  </tbody>\n",
       "</table>\n",
       "</div>"
      ],
      "text/plain": [
       "       eeg_id  seizure_vote  lpd_vote  gpd_vote  lrda_vote  grda_vote  \\\n",
       "0  3911565283      0.266541  0.033121  0.000224   0.373011    0.01139   \n",
       "\n",
       "   other_vote  \n",
       "0    0.315715  "
      ]
     },
     "execution_count": 31,
     "metadata": {},
     "output_type": "execute_result"
    }
   ],
   "source": [
    "TARGETS = ['seizure_vote', 'lpd_vote', 'gpd_vote', 'lrda_vote', 'grda_vote', 'other_vote']\n",
    "sub = pd.DataFrame({'eeg_id': test_df.eeg_id.values})\n",
    "sub[TARGETS] = predictions\n",
    "sub.to_csv('submission.csv',index=False)\n",
    "print(f'Submissionn shape: {sub.shape}')\n",
    "sub.head()"
   ]
  }
 ],
 "metadata": {
  "kaggle": {
   "accelerator": "gpu",
   "dataSources": [
    {
     "databundleVersionId": 7469972,
     "sourceId": 59093,
     "sourceType": "competition"
    },
    {
     "datasetId": 4317718,
     "sourceId": 7465251,
     "sourceType": "datasetVersion"
    },
    {
     "datasetId": 4479579,
     "sourceId": 7678609,
     "sourceType": "datasetVersion"
    },
    {
     "datasetId": 4508527,
     "sourceId": 7735740,
     "sourceType": "datasetVersion"
    },
    {
     "datasetId": 4491141,
     "sourceId": 7700249,
     "sourceType": "datasetVersion"
    }
   ],
   "dockerImageVersionId": 30665,
   "isGpuEnabled": true,
   "isInternetEnabled": false,
   "language": "python",
   "sourceType": "notebook"
  },
  "kernelspec": {
   "display_name": "Python 3",
   "language": "python",
   "name": "python3"
  },
  "language_info": {
   "codemirror_mode": {
    "name": "ipython",
    "version": 3
   },
   "file_extension": ".py",
   "mimetype": "text/x-python",
   "name": "python",
   "nbconvert_exporter": "python",
   "pygments_lexer": "ipython3",
   "version": "3.10.13"
  },
  "papermill": {
   "default_parameters": {},
   "duration": 171.233125,
   "end_time": "2024-03-01T10:36:03.269327",
   "environment_variables": {},
   "exception": null,
   "input_path": "__notebook__.ipynb",
   "output_path": "__notebook__.ipynb",
   "parameters": {},
   "start_time": "2024-03-01T10:33:12.036202",
   "version": "2.5.0"
  }
 },
 "nbformat": 4,
 "nbformat_minor": 5
}
