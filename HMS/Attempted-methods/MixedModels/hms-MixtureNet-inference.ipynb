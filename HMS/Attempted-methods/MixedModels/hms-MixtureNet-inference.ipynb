{
 "cells": [
  {
   "cell_type": "markdown",
   "id": "2bee45ca",
   "metadata": {
    "papermill": {
     "duration": 0.012424,
     "end_time": "2024-03-02T18:48:27.491488",
     "exception": false,
     "start_time": "2024-03-02T18:48:27.479064",
     "status": "completed"
    },
    "tags": []
   },
   "source": [
    "## Load Packages"
   ]
  },
  {
   "cell_type": "code",
   "execution_count": 1,
   "id": "ed2168e7",
   "metadata": {
    "execution": {
     "iopub.execute_input": "2024-03-02T18:48:27.517546Z",
     "iopub.status.busy": "2024-03-02T18:48:27.516666Z",
     "iopub.status.idle": "2024-03-02T18:48:38.382793Z",
     "shell.execute_reply": "2024-03-02T18:48:38.381570Z"
    },
    "papermill": {
     "duration": 10.882674,
     "end_time": "2024-03-02T18:48:38.386040",
     "exception": false,
     "start_time": "2024-03-02T18:48:27.503366",
     "status": "completed"
    },
    "tags": []
   },
   "outputs": [
    {
     "name": "stdout",
     "output_type": "stream",
     "text": [
      "Using 1 GPU(s)\n"
     ]
    }
   ],
   "source": [
    "import albumentations as A\n",
    "import gc\n",
    "import librosa\n",
    "import matplotlib.pyplot as plt\n",
    "import math\n",
    "import multiprocessing\n",
    "import numpy as np\n",
    "import os\n",
    "import pandas as pd\n",
    "import pywt\n",
    "import random\n",
    "import time\n",
    "import timm\n",
    "import torch\n",
    "import torch.nn as nn\n",
    "import torch.nn.functional as F\n",
    "\n",
    "from torchvision.models.feature_extraction import get_graph_node_names, create_feature_extractor\n",
    "\n",
    "from albumentations.pytorch import ToTensorV2\n",
    "from glob import glob\n",
    "from torch.utils.data import DataLoader, Dataset\n",
    "from tqdm import tqdm\n",
    "from typing import Dict, List\n",
    "\n",
    "os.environ[\"CUDA_VISIBLE_DEVICES\"] = \"0,1\"\n",
    "device = torch.device(\"cuda:0\" if torch.cuda.is_available() else \"cpu\")\n",
    "print('Using', torch.cuda.device_count(), 'GPU(s)')"
   ]
  },
  {
   "cell_type": "code",
   "execution_count": 2,
   "id": "da26ad11",
   "metadata": {
    "execution": {
     "iopub.execute_input": "2024-03-02T18:48:38.413816Z",
     "iopub.status.busy": "2024-03-02T18:48:38.412886Z",
     "iopub.status.idle": "2024-03-02T18:48:38.417630Z",
     "shell.execute_reply": "2024-03-02T18:48:38.416685Z"
    },
    "papermill": {
     "duration": 0.020905,
     "end_time": "2024-03-02T18:48:38.419623",
     "exception": false,
     "start_time": "2024-03-02T18:48:38.398718",
     "status": "completed"
    },
    "tags": []
   },
   "outputs": [],
   "source": [
    "# import tensorflow as tf\n",
    "# gpus = tf.config.experimental.list_physical_devices('GPU')\n",
    "# for gpu in gpus:\n",
    "#   tf.config.experimental.set_memory_growth(gpu, True)"
   ]
  },
  {
   "cell_type": "code",
   "execution_count": 3,
   "id": "06459238",
   "metadata": {
    "execution": {
     "iopub.execute_input": "2024-03-02T18:48:38.447559Z",
     "iopub.status.busy": "2024-03-02T18:48:38.446645Z",
     "iopub.status.idle": "2024-03-02T18:48:38.475834Z",
     "shell.execute_reply": "2024-03-02T18:48:38.474763Z"
    },
    "papermill": {
     "duration": 0.045706,
     "end_time": "2024-03-02T18:48:38.477995",
     "exception": false,
     "start_time": "2024-03-02T18:48:38.432289",
     "status": "completed"
    },
    "tags": []
   },
   "outputs": [
    {
     "data": {
      "text/plain": [
       "['/kaggle/input/mixmodel-weights/pop_2_weight_oof/tf_efficientnet_b0_ns_fold1_best_version2_stage2.pth',\n",
       " '/kaggle/input/mixmodel-weights/pop_2_weight_oof/tf_efficientnet_b0_ns_fold2_best_version2_stage2.pth',\n",
       " '/kaggle/input/mixmodel-weights/pop_2_weight_oof/tf_efficientnet_b0_ns_fold3_best_version2_stage2.pth',\n",
       " '/kaggle/input/mixmodel-weights/pop_2_weight_oof/tf_efficientnet_b0_ns_fold0_best_version2_stage2.pth',\n",
       " '/kaggle/input/mixmodel-weights/pop_2_weight_oof/tf_efficientnet_b0_ns_fold4_best_version2_stage2.pth']"
      ]
     },
     "execution_count": 3,
     "metadata": {},
     "output_type": "execute_result"
    }
   ],
   "source": [
    "class config:\n",
    "    BATCH_SIZE = 64\n",
    "    MODEL = \"tf_efficientnet_b0\"\n",
    "    NUM_WORKERS = 0 # multiprocessing.cpu_count()\n",
    "    PRINT_FREQ = 20\n",
    "    SEED = 20\n",
    "    VISUALIZE = False\n",
    "    FREEZE = False\n",
    "    \n",
    "    \n",
    "class paths:\n",
    "    MODEL_WEIGHTS = \"/kaggle/input/hms-multi-class-image-classification-train/tf_efficientnet_b0_epoch_3.pth\"\n",
    "    OUTPUT_DIR = \"/kaggle/working/\"\n",
    "    TEST_CSV = \"/kaggle/input/hms-harmful-brain-activity-classification/test.csv\"\n",
    "    TEST_EEGS= \"/kaggle/input/hms-harmful-brain-activity-classification/test_eegs/\"\n",
    "    TEST_SPECTROGRAMS = \"/kaggle/input/hms-harmful-brain-activity-classification/test_spectrograms/\"\n",
    "    \n",
    "    TRAIN_CSV = \"/kaggle/input/hms-harmful-brain-activity-classification/train.csv\"\n",
    "    \n",
    "efficentnet_model_weights = [x for x in glob(\"/kaggle/input/hms-efficientnetb0-5-folds/*.pth\")]\n",
    "wavenet_model_weights = [x for x in glob(\"/kaggle/input/brain-eegs/WaveNet_Model/WaveNet_fold*.h5\")]\n",
    "efficentnetV2_model_weights = [x for x in glob(\"/kaggle/input/mixmodel-weights/pop_2_weight_oof/tf_efficientnet_b0_ns_fold*_best_version2_stage2.pth\")]\n",
    "\n",
    "efficentnetV2_model_weights"
   ]
  },
  {
   "cell_type": "code",
   "execution_count": 4,
   "id": "8678e914",
   "metadata": {
    "execution": {
     "iopub.execute_input": "2024-03-02T18:48:38.504690Z",
     "iopub.status.busy": "2024-03-02T18:48:38.503894Z",
     "iopub.status.idle": "2024-03-02T18:48:38.525705Z",
     "shell.execute_reply": "2024-03-02T18:48:38.524707Z"
    },
    "papermill": {
     "duration": 0.037732,
     "end_time": "2024-03-02T18:48:38.528145",
     "exception": false,
     "start_time": "2024-03-02T18:48:38.490413",
     "status": "completed"
    },
    "tags": []
   },
   "outputs": [
    {
     "name": "stdout",
     "output_type": "stream",
     "text": [
      "Test dataframe shape is: (1, 3)\n"
     ]
    },
    {
     "data": {
      "text/html": [
       "<div>\n",
       "<style scoped>\n",
       "    .dataframe tbody tr th:only-of-type {\n",
       "        vertical-align: middle;\n",
       "    }\n",
       "\n",
       "    .dataframe tbody tr th {\n",
       "        vertical-align: top;\n",
       "    }\n",
       "\n",
       "    .dataframe thead th {\n",
       "        text-align: right;\n",
       "    }\n",
       "</style>\n",
       "<table border=\"1\" class=\"dataframe\">\n",
       "  <thead>\n",
       "    <tr style=\"text-align: right;\">\n",
       "      <th></th>\n",
       "      <th>spectrogram_id</th>\n",
       "      <th>eeg_id</th>\n",
       "      <th>patient_id</th>\n",
       "    </tr>\n",
       "  </thead>\n",
       "  <tbody>\n",
       "    <tr>\n",
       "      <th>0</th>\n",
       "      <td>853520</td>\n",
       "      <td>3911565283</td>\n",
       "      <td>6885</td>\n",
       "    </tr>\n",
       "  </tbody>\n",
       "</table>\n",
       "</div>"
      ],
      "text/plain": [
       "   spectrogram_id      eeg_id  patient_id\n",
       "0          853520  3911565283        6885"
      ]
     },
     "execution_count": 4,
     "metadata": {},
     "output_type": "execute_result"
    }
   ],
   "source": [
    "test_df = pd.read_csv(paths.TEST_CSV)\n",
    "print(f\"Test dataframe shape is: {test_df.shape}\")\n",
    "test_df.head()"
   ]
  },
  {
   "cell_type": "markdown",
   "id": "8e809dd8",
   "metadata": {
    "papermill": {
     "duration": 0.014768,
     "end_time": "2024-03-02T18:48:38.558920",
     "exception": false,
     "start_time": "2024-03-02T18:48:38.544152",
     "status": "completed"
    },
    "tags": []
   },
   "source": [
    "## WaveNet Mode"
   ]
  },
  {
   "cell_type": "markdown",
   "id": "3700ac2d",
   "metadata": {
    "papermill": {
     "duration": 0.012191,
     "end_time": "2024-03-02T18:48:38.583557",
     "exception": false,
     "start_time": "2024-03-02T18:48:38.571366",
     "status": "completed"
    },
    "tags": []
   },
   "source": [
    "### Load Data"
   ]
  },
  {
   "cell_type": "code",
   "execution_count": 5,
   "id": "b9da67a3",
   "metadata": {
    "execution": {
     "iopub.execute_input": "2024-03-02T18:48:38.609967Z",
     "iopub.status.busy": "2024-03-02T18:48:38.609582Z",
     "iopub.status.idle": "2024-03-02T18:48:38.614947Z",
     "shell.execute_reply": "2024-03-02T18:48:38.614017Z"
    },
    "papermill": {
     "duration": 0.021175,
     "end_time": "2024-03-02T18:48:38.617118",
     "exception": false,
     "start_time": "2024-03-02T18:48:38.595943",
     "status": "completed"
    },
    "tags": []
   },
   "outputs": [],
   "source": [
    "FEATS = ['Fp1','T3','C3','O1','Fp2','C4','T4','O2']\n",
    "FEAT2IDX = {x:y for x,y in zip(FEATS,range(len(FEATS)))}\n",
    "SAMPLES = 5_000"
   ]
  },
  {
   "cell_type": "code",
   "execution_count": 6,
   "id": "c01bd3eb",
   "metadata": {
    "execution": {
     "iopub.execute_input": "2024-03-02T18:48:38.643472Z",
     "iopub.status.busy": "2024-03-02T18:48:38.643130Z",
     "iopub.status.idle": "2024-03-02T18:48:38.701653Z",
     "shell.execute_reply": "2024-03-02T18:48:38.700937Z"
    },
    "papermill": {
     "duration": 0.074542,
     "end_time": "2024-03-02T18:48:38.703929",
     "exception": false,
     "start_time": "2024-03-02T18:48:38.629387",
     "status": "completed"
    },
    "tags": []
   },
   "outputs": [],
   "source": [
    "from scipy.signal import butter, lfilter\n",
    "\n",
    "def butter_lowpass_filter(data, cutoff_freq=20, sampling_rate=200, order=4):\n",
    "    nyquist = 0.5 * sampling_rate\n",
    "    normal_cutoff = cutoff_freq / nyquist\n",
    "    b, a = butter(order, normal_cutoff, btype='low', analog=False)\n",
    "    filtered_data = lfilter(b, a, data, axis=0)\n",
    "    return filtered_data\n",
    "\n",
    "import scipy.signal\n",
    "\n",
    "def eeg_from_parquet(parquet_path, display=False):\n",
    "    \n",
    "    eeg = pd.read_parquet(parquet_path, columns=FEATS)\n",
    "    rows = len(eeg)\n",
    "    offset = (rows-SAMPLES)//2\n",
    "    eeg = eeg.iloc[offset:offset+SAMPLES]\n",
    "    \n",
    "    if display: \n",
    "        plt.figure(figsize=(10,5))\n",
    "        offset = 0\n",
    "    \n",
    "    # CONVERT TO NUMPY\n",
    "    data = np.zeros((SAMPLES,len(FEATS)))\n",
    "    for j,col in enumerate(FEATS):\n",
    "        \n",
    "        # FILL NAN\n",
    "        x = eeg[col].values.astype('float32')\n",
    "        m = np.nanmean(x)\n",
    "        if np.isnan(x).mean()<1: x = np.nan_to_num(x,nan=m)\n",
    "        else: x[:] = 0\n",
    "        \n",
    "        # Downsampling from 200 Hz to 100 Hz\n",
    "        downsampled_x = scipy.signal.resample(x, SAMPLES)\n",
    "        data[:, j] = downsampled_x\n",
    "        \n",
    "        if display: \n",
    "            if j!=0: offset += x.max()\n",
    "            plt.plot(range(SAMPLES),x-offset,label=col)\n",
    "            offset -= x.min()\n",
    "            \n",
    "    if display:\n",
    "        plt.legend()\n",
    "        name = parquet_path.split('/')[-1]\n",
    "        name = name.split('.')[0]\n",
    "        plt.title(f'EEG {name}',size=16)\n",
    "        plt.show()\n",
    "        \n",
    "    return data"
   ]
  },
  {
   "cell_type": "code",
   "execution_count": 7,
   "id": "926ed8b1",
   "metadata": {
    "execution": {
     "iopub.execute_input": "2024-03-02T18:48:38.731921Z",
     "iopub.status.busy": "2024-03-02T18:48:38.730999Z",
     "iopub.status.idle": "2024-03-02T18:48:39.508685Z",
     "shell.execute_reply": "2024-03-02T18:48:39.507778Z"
    },
    "papermill": {
     "duration": 0.794478,
     "end_time": "2024-03-02T18:48:39.511335",
     "exception": false,
     "start_time": "2024-03-02T18:48:38.716857",
     "status": "completed"
    },
    "tags": []
   },
   "outputs": [
    {
     "name": "stdout",
     "output_type": "stream",
     "text": [
      "Processing Test EEG parquets...\n",
      "\n"
     ]
    },
    {
     "data": {
      "image/png": "[encoded data removed]",
      "text/plain": [
       "<Figure size 1000x500 with 1 Axes>"
      ]
     },
     "metadata": {},
     "output_type": "display_data"
    }
   ],
   "source": [
    "raw_eegs = {}\n",
    "DISPLAY = 1\n",
    "EEG_IDS2 = test_df.eeg_id.unique()\n",
    "PATH2 = '/kaggle/input/hms-harmful-brain-activity-classification/test_eegs/'\n",
    "\n",
    "print('Processing Test EEG parquets...'); print()\n",
    "for i,eeg_id in enumerate(EEG_IDS2):\n",
    "    # SAVE EEG TO PYTHON DICTIONARY OF NUMPY ARRAYS\n",
    "    data = eeg_from_parquet(f'{PATH2}{eeg_id}.parquet', i<DISPLAY)\n",
    "    raw_eegs[eeg_id] = data"
   ]
  },
  {
   "cell_type": "code",
   "execution_count": 8,
   "id": "dd52bae6",
   "metadata": {
    "execution": {
     "iopub.execute_input": "2024-03-02T18:48:39.542082Z",
     "iopub.status.busy": "2024-03-02T18:48:39.541748Z",
     "iopub.status.idle": "2024-03-02T18:48:39.549222Z",
     "shell.execute_reply": "2024-03-02T18:48:39.548188Z"
    },
    "papermill": {
     "duration": 0.024991,
     "end_time": "2024-03-02T18:48:39.551225",
     "exception": false,
     "start_time": "2024-03-02T18:48:39.526234",
     "status": "completed"
    },
    "tags": []
   },
   "outputs": [],
   "source": [
    "# class DataGenerator(tf.keras.utils.Sequence):\n",
    "#     'Generates data for Keras'\n",
    "#     def __init__(self, data, batch_size=32, shuffle=False, eegs=all_eegs, mode='train',\n",
    "#                  downsample=5): \n",
    "\n",
    "#         self.data = data\n",
    "#         self.batch_size = batch_size\n",
    "#         self.shuffle = shuffle\n",
    "#         self.eegs = eegs\n",
    "#         self.mode = mode\n",
    "#         self.downsample = downsample\n",
    "#         self.on_epoch_end()\n",
    "        \n",
    "#     def __len__(self):\n",
    "#         'Denotes the number of batches per epoch'\n",
    "#         ct = int( np.ceil( len(self.data) / self.batch_size ) )\n",
    "#         return ct\n",
    "\n",
    "#     def __getitem__(self, index):\n",
    "#         'Generate one batch of data'\n",
    "#         indexes = self.indexes[index*self.batch_size:(index+1)*self.batch_size]\n",
    "#         X, y = self.__data_generation(indexes)\n",
    "#         return X[:,::self.downsample,:], y\n",
    "\n",
    "#     def on_epoch_end(self):\n",
    "#         'Updates indexes after each epoch'\n",
    "#         self.indexes = np.arange( len(self.data) )\n",
    "#         if self.shuffle: np.random.shuffle(self.indexes)\n",
    "                        \n",
    "#     def __data_generation(self, indexes):\n",
    "#         'Generates data containing batch_size samples' \n",
    "    \n",
    "#         X = np.zeros((len(indexes),10_000,8),dtype='float32')\n",
    "#         y = np.zeros((len(indexes),6),dtype='float32')\n",
    "        \n",
    "#         sample = np.zeros((10_000,X.shape[-1]))\n",
    "#         for j,i in enumerate(indexes):\n",
    "#             row = self.data.iloc[i]      \n",
    "#             data = self.eegs[row.eeg_id]\n",
    "            \n",
    "#             # FEATURE ENGINEER\n",
    "#             sample[:,0] = data[:,FEAT2IDX['Fp1']] - data[:,FEAT2IDX['T3']]\n",
    "#             sample[:,1] = data[:,FEAT2IDX['T3']] - data[:,FEAT2IDX['O1']]\n",
    "            \n",
    "#             sample[:,2] = data[:,FEAT2IDX['Fp1']] - data[:,FEAT2IDX['C3']]\n",
    "#             sample[:,3] = data[:,FEAT2IDX['C3']] - data[:,FEAT2IDX['O1']]\n",
    "            \n",
    "#             sample[:,4] = data[:,FEAT2IDX['Fp2']] - data[:,FEAT2IDX['C4']]\n",
    "#             sample[:,5] = data[:,FEAT2IDX['C4']] - data[:,FEAT2IDX['O2']]\n",
    "            \n",
    "#             sample[:,6] = data[:,FEAT2IDX['Fp2']] - data[:,FEAT2IDX['T4']]\n",
    "#             sample[:,7] = data[:,FEAT2IDX['T4']] - data[:,FEAT2IDX['O2']]\n",
    "            \n",
    "#             # STANDARDIZE\n",
    "#             sample = np.clip(sample,-1024,1024)\n",
    "#             sample = np.nan_to_num(sample, nan=0) / 32.0\n",
    "            \n",
    "#             # BUTTER LOW-PASS FILTER\n",
    "#             sample = butter_lowpass_filter(sample)\n",
    "            \n",
    "#             X[j,] = sample\n",
    "#             if self.mode!='test':\n",
    "#                 y[j] = row[TARGETS]\n",
    "            \n",
    "#         return X,y"
   ]
  },
  {
   "cell_type": "code",
   "execution_count": 9,
   "id": "71a7e5e5",
   "metadata": {
    "execution": {
     "iopub.execute_input": "2024-03-02T18:48:39.581081Z",
     "iopub.status.busy": "2024-03-02T18:48:39.580750Z",
     "iopub.status.idle": "2024-03-02T18:48:39.584681Z",
     "shell.execute_reply": "2024-03-02T18:48:39.583949Z"
    },
    "papermill": {
     "duration": 0.021347,
     "end_time": "2024-03-02T18:48:39.586623",
     "exception": false,
     "start_time": "2024-03-02T18:48:39.565276",
     "status": "completed"
    },
    "tags": []
   },
   "outputs": [],
   "source": [
    "# test_gen = DataGenerator(test_df, shuffle=False, batch_size=64, eegs=all_eegs, mode='test')"
   ]
  },
  {
   "cell_type": "markdown",
   "id": "d42cca45",
   "metadata": {
    "papermill": {
     "duration": 0.013827,
     "end_time": "2024-03-02T18:48:39.614478",
     "exception": false,
     "start_time": "2024-03-02T18:48:39.600651",
     "status": "completed"
    },
    "tags": []
   },
   "source": [
    "### Model"
   ]
  },
  {
   "cell_type": "code",
   "execution_count": 10,
   "id": "49578f6e",
   "metadata": {
    "execution": {
     "iopub.execute_input": "2024-03-02T18:48:39.645927Z",
     "iopub.status.busy": "2024-03-02T18:48:39.645102Z",
     "iopub.status.idle": "2024-03-02T18:48:39.652323Z",
     "shell.execute_reply": "2024-03-02T18:48:39.651415Z"
    },
    "papermill": {
     "duration": 0.025471,
     "end_time": "2024-03-02T18:48:39.654224",
     "exception": false,
     "start_time": "2024-03-02T18:48:39.628753",
     "status": "completed"
    },
    "tags": []
   },
   "outputs": [],
   "source": [
    "# from tensorflow.keras.layers import Input, Dense, Multiply, Add, Conv1D, Concatenate\n",
    "\n",
    "# def wave_block(x, filters, kernel_size, n):\n",
    "#     dilation_rates = [2**i for i in range(n)]\n",
    "#     x = Conv1D(filters = filters,\n",
    "#                kernel_size = 1,\n",
    "#                padding = 'same')(x)\n",
    "#     res_x = x\n",
    "#     for dilation_rate in dilation_rates:\n",
    "#         tanh_out = Conv1D(filters = filters,\n",
    "#                           kernel_size = kernel_size,\n",
    "#                           padding = 'same', \n",
    "#                           activation = 'tanh', \n",
    "#                           dilation_rate = dilation_rate)(x)\n",
    "#         sigm_out = Conv1D(filters = filters,\n",
    "#                           kernel_size = kernel_size,\n",
    "#                           padding = 'same',\n",
    "#                           activation = 'sigmoid', \n",
    "#                           dilation_rate = dilation_rate)(x)\n",
    "#         x = Multiply()([tanh_out, sigm_out])\n",
    "#         x = Conv1D(filters = filters,\n",
    "#                    kernel_size = 1,\n",
    "#                    padding = 'same')(x)\n",
    "#         res_x = Add()([res_x, x])\n",
    "#     return res_x\n",
    "\n",
    "# def build_model():\n",
    "        \n",
    "#     # INPUT \n",
    "#     inp = tf.keras.Input(shape=(2_000,8))\n",
    "    \n",
    "#     ############\n",
    "#     # FEATURE EXTRACTION SUB MODEL\n",
    "#     inp2 = tf.keras.Input(shape=(2_000,1))\n",
    "#     x = wave_block(inp2, 8, 3, 12)\n",
    "#     x = wave_block(x, 16, 3, 8)\n",
    "#     x = wave_block(x, 32, 3, 4)\n",
    "#     x = wave_block(x, 64, 3, 1)\n",
    "#     model2 = tf.keras.Model(inputs=inp2, outputs=x)\n",
    "#     ###########\n",
    "    \n",
    "#     # LEFT TEMPORAL CHAIN\n",
    "#     x1 = model2(inp[:,:,0:1])\n",
    "#     x1 = tf.keras.layers.GlobalAveragePooling1D()(x1)\n",
    "#     x2 = model2(inp[:,:,1:2])\n",
    "#     x2 = tf.keras.layers.GlobalAveragePooling1D()(x2)\n",
    "#     z1 = tf.keras.layers.Average()([x1,x2])\n",
    "    \n",
    "#     # LEFT PARASAGITTAL CHAIN\n",
    "#     x1 = model2(inp[:,:,2:3])\n",
    "#     x1 = tf.keras.layers.GlobalAveragePooling1D()(x1)\n",
    "#     x2 = model2(inp[:,:,3:4])\n",
    "#     x2 = tf.keras.layers.GlobalAveragePooling1D()(x2)\n",
    "#     z2 = tf.keras.layers.Average()([x1,x2])\n",
    "    \n",
    "#     # RIGHT PARASAGITTAL CHAIN\n",
    "#     x1 = model2(inp[:,:,4:5])\n",
    "#     x1 = tf.keras.layers.GlobalAveragePooling1D()(x1)\n",
    "#     x2 = model2(inp[:,:,5:6])\n",
    "#     x2 = tf.keras.layers.GlobalAveragePooling1D()(x2)\n",
    "#     z3 = tf.keras.layers.Average()([x1,x2])\n",
    "    \n",
    "#     # RIGHT TEMPORAL CHAIN\n",
    "#     x1 = model2(inp[:,:,6:7])\n",
    "#     x1 = tf.keras.layers.GlobalAveragePooling1D()(x1)\n",
    "#     x2 = model2(inp[:,:,7:8])\n",
    "#     x2 = tf.keras.layers.GlobalAveragePooling1D()(x2)\n",
    "#     z4 = tf.keras.layers.Average()([x1,x2])\n",
    "    \n",
    "#     # COMBINE CHAINS\n",
    "#     y = tf.keras.layers.Concatenate()([z1,z2,z3,z4])\n",
    "#     y = tf.keras.layers.Dense(64, activation='relu')(y)\n",
    "#     y = tf.keras.layers.Dense(6,activation='softmax', dtype='float32')(y)\n",
    "    \n",
    "#     # COMPILE MODEL\n",
    "#     model = tf.keras.Model(inputs=inp, outputs=y)\n",
    "#     opt = tf.keras.optimizers.Adam(learning_rate = 1e-3)\n",
    "#     loss = tf.keras.losses.KLDivergence()\n",
    "#     model.compile(loss=loss, optimizer = opt)\n",
    "    \n",
    "#     return model"
   ]
  },
  {
   "cell_type": "code",
   "execution_count": 11,
   "id": "ee2c3f4a",
   "metadata": {
    "execution": {
     "iopub.execute_input": "2024-03-02T18:48:39.684187Z",
     "iopub.status.busy": "2024-03-02T18:48:39.683590Z",
     "iopub.status.idle": "2024-03-02T18:48:39.687576Z",
     "shell.execute_reply": "2024-03-02T18:48:39.686700Z"
    },
    "papermill": {
     "duration": 0.02091,
     "end_time": "2024-03-02T18:48:39.689503",
     "exception": false,
     "start_time": "2024-03-02T18:48:39.668593",
     "status": "completed"
    },
    "tags": []
   },
   "outputs": [],
   "source": [
    "# model = build_model()"
   ]
  },
  {
   "cell_type": "code",
   "execution_count": 12,
   "id": "715baabb",
   "metadata": {
    "execution": {
     "iopub.execute_input": "2024-03-02T18:48:39.719013Z",
     "iopub.status.busy": "2024-03-02T18:48:39.718292Z",
     "iopub.status.idle": "2024-03-02T18:48:39.722263Z",
     "shell.execute_reply": "2024-03-02T18:48:39.721459Z"
    },
    "papermill": {
     "duration": 0.020898,
     "end_time": "2024-03-02T18:48:39.724169",
     "exception": false,
     "start_time": "2024-03-02T18:48:39.703271",
     "status": "completed"
    },
    "tags": []
   },
   "outputs": [],
   "source": [
    "# from tensorflow.keras.models import Model\n",
    "\n",
    "# def get_concatenated_features(model, layer):\n",
    "#     # Extract features up to the concatenate_2 layer\n",
    "#     feature_extraction_model = Model(inputs=model.input, outputs=model.get_layer(layer).output)\n",
    "#     return feature_extraction_model"
   ]
  },
  {
   "cell_type": "code",
   "execution_count": 13,
   "id": "f8e6456a",
   "metadata": {
    "execution": {
     "iopub.execute_input": "2024-03-02T18:48:39.754416Z",
     "iopub.status.busy": "2024-03-02T18:48:39.753794Z",
     "iopub.status.idle": "2024-03-02T18:48:39.758298Z",
     "shell.execute_reply": "2024-03-02T18:48:39.757322Z"
    },
    "papermill": {
     "duration": 0.021822,
     "end_time": "2024-03-02T18:48:39.760310",
     "exception": false,
     "start_time": "2024-03-02T18:48:39.738488",
     "status": "completed"
    },
    "tags": []
   },
   "outputs": [],
   "source": [
    "# import tensorflow.keras.backend as K, gc\n",
    "\n",
    "# wavenet_features = []\n",
    "\n",
    "# for i in range(5):\n",
    "#     model = build_model()\n",
    "#     model.load_weights(f'/kaggle/input/brain-eegs/WaveNet_Model/WaveNet_fold{i}.h5')\n",
    "    \n",
    "#     feature_extraction_model = get_concatenated_features(model, f'concatenate_{i+1}')\n",
    "#     features = feature_extraction_model.predict(test_gen, verbose=1)\n",
    "    \n",
    "#     wavenet_features.append(features)\n",
    "#     del model, feature_extraction_model, features\n",
    "#     gc.collect()"
   ]
  },
  {
   "cell_type": "code",
   "execution_count": 14,
   "id": "dc94f7f6",
   "metadata": {
    "execution": {
     "iopub.execute_input": "2024-03-02T18:48:39.789357Z",
     "iopub.status.busy": "2024-03-02T18:48:39.788868Z",
     "iopub.status.idle": "2024-03-02T18:48:39.792700Z",
     "shell.execute_reply": "2024-03-02T18:48:39.791834Z"
    },
    "papermill": {
     "duration": 0.020378,
     "end_time": "2024-03-02T18:48:39.794596",
     "exception": false,
     "start_time": "2024-03-02T18:48:39.774218",
     "status": "completed"
    },
    "tags": []
   },
   "outputs": [],
   "source": [
    "# wavenet_features[0].shape"
   ]
  },
  {
   "cell_type": "code",
   "execution_count": 15,
   "id": "4ba00ed0",
   "metadata": {
    "execution": {
     "iopub.execute_input": "2024-03-02T18:48:39.824122Z",
     "iopub.status.busy": "2024-03-02T18:48:39.823363Z",
     "iopub.status.idle": "2024-03-02T18:48:39.827401Z",
     "shell.execute_reply": "2024-03-02T18:48:39.826530Z"
    },
    "papermill": {
     "duration": 0.020818,
     "end_time": "2024-03-02T18:48:39.829321",
     "exception": false,
     "start_time": "2024-03-02T18:48:39.808503",
     "status": "completed"
    },
    "tags": []
   },
   "outputs": [],
   "source": [
    "# def clear_gpu_memory():\n",
    "#     torch.cuda.empty_cache()\n",
    "#     gc.collect()\n",
    "\n",
    "# # Call the function before proceeding with your PyTorch model\n",
    "# clear_gpu_memory()"
   ]
  },
  {
   "cell_type": "markdown",
   "id": "2deb1924",
   "metadata": {
    "papermill": {
     "duration": 0.01366,
     "end_time": "2024-03-02T18:48:39.857272",
     "exception": false,
     "start_time": "2024-03-02T18:48:39.843612",
     "status": "completed"
    },
    "tags": []
   },
   "source": [
    "## EfficientNet Model"
   ]
  },
  {
   "cell_type": "code",
   "execution_count": 16,
   "id": "4256b629",
   "metadata": {
    "execution": {
     "iopub.execute_input": "2024-03-02T18:48:39.887058Z",
     "iopub.status.busy": "2024-03-02T18:48:39.886194Z",
     "iopub.status.idle": "2024-03-02T18:48:39.898025Z",
     "shell.execute_reply": "2024-03-02T18:48:39.897123Z"
    },
    "papermill": {
     "duration": 0.028851,
     "end_time": "2024-03-02T18:48:39.900007",
     "exception": false,
     "start_time": "2024-03-02T18:48:39.871156",
     "status": "completed"
    },
    "tags": []
   },
   "outputs": [],
   "source": [
    "USE_WAVELET = None \n",
    "\n",
    "FEATS = [['Fp1','F7','T3','T5','O1'],\n",
    "         ['Fp1','F3','C3','P3','O1'],\n",
    "         ['Fp2','F8','T4','T6','O2'],\n",
    "         ['Fp2','F4','C4','P4','O2']]\n",
    "\n",
    "def spectrogram_from_eeg(parquet_path, display=False):\n",
    "    # LOAD MIDDLE 50 SECONDS OF EEG SERIES\n",
    "    eeg = pd.read_parquet(parquet_path)\n",
    "    middle = (len(eeg)-10_000)//2\n",
    "    eeg = eeg.iloc[middle:middle+10_000]\n",
    "    \n",
    "    # VARIABLE TO HOLD SPECTROGRAM\n",
    "    img = np.zeros((128,256,4),dtype='float32')\n",
    "    \n",
    "    signals = []\n",
    "    for k in range(4):\n",
    "        COLS = FEATS[k]\n",
    "        \n",
    "        for kk in range(4):\n",
    "            \n",
    "            \n",
    "            # COMPUTE PAIR DIFFERENCES\n",
    "            x = eeg[COLS[kk]].values - eeg[COLS[kk+1]].values\n",
    "\n",
    "            # FILL NANS\n",
    "            m = np.nanmean(x)\n",
    "            if np.isnan(x).mean()<1: x = np.nan_to_num(x,nan=m)\n",
    "            else: x[:] = 0\n",
    "\n",
    "            # DENOISE\n",
    "            if USE_WAVELET:\n",
    "                x = denoise(x, wavelet=USE_WAVELET)\n",
    "            signals.append(x)\n",
    "\n",
    "            # RAW SPECTROGRAM\n",
    "            mel_spec = librosa.feature.melspectrogram(y=x, sr=200, hop_length=len(x)//256, \n",
    "                  n_fft=1024, n_mels=128, fmin=0, fmax=20, win_length=128)\n",
    "\n",
    "            # LOG TRANSFORM\n",
    "            width = (mel_spec.shape[1]//32)*32\n",
    "            mel_spec_db = librosa.power_to_db(mel_spec, ref=np.max).astype(np.float32)[:,:width]\n",
    "\n",
    "            # STANDARDIZE TO -1 TO 1\n",
    "            mel_spec_db = (mel_spec_db+40)/40 \n",
    "            img[:,:,k] += mel_spec_db\n",
    "                \n",
    "        # AVERAGE THE 4 MONTAGE DIFFERENCES\n",
    "        img[:,:,k] /= 4.0\n",
    "\n",
    "    return img"
   ]
  },
  {
   "cell_type": "code",
   "execution_count": 17,
   "id": "8a41a46c",
   "metadata": {
    "execution": {
     "iopub.execute_input": "2024-03-02T18:48:39.930641Z",
     "iopub.status.busy": "2024-03-02T18:48:39.929945Z",
     "iopub.status.idle": "2024-03-02T18:48:39.984257Z",
     "shell.execute_reply": "2024-03-02T18:48:39.983231Z"
    },
    "papermill": {
     "duration": 0.072274,
     "end_time": "2024-03-02T18:48:39.986741",
     "exception": false,
     "start_time": "2024-03-02T18:48:39.914467",
     "status": "completed"
    },
    "tags": []
   },
   "outputs": [
    {
     "name": "stderr",
     "output_type": "stream",
     "text": [
      "100%|██████████| 1/1 [00:00<00:00, 22.24it/s]\n"
     ]
    }
   ],
   "source": [
    "PATH2 = '/kaggle/input/hms-harmful-brain-activity-classification/test_spectrograms/'\n",
    "\n",
    "EEG_IDS2 = test_df.spectrogram_id.unique()\n",
    "all_spectrograms = {}\n",
    "\n",
    "for spectogram_id in tqdm(EEG_IDS2):\n",
    "    aux = pd.read_parquet(f'{PATH2}{spectogram_id}.parquet')\n",
    "    all_spectrograms[spectogram_id] = aux.iloc[:,1:].values\n",
    "    del aux"
   ]
  },
  {
   "cell_type": "code",
   "execution_count": 18,
   "id": "9081ee24",
   "metadata": {
    "execution": {
     "iopub.execute_input": "2024-03-02T18:48:40.018869Z",
     "iopub.status.busy": "2024-03-02T18:48:40.018291Z",
     "iopub.status.idle": "2024-03-02T18:48:49.614872Z",
     "shell.execute_reply": "2024-03-02T18:48:49.613724Z"
    },
    "papermill": {
     "duration": 9.616351,
     "end_time": "2024-03-02T18:48:49.619123",
     "exception": false,
     "start_time": "2024-03-02T18:48:40.002772",
     "status": "completed"
    },
    "tags": []
   },
   "outputs": [
    {
     "name": "stderr",
     "output_type": "stream",
     "text": [
      "100%|██████████| 1/1 [00:09<00:00,  9.59s/it]\n"
     ]
    }
   ],
   "source": [
    "PATH2 = '/kaggle/input/hms-harmful-brain-activity-classification/test_eegs/'\n",
    "EEG_IDS2 = test_df.eeg_id.unique()\n",
    "all_eegs = {}\n",
    "counter = 0\n",
    "\n",
    "for eeg_id in tqdm(EEG_IDS2):\n",
    "    eeg_spectrogram = spectrogram_from_eeg(f'{PATH2}{eeg_id}.parquet', counter < 1)\n",
    "    all_eegs[int(eeg_id)] = eeg_spectrogram\n",
    "    counter += 1"
   ]
  },
  {
   "cell_type": "code",
   "execution_count": 19,
   "id": "8a1b8b49",
   "metadata": {
    "execution": {
     "iopub.execute_input": "2024-03-02T18:48:49.687342Z",
     "iopub.status.busy": "2024-03-02T18:48:49.686319Z",
     "iopub.status.idle": "2024-03-02T18:48:49.699744Z",
     "shell.execute_reply": "2024-03-02T18:48:49.698419Z"
    },
    "papermill": {
     "duration": 0.05206,
     "end_time": "2024-03-02T18:48:49.703588",
     "exception": false,
     "start_time": "2024-03-02T18:48:49.651528",
     "status": "completed"
    },
    "tags": []
   },
   "outputs": [],
   "source": [
    "# class CustomModel(nn.Module):\n",
    "#     def __init__(self, config, num_classes: int = 6):\n",
    "#         super(CustomModel, self).__init__()\n",
    "#         self.USE_KAGGLE_SPECTROGRAMS = True\n",
    "#         self.USE_EEG_SPECTROGRAMS = True\n",
    "#         self.model = timm.create_model(\n",
    "#             config.MODEL,\n",
    "#             pretrained=False\n",
    "#         )\n",
    "#         self.features = nn.Sequential(*list(self.model.children())[:-2])\n",
    "#         self.custom_layers = nn.Sequential(\n",
    "#             nn.AdaptiveAvgPool2d(1),\n",
    "#             nn.Flatten(),\n",
    "#             nn.Linear(self.model.num_features, num_classes)\n",
    "#         )\n",
    "\n",
    "#     def __reshape_input(self, x):\n",
    "#         \"\"\"\n",
    "#         Reshapes input (128, 256, 8) -> (512, 512, 3) monotone image.\n",
    "#         \"\"\" \n",
    "#         # === Get spectrograms ===\n",
    "#         spectrograms = [x[:, :, :, i:i+1] for i in range(4)]\n",
    "#         spectrograms = torch.cat(spectrograms, dim=1)\n",
    "        \n",
    "#         # === Get EEG spectrograms ===\n",
    "#         eegs = [x[:, :, :, i:i+1] for i in range(4,8)]\n",
    "#         eegs = torch.cat(eegs, dim=1)\n",
    "        \n",
    "#         # === Reshape (512,512,3) ===\n",
    "#         if self.USE_KAGGLE_SPECTROGRAMS & self.USE_EEG_SPECTROGRAMS:\n",
    "#             x = torch.cat([spectrograms, eegs], dim=2)\n",
    "#         elif self.USE_EEG_SPECTROGRAMS:\n",
    "#             x = eegs\n",
    "#         else:\n",
    "#             x = spectrograms\n",
    "            \n",
    "#         x = torch.cat([x,x,x], dim=3)\n",
    "#         x = x.permute(0, 3, 1, 2)\n",
    "#         return x\n",
    "    \n",
    "#     def forward(self, x):\n",
    "#         x = self.__reshape_input(x)\n",
    "#         x = self.features(x)\n",
    "#         x = self.custom_layers(x)\n",
    "#         return x"
   ]
  },
  {
   "cell_type": "code",
   "execution_count": 20,
   "id": "52435a2e",
   "metadata": {
    "execution": {
     "iopub.execute_input": "2024-03-02T18:48:49.755548Z",
     "iopub.status.busy": "2024-03-02T18:48:49.755197Z",
     "iopub.status.idle": "2024-03-02T18:48:49.762035Z",
     "shell.execute_reply": "2024-03-02T18:48:49.761119Z"
    },
    "papermill": {
     "duration": 0.028035,
     "end_time": "2024-03-02T18:48:49.763912",
     "exception": false,
     "start_time": "2024-03-02T18:48:49.735877",
     "status": "completed"
    },
    "tags": []
   },
   "outputs": [],
   "source": [
    "# class CustomDataset(Dataset):\n",
    "#     def __init__(\n",
    "#         self, df: pd.DataFrame, config,\n",
    "#         augment: bool = False, mode: str = 'train',\n",
    "#         specs: Dict[int, np.ndarray] = all_spectrograms,\n",
    "#         eeg_specs: Dict[int, np.ndarray] = all_eegs\n",
    "#     ): \n",
    "#         self.df = df\n",
    "#         self.config = config\n",
    "#         self.batch_size = self.config.BATCH_SIZE\n",
    "#         self.augment = augment\n",
    "#         self.mode = mode\n",
    "#         self.spectrograms = all_spectrograms\n",
    "#         self.eeg_spectrograms = all_eegs\n",
    "        \n",
    "#     def __len__(self):\n",
    "#         \"\"\"\n",
    "#         Denotes the number of batches per epoch.\n",
    "#         \"\"\"\n",
    "#         return len(self.df)\n",
    "        \n",
    "#     def __getitem__(self, index):\n",
    "#         \"\"\"\n",
    "#         Generate one batch of data.\n",
    "#         \"\"\"\n",
    "#         X, y = self.__data_generation(index)\n",
    "#         if self.augment:\n",
    "#             X = self.__transform(X)\n",
    "#         return torch.tensor(X, dtype=torch.float32), torch.tensor(y, dtype=torch.float32)\n",
    "                        \n",
    "#     def __data_generation(self, index):\n",
    "#         \"\"\"\n",
    "#         Generates data containing batch_size samples.\n",
    "#         \"\"\"\n",
    "#         X = np.zeros((128, 256, 8), dtype='float32')\n",
    "#         y = np.zeros(6, dtype='float32')\n",
    "#         img = np.ones((128,256), dtype='float32')\n",
    "#         row = self.df.iloc[index]\n",
    "#         if self.mode=='test': \n",
    "#             r = 0\n",
    "#         else: \n",
    "#             r = int((row['min'] + row['max']) // 4)\n",
    "            \n",
    "#         for region in range(4):\n",
    "#             img = self.spectrograms[row.spectrogram_id][r:r+300, region*100:(region+1)*100].T\n",
    "            \n",
    "#             # Log transform spectrogram\n",
    "#             img = np.clip(img, np.exp(-4), np.exp(8))\n",
    "#             img = np.log(img)\n",
    "\n",
    "#             # Standarize per image\n",
    "#             ep = 1e-6\n",
    "#             mu = np.nanmean(img.flatten())\n",
    "#             std = np.nanstd(img.flatten())\n",
    "#             img = (img-mu)/(std+ep)\n",
    "#             img = np.nan_to_num(img, nan=0.0)\n",
    "#             X[14:-14, :, region] = img[:, 22:-22] / 2.0\n",
    "#             img = self.eeg_spectrograms[row.eeg_id]\n",
    "#             X[:, :, 4:] = img\n",
    "                \n",
    "#             if self.mode != 'test':\n",
    "#                 y = row[label_cols].values.astype(np.float32)\n",
    "            \n",
    "#         return X, y\n",
    "    \n",
    "#     def __transform(self, img):\n",
    "#         transforms = A.Compose([\n",
    "#             A.HorizontalFlip(p=0.5),\n",
    "#         ])\n",
    "#         return transforms(image=img)['image']"
   ]
  },
  {
   "cell_type": "code",
   "execution_count": 21,
   "id": "7f85c059",
   "metadata": {
    "execution": {
     "iopub.execute_input": "2024-03-02T18:48:49.796367Z",
     "iopub.status.busy": "2024-03-02T18:48:49.795974Z",
     "iopub.status.idle": "2024-03-02T18:48:49.829039Z",
     "shell.execute_reply": "2024-03-02T18:48:49.828242Z"
    },
    "papermill": {
     "duration": 0.052085,
     "end_time": "2024-03-02T18:48:49.831030",
     "exception": false,
     "start_time": "2024-03-02T18:48:49.778945",
     "status": "completed"
    },
    "tags": []
   },
   "outputs": [],
   "source": [
    "class ResNet_1D_Block(nn.Module):\n",
    "\n",
    "    def __init__(self, in_channels, out_channels, kernel_size, stride, padding, downsampling):\n",
    "        super(ResNet_1D_Block, self).__init__()\n",
    "        self.bn1 = nn.BatchNorm1d(num_features=in_channels)\n",
    "        self.relu = nn.ReLU(inplace=False)\n",
    "        self.dropout = nn.Dropout(p=0.1, inplace=False)\n",
    "        self.conv1 = nn.Conv1d(in_channels=in_channels, out_channels=out_channels, kernel_size=kernel_size,\n",
    "                               stride=stride, padding=padding, bias=False)\n",
    "        self.bn2 = nn.BatchNorm1d(num_features=out_channels)\n",
    "        self.conv2 = nn.Conv1d(in_channels=out_channels, out_channels=out_channels, kernel_size=kernel_size,\n",
    "                               stride=stride, padding=padding, bias=False)\n",
    "        self.maxpool = nn.MaxPool1d(kernel_size=2, stride=2, padding=0)\n",
    "        self.downsampling = downsampling\n",
    "\n",
    "    def forward(self, x):\n",
    "        identity = x\n",
    "\n",
    "        out = self.bn1(x)\n",
    "        out = self.relu(out)\n",
    "        out = self.dropout(out)\n",
    "        out = self.conv1(out)\n",
    "        out = self.bn2(out)\n",
    "        out = self.relu(out)\n",
    "        out = self.dropout(out)\n",
    "        out = self.conv2(out)\n",
    "\n",
    "        out = self.maxpool(out)\n",
    "        identity = self.downsampling(x)\n",
    "\n",
    "        out += identity\n",
    "        return out\n",
    "    \n",
    "\n",
    "class EEGMegaNet(nn.Module):\n",
    "\n",
    "    def __init__(self, backbone_2d,in_channels_2d, kernels, pretrained=False, in_channels=20, fixed_kernel_size=17, num_classes=6):\n",
    "        super(EEGMegaNet, self).__init__()\n",
    "        \n",
    "        self.kernels = kernels\n",
    "        self.planes = 24\n",
    "        self.parallel_conv = nn.ModuleList()\n",
    "        self.in_channels = in_channels\n",
    "\n",
    "        self.backbone_2d = timm.create_model(\n",
    "            backbone_2d,\n",
    "            pretrained=pretrained,\n",
    "            drop_rate = 0.1,\n",
    "            drop_path_rate = 0.1\n",
    "        \n",
    "        )\n",
    "        \n",
    "        self.features_2d = nn.Sequential(*list(self.backbone_2d.children())[:-2] + [nn.AdaptiveAvgPool2d(1),nn.Flatten()])\n",
    "        \n",
    "        # nn.Sequential(\n",
    "            # nn.AdaptiveAvgPool2d(1),\n",
    "\n",
    "        for i, kernel_size in enumerate(list(self.kernels)):\n",
    "            sep_conv = nn.Conv1d(in_channels=in_channels, out_channels=self.planes, kernel_size=(kernel_size),\n",
    "                               stride=1, padding=0, bias=False,)\n",
    "            self.parallel_conv.append(sep_conv)\n",
    "\n",
    "        self.bn1 = nn.BatchNorm1d(num_features=self.planes)\n",
    "        self.relu = nn.ReLU(inplace=False)\n",
    "        self.conv1 = nn.Conv1d(in_channels=self.planes, out_channels=self.planes, kernel_size=fixed_kernel_size,\n",
    "                               stride=2, padding=2, bias=False)\n",
    "        self.block = self._make_resnet_layer(kernel_size=fixed_kernel_size, stride=1, padding=fixed_kernel_size//2)\n",
    "        self.bn2 = nn.BatchNorm1d(num_features=self.planes)\n",
    "        self.avgpool = nn.AvgPool1d(kernel_size=4, stride=4, padding=2)\n",
    "        self.rnn = nn.GRU(input_size=self.in_channels, hidden_size=128, num_layers=1, bidirectional=True)\n",
    "        \n",
    "        self.fc1 = nn.Linear(in_features=1280, out_features=128)\n",
    "        self.fc2 = nn.Linear(in_features=496, out_features=128)\n",
    "        self.fc = nn.Linear(in_features=256, out_features=num_classes)\n",
    "\n",
    "        self.fc1d = nn.Linear(in_features=128, out_features=num_classes)\n",
    "        self.fc2d = nn.Linear(in_features=128, out_features=num_classes)\n",
    "        \n",
    "        \n",
    "        self.rnn1 = nn.GRU(input_size=156, hidden_size=156, num_layers=1, bidirectional=True)\n",
    "\n",
    "    def _make_resnet_layer(self, kernel_size, stride, blocks=8, padding=0):\n",
    "        layers = []\n",
    "        downsample = None\n",
    "        base_width = self.planes\n",
    "\n",
    "        for i in range(blocks):\n",
    "            downsampling = nn.Sequential(\n",
    "                    nn.MaxPool1d(kernel_size=2, stride=2, padding=0)\n",
    "                )\n",
    "            layers.append(ResNet_1D_Block(in_channels=self.planes, out_channels=self.planes, kernel_size=kernel_size,\n",
    "                                       stride=stride, padding=padding, downsampling=downsampling))\n",
    "\n",
    "        return nn.Sequential(*layers)\n",
    "\n",
    "    def _reshape_input(self, spec):\n",
    "        \"\"\"\n",
    "        Reshapes input (128, 256, 8) -> (512, 512, 3) monotone image.\n",
    "        \"\"\" \n",
    "        # === Get spectograms ===\n",
    "        spectograms = [spec[:, :, :, i:i+1] for i in range(4)]\n",
    "        spectograms = torch.cat(spectograms, dim=1)\n",
    "        \n",
    "        # === Get EEG spectograms ===\n",
    "        eegs = [spec[:, :, :, i:i+1] for i in range(4,8)]\n",
    "        eegs = torch.cat(eegs, dim=1)\n",
    "        \n",
    "        # === Reshape (512,512,3) ===\n",
    "        spec = spectograms\n",
    "            \n",
    "        spec = torch.cat([spec,spec,spec], dim=3)\n",
    "        spec = spec.permute(0, 3, 1, 2)\n",
    "        return spec\n",
    "\n",
    "    def forward(self, x, spec):\n",
    "        \n",
    "        spec = self._reshape_input(spec)\n",
    "        spec = self.features_2d(spec)\n",
    "        \n",
    "        # print(spec.shape) #2, 1280, 16, 8\n",
    "        out_sep = []\n",
    "\n",
    "        for i in range(len(self.kernels)):\n",
    "            sep = self.parallel_conv[i](x)\n",
    "            out_sep.append(sep)\n",
    "\n",
    "        out = torch.cat(out_sep, dim=2)\n",
    "        out = self.bn1(out)\n",
    "        out = self.relu(out)\n",
    "        out = self.conv1(out)  \n",
    "\n",
    "        out = self.block(out)\n",
    "        out = self.bn2(out)\n",
    "        out = self.relu(out)\n",
    "        out = self.avgpool(out)  \n",
    "\n",
    "\n",
    "        \n",
    "        out = out.reshape(out.shape[0], -1)  \n",
    "\n",
    "        rnn_out, _ = self.rnn(x.permute(0,2, 1))\n",
    "        new_rnn_h = rnn_out[:, -1, :]  \n",
    "\n",
    "        new_out = torch.cat([out, new_rnn_h], dim=1)\n",
    "        new_out = self.fc2(new_out)  \n",
    "        out1d = self.fc1d(new_out)\n",
    "        \n",
    "        spec = self.fc1(spec)  \n",
    "        out2d = self.fc2d(spec)\n",
    "        \n",
    "        result = torch.cat([new_out, spec], dim=1)  \n",
    "        result = self.fc(result)\n",
    "        \n",
    "        \n",
    "        return result #, new_out, spec, out1d, out2d"
   ]
  },
  {
   "cell_type": "code",
   "execution_count": 22,
   "id": "46b4e0ad",
   "metadata": {
    "execution": {
     "iopub.execute_input": "2024-03-02T18:48:49.863159Z",
     "iopub.status.busy": "2024-03-02T18:48:49.862853Z",
     "iopub.status.idle": "2024-03-02T18:48:49.892025Z",
     "shell.execute_reply": "2024-03-02T18:48:49.891016Z"
    },
    "papermill": {
     "duration": 0.047282,
     "end_time": "2024-03-02T18:48:49.894249",
     "exception": false,
     "start_time": "2024-03-02T18:48:49.846967",
     "status": "completed"
    },
    "tags": []
   },
   "outputs": [],
   "source": [
    "from scipy.signal import butter, lfilter\n",
    "\n",
    "def quantize_data(data, classes):\n",
    "    mu_x = mu_law_encoding(data, classes)\n",
    "    # bins = np.linspace(-1, 1, classes)\n",
    "    # quantized = np.digitize(mu_x, bins) - 1\n",
    "    return mu_x#quantized\n",
    "\n",
    "def mu_law_encoding(data, mu):\n",
    "    mu_x = np.sign(data) * np.log(1 + mu * np.abs(data)) / np.log(mu + 1)\n",
    "    return mu_x\n",
    "\n",
    "def butter_lowpass_filter(data, cutoff_freq=20, sampling_rate=200, order=4):\n",
    "    nyquist = 0.5 * sampling_rate\n",
    "    normal_cutoff = cutoff_freq / nyquist\n",
    "    b, a = butter(order, normal_cutoff, btype='low', analog=False)\n",
    "    filtered_data = lfilter(b, a, data, axis=0)\n",
    "    return filtered_data\n",
    "\n",
    "class EEGDataset(torch.utils.data.Dataset):\n",
    "    def __init__(\n",
    "        self, df: pd.DataFrame,\n",
    "        augment: bool = False, mode: str = 'train',\n",
    "        specs: Dict[int, np.ndarray] = all_spectrograms,\n",
    "        eeg_specs: Dict[int, np.ndarray] = all_eegs,\n",
    "        eegs: Dict[int, np.ndarray] = raw_eegs\n",
    "    ): \n",
    "        self.df = df\n",
    "        self.augment = augment\n",
    "        self.mode = mode\n",
    "        self.spectograms = specs\n",
    "        self.eeg_spectograms = eeg_specs\n",
    "        self.eegs = eegs\n",
    "    \n",
    "    def __len__(self):\n",
    "        return len(self.df)\n",
    "    \n",
    "    def __getitem__(self, index):\n",
    "        row = self.df.iloc[index]\n",
    "        \n",
    "        # Processing EEG signal data\n",
    "        eeg_data = self.eegs[row.eeg_id]\n",
    "        sample = np.zeros((eeg_data.shape[0], 8))  # Assuming eeg_data.shape[1] == 8 for 8 channels\n",
    "        FEAT2IDX = {'Fp1': 0, 'T3': 1, 'C3': 2, 'O1': 3, 'Fp2': 4, 'C4': 5, 'T4': 6, 'O2': 7}\n",
    "        \n",
    "        # Compute differences\n",
    "        for i, (start, end) in enumerate([('Fp1', 'T3'), ('T3', 'O1'), ('Fp1', 'C3'), ('C3', 'O1'), \n",
    "                                          ('Fp2', 'C4'), ('C4', 'O2'), ('Fp2', 'T4'), ('T4', 'O2')]):\n",
    "            sample[:, i] = eeg_data[:, FEAT2IDX[start]] - eeg_data[:, FEAT2IDX[end]]\n",
    "        \n",
    "        sample = self.process_sample(sample)\n",
    "        \n",
    "        samples = torch.from_numpy(sample).float()\n",
    "        samples = samples.permute(1, 0)\n",
    "        \n",
    "        # Processing spectrogram data\n",
    "        spec = self.__spec_data_generation(row)\n",
    "        if self.augment:\n",
    "            spec = self.__transform_2d(spec) \n",
    "        \n",
    "        if self.mode != 'test':\n",
    "            label = row[TARGETS]  # Assuming 'TARGETS' is defined somewhere as the label column name\n",
    "            label = torch.tensor(label).float()  \n",
    "            return samples, spec, label\n",
    "        else:\n",
    "            return samples, spec\n",
    "    \n",
    "    def process_sample(self, sample):\n",
    "        # Normalize the sample data\n",
    "        sample = (sample - np.mean(sample, axis=0)) / np.std(sample, axis=0)\n",
    "        sample = np.clip(sample, -1024, 1024)\n",
    "        sample = np.nan_to_num(sample, nan=0)\n",
    "        sample = butter_lowpass_filter(sample)\n",
    "        sample = quantize_data(sample, 1)\n",
    "        return sample\n",
    "\n",
    "    def __spec_data_generation(self, row):\n",
    "        \"\"\"\n",
    "        Generates data containing batch_size samples. This method directly\n",
    "        uses class attributes for spectrograms and EEG spectrograms.\n",
    "        \"\"\"\n",
    "        X = np.zeros((128, 256, 8), dtype='float32')        \n",
    "        if self.mode != 'test':\n",
    "            # Assuming your DataFrame has a column that combines min and max values for slicing\n",
    "            r = int(row['spectrogram_label_offset_seconds'] // 2)\n",
    "        else:\n",
    "            r = 0  # Adjust as necessary for test mode\n",
    "        \n",
    "        for region in range(4):\n",
    "            img = self.spectograms[row.spectrogram_id][r:r+300, region*100:(region+1)*100].T\n",
    "            \n",
    "            # Log transform spectogram\n",
    "            img = np.clip(img, np.exp(-4), np.exp(8))\n",
    "            img = np.log(img)\n",
    "            \n",
    "            ep = 1e-6\n",
    "            mu = np.nanmean(img.flatten())\n",
    "            std = np.nanstd(img.flatten())\n",
    "            img = (img-mu)/(std+ep)\n",
    "            img = np.nan_to_num(img, nan=0.0)\n",
    "            X[14:-14, :, region] = img[:, 22:-22] / 2.0\n",
    "            img = self.eeg_spectograms[row.eeg_id]\n",
    "            X[:, :, 4:] = img\n",
    "                 \n",
    "        return X\n",
    "\n",
    "    def __transform_2d(self, img):\n",
    "        params1 = {\n",
    "                    \"num_masks_x\": 1,    \n",
    "                    \"mask_x_length\": (0, 20), # This line changed from fixed  to a range\n",
    "                    \"fill_value\": (0, 1, 2, 3, 4, 5, 6, 7),\n",
    "                    }\n",
    "        params2 = {    \n",
    "                    \"num_masks_y\": 1,    \n",
    "                    \"mask_y_length\": (0, 20),\n",
    "                    \"fill_value\": (0, 1, 2, 3, 4, 5, 6, 7),    \n",
    "                    }\n",
    "        params3 = {    \n",
    "                    \"num_masks_x\": (2, 4),\n",
    "                    \"num_masks_y\": 5,    \n",
    "                    \"mask_y_length\": 8,\n",
    "                    \"mask_x_length\": (10, 20),\n",
    "                    \"fill_value\": (0, 1, 2, 3, 4, 5, 6, 7),  \n",
    "                    }\n",
    "        \n",
    "        transforms = A.Compose([\n",
    "            A.XYMasking(**params1, p=0.3),\n",
    "            A.XYMasking(**params2, p=0.3),\n",
    "            A.XYMasking(**params3, p=0.3),\n",
    "        ])\n",
    "        return transforms(image=img)['image']"
   ]
  },
  {
   "cell_type": "code",
   "execution_count": 23,
   "id": "c0f2c622",
   "metadata": {
    "execution": {
     "iopub.execute_input": "2024-03-02T18:48:49.930411Z",
     "iopub.status.busy": "2024-03-02T18:48:49.930028Z",
     "iopub.status.idle": "2024-03-02T18:48:49.934917Z",
     "shell.execute_reply": "2024-03-02T18:48:49.933763Z"
    },
    "papermill": {
     "duration": 0.025546,
     "end_time": "2024-03-02T18:48:49.937093",
     "exception": false,
     "start_time": "2024-03-02T18:48:49.911547",
     "status": "completed"
    },
    "tags": []
   },
   "outputs": [],
   "source": [
    "# test_dataset = CustomDataset(test_df, config, mode=\"test\")\n",
    "# test_loader = DataLoader(\n",
    "#     test_dataset,\n",
    "#     batch_size=config.BATCH_SIZE,\n",
    "#     shuffle=False,\n",
    "#     num_workers=config.NUM_WORKERS, \n",
    "#     pin_memory=True, drop_last=False\n",
    "# )\n",
    "\n",
    "# X, y = test_dataset[0]\n",
    "# print(f\"X shape: {X.shape}\")\n",
    "# print(f\"y shape: {y.shape}\")"
   ]
  },
  {
   "cell_type": "code",
   "execution_count": 24,
   "id": "e762dbe9",
   "metadata": {
    "execution": {
     "iopub.execute_input": "2024-03-02T18:48:49.972443Z",
     "iopub.status.busy": "2024-03-02T18:48:49.972073Z",
     "iopub.status.idle": "2024-03-02T18:48:50.327935Z",
     "shell.execute_reply": "2024-03-02T18:48:50.326940Z"
    },
    "papermill": {
     "duration": 0.376038,
     "end_time": "2024-03-02T18:48:50.330162",
     "exception": false,
     "start_time": "2024-03-02T18:48:49.954124",
     "status": "completed"
    },
    "tags": []
   },
   "outputs": [
    {
     "name": "stdout",
     "output_type": "stream",
     "text": [
      "Samples shape: torch.Size([8, 5000])\n",
      "Spec shape: (128, 256, 8)\n"
     ]
    }
   ],
   "source": [
    "test_dataset = EEGDataset(test_df, augment=False, mode=\"test\")\n",
    "test_loader = DataLoader(test_dataset, batch_size=32, shuffle=False)\n",
    "\n",
    "samples, spec = test_dataset[0]\n",
    "\n",
    "print(f\"Samples shape: {samples.shape}\")\n",
    "print(f\"Spec shape: {spec.shape}\")\n",
    "\n",
    "del test_dataset, samples, spec\n",
    "_ = gc.collect()"
   ]
  },
  {
   "cell_type": "code",
   "execution_count": 25,
   "id": "16361a0b",
   "metadata": {
    "execution": {
     "iopub.execute_input": "2024-03-02T18:48:50.362499Z",
     "iopub.status.busy": "2024-03-02T18:48:50.362188Z",
     "iopub.status.idle": "2024-03-02T18:48:50.367277Z",
     "shell.execute_reply": "2024-03-02T18:48:50.366304Z"
    },
    "papermill": {
     "duration": 0.023548,
     "end_time": "2024-03-02T18:48:50.369304",
     "exception": false,
     "start_time": "2024-03-02T18:48:50.345756",
     "status": "completed"
    },
    "tags": []
   },
   "outputs": [],
   "source": [
    "def load_weights(model, weights_path):\n",
    "    checkpoint = torch.load(weights_path, map_location=torch.device(device))\n",
    "    model.load_state_dict(checkpoint[\"model\"])\n",
    "    model.to(device)\n",
    "    return model"
   ]
  },
  {
   "cell_type": "code",
   "execution_count": 26,
   "id": "dad0224d",
   "metadata": {
    "execution": {
     "iopub.execute_input": "2024-03-02T18:48:50.442435Z",
     "iopub.status.busy": "2024-03-02T18:48:50.441759Z",
     "iopub.status.idle": "2024-03-02T18:48:50.449476Z",
     "shell.execute_reply": "2024-03-02T18:48:50.448482Z"
    },
    "papermill": {
     "duration": 0.06705,
     "end_time": "2024-03-02T18:48:50.451390",
     "exception": false,
     "start_time": "2024-03-02T18:48:50.384340",
     "status": "completed"
    },
    "tags": []
   },
   "outputs": [],
   "source": [
    "def inference_function(test_loader, model, device):\n",
    "    model.eval() # set model in evaluation mode\n",
    "    softmax = nn.Softmax(dim=1)\n",
    "    prediction_dict = {}\n",
    "    preds = []\n",
    "    with tqdm(test_loader, unit=\"test_batch\", desc='Inference') as tqdm_test_loader:\n",
    "        for step, (X, specs) in enumerate(tqdm_test_loader):\n",
    "            X = X.to(device)\n",
    "            specs = specs.to(device)\n",
    "            batch_size = X.size(0)\n",
    "            with torch.no_grad():\n",
    "                y_preds = model(X, specs) # forward propagation pass\n",
    "            y_preds = softmax(y_preds)\n",
    "            preds.append(y_preds.to('cpu').numpy()) # save predictions\n",
    "                \n",
    "    prediction_dict[\"predictions\"] = np.concatenate(preds) # np.array() of shape (fold_size, target_cols)\n",
    "    return prediction_dict"
   ]
  },
  {
   "cell_type": "code",
   "execution_count": 27,
   "id": "b5aae66c",
   "metadata": {
    "execution": {
     "iopub.execute_input": "2024-03-02T18:48:50.482323Z",
     "iopub.status.busy": "2024-03-02T18:48:50.482029Z",
     "iopub.status.idle": "2024-03-02T18:48:50.485994Z",
     "shell.execute_reply": "2024-03-02T18:48:50.485128Z"
    },
    "papermill": {
     "duration": 0.021737,
     "end_time": "2024-03-02T18:48:50.487985",
     "exception": false,
     "start_time": "2024-03-02T18:48:50.466248",
     "status": "completed"
    },
    "tags": []
   },
   "outputs": [],
   "source": [
    "# predictions = []\n",
    "\n",
    "# for model_weight in efficentnetV2_model_weights:\n",
    "#     model = CustomModel(config)\n",
    "#     model = load_weights(model, model_weight)\n",
    "    \n",
    "#     prediction_dict = inference_function(test_loader, model, device)\n",
    "#     predictions.append(prediction_dict[\"predictions\"])\n",
    "#     torch.cuda.empty_cache()\n",
    "#     gc.collect()\n",
    "    \n",
    "# predictions = np.array(predictions)\n",
    "# predictions = np.mean(predictions, axis=0)"
   ]
  },
  {
   "cell_type": "code",
   "execution_count": 28,
   "id": "91a83afa",
   "metadata": {
    "execution": {
     "iopub.execute_input": "2024-03-02T18:48:50.520863Z",
     "iopub.status.busy": "2024-03-02T18:48:50.520527Z",
     "iopub.status.idle": "2024-03-02T18:48:56.497376Z",
     "shell.execute_reply": "2024-03-02T18:48:56.496178Z"
    },
    "papermill": {
     "duration": 5.995119,
     "end_time": "2024-03-02T18:48:56.499455",
     "exception": false,
     "start_time": "2024-03-02T18:48:50.504336",
     "status": "completed"
    },
    "tags": []
   },
   "outputs": [
    {
     "name": "stderr",
     "output_type": "stream",
     "text": [
      "Inference: 100%|██████████| 1/1 [00:00<00:00,  1.24test_batch/s]\n",
      "Inference: 100%|██████████| 1/1 [00:00<00:00, 25.35test_batch/s]\n",
      "Inference: 100%|██████████| 1/1 [00:00<00:00, 25.20test_batch/s]\n",
      "Inference: 100%|██████████| 1/1 [00:00<00:00, 24.81test_batch/s]\n",
      "Inference: 100%|██████████| 1/1 [00:00<00:00, 23.93test_batch/s]\n"
     ]
    }
   ],
   "source": [
    "predictions = []\n",
    "\n",
    "for model_weight in efficentnetV2_model_weights:\n",
    "    model = EEGMegaNet(backbone_2d=config.MODEL,\n",
    "                   in_channels_2d=8,\n",
    "                   kernels=[3,5,7,9],pretrained=False,\n",
    "                   in_channels=8,\n",
    "                   fixed_kernel_size=5, num_classes=6)\n",
    "    model = load_weights(model, model_weight)\n",
    "    \n",
    "    prediction_dict = inference_function(test_loader, model, device)\n",
    "    predictions.append(prediction_dict[\"predictions\"])\n",
    "    torch.cuda.empty_cache()\n",
    "    gc.collect()\n",
    "    \n",
    "predictions = np.array(predictions)\n",
    "predictions = np.mean(predictions, axis=0)"
   ]
  },
  {
   "cell_type": "code",
   "execution_count": 29,
   "id": "32b12746",
   "metadata": {
    "execution": {
     "iopub.execute_input": "2024-03-02T18:48:56.535914Z",
     "iopub.status.busy": "2024-03-02T18:48:56.535221Z",
     "iopub.status.idle": "2024-03-02T18:48:56.539889Z",
     "shell.execute_reply": "2024-03-02T18:48:56.539006Z"
    },
    "papermill": {
     "duration": 0.025586,
     "end_time": "2024-03-02T18:48:56.541859",
     "exception": false,
     "start_time": "2024-03-02T18:48:56.516273",
     "status": "completed"
    },
    "tags": []
   },
   "outputs": [],
   "source": [
    "# def extract_features(model, dataloader):\n",
    "#     features = []\n",
    "#     model.eval()\n",
    "#     with torch.no_grad():\n",
    "#         for inputs, _ in tqdm(dataloader, desc=\"Extracting features\", leave=False):\n",
    "#             # Forward pass through the model to extract features\n",
    "#             inputs=inputs.to(device)\n",
    "            \n",
    "#             outputs = model(inputs)\n",
    "#             features.append(outputs['custom_layers.1'])\n",
    "            \n",
    "#     return torch.cat(features, dim=0)"
   ]
  },
  {
   "cell_type": "code",
   "execution_count": 30,
   "id": "a2d7f9ef",
   "metadata": {
    "execution": {
     "iopub.execute_input": "2024-03-02T18:48:56.576534Z",
     "iopub.status.busy": "2024-03-02T18:48:56.575893Z",
     "iopub.status.idle": "2024-03-02T18:48:56.580018Z",
     "shell.execute_reply": "2024-03-02T18:48:56.579239Z"
    },
    "papermill": {
     "duration": 0.023444,
     "end_time": "2024-03-02T18:48:56.581971",
     "exception": false,
     "start_time": "2024-03-02T18:48:56.558527",
     "status": "completed"
    },
    "tags": []
   },
   "outputs": [],
   "source": [
    "# efficientnet_features = []\n",
    "\n",
    "# for i in range(5):\n",
    "#     custom_model = CustomModel(config)\n",
    "#     custom_model = load_weights(custom_model, f\"/kaggle/input/hms-efficientnetb0-5-folds/tf_efficientnet_b0_fold_{i}_best.pth\")\n",
    "\n",
    "#     feature_extractor = create_feature_extractor(\n",
    "#         custom_model,\n",
    "#         train_return_nodes=['custom_layers.1'],\n",
    "#         eval_return_nodes=['custom_layers.1'],\n",
    "#         tracer_kwargs={'autowrap_functions': [timm.layers.padding.pad_same]}\n",
    "#     ).to(device)\n",
    "    \n",
    "#     features = extract_features(feature_extractor, test_loader)\n",
    "    \n",
    "#     efficientnet_features.append(features)"
   ]
  },
  {
   "cell_type": "code",
   "execution_count": 31,
   "id": "34c1ff67",
   "metadata": {
    "execution": {
     "iopub.execute_input": "2024-03-02T18:48:56.616055Z",
     "iopub.status.busy": "2024-03-02T18:48:56.615276Z",
     "iopub.status.idle": "2024-03-02T18:48:56.619286Z",
     "shell.execute_reply": "2024-03-02T18:48:56.618405Z"
    },
    "papermill": {
     "duration": 0.023151,
     "end_time": "2024-03-02T18:48:56.621193",
     "exception": false,
     "start_time": "2024-03-02T18:48:56.598042",
     "status": "completed"
    },
    "tags": []
   },
   "outputs": [],
   "source": [
    "# efficientnet_features[0].shape"
   ]
  },
  {
   "cell_type": "code",
   "execution_count": 32,
   "id": "6da7aa00",
   "metadata": {
    "execution": {
     "iopub.execute_input": "2024-03-02T18:48:56.654884Z",
     "iopub.status.busy": "2024-03-02T18:48:56.654558Z",
     "iopub.status.idle": "2024-03-02T18:48:56.659133Z",
     "shell.execute_reply": "2024-03-02T18:48:56.658242Z"
    },
    "papermill": {
     "duration": 0.023956,
     "end_time": "2024-03-02T18:48:56.661112",
     "exception": false,
     "start_time": "2024-03-02T18:48:56.637156",
     "status": "completed"
    },
    "tags": []
   },
   "outputs": [],
   "source": [
    "# efficientnetV2_features = []\n",
    "\n",
    "# for i in range(5):\n",
    "#     custom_model = CustomModel(config)\n",
    "#     custom_model = load_weights(custom_model, \n",
    "#                                 f\"/kaggle/input/hms-efficientnetb0-weights/pop_2_weight_oof/tf_efficientnet_b0_ns_fold{i}_best_version2_stage2.pth\")\n",
    "\n",
    "#     feature_extractor = create_feature_extractor(\n",
    "#         custom_model,\n",
    "#         train_return_nodes=['custom_layers.1'],\n",
    "#         eval_return_nodes=['custom_layers.1'],\n",
    "#         tracer_kwargs={'autowrap_functions': [timm.layers.padding.pad_same]}\n",
    "#     ).to(device)\n",
    "    \n",
    "#     features = extract_features(feature_extractor, test_loader)\n",
    "    \n",
    "#     efficientnetV2_features.append(features)"
   ]
  },
  {
   "cell_type": "code",
   "execution_count": 33,
   "id": "3ae173bf",
   "metadata": {
    "execution": {
     "iopub.execute_input": "2024-03-02T18:48:56.694393Z",
     "iopub.status.busy": "2024-03-02T18:48:56.694055Z",
     "iopub.status.idle": "2024-03-02T18:48:56.697973Z",
     "shell.execute_reply": "2024-03-02T18:48:56.697039Z"
    },
    "papermill": {
     "duration": 0.022905,
     "end_time": "2024-03-02T18:48:56.699863",
     "exception": false,
     "start_time": "2024-03-02T18:48:56.676958",
     "status": "completed"
    },
    "tags": []
   },
   "outputs": [],
   "source": [
    "# efficientnetV2_features[0].shape"
   ]
  },
  {
   "cell_type": "markdown",
   "id": "e7f61732",
   "metadata": {
    "papermill": {
     "duration": 0.016289,
     "end_time": "2024-03-02T18:48:56.732231",
     "exception": false,
     "start_time": "2024-03-02T18:48:56.715942",
     "status": "completed"
    },
    "tags": []
   },
   "source": [
    "## Ensemble Model"
   ]
  },
  {
   "cell_type": "code",
   "execution_count": 34,
   "id": "a5269449",
   "metadata": {
    "execution": {
     "iopub.execute_input": "2024-03-02T18:48:56.765591Z",
     "iopub.status.busy": "2024-03-02T18:48:56.765242Z",
     "iopub.status.idle": "2024-03-02T18:48:56.769389Z",
     "shell.execute_reply": "2024-03-02T18:48:56.768504Z"
    },
    "papermill": {
     "duration": 0.023222,
     "end_time": "2024-03-02T18:48:56.771345",
     "exception": false,
     "start_time": "2024-03-02T18:48:56.748123",
     "status": "completed"
    },
    "tags": []
   },
   "outputs": [],
   "source": [
    "# wavenet_features_tensors = [torch.from_numpy(arr).to(device) for arr in wavenet_features]\n",
    "# efficientnet_features_tensors = [tensor.to(device) for tensor in efficientnet_features]\n",
    "# efficientnet_featuresV2_tensors = [tensor.to(device) for tensor in efficientnetV2_features]\n",
    "\n",
    "# concatenated_features = torch.cat(efficientnet_featuresV2_tensors + wavenet_features_tensors + efficientnet_features_tensors, dim=1)"
   ]
  },
  {
   "cell_type": "code",
   "execution_count": 35,
   "id": "f7891d40",
   "metadata": {
    "execution": {
     "iopub.execute_input": "2024-03-02T18:48:56.804809Z",
     "iopub.status.busy": "2024-03-02T18:48:56.804222Z",
     "iopub.status.idle": "2024-03-02T18:48:56.808536Z",
     "shell.execute_reply": "2024-03-02T18:48:56.807606Z"
    },
    "papermill": {
     "duration": 0.023218,
     "end_time": "2024-03-02T18:48:56.810484",
     "exception": false,
     "start_time": "2024-03-02T18:48:56.787266",
     "status": "completed"
    },
    "tags": []
   },
   "outputs": [],
   "source": [
    "# class EnsembleModel(nn.Module):\n",
    "#     def __init__(self, input_size, num_classes):\n",
    "#         super(EnsembleModel, self).__init__()\n",
    "#         self.fc1 = nn.Linear(input_size, 32)\n",
    "#         self.bn1 = nn.BatchNorm1d(32)\n",
    "#         self.dropout = nn.Dropout(0.5) \n",
    "#         self.fc2 = nn.Linear(32, num_classes)\n",
    "\n",
    "#     def forward(self, x):\n",
    "#         x = F.relu(self.bn1(self.fc1(x)))\n",
    "#         x = self.dropout(x)\n",
    "#         x = self.fc2(x)\n",
    "#         return x"
   ]
  },
  {
   "cell_type": "code",
   "execution_count": 36,
   "id": "60eee436",
   "metadata": {
    "execution": {
     "iopub.execute_input": "2024-03-02T18:48:56.843399Z",
     "iopub.status.busy": "2024-03-02T18:48:56.843091Z",
     "iopub.status.idle": "2024-03-02T18:48:56.847112Z",
     "shell.execute_reply": "2024-03-02T18:48:56.846266Z"
    },
    "papermill": {
     "duration": 0.022853,
     "end_time": "2024-03-02T18:48:56.849020",
     "exception": false,
     "start_time": "2024-03-02T18:48:56.826167",
     "status": "completed"
    },
    "tags": []
   },
   "outputs": [],
   "source": [
    "# model_path = '/kaggle/input/hms-ensemble-features/best_ensemble_model.pth'\n",
    "# num_of_feautres = concatenated_features.shape[1]\n",
    "# num_of_classes = 6\n",
    "\n",
    "# model = EnsembleModel(num_of_feautres, num_of_classes)\n",
    "# model.load_state_dict(torch.load(model_path, map_location=torch.device('cpu')))\n",
    "# model.to(device)\n",
    "# model.eval()\n",
    "\n",
    "# predictions = model(concatenated_features)\n",
    "# predictions = F.softmax(predictions, dim=1).detach().cpu().numpy()"
   ]
  },
  {
   "cell_type": "code",
   "execution_count": 37,
   "id": "0622b76b",
   "metadata": {
    "_cell_guid": "b1076dfc-b9ad-4769-8c92-a6c4dae69d19",
    "_uuid": "8f2839f25d086af736a60e9eeb907d3b93b6e0e5",
    "execution": {
     "iopub.execute_input": "2024-03-02T18:48:56.882456Z",
     "iopub.status.busy": "2024-03-02T18:48:56.882186Z",
     "iopub.status.idle": "2024-03-02T18:48:56.902101Z",
     "shell.execute_reply": "2024-03-02T18:48:56.901215Z"
    },
    "papermill": {
     "duration": 0.039333,
     "end_time": "2024-03-02T18:48:56.904407",
     "exception": false,
     "start_time": "2024-03-02T18:48:56.865074",
     "status": "completed"
    },
    "tags": []
   },
   "outputs": [
    {
     "name": "stdout",
     "output_type": "stream",
     "text": [
      "Submissionn shape: (1, 7)\n"
     ]
    },
    {
     "data": {
      "text/html": [
       "<div>\n",
       "<style scoped>\n",
       "    .dataframe tbody tr th:only-of-type {\n",
       "        vertical-align: middle;\n",
       "    }\n",
       "\n",
       "    .dataframe tbody tr th {\n",
       "        vertical-align: top;\n",
       "    }\n",
       "\n",
       "    .dataframe thead th {\n",
       "        text-align: right;\n",
       "    }\n",
       "</style>\n",
       "<table border=\"1\" class=\"dataframe\">\n",
       "  <thead>\n",
       "    <tr style=\"text-align: right;\">\n",
       "      <th></th>\n",
       "      <th>eeg_id</th>\n",
       "      <th>seizure_vote</th>\n",
       "      <th>lpd_vote</th>\n",
       "      <th>gpd_vote</th>\n",
       "      <th>lrda_vote</th>\n",
       "      <th>grda_vote</th>\n",
       "      <th>other_vote</th>\n",
       "    </tr>\n",
       "  </thead>\n",
       "  <tbody>\n",
       "    <tr>\n",
       "      <th>0</th>\n",
       "      <td>3911565283</td>\n",
       "      <td>0.032133</td>\n",
       "      <td>0.133113</td>\n",
       "      <td>0.031662</td>\n",
       "      <td>0.153289</td>\n",
       "      <td>0.131787</td>\n",
       "      <td>0.518017</td>\n",
       "    </tr>\n",
       "  </tbody>\n",
       "</table>\n",
       "</div>"
      ],
      "text/plain": [
       "       eeg_id  seizure_vote  lpd_vote  gpd_vote  lrda_vote  grda_vote  \\\n",
       "0  3911565283      0.032133  0.133113  0.031662   0.153289   0.131787   \n",
       "\n",
       "   other_vote  \n",
       "0    0.518017  "
      ]
     },
     "execution_count": 37,
     "metadata": {},
     "output_type": "execute_result"
    }
   ],
   "source": [
    "TARGETS = ['seizure_vote', 'lpd_vote', 'gpd_vote', 'lrda_vote', 'grda_vote', 'other_vote']\n",
    "sub = pd.DataFrame({'eeg_id': test_df.eeg_id.values})\n",
    "sub[TARGETS] = predictions\n",
    "sub.to_csv('submission.csv',index=False)\n",
    "print(f'Submissionn shape: {sub.shape}')\n",
    "sub.head()"
   ]
  },
  {
   "cell_type": "code",
   "execution_count": null,
   "id": "01a9131a",
   "metadata": {
    "papermill": {
     "duration": 0.016345,
     "end_time": "2024-03-02T18:48:56.938664",
     "exception": false,
     "start_time": "2024-03-02T18:48:56.922319",
     "status": "completed"
    },
    "tags": []
   },
   "outputs": [],
   "source": []
  }
 ],
 "metadata": {
  "kaggle": {
   "accelerator": "gpu",
   "dataSources": [
    {
     "databundleVersionId": 7469972,
     "sourceId": 59093,
     "sourceType": "competition"
    },
    {
     "datasetId": 4317718,
     "sourceId": 7465251,
     "sourceType": "datasetVersion"
    },
    {
     "datasetId": 4479579,
     "sourceId": 7678609,
     "sourceType": "datasetVersion"
    },
    {
     "datasetId": 4491141,
     "sourceId": 7700249,
     "sourceType": "datasetVersion"
    },
    {
     "datasetId": 4508527,
     "sourceId": 7736026,
     "sourceType": "datasetVersion"
    },
    {
     "datasetId": 4527097,
     "sourceId": 7745542,
     "sourceType": "datasetVersion"
    }
   ],
   "dockerImageVersionId": 30665,
   "isGpuEnabled": true,
   "isInternetEnabled": false,
   "language": "python",
   "sourceType": "notebook"
  },
  "kernelspec": {
   "display_name": "Python 3",
   "language": "python",
   "name": "python3"
  },
  "language_info": {
   "codemirror_mode": {
    "name": "ipython",
    "version": 3
   },
   "file_extension": ".py",
   "mimetype": "text/x-python",
   "name": "python",
   "nbconvert_exporter": "python",
   "pygments_lexer": "ipython3",
   "version": "3.10.13"
  },
  "papermill": {
   "default_parameters": {},
   "duration": 35.232224,
   "end_time": "2024-03-02T18:48:59.843014",
   "environment_variables": {},
   "exception": null,
   "input_path": "__notebook__.ipynb",
   "output_path": "__notebook__.ipynb",
   "parameters": {},
   "start_time": "2024-03-02T18:48:24.610790",
   "version": "2.5.0"
  }
 },
 "nbformat": 4,
 "nbformat_minor": 5
}
