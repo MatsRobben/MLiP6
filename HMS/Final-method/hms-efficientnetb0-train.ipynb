{
 "cells": [
  {
   "cell_type": "markdown",
   "id": "67742b14",
   "metadata": {
    "papermill": {
     "duration": 0.013444,
     "end_time": "2024-03-13T14:29:57.269704",
     "exception": false,
     "start_time": "2024-03-13T14:29:57.256260",
     "status": "completed"
    },
    "tags": []
   },
   "source": [
    "# Directory settings"
   ]
  },
  {
   "cell_type": "markdown",
   "id": "1a233084",
   "metadata": {
    "papermill": {
     "duration": 0.012932,
     "end_time": "2024-03-13T14:29:57.295883",
     "exception": false,
     "start_time": "2024-03-13T14:29:57.282951",
     "status": "completed"
    },
    "tags": []
   },
   "source": [
    "# About this notebook\n",
    "\n",
    "The goal of this notebook is to improve the results of the [notebook](https://www.kaggle.com/code/cdeotte/efficientnetb0-starter-lb-0-43#Train-DataLoader) shared by @cdeotte and [@alejopaullier](https://www.kaggle.com/code/alejopaullier/hms-efficientnetb0-pytorch-train), please check them out great notebooks.\n",
    "\n",
    "\n",
    "**Important note**:\n",
    "\n",
    "I shared in the last days a [discussion](https://www.kaggle.com/competitions/hms-harmful-brain-activity-classification/discussion/478474) which was an Improvement of this [notebook](https://www.kaggle.com/code/nischaydnk/hms-submission-1d-eegnet-pipeline-lightning) created by @nischaydnk. The tricks I used were notably changing the optimizer (I used Adan) and I used the two stage training as stated by @seanbearden [here](https://www.kaggle.com/code/seanbearden/effnetb0-2-pop-model-train-twice-lb-0-39) and not using downsampling which worked pretty well.\n",
    "But the two stage training an issue which is data leakage. The idea was to seperate the data with few votes because the kl will hardly penalize the model if it mislabel them. So in my previous experiments I use two groupkfold CV on the two datasets and the samples with few votes are present in both datasets.\n",
    "\n",
    "So in this notebook, I use one CV scheme and in each stage I filter the data then validate on the data that contains both population to prevent data leakage. Let me know in the comment if this approach is correct more info can be found [here](https://www.kaggle.com/competitions/hms-harmful-brain-activity-classification/discussion/477461).\n",
    "\n",
    "As stated [here](https://www.kaggle.com/competitions/hms-harmful-brain-activity-classification/discussion/477498), adding 0.166666667 to the targets will reduce the CV/LB gap.\n",
    "\n",
    "**Consider upvoting this notebook if you find it useful**\n",
    "\n",
    "## Version 1\n",
    "* I train a tf_efficientnet_b0_ns model.\n",
    "\n",
    "### Hyperparams\n",
    "\n",
    "```\n",
    "scheduler='OneCycleLR' \n",
    " # OneCycleLR params\n",
    "  cosanneal_res_params={\n",
    "      'T_0':20,\n",
    "      'eta_min':1e-6,\n",
    "      'T_mult':1,\n",
    "      'last_epoch':-1}\n",
    "  print_freq=50\n",
    "  num_workers = 1\n",
    "  model_name = 'tf_efficientnet_b0_ns'\n",
    "  optimizer='Adam'\n",
    "  stage1_epochs = 5\n",
    "  stage1_epochs = 6\n",
    "  eps = 1e-6\n",
    "  lr = 1e-3\n",
    "  batch_size = 64\n",
    "  weight_decay = 1e-2\n",
    "  seed = 2024\n",
    "```\n",
    "\n",
    "## Version2\n",
    "\n",
    "* I changed the CV sheme, first stage train on all data second stage train on data with `total_evaluators >= 10`\n",
    "* Added Time masking augmentation from [here](https://www.kaggle.com/code/iglovikov/xymasking-aug)."
   ]
  },
  {
   "cell_type": "code",
   "execution_count": 1,
   "id": "727dc3c0",
   "metadata": {
    "execution": {
     "iopub.execute_input": "2024-03-13T14:29:57.324817Z",
     "iopub.status.busy": "2024-03-13T14:29:57.324458Z",
     "iopub.status.idle": "2024-03-13T14:30:17.110335Z",
     "shell.execute_reply": "2024-03-13T14:30:17.109262Z"
    },
    "papermill": {
     "duration": 19.803292,
     "end_time": "2024-03-13T14:30:17.112835",
     "exception": false,
     "start_time": "2024-03-13T14:29:57.309543",
     "status": "completed"
    },
    "tags": []
   },
   "outputs": [
    {
     "name": "stdout",
     "output_type": "stream",
     "text": [
      "Requirement already satisfied: albumentations in /opt/conda/lib/python3.10/site-packages (1.3.1)\r\n",
      "Collecting albumentations\r\n",
      "  Downloading albumentations-1.4.1-py3-none-any.whl.metadata (36 kB)\r\n",
      "Requirement already satisfied: numpy>=1.24.4 in /opt/conda/lib/python3.10/site-packages (from albumentations) (1.24.4)\r\n",
      "Requirement already satisfied: scipy>=1.10.0 in /opt/conda/lib/python3.10/site-packages (from albumentations) (1.11.4)\r\n",
      "Requirement already satisfied: scikit-image>=0.21.0 in /opt/conda/lib/python3.10/site-packages (from albumentations) (0.22.0)\r\n",
      "Requirement already satisfied: PyYAML in /opt/conda/lib/python3.10/site-packages (from albumentations) (6.0.1)\r\n",
      "Requirement already satisfied: typing-extensions>=4.9.0 in /opt/conda/lib/python3.10/site-packages (from albumentations) (4.9.0)\r\n",
      "Collecting scikit-learn>=1.3.2 (from albumentations)\r\n",
      "  Downloading scikit_learn-1.4.1.post1-cp310-cp310-manylinux_2_17_x86_64.manylinux2014_x86_64.whl.metadata (11 kB)\r\n",
      "Requirement already satisfied: opencv-python-headless>=4.9.0 in /opt/conda/lib/python3.10/site-packages (from albumentations) (4.9.0.80)\r\n",
      "Requirement already satisfied: networkx>=2.8 in /opt/conda/lib/python3.10/site-packages (from scikit-image>=0.21.0->albumentations) (3.2.1)\r\n",
      "Requirement already satisfied: pillow>=9.0.1 in /opt/conda/lib/python3.10/site-packages (from scikit-image>=0.21.0->albumentations) (9.5.0)\r\n",
      "Requirement already satisfied: imageio>=2.27 in /opt/conda/lib/python3.10/site-packages (from scikit-image>=0.21.0->albumentations) (2.33.1)\r\n",
      "Requirement already satisfied: tifffile>=2022.8.12 in /opt/conda/lib/python3.10/site-packages (from scikit-image>=0.21.0->albumentations) (2023.12.9)\r\n",
      "Requirement already satisfied: packaging>=21 in /opt/conda/lib/python3.10/site-packages (from scikit-image>=0.21.0->albumentations) (21.3)\r\n",
      "Requirement already satisfied: lazy_loader>=0.3 in /opt/conda/lib/python3.10/site-packages (from scikit-image>=0.21.0->albumentations) (0.3)\r\n",
      "Requirement already satisfied: joblib>=1.2.0 in /opt/conda/lib/python3.10/site-packages (from scikit-learn>=1.3.2->albumentations) (1.3.2)\r\n",
      "Requirement already satisfied: threadpoolctl>=2.0.0 in /opt/conda/lib/python3.10/site-packages (from scikit-learn>=1.3.2->albumentations) (3.2.0)\r\n",
      "Requirement already satisfied: pyparsing!=3.0.5,>=2.0.2 in /opt/conda/lib/python3.10/site-packages (from packaging>=21->scikit-image>=0.21.0->albumentations) (3.1.1)\r\n",
      "Downloading albumentations-1.4.1-py3-none-any.whl (130 kB)\r\n",
      "\u001b[2K   \u001b[90m━━━━━━━━━━━━━━━━━━━━━━━━━━━━━━━━━━━━━━━━\u001b[0m \u001b[32m130.5/130.5 kB\u001b[0m \u001b[31m5.5 MB/s\u001b[0m eta \u001b[36m0:00:00\u001b[0m\r\n",
      "\u001b[?25hDownloading scikit_learn-1.4.1.post1-cp310-cp310-manylinux_2_17_x86_64.manylinux2014_x86_64.whl (12.1 MB)\r\n",
      "\u001b[2K   \u001b[90m━━━━━━━━━━━━━━━━━━━━━━━━━━━━━━━━━━━━━━━━\u001b[0m \u001b[32m12.1/12.1 MB\u001b[0m \u001b[31m78.2 MB/s\u001b[0m eta \u001b[36m0:00:00\u001b[0m\r\n",
      "\u001b[?25hInstalling collected packages: scikit-learn, albumentations\r\n",
      "  Attempting uninstall: scikit-learn\r\n",
      "    Found existing installation: scikit-learn 1.2.2\r\n",
      "    Uninstalling scikit-learn-1.2.2:\r\n",
      "      Successfully uninstalled scikit-learn-1.2.2\r\n",
      "  Attempting uninstall: albumentations\r\n",
      "    Found existing installation: albumentations 1.3.1\r\n",
      "    Uninstalling albumentations-1.3.1:\r\n",
      "      Successfully uninstalled albumentations-1.3.1\r\n",
      "\u001b[31mERROR: pip's dependency resolver does not currently take into account all the packages that are installed. This behaviour is the source of the following dependency conflicts.\r\n",
      "spopt 0.6.0 requires shapely>=2.0.1, but you have shapely 1.8.5.post1 which is incompatible.\u001b[0m\u001b[31m\r\n",
      "\u001b[0mSuccessfully installed albumentations-1.4.1 scikit-learn-1.4.1.post1\r\n"
     ]
    }
   ],
   "source": [
    "!pip install -U albumentations"
   ]
  },
  {
   "cell_type": "code",
   "execution_count": 2,
   "id": "0fc2b2c8",
   "metadata": {
    "_cell_guid": "b1076dfc-b9ad-4769-8c92-a6c4dae69d19",
    "_uuid": "8f2839f25d086af736a60e9eeb907d3b93b6e0e5",
    "execution": {
     "iopub.execute_input": "2024-03-13T14:30:17.145684Z",
     "iopub.status.busy": "2024-03-13T14:30:17.145338Z",
     "iopub.status.idle": "2024-03-13T14:30:17.152950Z",
     "shell.execute_reply": "2024-03-13T14:30:17.152086Z"
    },
    "papermill": {
     "duration": 0.02714,
     "end_time": "2024-03-13T14:30:17.155054",
     "exception": false,
     "start_time": "2024-03-13T14:30:17.127914",
     "status": "completed"
    },
    "tags": []
   },
   "outputs": [],
   "source": [
    "# ====================================================\n",
    "# directory settings\n",
    "# ====================================================\n",
    "\n",
    "import os\n",
    "\n",
    "OUTPUT_DIR = './'\n",
    "if not os.path.exists(OUTPUT_DIR):\n",
    "    os.makedirs(OUTPUT_DIR)\n",
    "    \n",
    "POP_2_DIR = OUTPUT_DIR + 'pop_2_weight_oof/'\n",
    "if not os.path.exists(POP_2_DIR):\n",
    "    os.makedirs(POP_2_DIR)\n",
    "    \n",
    "POP_1_DIR = OUTPUT_DIR + 'pop_1_weight_oof/'\n",
    "if not os.path.exists(POP_1_DIR):\n",
    "    os.makedirs(POP_1_DIR)\n",
    "    \n",
    "PSUEDO_DIR = OUTPUT_DIR + 'psuedo_labels_weights/'\n",
    "if not os.path.exists(PSUEDO_DIR):\n",
    "    os.makedirs(PSUEDO_DIR)"
   ]
  },
  {
   "cell_type": "markdown",
   "id": "af8e1ca4",
   "metadata": {
    "papermill": {
     "duration": 0.015163,
     "end_time": "2024-03-13T14:30:17.185144",
     "exception": false,
     "start_time": "2024-03-13T14:30:17.169981",
     "status": "completed"
    },
    "tags": []
   },
   "source": [
    "# Libraries"
   ]
  },
  {
   "cell_type": "code",
   "execution_count": 3,
   "id": "1aa480d2",
   "metadata": {
    "execution": {
     "iopub.execute_input": "2024-03-13T14:30:17.218486Z",
     "iopub.status.busy": "2024-03-13T14:30:17.218098Z",
     "iopub.status.idle": "2024-03-13T14:30:31.034969Z",
     "shell.execute_reply": "2024-03-13T14:30:31.033301Z"
    },
    "papermill": {
     "duration": 13.837287,
     "end_time": "2024-03-13T14:30:31.038169",
     "exception": false,
     "start_time": "2024-03-13T14:30:17.200882",
     "status": "completed"
    },
    "tags": []
   },
   "outputs": [],
   "source": [
    "import os\n",
    "import gc\n",
    "from glob import glob\n",
    "import sys\n",
    "import math\n",
    "import time\n",
    "import random\n",
    "import shutil\n",
    "from pathlib import Path\n",
    "from typing import Any, Callable, Dict, List, Optional, Tuple, Type, Union\n",
    "from scipy.stats import entropy\n",
    "from scipy.signal import butter, lfilter, freqz\n",
    "from contextlib import contextmanager\n",
    "from collections import defaultdict, Counter\n",
    "sys.path.append('/kaggle/input/kaggle-kl-div')\n",
    "from kaggle_kl_div import score\n",
    "import numpy as np\n",
    "import pandas as pd\n",
    "from sklearn import preprocessing\n",
    "from sklearn.preprocessing import LabelEncoder\n",
    "from sklearn.metrics import accuracy_score, log_loss\n",
    "from tqdm.auto import tqdm\n",
    "from functools import partial\n",
    "import cv2\n",
    "from PIL import Image\n",
    "import torch\n",
    "from torch import Tensor\n",
    "import torch.nn as nn\n",
    "import pytorch_lightning as lg\n",
    "import torch.nn.functional as F\n",
    "from torch.optim import Adam, SGD, AdamW\n",
    "import torchvision.models as models\n",
    "from torch.nn.parameter import Parameter\n",
    "from torch.utils.data import DataLoader, Dataset\n",
    "from torch.optim.lr_scheduler import ReduceLROnPlateau, OneCycleLR, CosineAnnealingLR, CosineAnnealingWarmRestarts\n",
    "from sklearn.preprocessing import LabelEncoder\n",
    "from torchvision.transforms import v2\n",
    "from sklearn.model_selection import GroupKFold\n",
    "from sklearn.model_selection import train_test_split\n",
    "import albumentations as A\n",
    "from albumentations import (Compose, Normalize, Resize, RandomResizedCrop, HorizontalFlip, VerticalFlip, ShiftScaleRotate, Transpose)\n",
    "from albumentations.pytorch import ToTensorV2\n",
    "from albumentations import ImageOnlyTransform\n",
    "import timm\n",
    "import warnings \n",
    "warnings.filterwarnings('ignore')\n",
    "from matplotlib import pyplot as plt\n",
    "import joblib\n",
    "\n",
    "device = torch.device('cuda' if torch.cuda.is_available() else 'cpu')\n",
    "os.environ['CUDA_VISIBLE_DEVICES'] = \"0,1\"\n",
    "VERSION=2\n",
    "\n",
    "# We added the pre-calculated mean and std\n",
    "MEAN = torch.load('/kaggle/input/mean-and-std-spectrograms/mean.pt').numpy()\n",
    "STD = torch.load('/kaggle/input/mean-and-std-spectrograms/std_dev.pt').numpy()\n",
    "\n",
    "# We added the pre-calculated pseudo labels\n",
    "efficentnet_model_psuedo_weights = [x for x in glob(\"/kaggle/input/mixmodel-weights/psuedo_labels_weights/*.pth\")]"
   ]
  },
  {
   "cell_type": "markdown",
   "id": "4797caf7",
   "metadata": {
    "papermill": {
     "duration": 0.01591,
     "end_time": "2024-03-13T14:30:31.069552",
     "exception": false,
     "start_time": "2024-03-13T14:30:31.053642",
     "status": "completed"
    },
    "tags": []
   },
   "source": [
    "# Config"
   ]
  },
  {
   "cell_type": "code",
   "execution_count": 4,
   "id": "da0bbab3",
   "metadata": {
    "execution": {
     "iopub.execute_input": "2024-03-13T14:30:31.102423Z",
     "iopub.status.busy": "2024-03-13T14:30:31.102044Z",
     "iopub.status.idle": "2024-03-13T14:30:31.113208Z",
     "shell.execute_reply": "2024-03-13T14:30:31.112139Z"
    },
    "papermill": {
     "duration": 0.030022,
     "end_time": "2024-03-13T14:30:31.115506",
     "exception": false,
     "start_time": "2024-03-13T14:30:31.085484",
     "status": "completed"
    },
    "tags": []
   },
   "outputs": [],
   "source": [
    "# ====================================================\n",
    "# CFG\n",
    "# ====================================================\n",
    "\n",
    "class CFG:\n",
    "    wandb = False\n",
    "    debug = False\n",
    "    train=True\n",
    "    apex=True\n",
    "    stage1_pop1=True\n",
    "    stage2_pop2=False\n",
    "    VISUALIZE=True\n",
    "    FREEZE=False\n",
    "    SparK=False\n",
    "    scheduler='OneCycleLR' # ['ReduceLROnPlateau', 'CosineAnnealingLR', 'CosineAnnealingWarmRestarts','OneCycleLR']\n",
    "    # CosineAnnealingLR params\n",
    "    cosanneal_params={\n",
    "        'T_max':6,\n",
    "        'eta_min':1e-5,\n",
    "        'last_epoch':-1\n",
    "    }\n",
    "    #ReduceLROnPlateau params\n",
    "    reduce_params={\n",
    "        'mode':'min',\n",
    "        'factor':0.2,\n",
    "        'patience':4,\n",
    "        'eps':1e-6,\n",
    "        'verbose':True\n",
    "    }\n",
    "    # CosineAnnealingWarmRestarts params\n",
    "    cosanneal_res_params={\n",
    "        'T_0':20,\n",
    "        'eta_min':1e-6,\n",
    "        'T_mult':1,\n",
    "        'last_epoch':-1\n",
    "    }\n",
    "    print_freq=50\n",
    "    num_workers = 1\n",
    "    model_name = 'tf_efficientnet_b0_ns'\n",
    "    optimizer='Adan'\n",
    "    epochs = 5\n",
    "    factor = 0.9\n",
    "    patience = 2\n",
    "    eps = 1e-6\n",
    "    lr = 1e-3\n",
    "    min_lr = 1e-6\n",
    "    batch_size = 64\n",
    "    weight_decay = 1e-2\n",
    "    batch_scheduler=True\n",
    "    gradient_accumulation_steps = 1\n",
    "    max_grad_norm = 1e7\n",
    "    seed = 2024\n",
    "    target_cols = ['seizure_vote', 'lpd_vote', 'gpd_vote', 'lrda_vote', 'grda_vote', 'other_vote']\n",
    "    target_size = 6\n",
    "    num_channels = 8\n",
    "    pred_cols = ['pred_seizure_vote', 'pred_lpd_vote', 'pred_gpd_vote', 'pred_lrda_vote', 'pred_grda_vote', 'pred_other_vote']\n",
    "    n_fold = 5\n",
    "    trn_fold = [0, 1, 2, 3, 4]\n",
    "    PATH = '/kaggle/input/hms-harmful-brain-activity-classification/'\n",
    "    data_root = \"/kaggle/input/hms-harmful-brain-activity-classification/train_eegs/\"\n",
    "    raw_eeg_path = \"/kaggle/input/brain-eegs/eegs.npy\""
   ]
  },
  {
   "cell_type": "markdown",
   "id": "30c99439",
   "metadata": {
    "papermill": {
     "duration": 0.0151,
     "end_time": "2024-03-13T14:30:31.145346",
     "exception": false,
     "start_time": "2024-03-13T14:30:31.130246",
     "status": "completed"
    },
    "tags": []
   },
   "source": [
    "# Utils"
   ]
  },
  {
   "cell_type": "code",
   "execution_count": 5,
   "id": "9105d41c",
   "metadata": {
    "execution": {
     "iopub.execute_input": "2024-03-13T14:30:31.177306Z",
     "iopub.status.busy": "2024-03-13T14:30:31.176656Z",
     "iopub.status.idle": "2024-03-13T14:30:31.197032Z",
     "shell.execute_reply": "2024-03-13T14:30:31.196215Z"
    },
    "papermill": {
     "duration": 0.03877,
     "end_time": "2024-03-13T14:30:31.199078",
     "exception": false,
     "start_time": "2024-03-13T14:30:31.160308",
     "status": "completed"
    },
    "tags": []
   },
   "outputs": [],
   "source": [
    "def init_logger(log_file=OUTPUT_DIR+'train.log'):\n",
    "    from logging import getLogger, INFO, FileHandler,  Formatter,  StreamHandler\n",
    "    logger = getLogger(__name__)\n",
    "    logger.setLevel(INFO)\n",
    "    handler1 = StreamHandler()\n",
    "    handler1.setFormatter(Formatter(\"%(message)s\"))\n",
    "    handler2 = FileHandler(filename=log_file)\n",
    "    handler2.setFormatter(Formatter(\"%(message)s\"))\n",
    "    logger.addHandler(handler1)\n",
    "    logger.addHandler(handler2)\n",
    "    return logger\n",
    "\n",
    "LOGGER = init_logger()\n",
    "\n",
    "def get_score(preds, targets):\n",
    "    oof = pd.DataFrame(preds.copy())\n",
    "    oof['id'] = np.arange(len(oof))\n",
    "\n",
    "    true = pd.DataFrame(targets.copy())\n",
    "    true['id'] = np.arange(len(true))\n",
    "\n",
    "    cv = score(solution=true, submission=oof, row_id_column_name='id')\n",
    "    return cv\n",
    "\n",
    "def butter_bandpass(lowcut, highcut, fs, order=5):\n",
    "    return butter(order, [lowcut, highcut], fs=fs, btype='band')\n",
    "\n",
    "def butter_bandpass_filter(data, lowcut, highcut, fs, order=5):\n",
    "    b, a = butter_bandpass(lowcut, highcut, fs, order=order)\n",
    "    y = lfilter(b, a, data)\n",
    "    return y\n",
    "\n",
    "\n",
    "def denoise_filter(x):\n",
    "    # Sample rate and desired cutoff frequencies (in Hz).\n",
    "    fs = 200.0\n",
    "    lowcut = 1.0\n",
    "    highcut = 25.0\n",
    "    \n",
    "    # Filter a noisy signal.\n",
    "    T = 50\n",
    "    nsamples = T * fs\n",
    "    t = np.arange(0, nsamples) / fs\n",
    "    y = butter_bandpass_filter(x, lowcut, highcut, fs, order=6)\n",
    "    y = (y + np.roll(y,-1)+ np.roll(y,-2)+ np.roll(y,-3))/4\n",
    "    y = y[0:-1:4]\n",
    "    \n",
    "    return y\n",
    "\n",
    "class KLDivLossWithLogits(nn.KLDivLoss):\n",
    "\n",
    "    def __init__(self):\n",
    "        super().__init__(reduction=\"batchmean\")\n",
    "\n",
    "    def forward(self, y, t):\n",
    "        y = nn.functional.log_softmax(y,  dim=1)\n",
    "        loss = super().forward(y, t)\n",
    "\n",
    "        return loss\n",
    "\n",
    "def seed_torch(seed=42):\n",
    "    random.seed(seed)\n",
    "    os.environ['PYTHONHASHSEED'] = str(seed)\n",
    "    np.random.seed(seed)\n",
    "    torch.manual_seed(seed)\n",
    "    torch.cuda.manual_seed(seed)\n",
    "    \n",
    "seed_torch(seed=CFG.seed)"
   ]
  },
  {
   "cell_type": "markdown",
   "id": "6f1e58d5",
   "metadata": {
    "papermill": {
     "duration": 0.014078,
     "end_time": "2024-03-13T14:30:31.228045",
     "exception": false,
     "start_time": "2024-03-13T14:30:31.213967",
     "status": "completed"
    },
    "tags": []
   },
   "source": [
    "# Load train data"
   ]
  },
  {
   "cell_type": "code",
   "execution_count": 6,
   "id": "3f0b8fde",
   "metadata": {
    "execution": {
     "iopub.execute_input": "2024-03-13T14:30:31.258408Z",
     "iopub.status.busy": "2024-03-13T14:30:31.258084Z",
     "iopub.status.idle": "2024-03-13T14:30:31.563775Z",
     "shell.execute_reply": "2024-03-13T14:30:31.562685Z"
    },
    "papermill": {
     "duration": 0.32387,
     "end_time": "2024-03-13T14:30:31.566180",
     "exception": false,
     "start_time": "2024-03-13T14:30:31.242310",
     "status": "completed"
    },
    "tags": []
   },
   "outputs": [
    {
     "name": "stdout",
     "output_type": "stream",
     "text": [
      "Train shape: (106800, 15)\n",
      "Targets ['seizure_vote', 'lpd_vote', 'gpd_vote', 'lrda_vote', 'grda_vote', 'other_vote']\n",
      "There are 1950 patients in the training data.\n",
      "There are 17089 EEG IDs in the training data.\n"
     ]
    }
   ],
   "source": [
    "train = pd.read_csv('/kaggle/input/hms-harmful-brain-activity-classification/train.csv')\n",
    "TARGETS = train.columns[-6:]\n",
    "print('Train shape:', train.shape )\n",
    "print('Targets', list(TARGETS))\n",
    "\n",
    "train['total_evaluators'] = train[['seizure_vote', 'lpd_vote', 'gpd_vote', 'lrda_vote', 'grda_vote', 'other_vote']].sum(axis=1)\n",
    "\n",
    "print(f'There are {train.patient_id.nunique()} patients in the training data.')\n",
    "print(f'There are {train.eeg_id.nunique()} EEG IDs in the training data.')"
   ]
  },
  {
   "cell_type": "code",
   "execution_count": 7,
   "id": "1d37743c",
   "metadata": {
    "execution": {
     "iopub.execute_input": "2024-03-13T14:30:31.599692Z",
     "iopub.status.busy": "2024-03-13T14:30:31.598890Z",
     "iopub.status.idle": "2024-03-13T14:30:31.887570Z",
     "shell.execute_reply": "2024-03-13T14:30:31.886686Z"
    },
    "papermill": {
     "duration": 0.308103,
     "end_time": "2024-03-13T14:30:31.889957",
     "exception": false,
     "start_time": "2024-03-13T14:30:31.581854",
     "status": "completed"
    },
    "tags": []
   },
   "outputs": [
    {
     "data": {
      "image/png": "[encoded data removed]",
      "text/plain": [
       "<Figure size 1000x600 with 1 Axes>"
      ]
     },
     "metadata": {},
     "output_type": "display_data"
    }
   ],
   "source": [
    "plt.figure(figsize=(10, 6))\n",
    "plt.hist(train['total_evaluators'], bins=10, color='blue', edgecolor='black')\n",
    "plt.title('Histogram of Total Evaluators')\n",
    "plt.xlabel('Total Evaluators')\n",
    "plt.ylabel('Frequency')\n",
    "plt.grid(True)\n",
    "plt.show()"
   ]
  },
  {
   "cell_type": "code",
   "execution_count": 8,
   "id": "4d606a89",
   "metadata": {
    "execution": {
     "iopub.execute_input": "2024-03-13T14:30:31.922483Z",
     "iopub.status.busy": "2024-03-13T14:30:31.921650Z",
     "iopub.status.idle": "2024-03-13T14:31:31.106868Z",
     "shell.execute_reply": "2024-03-13T14:31:31.105712Z"
    },
    "papermill": {
     "duration": 59.219489,
     "end_time": "2024-03-13T14:31:31.124740",
     "exception": false,
     "start_time": "2024-03-13T14:30:31.905251",
     "status": "completed"
    },
    "tags": []
   },
   "outputs": [
    {
     "name": "stdout",
     "output_type": "stream",
     "text": [
      "CPU times: user 3.39 s, sys: 6.64 s, total: 10 s\n",
      "Wall time: 59.2 s\n"
     ]
    }
   ],
   "source": [
    "%%time\n",
    "spectrograms = np.load('/kaggle/input/brain-spectrograms/specs.npy', allow_pickle=True).item()"
   ]
  },
  {
   "cell_type": "code",
   "execution_count": 9,
   "id": "944cd6fa",
   "metadata": {
    "execution": {
     "iopub.execute_input": "2024-03-13T14:31:31.158334Z",
     "iopub.status.busy": "2024-03-13T14:31:31.157847Z",
     "iopub.status.idle": "2024-03-13T14:32:58.143332Z",
     "shell.execute_reply": "2024-03-13T14:32:58.142306Z"
    },
    "papermill": {
     "duration": 87.021956,
     "end_time": "2024-03-13T14:32:58.162882",
     "exception": false,
     "start_time": "2024-03-13T14:31:31.140926",
     "status": "completed"
    },
    "tags": []
   },
   "outputs": [
    {
     "name": "stdout",
     "output_type": "stream",
     "text": [
      "CPU times: user 6.33 s, sys: 10.9 s, total: 17.3 s\n",
      "Wall time: 1min 26s\n"
     ]
    }
   ],
   "source": [
    "%%time\n",
    "all_eegs = np.load('/kaggle/input/eeg-spectrogram-by-lead-id-unique/eeg_specs.npy',allow_pickle=True).item()"
   ]
  },
  {
   "cell_type": "markdown",
   "id": "88c51d1b",
   "metadata": {
    "papermill": {
     "duration": 0.015658,
     "end_time": "2024-03-13T14:32:58.278662",
     "exception": false,
     "start_time": "2024-03-13T14:32:58.263004",
     "status": "completed"
    },
    "tags": []
   },
   "source": [
    "# Deduplicate Train EEG Id"
   ]
  },
  {
   "cell_type": "code",
   "execution_count": 12,
   "id": "5e3bfa02",
   "metadata": {
    "execution": {
     "iopub.execute_input": "2024-03-13T14:32:58.311022Z",
     "iopub.status.busy": "2024-03-13T14:32:58.310633Z",
     "iopub.status.idle": "2024-03-13T14:32:58.871356Z",
     "shell.execute_reply": "2024-03-13T14:32:58.870336Z"
    },
    "papermill": {
     "duration": 0.579701,
     "end_time": "2024-03-13T14:32:58.873764",
     "exception": false,
     "start_time": "2024-03-13T14:32:58.294063",
     "status": "completed"
    },
    "tags": []
   },
   "outputs": [
    {
     "data": {
      "image/png": "[encoded data removed]",
      "text/plain": [
       "<Figure size 1000x600 with 1 Axes>"
      ]
     },
     "metadata": {},
     "output_type": "display_data"
    }
   ],
   "source": [
    "train = train[train['label_id'].isin(all_eegs.keys())].copy()\n",
    "\n",
    "# Implentation for pseudo labels\n",
    "mask = train['total_evaluators'] < 10\n",
    "\n",
    "pseudo_labels = np.load('/kaggle/input/mixmodel-weights/pseudo_labels.npy')\n",
    "pseudo_labels = F.softmax(torch.tensor(pseudo_labels), dim=1).numpy()\n",
    "\n",
    "y_data = train[TARGETS].values + np.multiply(np.expand_dims(mask, axis=1), pseudo_labels)\n",
    "\n",
    "# y_data = train[TARGETS].values +  0.166666667 # Regularization value # We removed this from the code, as it did not improve the LB scores and used pseudo labels instead.\n",
    "y_data = y_data / y_data.sum(axis=1,keepdims=True)\n",
    "train[TARGETS] = y_data\n",
    "\n",
    "train['target'] = train['expert_consensus']\n",
    "\n",
    "train = train.reset_index(drop=True)\n",
    "\n",
    "plt.figure(figsize=(10, 6))\n",
    "plt.hist(train['total_evaluators'], bins=10, color='blue', edgecolor='black')\n",
    "plt.title('Histogram of Total Evaluators')\n",
    "plt.xlabel('Total Evaluators')\n",
    "plt.ylabel('Frequency')\n",
    "plt.grid(True)\n",
    "plt.show()\n",
    "\n",
    "del y_data\n",
    "_ = gc.collect()"
   ]
  },
  {
   "cell_type": "markdown",
   "id": "72603f1d",
   "metadata": {
    "papermill": {
     "duration": 0.016178,
     "end_time": "2024-03-13T14:32:58.906412",
     "exception": false,
     "start_time": "2024-03-13T14:32:58.890234",
     "status": "completed"
    },
    "tags": []
   },
   "source": [
    "# CV Scheme"
   ]
  },
  {
   "cell_type": "code",
   "execution_count": 13,
   "id": "59d08243",
   "metadata": {
    "execution": {
     "iopub.execute_input": "2024-03-13T14:32:58.940792Z",
     "iopub.status.busy": "2024-03-13T14:32:58.940161Z",
     "iopub.status.idle": "2024-03-13T14:32:59.199994Z",
     "shell.execute_reply": "2024-03-13T14:32:59.198879Z"
    },
    "papermill": {
     "duration": 0.280182,
     "end_time": "2024-03-13T14:32:59.202642",
     "exception": false,
     "start_time": "2024-03-13T14:32:58.922460",
     "status": "completed"
    },
    "tags": []
   },
   "outputs": [],
   "source": [
    "gkf = GroupKFold(n_splits=CFG.n_fold)\n",
    "\n",
    "train[\"fold\"] = -1\n",
    "\n",
    "for fold_id, (_, val_idx) in enumerate(\n",
    "    gkf.split(train, y=train[\"target\"], groups=train[\"patient_id\"])\n",
    "):\n",
    "    train.loc[val_idx, \"fold\"] = fold_id\n",
    "    \n",
    "del gkf\n",
    "_ = gc.collect()"
   ]
  },
  {
   "cell_type": "markdown",
   "id": "36c33103",
   "metadata": {
    "papermill": {
     "duration": 0.015856,
     "end_time": "2024-03-13T14:32:59.288410",
     "exception": false,
     "start_time": "2024-03-13T14:32:59.272554",
     "status": "completed"
    },
    "tags": []
   },
   "source": [
    "# Dataset"
   ]
  },
  {
   "cell_type": "code",
   "execution_count": 14,
   "id": "a24dc652",
   "metadata": {
    "execution": {
     "iopub.execute_input": "2024-03-13T14:32:59.322297Z",
     "iopub.status.busy": "2024-03-13T14:32:59.321580Z",
     "iopub.status.idle": "2024-03-13T14:32:59.341935Z",
     "shell.execute_reply": "2024-03-13T14:32:59.340910Z"
    },
    "papermill": {
     "duration": 0.04007,
     "end_time": "2024-03-13T14:32:59.344096",
     "exception": false,
     "start_time": "2024-03-13T14:32:59.304026",
     "status": "completed"
    },
    "tags": []
   },
   "outputs": [],
   "source": [
    "class CustomDataset(Dataset):\n",
    "    def __init__(\n",
    "        self, df: pd.DataFrame,\n",
    "        augment: bool = False, mode: str = 'train',\n",
    "        specs: Dict[int, np.ndarray] = spectrograms,\n",
    "        eeg_specs: Dict[int, np.ndarray] = all_eegs\n",
    "    ): \n",
    "        self.df = df\n",
    "        self.augment = augment\n",
    "        self.mode = mode\n",
    "        self.spectograms = spectrograms\n",
    "        self.eeg_spectograms = eeg_specs\n",
    "        \n",
    "    def __len__(self):\n",
    "        \"\"\"\n",
    "        Denotes the number of batches per epoch.\n",
    "        \"\"\"\n",
    "        return len(self.df)\n",
    "        \n",
    "    def __getitem__(self, index):\n",
    "        \"\"\"\n",
    "        Generate one batch of data.\n",
    "        \"\"\"\n",
    "        X, y = self.__data_generation(index)\n",
    "        if self.augment:\n",
    "            X = self.__transform(X) \n",
    "        return {\"spectrogram\":torch.tensor(X, dtype=torch.float32), \"labels\":torch.tensor(y, dtype=torch.float32)}\n",
    "                        \n",
    "    def __data_generation(self, index):\n",
    "        \"\"\"\n",
    "        Generates data containing batch_size samples.\n",
    "        \"\"\"\n",
    "        X = np.zeros((128, 256, 8), dtype='float32')\n",
    "        y = np.zeros(6, dtype='float32')\n",
    "        img = np.ones((128,256), dtype='float32')\n",
    "        row = self.df.iloc[index]\n",
    "        if self.mode=='test': \n",
    "            r = 0\n",
    "        else: \n",
    "            r = int(row['spectrogram_label_offset_seconds'] // 2)\n",
    "            \n",
    "        for region in range(4):\n",
    "            img = self.spectograms[row.spectrogram_id][r:r+300, region*100:(region+1)*100].T\n",
    "            \n",
    "            # Log transform spectogram\n",
    "            img = np.clip(img, np.exp(-4), np.exp(8))\n",
    "            img = np.log(img)\n",
    "\n",
    "            # Remove local normalization\n",
    "#             # Standarize per image\n",
    "#             ep = 1e-6\n",
    "#             mu = np.nanmean(img.flatten())\n",
    "#             std = np.nanstd(img.flatten())\n",
    "#             img = (img-mu)/(std+ep)\n",
    "\n",
    "            img = np.nan_to_num(img, nan=0.0)\n",
    "            X[14:-14, :, region] = img[:, 22:-22] / 2.0\n",
    "            img = self.eeg_spectograms[row.label_id]\n",
    "            X[:, :, 4:] = img\n",
    "            \n",
    "        if self.mode != 'test':\n",
    "            y = row[TARGETS].values.astype(np.float32)\n",
    "        \n",
    "        # Added global normalization\n",
    "        ep = 1e-6\n",
    "        X = (X - MEAN) / (STD+ep)\n",
    "        X = np.nan_to_num(X, nan=0.0)\n",
    "        \n",
    "        return X, y\n",
    "    \n",
    "    def __transform(self, img):\n",
    "        params1 = {\n",
    "                    \"num_masks_x\": 1,    \n",
    "                    \"mask_x_length\": (0, 20), # This line changed from fixed  to a range\n",
    "                    \"fill_value\": (0, 1, 2, 3, 4, 5, 6, 7),\n",
    "                    }\n",
    "        params2 = {    \n",
    "                    \"num_masks_y\": 1,    \n",
    "                    \"mask_y_length\": (0, 20),\n",
    "                    \"fill_value\": (0, 1, 2, 3, 4, 5, 6, 7),    \n",
    "                    }\n",
    "        params3 = {    \n",
    "                    \"num_masks_x\": (2, 4),\n",
    "                    \"num_masks_y\": 5,    \n",
    "                    \"mask_y_length\": 8,\n",
    "                    \"mask_x_length\": (10, 20),\n",
    "                    \"fill_value\": (0, 1, 2, 3, 4, 5, 6, 7),  \n",
    "                    }\n",
    "        \n",
    "        transforms = A.Compose([\n",
    "            A.XYMasking(**params1, p=0.3),\n",
    "            A.XYMasking(**params2, p=0.3),\n",
    "            A.XYMasking(**params3, p=0.3),\n",
    "        ])\n",
    "        return transforms(image=img)['image']"
   ]
  },
  {
   "cell_type": "markdown",
   "id": "497f2feb",
   "metadata": {
    "papermill": {
     "duration": 0.016952,
     "end_time": "2024-03-13T14:32:59.378379",
     "exception": false,
     "start_time": "2024-03-13T14:32:59.361427",
     "status": "completed"
    },
    "tags": []
   },
   "source": [
    "# Dataloader"
   ]
  },
  {
   "cell_type": "code",
   "execution_count": 15,
   "id": "ed28a8b6",
   "metadata": {
    "execution": {
     "iopub.execute_input": "2024-03-13T14:32:59.412066Z",
     "iopub.status.busy": "2024-03-13T14:32:59.411684Z",
     "iopub.status.idle": "2024-03-13T14:32:59.416235Z",
     "shell.execute_reply": "2024-03-13T14:32:59.415276Z"
    },
    "papermill": {
     "duration": 0.023818,
     "end_time": "2024-03-13T14:32:59.418355",
     "exception": false,
     "start_time": "2024-03-13T14:32:59.394537",
     "status": "completed"
    },
    "tags": []
   },
   "outputs": [],
   "source": [
    "# dataset = CustomDataset(train, augment=True, mode=\"train\")\n",
    "# dataloader = DataLoader(dataset, batch_size=32, shuffle=False)\n",
    "\n",
    "# batch = dataset[4]\n",
    "# X, y = batch[\"spectrogram\"], batch[\"labels\"]\n",
    "# print(f\"X shape: {X.shape}\")\n",
    "# print(f\"y shape: {y.shape}\")\n",
    "\n",
    "# plt.imshow(X[:,:,0])\n",
    "\n",
    "# del dataset, X, y\n",
    "# _ = gc.collect()"
   ]
  },
  {
   "cell_type": "code",
   "execution_count": 16,
   "id": "69628a4f",
   "metadata": {
    "execution": {
     "iopub.execute_input": "2024-03-13T14:32:59.451505Z",
     "iopub.status.busy": "2024-03-13T14:32:59.450949Z",
     "iopub.status.idle": "2024-03-13T14:32:59.455883Z",
     "shell.execute_reply": "2024-03-13T14:32:59.455006Z"
    },
    "papermill": {
     "duration": 0.023417,
     "end_time": "2024-03-13T14:32:59.457827",
     "exception": false,
     "start_time": "2024-03-13T14:32:59.434410",
     "status": "completed"
    },
    "tags": []
   },
   "outputs": [],
   "source": [
    "# Creation of global mean and std\n",
    "\n",
    "# dataset = CustomDataset(train, augment=False, mode=\"test\")\n",
    "# dataloader = DataLoader(dataset, batch_size=128, shuffle=False, drop_last=False)\n",
    "\n",
    "# batch = dataset[0]\n",
    "# X, y = batch[\"spectrogram\"], batch[\"labels\"]\n",
    "\n",
    "# total_sum_mean = torch.zeros(X.shape)\n",
    "# total_samples_mean = 0\n",
    "\n",
    "# total_sum_var = torch.zeros(X.shape)\n",
    "# total_samples_var = 0\n",
    "\n",
    "# for i, batch in enumerate(dataloader):\n",
    "#     if i%10==0: print(i, end=\", \")\n",
    "#     X = batch[\"spectrogram\"]\n",
    "    \n",
    "#     total_sum_mean += torch.sum(X, dim=0)\n",
    "#     total_samples_mean += X.size(0)\n",
    "\n",
    "# # Compute mean\n",
    "# mean = total_sum_mean / total_samples_mean\n",
    "# torch.save(mean, 'mean.pt')\n",
    "\n",
    "# for i, batch in enumerate(dataloader):\n",
    "#     if i%10==0: print(i, end=\", \")\n",
    "#     X = batch[\"spectrogram\"]\n",
    "    \n",
    "#     total_sum_var += torch.sum((X - mean) ** 2, dim=0)\n",
    "#     total_samples_var += X.size(0)\n",
    "    \n",
    "# std_dev = torch.sqrt(total_sum_var / total_samples_var)\n",
    "# torch.save(std_dev, 'std_dev.pt')  "
   ]
  },
  {
   "cell_type": "code",
   "execution_count": 17,
   "id": "ebe4621c",
   "metadata": {
    "execution": {
     "iopub.execute_input": "2024-03-13T14:32:59.491605Z",
     "iopub.status.busy": "2024-03-13T14:32:59.491286Z",
     "iopub.status.idle": "2024-03-13T14:32:59.496143Z",
     "shell.execute_reply": "2024-03-13T14:32:59.495263Z"
    },
    "papermill": {
     "duration": 0.0241,
     "end_time": "2024-03-13T14:32:59.498157",
     "exception": false,
     "start_time": "2024-03-13T14:32:59.474057",
     "status": "completed"
    },
    "tags": []
   },
   "outputs": [],
   "source": [
    "# if CFG.VISUALIZE:\n",
    "#     ROWS = 2\n",
    "#     COLS = 3\n",
    "#     for batch in dataloader:\n",
    "#         X, y = batch[\"spectrogram\"], batch[\"labels\"]\n",
    "#         plt.figure(figsize=(20,8))\n",
    "#         for row in range(ROWS):\n",
    "#             for col in range(COLS):\n",
    "#                 plt.subplot(ROWS, COLS, row*COLS + col+1)\n",
    "#                 t = y[row*COLS + col]\n",
    "#                 img = X[row*COLS + col, :, :, 0]\n",
    "#                 mn = img.flatten().min()\n",
    "#                 mx = img.flatten().max()\n",
    "#                 img = (img-mn)/(mx-mn)\n",
    "#                 plt.imshow(img)\n",
    "#                 tars = f'[{t[0]:0.2f}'\n",
    "#                 for s in t[1:]:\n",
    "#                     tars += f', {s:0.2f}'\n",
    "#                 eeg = train.eeg_id.values[row*CFG.batch_size + row*COLS + col]\n",
    "#                 plt.title(f'EEG = {eeg}\\nTarget = {tars}',size=12)\n",
    "#                 plt.yticks([])\n",
    "#                 plt.ylabel('Frequencies (Hz)',size=14)\n",
    "#                 plt.xlabel('Time (sec)',size=16)\n",
    "#         plt.show()\n",
    "#         break\n",
    "        \n",
    "# del dataloader\n",
    "# _ = gc.collect()"
   ]
  },
  {
   "cell_type": "markdown",
   "id": "96f0e0e7",
   "metadata": {
    "papermill": {
     "duration": 0.016387,
     "end_time": "2024-03-13T14:32:59.531665",
     "exception": false,
     "start_time": "2024-03-13T14:32:59.515278",
     "status": "completed"
    },
    "tags": []
   },
   "source": [
    "# Model"
   ]
  },
  {
   "cell_type": "code",
   "execution_count": 18,
   "id": "5854e049",
   "metadata": {
    "execution": {
     "iopub.execute_input": "2024-03-13T14:32:59.569270Z",
     "iopub.status.busy": "2024-03-13T14:32:59.568315Z",
     "iopub.status.idle": "2024-03-13T14:32:59.582083Z",
     "shell.execute_reply": "2024-03-13T14:32:59.581198Z"
    },
    "papermill": {
     "duration": 0.035755,
     "end_time": "2024-03-13T14:32:59.584413",
     "exception": false,
     "start_time": "2024-03-13T14:32:59.548658",
     "status": "completed"
    },
    "tags": []
   },
   "outputs": [],
   "source": [
    "class CustomModel(nn.Module):\n",
    "    def __init__(self, config, num_classes: int = 6, pretrained: bool = True):\n",
    "        super(CustomModel, self).__init__()\n",
    "        self.USE_KAGGLE_SPECTROGRAMS = True\n",
    "        self.USE_EEG_SPECTROGRAMS = True\n",
    "        self.model = timm.create_model(\n",
    "            config.model_name,\n",
    "            pretrained=pretrained,\n",
    "        )\n",
    "        if config.FREEZE:\n",
    "            for i,(name, param) in enumerate(list(self.model.named_parameters())\\\n",
    "                                             [0:config.NUM_FROZEN_LAYERS]):\n",
    "                param.requires_grad = False\n",
    "\n",
    "        self.features = nn.Sequential(*list(self.model.children())[:-2])\n",
    "        self.custom_layers = nn.Sequential(\n",
    "            nn.AdaptiveAvgPool2d(1),\n",
    "            nn.Flatten(),\n",
    "            nn.Linear(self.model.num_features, num_classes)\n",
    "        )\n",
    "\n",
    "    def __reshape_input(self, x):\n",
    "        \"\"\"\n",
    "        Reshapes input (128, 256, 8) -> (512, 512, 3) monotone image.\n",
    "        \"\"\" \n",
    "        # === Get spectograms ===\n",
    "        spectograms = [x[:, :, :, i:i+1] for i in range(4)]\n",
    "        spectograms = torch.cat(spectograms, dim=1)\n",
    "        \n",
    "        # === Get EEG spectograms ===\n",
    "        eegs = [x[:, :, :, i:i+1] for i in range(4,8)]\n",
    "        eegs = torch.cat(eegs, dim=1)\n",
    "        \n",
    "        # === Reshape (512,512,3) ===\n",
    "        if self.USE_KAGGLE_SPECTROGRAMS & self.USE_EEG_SPECTROGRAMS:\n",
    "            x = torch.cat([spectograms, eegs], dim=2)\n",
    "        elif self.USE_EEG_SPECTROGRAMS:\n",
    "            x = eegs\n",
    "        else:\n",
    "            x = spectograms\n",
    "            \n",
    "        x = torch.cat([x,x,x], dim=3)\n",
    "        x = x.permute(0, 3, 1, 2)\n",
    "        return x\n",
    "    \n",
    "    def forward(self, x):\n",
    "        x = self.__reshape_input(x)\n",
    "        x = self.features(x)\n",
    "        x = self.custom_layers(x)\n",
    "        return x"
   ]
  },
  {
   "cell_type": "code",
   "execution_count": 19,
   "id": "badd6f8e",
   "metadata": {
    "execution": {
     "iopub.execute_input": "2024-03-13T14:32:59.622618Z",
     "iopub.status.busy": "2024-03-13T14:32:59.621573Z",
     "iopub.status.idle": "2024-03-13T14:32:59.626448Z",
     "shell.execute_reply": "2024-03-13T14:32:59.625449Z"
    },
    "papermill": {
     "duration": 0.026553,
     "end_time": "2024-03-13T14:32:59.628642",
     "exception": false,
     "start_time": "2024-03-13T14:32:59.602089",
     "status": "completed"
    },
    "tags": []
   },
   "outputs": [],
   "source": [
    "# iot = torch.randn(2, 128, 256, 8)\n",
    "# model = CustomModel(CFG)\n",
    "# output = model(iot)\n",
    "# print(output.shape)\n",
    "\n",
    "# del iot, model, output\n",
    "# gc.collect()\n",
    "# torch.cuda.empty_cache()"
   ]
  },
  {
   "cell_type": "code",
   "execution_count": 20,
   "id": "9490e45d",
   "metadata": {
    "execution": {
     "iopub.execute_input": "2024-03-13T14:32:59.664727Z",
     "iopub.status.busy": "2024-03-13T14:32:59.664338Z",
     "iopub.status.idle": "2024-03-13T14:32:59.670427Z",
     "shell.execute_reply": "2024-03-13T14:32:59.669418Z"
    },
    "papermill": {
     "duration": 0.026834,
     "end_time": "2024-03-13T14:32:59.672529",
     "exception": false,
     "start_time": "2024-03-13T14:32:59.645695",
     "status": "completed"
    },
    "tags": []
   },
   "outputs": [],
   "source": [
    "# Creation of pseudo labels\n",
    "\n",
    "# dataset = CustomDataset(train, augment=False, mode=\"train\")\n",
    "# data_loader = DataLoader(dataset, batch_size=128, shuffle=False)\n",
    "\n",
    "# softmax = nn.Softmax(dim=1)\n",
    "\n",
    "# def generate_pseudo_labels(model, data_loader):\n",
    "#     pseudo_labels = []\n",
    "#     for batch in data_loader:\n",
    "#         X, y = batch[\"spectrogram\"].to(device), batch[\"labels\"].to(device)\n",
    "#         with torch.no_grad():\n",
    "#             outputs = model(X)\n",
    "#             outputs = softmax(outputs)\n",
    "        \n",
    "#         pseudo_labels.append(outputs.detach().cpu().numpy())  \n",
    "#     pseudo_labels = np.concatenate(pseudo_labels, axis=0)\n",
    "#     return pseudo_labels\n",
    "\n",
    "\n",
    "# pseudo_labels_folds = []\n",
    "\n",
    "# for weights in efficentnet_model_psuedo_weights:\n",
    "#     model = CustomModel(CFG)\n",
    "\n",
    "#     checkpoint = torch.load(weights, map_location=device)\n",
    "#     model.load_state_dict(checkpoint[\"model\"])\n",
    "    \n",
    "#     model.to(device)\n",
    "#     model.eval()\n",
    "    \n",
    "#     pseudo_labels = generate_pseudo_labels(model, data_loader)\n",
    "#     pseudo_labels_folds.append(pseudo_labels)\n",
    "    \n",
    "#     del model\n",
    "#     gc.collect()\n",
    "#     torch.cuda.empty_cache()\n",
    "\n",
    "# mean_pseudo_labels = np.mean(pseudo_labels_folds, axis=0)\n",
    "# np.save('pseudo_labels.npy', mean_pseudo_labels)"
   ]
  },
  {
   "cell_type": "markdown",
   "id": "ee1d32be",
   "metadata": {
    "papermill": {
     "duration": 0.016793,
     "end_time": "2024-03-13T14:32:59.706241",
     "exception": false,
     "start_time": "2024-03-13T14:32:59.689448",
     "status": "completed"
    },
    "tags": []
   },
   "source": [
    "# Adan Optimizer"
   ]
  },
  {
   "cell_type": "code",
   "execution_count": 21,
   "id": "7c2b6ef4",
   "metadata": {
    "execution": {
     "iopub.execute_input": "2024-03-13T14:32:59.741881Z",
     "iopub.status.busy": "2024-03-13T14:32:59.741533Z",
     "iopub.status.idle": "2024-03-13T14:32:59.769997Z",
     "shell.execute_reply": "2024-03-13T14:32:59.769111Z"
    },
    "papermill": {
     "duration": 0.049017,
     "end_time": "2024-03-13T14:32:59.772157",
     "exception": false,
     "start_time": "2024-03-13T14:32:59.723140",
     "status": "completed"
    },
    "tags": []
   },
   "outputs": [],
   "source": [
    "import math\n",
    "import torch\n",
    "from torch.optim.optimizer import Optimizer\n",
    "\n",
    "\n",
    "class Adan(Optimizer):\n",
    "    \"\"\"\n",
    "    Implements a pytorch variant of Adan\n",
    "    Adan was proposed in\n",
    "    Adan: Adaptive Nesterov Momentum Algorithm for Faster Optimizing Deep Models[J]. arXiv preprint arXiv:2208.06677, 2022.\n",
    "    https://arxiv.org/abs/2208.06677\n",
    "    Arguments:\n",
    "        params (iterable): iterable of parameters to optimize or dicts defining parameter groups.\n",
    "        lr (float, optional): learning rate. (default: 1e-3)\n",
    "        betas (Tuple[float, float, flot], optional): coefficients used for computing \n",
    "            running averages of gradient and its norm. (default: (0.98, 0.92, 0.99))\n",
    "        eps (float, optional): term added to the denominator to improve \n",
    "            numerical stability. (default: 1e-8)\n",
    "        weight_decay (float, optional): decoupled weight decay (L2 penalty) (default: 0)\n",
    "        max_grad_norm (float, optional): value used to clip \n",
    "            global grad norm (default: 0.0 no clip)\n",
    "        no_prox (bool): how to perform the decoupled weight decay (default: False)\n",
    "    \"\"\"\n",
    "\n",
    "    def __init__(self, params, lr=1e-3, betas=(0.98, 0.92, 0.99), eps=1e-8,\n",
    "                 weight_decay=0.2, max_grad_norm=0.0, no_prox=False):\n",
    "        if not 0.0 <= max_grad_norm:\n",
    "            raise ValueError(\"Invalid Max grad norm: {}\".format(max_grad_norm))\n",
    "        if not 0.0 <= lr:\n",
    "            raise ValueError(\"Invalid learning rate: {}\".format(lr))\n",
    "        if not 0.0 <= eps:\n",
    "            raise ValueError(\"Invalid epsilon value: {}\".format(eps))\n",
    "        if not 0.0 <= betas[0] < 1.0:\n",
    "            raise ValueError(\"Invalid beta parameter at index 0: {}\".format(betas[0]))\n",
    "        if not 0.0 <= betas[1] < 1.0:\n",
    "            raise ValueError(\"Invalid beta parameter at index 1: {}\".format(betas[1]))\n",
    "        if not 0.0 <= betas[2] < 1.0:\n",
    "            raise ValueError(\"Invalid beta parameter at index 2: {}\".format(betas[2]))\n",
    "        defaults = dict(lr=lr, betas=betas, eps=eps,\n",
    "                        weight_decay=weight_decay,\n",
    "                        max_grad_norm=max_grad_norm, no_prox=no_prox)\n",
    "        super(Adan, self).__init__(params, defaults)\n",
    "\n",
    "    def __setstate__(self, state):\n",
    "        super(Adan, self).__setstate__(state)\n",
    "        for group in self.param_groups:\n",
    "            group.setdefault('no_prox', False)\n",
    "\n",
    "    @torch.no_grad()\n",
    "    def restart_opt(self):\n",
    "        for group in self.param_groups:\n",
    "            group['step'] = 0\n",
    "            for p in group['params']:\n",
    "                if p.requires_grad:\n",
    "                    state = self.state[p]\n",
    "                    # State initialization\n",
    "\n",
    "                    # Exponential moving average of gradient values\n",
    "                    state['exp_avg'] = torch.zeros_like(p)\n",
    "                    # Exponential moving average of squared gradient values\n",
    "                    state['exp_avg_sq'] = torch.zeros_like(p)\n",
    "                    # Exponential moving average of gradient difference\n",
    "                    state['exp_avg_diff'] = torch.zeros_like(p)\n",
    "\n",
    "    @torch.no_grad()\n",
    "    def step(self):\n",
    "        \"\"\"\n",
    "            Performs a single optimization step.\n",
    "        \"\"\"\n",
    "        if self.defaults['max_grad_norm'] > 0:\n",
    "            device = self.param_groups[0]['params'][0].device\n",
    "            global_grad_norm = torch.zeros(1, device=device)\n",
    "\n",
    "            max_grad_norm = torch.tensor(self.defaults['max_grad_norm'], device=device)\n",
    "            for group in self.param_groups:\n",
    "\n",
    "                for p in group['params']:\n",
    "                    if p.grad is not None:\n",
    "                        grad = p.grad\n",
    "                        global_grad_norm.add_(grad.pow(2).sum())\n",
    "\n",
    "            global_grad_norm = torch.sqrt(global_grad_norm)\n",
    "\n",
    "            clip_global_grad_norm = torch.clamp(max_grad_norm / (global_grad_norm + group['eps']), max=1.0)\n",
    "        else:\n",
    "            clip_global_grad_norm = 1.0\n",
    "\n",
    "        for group in self.param_groups:\n",
    "            beta1, beta2, beta3 = group['betas']\n",
    "            # assume same step across group now to simplify things\n",
    "            # per parameter step can be easily support by making it tensor, or pass list into kernel\n",
    "            if 'step' in group:\n",
    "                group['step'] += 1\n",
    "            else:\n",
    "                group['step'] = 1\n",
    "\n",
    "            bias_correction1 = 1.0 - beta1 ** group['step']\n",
    "\n",
    "            bias_correction2 = 1.0 - beta2 ** group['step']\n",
    "\n",
    "            bias_correction3 = 1.0 - beta3 ** group['step']\n",
    "\n",
    "            for p in group['params']:\n",
    "                if p.grad is None:\n",
    "                    continue\n",
    "\n",
    "                state = self.state[p]\n",
    "                if len(state) == 0:\n",
    "                    state['exp_avg'] = torch.zeros_like(p)\n",
    "                    state['exp_avg_sq'] = torch.zeros_like(p)\n",
    "                    state['exp_avg_diff'] = torch.zeros_like(p)\n",
    "\n",
    "                grad = p.grad.mul_(clip_global_grad_norm)\n",
    "                if 'pre_grad' not in state or group['step'] == 1:\n",
    "                    state['pre_grad'] = grad\n",
    "\n",
    "                copy_grad = grad.clone()\n",
    "\n",
    "                exp_avg, exp_avg_sq, exp_avg_diff = state['exp_avg'], state['exp_avg_sq'], state['exp_avg_diff']\n",
    "                diff = grad - state['pre_grad']\n",
    "\n",
    "                update = grad + beta2 * diff\n",
    "                exp_avg.mul_(beta1).add_(grad, alpha=1 - beta1)  # m_t\n",
    "                exp_avg_diff.mul_(beta2).add_(diff, alpha=1 - beta2)  # diff_t\n",
    "                exp_avg_sq.mul_(beta3).addcmul_(update, update, value=1 - beta3)  # n_t\n",
    "\n",
    "                denom = ((exp_avg_sq).sqrt() / math.sqrt(bias_correction3)).add_(group['eps'])\n",
    "                update = ((exp_avg / bias_correction1 + beta2 * exp_avg_diff / bias_correction2)).div_(denom)\n",
    "\n",
    "                if group['no_prox']:\n",
    "                    p.data.mul_(1 - group['lr'] * group['weight_decay'])\n",
    "                    p.add_(update, alpha=-group['lr'])\n",
    "                else:\n",
    "                    p.add_(update, alpha=-group['lr'])\n",
    "                    p.data.div_(1 + group['lr'] * group['weight_decay'])\n",
    "\n",
    "                state['pre_grad'] = copy_grad"
   ]
  },
  {
   "cell_type": "markdown",
   "id": "e41da32c",
   "metadata": {
    "papermill": {
     "duration": 0.016546,
     "end_time": "2024-03-13T14:32:59.805354",
     "exception": false,
     "start_time": "2024-03-13T14:32:59.788808",
     "status": "completed"
    },
    "tags": []
   },
   "source": [
    "# Helper functions"
   ]
  },
  {
   "cell_type": "code",
   "execution_count": 22,
   "id": "fe9b0a6a",
   "metadata": {
    "execution": {
     "iopub.execute_input": "2024-03-13T14:32:59.840606Z",
     "iopub.status.busy": "2024-03-13T14:32:59.839956Z",
     "iopub.status.idle": "2024-03-13T14:32:59.864374Z",
     "shell.execute_reply": "2024-03-13T14:32:59.863355Z"
    },
    "papermill": {
     "duration": 0.044735,
     "end_time": "2024-03-13T14:32:59.866498",
     "exception": false,
     "start_time": "2024-03-13T14:32:59.821763",
     "status": "completed"
    },
    "tags": []
   },
   "outputs": [],
   "source": [
    "# ====================================================\n",
    "# Helper functions\n",
    "# ====================================================\n",
    "class AverageMeter(object):\n",
    "    \"\"\"Computes and stores the average and current value\"\"\"\n",
    "    def __init__(self):\n",
    "        self.reset()\n",
    "\n",
    "    def reset(self):\n",
    "        self.val = 0\n",
    "        self.avg = 0\n",
    "        self.sum = 0\n",
    "        self.count = 0\n",
    "\n",
    "    def update(self, val, n=1):\n",
    "        self.val = val\n",
    "        self.sum += val * n\n",
    "        self.count += n\n",
    "        self.avg = self.sum / self.count\n",
    "\n",
    "\n",
    "def asMinutes(s):\n",
    "    m = math.floor(s / 60)\n",
    "    s -= m * 60\n",
    "    return '%dm %ds' % (m, s)\n",
    "\n",
    "\n",
    "def timeSince(since, percent):\n",
    "    now = time.time()\n",
    "    s = now - since\n",
    "    es = s / (percent)\n",
    "    rs = es - s\n",
    "    return '%s (remain %s)' % (asMinutes(s), asMinutes(rs))\n",
    "\n",
    "\n",
    "def train_fn(fold, train_loader, model, criterion, optimizer, epoch, scheduler, device):\n",
    "    model.train()\n",
    "    scaler = torch.cuda.amp.GradScaler(enabled=CFG.apex)\n",
    "    losses = AverageMeter()\n",
    "    start = end = time.time()\n",
    "    global_step = 0\n",
    "    for step, batch in enumerate(train_loader):\n",
    "        spectrogram = batch['spectrogram'].to(device)\n",
    "        labels = batch['labels'].to(device)\n",
    "        batch_size = labels.size(0)\n",
    "        with torch.cuda.amp.autocast(enabled=CFG.apex):\n",
    "            y_preds= model(spectrogram)\n",
    "            loss = criterion(F.log_softmax(y_preds, dim=1), labels)\n",
    "        if CFG.gradient_accumulation_steps > 1:\n",
    "            loss = loss / CFG.gradient_accumulation_steps\n",
    "        losses.update(loss.item(), batch_size)\n",
    "        scaler.scale(loss).backward()\n",
    "        \n",
    "        grad_norm = torch.nn.utils.clip_grad_norm_(model.parameters(), CFG.max_grad_norm)\n",
    "        if (step + 1) % CFG.gradient_accumulation_steps == 0:\n",
    "            scaler.step(optimizer)\n",
    "            scaler.update()\n",
    "            optimizer.zero_grad()\n",
    "            global_step += 1\n",
    "            if CFG.batch_scheduler:\n",
    "                scheduler.step()\n",
    "        end = time.time()\n",
    "        if step % CFG.print_freq == 0 or step == (len(train_loader)-1):\n",
    "            print('Epoch: [{0}][{1}/{2}] '\n",
    "                  'Elapsed {remain:s} '\n",
    "                  'Loss: {loss.val:.4f}({loss.avg:.4f}) '\n",
    "                  'Grad: {grad_norm:.4f}  '\n",
    "                  'LR: {lr:.8f}  '\n",
    "                  .format(epoch+1, step, len(train_loader), \n",
    "                          remain=timeSince(start, float(step+1)/len(train_loader)),\n",
    "                          loss=losses,\n",
    "                          grad_norm=grad_norm,\n",
    "                          lr=scheduler.get_lr()[0]))\n",
    "        if CFG.wandb:\n",
    "            wandb.log({f\"[fold{fold}] loss\": losses.val,\n",
    "                       f\"[fold{fold}] lr\": scheduler.get_lr()[0]})\n",
    "    return losses.avg\n",
    "\n",
    "\n",
    "def valid_fn(valid_loader, model, criterion, device):\n",
    "    losses = AverageMeter()\n",
    "    model.eval()\n",
    "    preds = []\n",
    "    start = end = time.time()\n",
    "    for step, batch in enumerate(valid_loader):\n",
    "        spectrogram = batch['spectrogram'].to(device)\n",
    "        labels = batch['labels'].to(device)\n",
    "        batch_size = labels.size(0)\n",
    "        with torch.no_grad():\n",
    "            y_preds = model(spectrogram)\n",
    "            loss = criterion(F.log_softmax(y_preds, dim=1), labels)\n",
    "        if CFG.gradient_accumulation_steps > 1:\n",
    "            loss = loss / CFG.gradient_accumulation_steps\n",
    "        losses.update(loss.item(), batch_size)\n",
    "        preds.append(nn.Softmax(dim=1)(y_preds).to('cpu').numpy())\n",
    "        end = time.time()\n",
    "        if step % CFG.print_freq == 0 or step == (len(valid_loader)-1):\n",
    "            print('EVAL: [{0}/{1}] '\n",
    "                  'Elapsed {remain:s} '\n",
    "                  'Loss: {loss.val:.4f}({loss.avg:.4f}) '\n",
    "                  .format(step, len(valid_loader),\n",
    "                          loss=losses,\n",
    "                          remain=timeSince(start, float(step+1)/len(valid_loader))))\n",
    "    predictions = np.concatenate(preds)\n",
    "    return losses.avg, predictions"
   ]
  },
  {
   "cell_type": "markdown",
   "id": "61622262",
   "metadata": {
    "papermill": {
     "duration": 0.01624,
     "end_time": "2024-03-13T14:32:59.898879",
     "exception": false,
     "start_time": "2024-03-13T14:32:59.882639",
     "status": "completed"
    },
    "tags": []
   },
   "source": [
    "# Train Loop"
   ]
  },
  {
   "cell_type": "code",
   "execution_count": 23,
   "id": "20c2cfd1",
   "metadata": {
    "execution": {
     "iopub.execute_input": "2024-03-13T14:32:59.933976Z",
     "iopub.status.busy": "2024-03-13T14:32:59.933549Z",
     "iopub.status.idle": "2024-03-13T14:32:59.961155Z",
     "shell.execute_reply": "2024-03-13T14:32:59.960136Z"
    },
    "papermill": {
     "duration": 0.047862,
     "end_time": "2024-03-13T14:32:59.963228",
     "exception": false,
     "start_time": "2024-03-13T14:32:59.915366",
     "status": "completed"
    },
    "tags": []
   },
   "outputs": [],
   "source": [
    "# ====================================================\n",
    "# train loop\n",
    "# ====================================================\n",
    "def train_loop(folds, fold, directory):\n",
    "    \n",
    "    LOGGER.info(f\"========== fold: {fold} training ==========\")\n",
    "\n",
    "    # ====================================================\n",
    "    # loader\n",
    "    # ====================================================\n",
    "    if CFG.stage1_pop1:\n",
    "        train_folds = folds[(folds['fold'] != fold)].reset_index(drop=True)\n",
    "    else:\n",
    "        train_folds = folds[(folds['fold'] != fold) & (folds['total_evaluators'] >= 10)].reset_index(drop=True)\n",
    "    valid_folds = folds[folds['fold'] == fold].reset_index(drop=True)\n",
    "    valid_labels = valid_folds[ CFG.target_cols].values\n",
    "    \n",
    "    train_dataset = CustomDataset(train_folds, augment=True, mode=\"train\")\n",
    "    valid_dataset = CustomDataset(valid_folds, augment=False, mode=\"train\")\n",
    "\n",
    "    train_loader = DataLoader(train_dataset,\n",
    "                              batch_size=CFG.batch_size,\n",
    "                              shuffle=True,\n",
    "                              num_workers=CFG.num_workers, pin_memory=True, drop_last=True)\n",
    "    valid_loader = DataLoader(valid_dataset,\n",
    "                              batch_size=CFG.batch_size * 2,\n",
    "                              shuffle=False,\n",
    "                              num_workers=CFG.num_workers, pin_memory=True, drop_last=False)\n",
    "\n",
    "    # ====================================================\n",
    "    # model & optimizer\n",
    "    # ====================================================\n",
    "    model = CustomModel(CFG)\n",
    "\n",
    "    if CFG.stage2_pop2:\n",
    "        model_weight = POP_1_DIR + f\"{CFG.model_name}_fold{fold}_best_version{VERSION}_stage1.pth\"\n",
    "        checkpoint = torch.load(model_weight, map_location=device)\n",
    "        model.load_state_dict(checkpoint[\"model\"])\n",
    "    # CPMP: wrap the model to use all GPUs\n",
    "    #model = nn.DataParallel(model, device_ids=[0, 1])\n",
    "    model.to(device)\n",
    "    \n",
    "    def build_optimizer(cfg, model, device):\n",
    "        lr = cfg.lr\n",
    "        # lr = default_configs[\"lr\"]\n",
    "        if cfg.optimizer == \"SAM\":\n",
    "            base_optimizer = torch.optim.SGD  # define an optimizer for the \"sharpness-aware\" update\n",
    "            optimizer_model = SAM(model.parameters(), base_optimizer, lr=lr, momentum=0.9, weight_decay=cfg.weight_decay, adaptive=True)\n",
    "        elif cfg.optimizer == \"Ranger21\":\n",
    "            optimizer_model = Ranger21(model.parameters(), lr=lr, weight_decay=cfg.weight_decay, \n",
    "            num_epochs=cfg.epochs, num_batches_per_epoch=len(train_loader))\n",
    "        elif cfg.optimizer == \"SGD\":\n",
    "            optimizer_model = torch.optim.SGD(model.parameters(), lr=lr, weight_decay=cfg.weight_decay, momentum=0.9)\n",
    "        elif cfg.optimizer == \"Adam\":\n",
    "            optimizer_model = Adam(model.parameters(), lr=lr, weight_decay=CFG.weight_decay)\n",
    "        elif cfg.optimizer == \"Lion\":\n",
    "            optimizer_model = Lion(model.parameters(), lr=lr, weight_decay=cfg.weight_decay)\n",
    "        elif cfg.optimizer == \"Adan\":\n",
    "            optimizer_model = Adan(model.parameters(), lr=lr, weight_decay=cfg.weight_decay)\n",
    "    \n",
    "        return optimizer_model\n",
    "    \n",
    "    optimizer = build_optimizer(CFG, model, device)\n",
    "    \n",
    "    # ====================================================\n",
    "    # scheduler\n",
    "    # ====================================================\n",
    "    # ====================================================\n",
    "\n",
    "    def get_scheduler(optimizer):\n",
    "        if CFG.scheduler=='ReduceLROnPlateau':\n",
    "            scheduler = ReduceLROnPlateau(optimizer, **CFG.reduce_params)\n",
    "        elif CFG.scheduler=='CosineAnnealingLR':\n",
    "            scheduler = CosineAnnealingLR(optimizer, **CFG.cosanneal_params)\n",
    "        elif CFG.scheduler=='CosineAnnealingWarmRestarts':\n",
    "            scheduler = CosineAnnealingWarmRestarts(optimizer, **CFG.cosanneal_res_params)\n",
    "        elif CFG.scheduler=='OneCycleLR':\n",
    "            steps_per_epoch=len(train_loader),\n",
    "            scheduler = OneCycleLR(optimizer=optimizer, epochs=CFG.epochs, anneal_strategy=\"cos\", pct_start=0.05, steps_per_epoch=len(train_loader),\n",
    "        max_lr=CFG.lr, final_div_factor=100)\n",
    "        return scheduler\n",
    "    \n",
    "    scheduler = get_scheduler(optimizer)\n",
    "\n",
    "    # ====================================================\n",
    "    # loop\n",
    "    # ====================================================\n",
    "    criterion = nn.KLDivLoss(reduction=\"batchmean\")\n",
    "    best_score = np.inf\n",
    "\n",
    "    for epoch in range(CFG.epochs):\n",
    "\n",
    "        start_time = time.time()\n",
    "\n",
    "        # train\n",
    "        avg_loss = train_fn(fold, train_loader, model, criterion, optimizer, epoch, scheduler, device)\n",
    "\n",
    "        # eval\n",
    "        avg_val_loss, predictions = valid_fn(valid_loader, model, criterion, device)\n",
    "\n",
    "        elapsed = time.time() - start_time\n",
    "\n",
    "        LOGGER.info(f'Epoch {epoch+1} - avg_train_loss: {avg_loss:.4f}  avg_val_loss: {avg_val_loss:.4f}  time: {elapsed:.0f}s')\n",
    "        if CFG.wandb:\n",
    "            wandb.log({f\"[fold{fold}] epoch\": epoch+1, \n",
    "                       f\"[fold{fold}] avg_train_loss\": avg_loss, \n",
    "                       f\"[fold{fold}] avg_val_loss\": avg_val_loss,\n",
    "                       f\"[fold{fold}] score\": score})\n",
    "        \n",
    "        if best_score > avg_val_loss:\n",
    "            best_score = avg_val_loss\n",
    "            LOGGER.info(f'Epoch {epoch+1} - Save Best valid loss: {avg_val_loss:.4f} Model')\n",
    "            # CPMP: save the original model. It is stored as the module attribute of the DP model.\n",
    "            if CFG.stage1_pop1:\n",
    "                \n",
    "                torch.save({'model': model.state_dict(),\n",
    "                            'predictions': predictions},\n",
    "                             directory+f\"{CFG.model_name}_fold{fold}_best_version{VERSION}_stage1.pth\")\n",
    "            else:\n",
    "                \n",
    "                torch.save({'model': model.state_dict(),\n",
    "                            'predictions': predictions},\n",
    "                             directory+f\"{CFG.model_name}_fold{fold}_best_version{VERSION}_stage2.pth\")\n",
    "                \n",
    "    if CFG.stage1_pop1:\n",
    "        predictions = torch.load(directory+f\"{CFG.model_name}_fold{fold}_best_version{VERSION}_stage1.pth\", \n",
    "                             map_location=torch.device('cpu'))['predictions']\n",
    "    else:\n",
    "        predictions = torch.load(directory+f\"{CFG.model_name}_fold{fold}_best_version{VERSION}_stage2.pth\", \n",
    "                             map_location=torch.device('cpu'))['predictions']\n",
    "    valid_folds[[f\"pred_{c}\" for c in CFG.target_cols]] = predictions\n",
    "    valid_folds[CFG.target_cols] = valid_labels \n",
    "    torch.cuda.empty_cache()\n",
    "    gc.collect()\n",
    "    \n",
    "    return valid_folds, best_score"
   ]
  },
  {
   "cell_type": "code",
   "execution_count": 24,
   "id": "c0663bb3",
   "metadata": {
    "execution": {
     "iopub.execute_input": "2024-03-13T14:32:59.996722Z",
     "iopub.status.busy": "2024-03-13T14:32:59.996408Z",
     "iopub.status.idle": "2024-03-13T17:28:45.935450Z",
     "shell.execute_reply": "2024-03-13T17:28:45.934522Z"
    },
    "papermill": {
     "duration": 10545.95872,
     "end_time": "2024-03-13T17:28:45.938029",
     "exception": false,
     "start_time": "2024-03-13T14:32:59.979309",
     "status": "completed"
    },
    "tags": []
   },
   "outputs": [
    {
     "name": "stderr",
     "output_type": "stream",
     "text": [
      "========== fold: 0 training ==========\n"
     ]
    },
    {
     "data": {
      "application/vnd.jupyter.widget-view+json": {
       "model_id": "b5e38a4663fe4fde9eb76dcd29dcadb6",
       "version_major": 2,
       "version_minor": 0
      },
      "text/plain": [
       "model.safetensors:   0%|          | 0.00/21.4M [00:00<?, ?B/s]"
      ]
     },
     "metadata": {},
     "output_type": "display_data"
    },
    {
     "name": "stdout",
     "output_type": "stream",
     "text": [
      "Epoch: [1][0/172] Elapsed 0m 5s (remain 15m 28s) Loss: 0.7470(0.7470) Grad: 60499.4102  LR: 0.00004134  \n",
      "Epoch: [1][50/172] Elapsed 1m 57s (remain 4m 38s) Loss: 0.4591(0.5853) Grad: 57693.6602  LR: 0.00099970  \n",
      "Epoch: [1][100/172] Elapsed 3m 48s (remain 2m 40s) Loss: 0.3142(0.4887) Grad: 102339.8438  LR: 0.00098719  \n",
      "Epoch: [1][150/172] Elapsed 5m 40s (remain 0m 47s) Loss: 0.4475(0.4395) Grad: 55302.7070  LR: 0.00095674  \n",
      "Epoch: [1][171/172] Elapsed 6m 27s (remain 0m 0s) Loss: 0.3113(0.4265) Grad: 47721.4258  LR: 0.00093884  \n",
      "EVAL: [0/32] Elapsed 0m 2s (remain 1m 15s) Loss: 0.5028(0.5028) \n",
      "EVAL: [31/32] Elapsed 0m 37s (remain 0m 0s) Loss: 0.5268(0.4650) \n"
     ]
    },
    {
     "name": "stderr",
     "output_type": "stream",
     "text": [
      "Epoch 1 - avg_train_loss: 0.4265  avg_val_loss: 0.4650  time: 425s\n",
      "Epoch 1 - Save Best valid loss: 0.4650 Model\n"
     ]
    },
    {
     "name": "stdout",
     "output_type": "stream",
     "text": [
      "Epoch: [2][0/172] Elapsed 0m 3s (remain 8m 51s) Loss: 0.2558(0.2558) Grad: 56965.0703  LR: 0.00093792  \n",
      "Epoch: [2][50/172] Elapsed 1m 54s (remain 4m 32s) Loss: 0.2981(0.2746) Grad: 48929.9805  LR: 0.00088375  \n",
      "Epoch: [2][100/172] Elapsed 3m 46s (remain 2m 39s) Loss: 0.1916(0.2805) Grad: 35432.9961  LR: 0.00081546  \n",
      "Epoch: [2][150/172] Elapsed 5m 38s (remain 0m 47s) Loss: 0.2827(0.2766) Grad: 59563.1641  LR: 0.00073554  \n",
      "Epoch: [2][171/172] Elapsed 6m 25s (remain 0m 0s) Loss: 0.2478(0.2724) Grad: 45181.0820  LR: 0.00069921  \n",
      "EVAL: [0/32] Elapsed 0m 2s (remain 1m 2s) Loss: 0.4570(0.4570) \n",
      "EVAL: [31/32] Elapsed 0m 38s (remain 0m 0s) Loss: 0.4838(0.4104) \n"
     ]
    },
    {
     "name": "stderr",
     "output_type": "stream",
     "text": [
      "Epoch 2 - avg_train_loss: 0.2724  avg_val_loss: 0.4104  time: 425s\n",
      "Epoch 2 - Save Best valid loss: 0.4104 Model\n"
     ]
    },
    {
     "name": "stdout",
     "output_type": "stream",
     "text": [
      "Epoch: [3][0/172] Elapsed 0m 3s (remain 8m 57s) Loss: 0.2733(0.2733) Grad: 72752.2656  LR: 0.00069744  \n",
      "Epoch: [3][50/172] Elapsed 1m 54s (remain 4m 32s) Loss: 0.2034(0.2248) Grad: 44067.7734  LR: 0.00060606  \n",
      "Epoch: [3][100/172] Elapsed 3m 46s (remain 2m 39s) Loss: 0.2116(0.2264) Grad: 46995.4883  LR: 0.00051077  \n",
      "Epoch: [3][150/172] Elapsed 5m 38s (remain 0m 47s) Loss: 0.1878(0.2232) Grad: 48631.8398  LR: 0.00041509  \n",
      "Epoch: [3][171/172] Elapsed 6m 25s (remain 0m 0s) Loss: 0.2595(0.2223) Grad: 45187.5859  LR: 0.00037564  \n",
      "EVAL: [0/32] Elapsed 0m 1s (remain 1m 0s) Loss: 0.4656(0.4656) \n",
      "EVAL: [31/32] Elapsed 0m 37s (remain 0m 0s) Loss: 0.4886(0.4141) \n"
     ]
    },
    {
     "name": "stderr",
     "output_type": "stream",
     "text": [
      "Epoch 3 - avg_train_loss: 0.2223  avg_val_loss: 0.4141  time: 423s\n"
     ]
    },
    {
     "name": "stdout",
     "output_type": "stream",
     "text": [
      "Epoch: [4][0/172] Elapsed 0m 3s (remain 8m 53s) Loss: 0.1965(0.1965) Grad: 58626.6758  LR: 0.00037378  \n",
      "Epoch: [4][50/172] Elapsed 1m 54s (remain 4m 32s) Loss: 0.2180(0.1898) Grad: 69197.2422  LR: 0.00028372  \n",
      "Epoch: [4][100/172] Elapsed 3m 46s (remain 2m 39s) Loss: 0.2147(0.1850) Grad: 45777.7852  LR: 0.00020163  \n",
      "Epoch: [4][150/172] Elapsed 5m 38s (remain 0m 47s) Loss: 0.1857(0.1836) Grad: 56518.5703  LR: 0.00013054  \n",
      "Epoch: [4][171/172] Elapsed 6m 25s (remain 0m 0s) Loss: 0.1716(0.1812) Grad: 63646.4727  LR: 0.00010461  \n",
      "EVAL: [0/32] Elapsed 0m 2s (remain 1m 3s) Loss: 0.4451(0.4451) \n",
      "EVAL: [31/32] Elapsed 0m 38s (remain 0m 0s) Loss: 0.4435(0.3993) \n"
     ]
    },
    {
     "name": "stderr",
     "output_type": "stream",
     "text": [
      "Epoch 4 - avg_train_loss: 0.1812  avg_val_loss: 0.3993  time: 424s\n",
      "Epoch 4 - Save Best valid loss: 0.3993 Model\n"
     ]
    },
    {
     "name": "stdout",
     "output_type": "stream",
     "text": [
      "Epoch: [5][0/172] Elapsed 0m 3s (remain 9m 1s) Loss: 0.1454(0.1454) Grad: 73117.8750  LR: 0.00010344  \n",
      "Epoch: [5][50/172] Elapsed 1m 54s (remain 4m 32s) Loss: 0.1021(0.1636) Grad: 52726.6055  LR: 0.00005267  \n",
      "Epoch: [5][100/172] Elapsed 3m 46s (remain 2m 39s) Loss: 0.1577(0.1580) Grad: 37147.4375  LR: 0.00001840  \n",
      "Epoch: [5][150/172] Elapsed 5m 38s (remain 0m 47s) Loss: 0.1637(0.1592) Grad: 64907.2109  LR: 0.00000188  \n",
      "Epoch: [5][171/172] Elapsed 6m 25s (remain 0m 0s) Loss: 0.2072(0.1598) Grad: 38980.3281  LR: 0.00000040  \n",
      "EVAL: [0/32] Elapsed 0m 2s (remain 1m 2s) Loss: 0.4389(0.4389) \n",
      "EVAL: [31/32] Elapsed 0m 38s (remain 0m 0s) Loss: 0.4574(0.4038) \n"
     ]
    },
    {
     "name": "stderr",
     "output_type": "stream",
     "text": [
      "Epoch 5 - avg_train_loss: 0.1598  avg_val_loss: 0.4038  time: 425s\n",
      "========== fold: 0 result ==========\n",
      "Score with best loss weights stage1: 0.3992754304234805\n",
      "========== fold: 1 training ==========\n"
     ]
    },
    {
     "name": "stdout",
     "output_type": "stream",
     "text": [
      "Epoch: [1][0/170] Elapsed 0m 3s (remain 9m 54s) Loss: 0.7398(0.7398) Grad: 60033.1172  LR: 0.00004137  \n",
      "Epoch: [1][50/170] Elapsed 1m 55s (remain 4m 29s) Loss: 0.4668(0.6006) Grad: 50335.4570  LR: 0.00099966  \n",
      "Epoch: [1][100/170] Elapsed 3m 46s (remain 2m 35s) Loss: 0.2787(0.4988) Grad: 43097.0469  LR: 0.00098667  \n",
      "Epoch: [1][150/170] Elapsed 5m 38s (remain 0m 42s) Loss: 0.2640(0.4481) Grad: 44785.9531  LR: 0.00095533  \n",
      "Epoch: [1][169/170] Elapsed 6m 20s (remain 0m 0s) Loss: 0.2922(0.4314) Grad: 47946.5586  LR: 0.00093883  \n",
      "EVAL: [0/32] Elapsed 0m 2s (remain 1m 15s) Loss: 0.4004(0.4004) \n",
      "EVAL: [31/32] Elapsed 0m 38s (remain 0m 0s) Loss: 0.4174(0.4656) \n"
     ]
    },
    {
     "name": "stderr",
     "output_type": "stream",
     "text": [
      "Epoch 1 - avg_train_loss: 0.4314  avg_val_loss: 0.4656  time: 420s\n",
      "Epoch 1 - Save Best valid loss: 0.4656 Model\n"
     ]
    },
    {
     "name": "stdout",
     "output_type": "stream",
     "text": [
      "Epoch: [2][0/170] Elapsed 0m 3s (remain 8m 47s) Loss: 0.3368(0.3368) Grad: 79117.6172  LR: 0.00093790  \n",
      "Epoch: [2][50/170] Elapsed 1m 54s (remain 4m 28s) Loss: 0.3522(0.2972) Grad: 49907.8711  LR: 0.00088300  \n",
      "Epoch: [2][100/170] Elapsed 3m 46s (remain 2m 34s) Loss: 0.2814(0.2847) Grad: 44948.0625  LR: 0.00081366  \n",
      "Epoch: [2][150/170] Elapsed 5m 38s (remain 0m 42s) Loss: 0.2881(0.2795) Grad: 47436.6289  LR: 0.00073250  \n",
      "Epoch: [2][169/170] Elapsed 6m 20s (remain 0m 0s) Loss: 0.3155(0.2769) Grad: 53819.4141  LR: 0.00069919  \n",
      "EVAL: [0/32] Elapsed 0m 2s (remain 1m 2s) Loss: 0.3286(0.3286) \n",
      "EVAL: [31/32] Elapsed 0m 38s (remain 0m 0s) Loss: 0.3222(0.3868) \n"
     ]
    },
    {
     "name": "stderr",
     "output_type": "stream",
     "text": [
      "Epoch 2 - avg_train_loss: 0.2769  avg_val_loss: 0.3868  time: 420s\n",
      "Epoch 2 - Save Best valid loss: 0.3868 Model\n"
     ]
    },
    {
     "name": "stdout",
     "output_type": "stream",
     "text": [
      "Epoch: [3][0/170] Elapsed 0m 3s (remain 8m 47s) Loss: 0.1960(0.1960) Grad: 43943.0312  LR: 0.00069740  \n",
      "Epoch: [3][50/170] Elapsed 1m 54s (remain 4m 27s) Loss: 0.3204(0.2285) Grad: 50099.1953  LR: 0.00060491  \n",
      "Epoch: [3][100/170] Elapsed 3m 46s (remain 2m 34s) Loss: 0.1956(0.2222) Grad: 42328.3750  LR: 0.00050846  \n",
      "Epoch: [3][150/170] Elapsed 5m 38s (remain 0m 42s) Loss: 0.2660(0.2231) Grad: 50740.0391  LR: 0.00041171  \n",
      "Epoch: [3][169/170] Elapsed 6m 20s (remain 0m 0s) Loss: 0.2033(0.2206) Grad: 36734.5938  LR: 0.00037562  \n",
      "EVAL: [0/32] Elapsed 0m 2s (remain 1m 2s) Loss: 0.3530(0.3530) \n",
      "EVAL: [31/32] Elapsed 0m 38s (remain 0m 0s) Loss: 0.3361(0.3896) \n"
     ]
    },
    {
     "name": "stderr",
     "output_type": "stream",
     "text": [
      "Epoch 3 - avg_train_loss: 0.2206  avg_val_loss: 0.3896  time: 420s\n"
     ]
    },
    {
     "name": "stdout",
     "output_type": "stream",
     "text": [
      "Epoch: [4][0/170] Elapsed 0m 3s (remain 8m 51s) Loss: 0.1857(0.1857) Grad: 45136.9570  LR: 0.00037374  \n",
      "Epoch: [4][50/170] Elapsed 1m 54s (remain 4m 28s) Loss: 0.1643(0.1872) Grad: 36707.1719  LR: 0.00028266  \n",
      "Epoch: [4][100/170] Elapsed 3m 46s (remain 2m 34s) Loss: 0.1895(0.1876) Grad: 50595.9180  LR: 0.00019978  \n",
      "Epoch: [4][150/170] Elapsed 5m 38s (remain 0m 42s) Loss: 0.2224(0.1848) Grad: 45625.1602  LR: 0.00012823  \n",
      "Epoch: [4][169/170] Elapsed 6m 20s (remain 0m 0s) Loss: 0.1782(0.1841) Grad: 49248.9531  LR: 0.00010460  \n",
      "EVAL: [0/32] Elapsed 0m 1s (remain 1m 1s) Loss: 0.3438(0.3438) \n",
      "EVAL: [31/32] Elapsed 0m 36s (remain 0m 0s) Loss: 0.3634(0.3932) \n"
     ]
    },
    {
     "name": "stderr",
     "output_type": "stream",
     "text": [
      "Epoch 4 - avg_train_loss: 0.1841  avg_val_loss: 0.3932  time: 419s\n"
     ]
    },
    {
     "name": "stdout",
     "output_type": "stream",
     "text": [
      "Epoch: [5][0/170] Elapsed 0m 3s (remain 8m 51s) Loss: 0.1994(0.1994) Grad: 51117.7539  LR: 0.00010341  \n",
      "Epoch: [5][50/170] Elapsed 1m 54s (remain 4m 28s) Loss: 0.1721(0.1637) Grad: 43356.3281  LR: 0.00005215  \n",
      "Epoch: [5][100/170] Elapsed 3m 46s (remain 2m 34s) Loss: 0.1340(0.1638) Grad: 36949.4609  LR: 0.00001779  \n",
      "Epoch: [5][150/170] Elapsed 5m 38s (remain 0m 42s) Loss: 0.1780(0.1632) Grad: 60452.6875  LR: 0.00000163  \n",
      "Epoch: [5][169/170] Elapsed 6m 20s (remain 0m 0s) Loss: 0.1511(0.1631) Grad: 44303.9648  LR: 0.00000040  \n",
      "EVAL: [0/32] Elapsed 0m 2s (remain 1m 3s) Loss: 0.3571(0.3571) \n",
      "EVAL: [31/32] Elapsed 0m 37s (remain 0m 0s) Loss: 0.3723(0.4029) \n"
     ]
    },
    {
     "name": "stderr",
     "output_type": "stream",
     "text": [
      "Epoch 5 - avg_train_loss: 0.1631  avg_val_loss: 0.4029  time: 419s\n",
      "========== fold: 1 result ==========\n",
      "Score with best loss weights stage1: 0.38682517318522425\n",
      "========== fold: 2 training ==========\n"
     ]
    },
    {
     "name": "stdout",
     "output_type": "stream",
     "text": [
      "Epoch: [1][0/170] Elapsed 0m 3s (remain 9m 52s) Loss: 0.7929(0.7929) Grad: 62887.6211  LR: 0.00004137  \n",
      "Epoch: [1][50/170] Elapsed 1m 55s (remain 4m 29s) Loss: 0.5296(0.6134) Grad: 56368.3359  LR: 0.00099966  \n",
      "Epoch: [1][100/170] Elapsed 3m 46s (remain 2m 35s) Loss: 0.3498(0.5012) Grad: 82183.6406  LR: 0.00098667  \n",
      "Epoch: [1][150/170] Elapsed 5m 38s (remain 0m 42s) Loss: 0.2586(0.4488) Grad: 47889.0820  LR: 0.00095533  \n",
      "Epoch: [1][169/170] Elapsed 6m 20s (remain 0m 0s) Loss: 0.3115(0.4327) Grad: 77326.8047  LR: 0.00093883  \n",
      "EVAL: [0/32] Elapsed 0m 2s (remain 1m 12s) Loss: 0.5499(0.5499) \n",
      "EVAL: [31/32] Elapsed 0m 36s (remain 0m 0s) Loss: 0.5123(0.4635) \n"
     ]
    },
    {
     "name": "stderr",
     "output_type": "stream",
     "text": [
      "Epoch 1 - avg_train_loss: 0.4327  avg_val_loss: 0.4635  time: 418s\n",
      "Epoch 1 - Save Best valid loss: 0.4635 Model\n"
     ]
    },
    {
     "name": "stdout",
     "output_type": "stream",
     "text": [
      "Epoch: [2][0/170] Elapsed 0m 3s (remain 8m 52s) Loss: 0.2661(0.2661) Grad: 49908.7422  LR: 0.00093790  \n",
      "Epoch: [2][50/170] Elapsed 1m 54s (remain 4m 28s) Loss: 0.2279(0.2884) Grad: 42651.0234  LR: 0.00088300  \n",
      "Epoch: [2][100/170] Elapsed 3m 46s (remain 2m 34s) Loss: 0.2448(0.2805) Grad: 37572.1328  LR: 0.00081366  \n",
      "Epoch: [2][150/170] Elapsed 5m 38s (remain 0m 42s) Loss: 0.2278(0.2745) Grad: 61722.1992  LR: 0.00073250  \n",
      "Epoch: [2][169/170] Elapsed 6m 20s (remain 0m 0s) Loss: 0.2833(0.2732) Grad: 51802.6328  LR: 0.00069919  \n",
      "EVAL: [0/32] Elapsed 0m 2s (remain 1m 3s) Loss: 0.4745(0.4745) \n",
      "EVAL: [31/32] Elapsed 0m 39s (remain 0m 0s) Loss: 0.4118(0.4109) \n"
     ]
    },
    {
     "name": "stderr",
     "output_type": "stream",
     "text": [
      "Epoch 2 - avg_train_loss: 0.2732  avg_val_loss: 0.4109  time: 421s\n",
      "Epoch 2 - Save Best valid loss: 0.4109 Model\n"
     ]
    },
    {
     "name": "stdout",
     "output_type": "stream",
     "text": [
      "Epoch: [3][0/170] Elapsed 0m 3s (remain 9m 3s) Loss: 0.2748(0.2748) Grad: 59920.0586  LR: 0.00069740  \n",
      "Epoch: [3][50/170] Elapsed 1m 54s (remain 4m 28s) Loss: 0.1965(0.2280) Grad: 42780.5742  LR: 0.00060491  \n",
      "Epoch: [3][100/170] Elapsed 3m 46s (remain 2m 34s) Loss: 0.2530(0.2251) Grad: 71315.2969  LR: 0.00050846  \n",
      "Epoch: [3][150/170] Elapsed 5m 38s (remain 0m 42s) Loss: 0.2325(0.2209) Grad: 50296.3242  LR: 0.00041171  \n",
      "Epoch: [3][169/170] Elapsed 6m 20s (remain 0m 0s) Loss: 0.2260(0.2214) Grad: 41924.7891  LR: 0.00037562  \n",
      "EVAL: [0/32] Elapsed 0m 2s (remain 1m 4s) Loss: 0.4624(0.4624) \n",
      "EVAL: [31/32] Elapsed 0m 38s (remain 0m 0s) Loss: 0.4380(0.4007) \n"
     ]
    },
    {
     "name": "stderr",
     "output_type": "stream",
     "text": [
      "Epoch 3 - avg_train_loss: 0.2214  avg_val_loss: 0.4007  time: 420s\n",
      "Epoch 3 - Save Best valid loss: 0.4007 Model\n"
     ]
    },
    {
     "name": "stdout",
     "output_type": "stream",
     "text": [
      "Epoch: [4][0/170] Elapsed 0m 3s (remain 8m 56s) Loss: 0.1637(0.1637) Grad: 43269.1875  LR: 0.00037374  \n",
      "Epoch: [4][50/170] Elapsed 1m 54s (remain 4m 28s) Loss: 0.1600(0.1818) Grad: 47734.3867  LR: 0.00028266  \n",
      "Epoch: [4][100/170] Elapsed 3m 46s (remain 2m 34s) Loss: 0.2068(0.1870) Grad: 60724.0156  LR: 0.00019978  \n",
      "Epoch: [4][150/170] Elapsed 5m 38s (remain 0m 42s) Loss: 0.2375(0.1841) Grad: 76864.9219  LR: 0.00012823  \n",
      "Epoch: [4][169/170] Elapsed 6m 20s (remain 0m 0s) Loss: 0.1546(0.1847) Grad: 46897.9219  LR: 0.00010460  \n",
      "EVAL: [0/32] Elapsed 0m 2s (remain 1m 5s) Loss: 0.4451(0.4451) \n",
      "EVAL: [31/32] Elapsed 0m 39s (remain 0m 0s) Loss: 0.4422(0.3905) \n"
     ]
    },
    {
     "name": "stderr",
     "output_type": "stream",
     "text": [
      "Epoch 4 - avg_train_loss: 0.1847  avg_val_loss: 0.3905  time: 422s\n",
      "Epoch 4 - Save Best valid loss: 0.3905 Model\n"
     ]
    },
    {
     "name": "stdout",
     "output_type": "stream",
     "text": [
      "Epoch: [5][0/170] Elapsed 0m 3s (remain 8m 52s) Loss: 0.1957(0.1957) Grad: 70786.7812  LR: 0.00010341  \n",
      "Epoch: [5][50/170] Elapsed 1m 54s (remain 4m 28s) Loss: 0.2110(0.1617) Grad: 57078.8945  LR: 0.00005215  \n",
      "Epoch: [5][100/170] Elapsed 3m 46s (remain 2m 34s) Loss: 0.2118(0.1619) Grad: 72066.2812  LR: 0.00001779  \n",
      "Epoch: [5][150/170] Elapsed 5m 38s (remain 0m 42s) Loss: 0.1769(0.1627) Grad: 47621.8477  LR: 0.00000163  \n",
      "Epoch: [5][169/170] Elapsed 6m 20s (remain 0m 0s) Loss: 0.2116(0.1625) Grad: 89482.9922  LR: 0.00000040  \n",
      "EVAL: [0/32] Elapsed 0m 2s (remain 1m 5s) Loss: 0.4523(0.4523) \n",
      "EVAL: [31/32] Elapsed 0m 37s (remain 0m 0s) Loss: 0.4404(0.3911) \n"
     ]
    },
    {
     "name": "stderr",
     "output_type": "stream",
     "text": [
      "Epoch 5 - avg_train_loss: 0.1625  avg_val_loss: 0.3911  time: 419s\n",
      "========== fold: 2 result ==========\n",
      "Score with best loss weights stage1: 0.3905339685441953\n",
      "========== fold: 3 training ==========\n"
     ]
    },
    {
     "name": "stdout",
     "output_type": "stream",
     "text": [
      "Epoch: [1][0/169] Elapsed 0m 3s (remain 9m 52s) Loss: 0.7463(0.7463) Grad: 71761.9766  LR: 0.00004139  \n",
      "Epoch: [1][50/169] Elapsed 1m 55s (remain 4m 26s) Loss: 0.3982(0.5893) Grad: 48221.7383  LR: 0.00099964  \n",
      "Epoch: [1][100/169] Elapsed 3m 46s (remain 2m 32s) Loss: 0.3560(0.5000) Grad: 51438.7344  LR: 0.00098640  \n",
      "Epoch: [1][150/169] Elapsed 5m 38s (remain 0m 40s) Loss: 0.3607(0.4516) Grad: 59219.8906  LR: 0.00095460  \n",
      "Epoch: [1][168/169] Elapsed 6m 18s (remain 0m 0s) Loss: 0.3476(0.4383) Grad: 52496.2305  LR: 0.00093883  \n",
      "EVAL: [0/32] Elapsed 0m 2s (remain 1m 15s) Loss: 0.5530(0.5530) \n",
      "EVAL: [31/32] Elapsed 0m 39s (remain 0m 0s) Loss: 0.5186(0.4819) \n"
     ]
    },
    {
     "name": "stderr",
     "output_type": "stream",
     "text": [
      "Epoch 1 - avg_train_loss: 0.4383  avg_val_loss: 0.4819  time: 419s\n",
      "Epoch 1 - Save Best valid loss: 0.4819 Model\n"
     ]
    },
    {
     "name": "stdout",
     "output_type": "stream",
     "text": [
      "Epoch: [2][0/169] Elapsed 0m 3s (remain 8m 53s) Loss: 0.2405(0.2405) Grad: 36324.6797  LR: 0.00093789  \n",
      "Epoch: [2][50/169] Elapsed 1m 54s (remain 4m 26s) Loss: 0.2492(0.2996) Grad: 57764.8125  LR: 0.00088261  \n",
      "Epoch: [2][100/169] Elapsed 3m 46s (remain 2m 32s) Loss: 0.3338(0.2935) Grad: 55720.1797  LR: 0.00081275  \n",
      "Epoch: [2][150/169] Elapsed 5m 38s (remain 0m 40s) Loss: 0.2524(0.2845) Grad: 57475.6211  LR: 0.00073095  \n",
      "Epoch: [2][168/169] Elapsed 6m 18s (remain 0m 0s) Loss: 0.2704(0.2842) Grad: 54867.3164  LR: 0.00069917  \n",
      "EVAL: [0/32] Elapsed 0m 2s (remain 1m 3s) Loss: 0.4286(0.4286) \n",
      "EVAL: [31/32] Elapsed 0m 39s (remain 0m 0s) Loss: 0.4201(0.4117) \n"
     ]
    },
    {
     "name": "stderr",
     "output_type": "stream",
     "text": [
      "Epoch 2 - avg_train_loss: 0.2842  avg_val_loss: 0.4117  time: 419s\n",
      "Epoch 2 - Save Best valid loss: 0.4117 Model\n"
     ]
    },
    {
     "name": "stdout",
     "output_type": "stream",
     "text": [
      "Epoch: [3][0/169] Elapsed 0m 3s (remain 8m 46s) Loss: 0.2143(0.2143) Grad: 51444.9258  LR: 0.00069738  \n",
      "Epoch: [3][50/169] Elapsed 1m 54s (remain 4m 25s) Loss: 0.2257(0.2283) Grad: 62357.1250  LR: 0.00060432  \n",
      "Epoch: [3][100/169] Elapsed 3m 46s (remain 2m 32s) Loss: 0.2305(0.2312) Grad: 42976.4648  LR: 0.00050729  \n",
      "Epoch: [3][150/169] Elapsed 5m 38s (remain 0m 40s) Loss: 0.2322(0.2292) Grad: 48064.5234  LR: 0.00040999  \n",
      "Epoch: [3][168/169] Elapsed 6m 18s (remain 0m 0s) Loss: 0.2373(0.2274) Grad: 51684.2344  LR: 0.00037561  \n",
      "EVAL: [0/32] Elapsed 0m 2s (remain 1m 3s) Loss: 0.3745(0.3745) \n",
      "EVAL: [31/32] Elapsed 0m 40s (remain 0m 0s) Loss: 0.3997(0.4064) \n"
     ]
    },
    {
     "name": "stderr",
     "output_type": "stream",
     "text": [
      "Epoch 3 - avg_train_loss: 0.2274  avg_val_loss: 0.4064  time: 420s\n",
      "Epoch 3 - Save Best valid loss: 0.4064 Model\n"
     ]
    },
    {
     "name": "stdout",
     "output_type": "stream",
     "text": [
      "Epoch: [4][0/169] Elapsed 0m 3s (remain 8m 56s) Loss: 0.1769(0.1769) Grad: 57455.4180  LR: 0.00037372  \n",
      "Epoch: [4][50/169] Elapsed 1m 54s (remain 4m 25s) Loss: 0.1715(0.1956) Grad: 48809.0391  LR: 0.00028212  \n",
      "Epoch: [4][100/169] Elapsed 3m 46s (remain 2m 32s) Loss: 0.1338(0.1927) Grad: 40834.0234  LR: 0.00019884  \n",
      "Epoch: [4][150/169] Elapsed 5m 38s (remain 0m 40s) Loss: 0.1665(0.1905) Grad: 53627.4766  LR: 0.00012707  \n",
      "Epoch: [4][168/169] Elapsed 6m 18s (remain 0m 0s) Loss: 0.1817(0.1911) Grad: 56197.3750  LR: 0.00010459  \n",
      "EVAL: [0/32] Elapsed 0m 2s (remain 1m 6s) Loss: 0.3703(0.3703) \n",
      "EVAL: [31/32] Elapsed 0m 38s (remain 0m 0s) Loss: 0.3905(0.3879) \n"
     ]
    },
    {
     "name": "stderr",
     "output_type": "stream",
     "text": [
      "Epoch 4 - avg_train_loss: 0.1911  avg_val_loss: 0.3879  time: 418s\n",
      "Epoch 4 - Save Best valid loss: 0.3879 Model\n"
     ]
    },
    {
     "name": "stdout",
     "output_type": "stream",
     "text": [
      "Epoch: [5][0/169] Elapsed 0m 3s (remain 8m 50s) Loss: 0.2049(0.2049) Grad: 43979.0195  LR: 0.00010340  \n",
      "Epoch: [5][50/169] Elapsed 1m 54s (remain 4m 25s) Loss: 0.2550(0.1728) Grad: 67841.5859  LR: 0.00005188  \n",
      "Epoch: [5][100/169] Elapsed 3m 46s (remain 2m 32s) Loss: 0.1509(0.1701) Grad: 35092.2188  LR: 0.00001748  \n",
      "Epoch: [5][150/169] Elapsed 5m 38s (remain 0m 40s) Loss: 0.1831(0.1685) Grad: 70357.9844  LR: 0.00000151  \n",
      "Epoch: [5][168/169] Elapsed 6m 18s (remain 0m 0s) Loss: 0.2019(0.1705) Grad: 67495.0156  LR: 0.00000040  \n",
      "EVAL: [0/32] Elapsed 0m 2s (remain 1m 3s) Loss: 0.3851(0.3851) \n",
      "EVAL: [31/32] Elapsed 0m 39s (remain 0m 0s) Loss: 0.4111(0.3916) \n"
     ]
    },
    {
     "name": "stderr",
     "output_type": "stream",
     "text": [
      "Epoch 5 - avg_train_loss: 0.1705  avg_val_loss: 0.3916  time: 419s\n",
      "========== fold: 3 result ==========\n",
      "Score with best loss weights stage1: 0.3879059451836188\n",
      "========== fold: 4 training ==========\n"
     ]
    },
    {
     "name": "stdout",
     "output_type": "stream",
     "text": [
      "Epoch: [1][0/172] Elapsed 0m 3s (remain 10m 4s) Loss: 0.8192(0.8192) Grad: 73901.1406  LR: 0.00004134  \n",
      "Epoch: [1][50/172] Elapsed 1m 55s (remain 4m 33s) Loss: 0.4375(0.6040) Grad: 97822.1250  LR: 0.00099970  \n",
      "Epoch: [1][100/172] Elapsed 3m 46s (remain 2m 39s) Loss: 0.3531(0.5025) Grad: 47639.7734  LR: 0.00098719  \n",
      "Epoch: [1][150/172] Elapsed 5m 38s (remain 0m 47s) Loss: 0.4140(0.4498) Grad: 66298.8359  LR: 0.00095674  \n",
      "Epoch: [1][171/172] Elapsed 6m 25s (remain 0m 0s) Loss: 0.3630(0.4352) Grad: 44372.7227  LR: 0.00093884  \n",
      "EVAL: [0/32] Elapsed 0m 2s (remain 1m 12s) Loss: 0.4723(0.4723) \n",
      "EVAL: [31/32] Elapsed 0m 38s (remain 0m 0s) Loss: 0.4362(0.4951) \n"
     ]
    },
    {
     "name": "stderr",
     "output_type": "stream",
     "text": [
      "Epoch 1 - avg_train_loss: 0.4352  avg_val_loss: 0.4951  time: 424s\n",
      "Epoch 1 - Save Best valid loss: 0.4951 Model\n"
     ]
    },
    {
     "name": "stdout",
     "output_type": "stream",
     "text": [
      "Epoch: [2][0/172] Elapsed 0m 3s (remain 9m 1s) Loss: 0.2733(0.2733) Grad: 51779.3828  LR: 0.00093792  \n",
      "Epoch: [2][50/172] Elapsed 1m 55s (remain 4m 33s) Loss: 0.3025(0.2920) Grad: 71076.3203  LR: 0.00088375  \n",
      "Epoch: [2][100/172] Elapsed 3m 47s (remain 2m 39s) Loss: 0.3119(0.2865) Grad: 60338.2500  LR: 0.00081546  \n",
      "Epoch: [2][150/172] Elapsed 5m 39s (remain 0m 47s) Loss: 0.3243(0.2814) Grad: 65235.7812  LR: 0.00073554  \n",
      "Epoch: [2][171/172] Elapsed 6m 25s (remain 0m 0s) Loss: 0.1986(0.2787) Grad: 47248.0742  LR: 0.00069921  \n",
      "EVAL: [0/32] Elapsed 0m 2s (remain 1m 3s) Loss: 0.4110(0.4110) \n",
      "EVAL: [31/32] Elapsed 0m 38s (remain 0m 0s) Loss: 0.3395(0.4155) \n"
     ]
    },
    {
     "name": "stderr",
     "output_type": "stream",
     "text": [
      "Epoch 2 - avg_train_loss: 0.2787  avg_val_loss: 0.4155  time: 425s\n",
      "Epoch 2 - Save Best valid loss: 0.4155 Model\n"
     ]
    },
    {
     "name": "stdout",
     "output_type": "stream",
     "text": [
      "Epoch: [3][0/172] Elapsed 0m 3s (remain 9m 16s) Loss: 0.3059(0.3059) Grad: 51836.8438  LR: 0.00069744  \n",
      "Epoch: [3][50/172] Elapsed 1m 55s (remain 4m 33s) Loss: 0.1719(0.2377) Grad: 41897.9492  LR: 0.00060606  \n",
      "Epoch: [3][100/172] Elapsed 3m 47s (remain 2m 39s) Loss: 0.2441(0.2300) Grad: 144647.0469  LR: 0.00051077  \n",
      "Epoch: [3][150/172] Elapsed 5m 39s (remain 0m 47s) Loss: 0.2343(0.2266) Grad: 47616.0039  LR: 0.00041509  \n",
      "Epoch: [3][171/172] Elapsed 6m 26s (remain 0m 0s) Loss: 0.2272(0.2249) Grad: 59286.2266  LR: 0.00037564  \n",
      "EVAL: [0/32] Elapsed 0m 2s (remain 1m 2s) Loss: 0.3996(0.3996) \n",
      "EVAL: [31/32] Elapsed 0m 38s (remain 0m 0s) Loss: 0.3214(0.3870) \n"
     ]
    },
    {
     "name": "stderr",
     "output_type": "stream",
     "text": [
      "Epoch 3 - avg_train_loss: 0.2249  avg_val_loss: 0.3870  time: 425s\n",
      "Epoch 3 - Save Best valid loss: 0.3870 Model\n"
     ]
    },
    {
     "name": "stdout",
     "output_type": "stream",
     "text": [
      "Epoch: [4][0/172] Elapsed 0m 3s (remain 9m 5s) Loss: 0.2259(0.2259) Grad: 72016.5078  LR: 0.00037378  \n",
      "Epoch: [4][50/172] Elapsed 1m 55s (remain 4m 33s) Loss: 0.1620(0.1930) Grad: 48965.0195  LR: 0.00028372  \n",
      "Epoch: [4][100/172] Elapsed 3m 47s (remain 2m 39s) Loss: 0.1666(0.1895) Grad: 68807.4453  LR: 0.00020163  \n",
      "Epoch: [4][150/172] Elapsed 5m 39s (remain 0m 47s) Loss: 0.1768(0.1908) Grad: 55907.8438  LR: 0.00013054  \n",
      "Epoch: [4][171/172] Elapsed 6m 26s (remain 0m 0s) Loss: 0.1984(0.1886) Grad: 57495.0000  LR: 0.00010461  \n",
      "EVAL: [0/32] Elapsed 0m 2s (remain 1m 3s) Loss: 0.3922(0.3922) \n",
      "EVAL: [31/32] Elapsed 0m 37s (remain 0m 0s) Loss: 0.3353(0.3889) \n"
     ]
    },
    {
     "name": "stderr",
     "output_type": "stream",
     "text": [
      "Epoch 4 - avg_train_loss: 0.1886  avg_val_loss: 0.3889  time: 425s\n"
     ]
    },
    {
     "name": "stdout",
     "output_type": "stream",
     "text": [
      "Epoch: [5][0/172] Elapsed 0m 3s (remain 9m 9s) Loss: 0.1457(0.1457) Grad: 40037.9141  LR: 0.00010344  \n",
      "Epoch: [5][50/172] Elapsed 1m 55s (remain 4m 33s) Loss: 0.1354(0.1644) Grad: 41506.2969  LR: 0.00005267  \n",
      "Epoch: [5][100/172] Elapsed 3m 47s (remain 2m 39s) Loss: 0.1527(0.1651) Grad: 48141.7812  LR: 0.00001840  \n",
      "Epoch: [5][150/172] Elapsed 5m 39s (remain 0m 47s) Loss: 0.1927(0.1662) Grad: 56434.7539  LR: 0.00000188  \n",
      "Epoch: [5][171/172] Elapsed 6m 26s (remain 0m 0s) Loss: 0.1486(0.1658) Grad: 35378.2734  LR: 0.00000040  \n",
      "EVAL: [0/32] Elapsed 0m 2s (remain 1m 2s) Loss: 0.4036(0.4036) \n",
      "EVAL: [31/32] Elapsed 0m 38s (remain 0m 0s) Loss: 0.3192(0.3857) \n"
     ]
    },
    {
     "name": "stderr",
     "output_type": "stream",
     "text": [
      "Epoch 5 - avg_train_loss: 0.1658  avg_val_loss: 0.3857  time: 426s\n",
      "Epoch 5 - Save Best valid loss: 0.3857 Model\n",
      "========== fold: 4 result ==========\n",
      "Score with best loss weights stage1: 0.385736304805111\n",
      "========== CV ==========\n",
      "Score with best loss weights stage1: 0.390055364428326\n"
     ]
    }
   ],
   "source": [
    "if __name__ == '__main__':\n",
    "    if CFG.train:\n",
    "        oof_df = pd.DataFrame()\n",
    "        scores = []\n",
    "        for fold in range(CFG.n_fold):\n",
    "            if fold in CFG.trn_fold:\n",
    "                _oof_df, score = train_loop(train, fold, POP_1_DIR)\n",
    "                oof_df = pd.concat([oof_df, _oof_df])\n",
    "                scores.append(score)\n",
    "                LOGGER.info(f\"========== fold: {fold} result ==========\")\n",
    "                LOGGER.info(f'Score with best loss weights stage1: {score}')\n",
    "        oof_df = oof_df.reset_index(drop=True)\n",
    "        LOGGER.info(f\"========== CV ==========\")\n",
    "        LOGGER.info(f'Score with best loss weights stage1: {np.mean(scores)}')\n",
    "        oof_df.to_csv(POP_1_DIR+f'{CFG.model_name}_oof_df_version{VERSION}_stage1.csv', index=False)\n",
    "        \n",
    "    if CFG.wandb:\n",
    "        wandb.finish()"
   ]
  },
  {
   "cell_type": "code",
   "execution_count": 25,
   "id": "3745a723",
   "metadata": {
    "execution": {
     "iopub.execute_input": "2024-03-13T17:28:46.013046Z",
     "iopub.status.busy": "2024-03-13T17:28:46.012631Z",
     "iopub.status.idle": "2024-03-13T19:01:09.003918Z",
     "shell.execute_reply": "2024-03-13T19:01:09.002657Z"
    },
    "papermill": {
     "duration": 5543.03182,
     "end_time": "2024-03-13T19:01:09.006843",
     "exception": false,
     "start_time": "2024-03-13T17:28:45.975023",
     "status": "completed"
    },
    "tags": []
   },
   "outputs": [
    {
     "name": "stderr",
     "output_type": "stream",
     "text": [
      "========== fold: 0 training ==========\n"
     ]
    },
    {
     "name": "stdout",
     "output_type": "stream",
     "text": [
      "Epoch: [1][0/79] Elapsed 0m 3s (remain 4m 34s) Loss: 0.5183(0.5183) Grad: 94041.3438  LR: 0.00004672  \n",
      "Epoch: [1][50/79] Elapsed 1m 55s (remain 1m 3s) Loss: 0.2810(0.3850) Grad: 47933.2188  LR: 0.00098189  \n",
      "Epoch: [1][78/79] Elapsed 2m 57s (remain 0m 0s) Loss: 0.3322(0.3664) Grad: 82335.5781  LR: 0.00093775  \n",
      "EVAL: [0/32] Elapsed 0m 2s (remain 1m 13s) Loss: 0.5376(0.5376) \n",
      "EVAL: [31/32] Elapsed 0m 39s (remain 0m 0s) Loss: 0.4869(0.4817) \n"
     ]
    },
    {
     "name": "stderr",
     "output_type": "stream",
     "text": [
      "Epoch 1 - avg_train_loss: 0.3664  avg_val_loss: 0.4817  time: 217s\n",
      "Epoch 1 - Save Best valid loss: 0.4817 Model\n"
     ]
    },
    {
     "name": "stdout",
     "output_type": "stream",
     "text": [
      "Epoch: [2][0/79] Elapsed 0m 3s (remain 4m 5s) Loss: 0.2541(0.2541) Grad: 45327.6914  LR: 0.00093572  \n",
      "Epoch: [2][50/79] Elapsed 1m 54s (remain 1m 3s) Loss: 0.2743(0.2836) Grad: 65368.3906  LR: 0.00079844  \n",
      "Epoch: [2][78/79] Elapsed 2m 57s (remain 0m 0s) Loss: 0.2617(0.2770) Grad: 51833.8086  LR: 0.00069713  \n",
      "EVAL: [0/32] Elapsed 0m 1s (remain 1m 1s) Loss: 0.5760(0.5760) \n",
      "EVAL: [31/32] Elapsed 0m 38s (remain 0m 0s) Loss: 0.5625(0.5462) \n"
     ]
    },
    {
     "name": "stderr",
     "output_type": "stream",
     "text": [
      "Epoch 2 - avg_train_loss: 0.2770  avg_val_loss: 0.5462  time: 217s\n"
     ]
    },
    {
     "name": "stdout",
     "output_type": "stream",
     "text": [
      "Epoch: [3][0/79] Elapsed 0m 3s (remain 4m 8s) Loss: 0.2612(0.2612) Grad: 50026.4336  LR: 0.00069328  \n",
      "Epoch: [3][50/79] Elapsed 1m 54s (remain 1m 3s) Loss: 0.2213(0.2390) Grad: 55968.5156  LR: 0.00048922  \n",
      "Epoch: [3][78/79] Elapsed 2m 57s (remain 0m 0s) Loss: 0.2488(0.2385) Grad: 55493.6836  LR: 0.00037345  \n",
      "EVAL: [0/32] Elapsed 0m 2s (remain 1m 2s) Loss: 0.5740(0.5740) \n",
      "EVAL: [31/32] Elapsed 0m 36s (remain 0m 0s) Loss: 0.5238(0.5046) \n"
     ]
    },
    {
     "name": "stderr",
     "output_type": "stream",
     "text": [
      "Epoch 3 - avg_train_loss: 0.2385  avg_val_loss: 0.5046  time: 214s\n"
     ]
    },
    {
     "name": "stdout",
     "output_type": "stream",
     "text": [
      "Epoch: [4][0/79] Elapsed 0m 3s (remain 4m 3s) Loss: 0.2299(0.2299) Grad: 40352.2031  LR: 0.00036941  \n",
      "Epoch: [4][50/79] Elapsed 1m 54s (remain 1m 3s) Loss: 0.1830(0.2121) Grad: 40473.2305  LR: 0.00018462  \n",
      "Epoch: [4][78/79] Elapsed 2m 57s (remain 0m 0s) Loss: 0.2104(0.2078) Grad: 55541.3672  LR: 0.00010323  \n",
      "EVAL: [0/32] Elapsed 0m 2s (remain 1m 5s) Loss: 0.5999(0.5999) \n",
      "EVAL: [31/32] Elapsed 0m 37s (remain 0m 0s) Loss: 0.5620(0.5375) \n"
     ]
    },
    {
     "name": "stderr",
     "output_type": "stream",
     "text": [
      "Epoch 4 - avg_train_loss: 0.2078  avg_val_loss: 0.5375  time: 215s\n"
     ]
    },
    {
     "name": "stdout",
     "output_type": "stream",
     "text": [
      "Epoch: [5][0/79] Elapsed 0m 3s (remain 4m 11s) Loss: 0.2282(0.2282) Grad: 50427.3359  LR: 0.00010070  \n",
      "Epoch: [5][50/79] Elapsed 1m 54s (remain 1m 3s) Loss: 0.1985(0.1901) Grad: 56879.2109  LR: 0.00001311  \n",
      "Epoch: [5][78/79] Elapsed 2m 57s (remain 0m 0s) Loss: 0.1914(0.1884) Grad: 41771.0430  LR: 0.00000042  \n",
      "EVAL: [0/32] Elapsed 0m 2s (remain 1m 6s) Loss: 0.6071(0.6071) \n",
      "EVAL: [31/32] Elapsed 0m 37s (remain 0m 0s) Loss: 0.5688(0.5468) \n"
     ]
    },
    {
     "name": "stderr",
     "output_type": "stream",
     "text": [
      "Epoch 5 - avg_train_loss: 0.1884  avg_val_loss: 0.5468  time: 216s\n",
      "========== fold: 0 result ==========\n",
      "Score with best loss weights stage2: 0.4816953307084586\n",
      "========== fold: 1 training ==========\n"
     ]
    },
    {
     "name": "stdout",
     "output_type": "stream",
     "text": [
      "Epoch: [1][0/81] Elapsed 0m 3s (remain 4m 43s) Loss: 0.6470(0.6470) Grad: 84007.6484  LR: 0.00004638  \n",
      "Epoch: [1][50/81] Elapsed 1m 55s (remain 1m 7s) Loss: 0.3958(0.4055) Grad: 62731.6797  LR: 0.00098330  \n",
      "Epoch: [1][80/81] Elapsed 3m 2s (remain 0m 0s) Loss: 0.3567(0.3802) Grad: 63854.7422  LR: 0.00093780  \n",
      "EVAL: [0/32] Elapsed 0m 2s (remain 1m 14s) Loss: 0.4245(0.4245) \n",
      "EVAL: [31/32] Elapsed 0m 36s (remain 0m 0s) Loss: 0.5551(0.4775) \n"
     ]
    },
    {
     "name": "stderr",
     "output_type": "stream",
     "text": [
      "Epoch 1 - avg_train_loss: 0.3802  avg_val_loss: 0.4775  time: 220s\n",
      "Epoch 1 - Save Best valid loss: 0.4775 Model\n"
     ]
    },
    {
     "name": "stdout",
     "output_type": "stream",
     "text": [
      "Epoch: [2][0/81] Elapsed 0m 3s (remain 4m 13s) Loss: 0.2750(0.2750) Grad: 39304.1133  LR: 0.00093582  \n",
      "Epoch: [2][50/81] Elapsed 1m 54s (remain 1m 7s) Loss: 0.2994(0.2876) Grad: 50926.7930  LR: 0.00080274  \n",
      "Epoch: [2][80/81] Elapsed 3m 1s (remain 0m 0s) Loss: 0.2493(0.2844) Grad: 41885.1562  LR: 0.00069722  \n",
      "EVAL: [0/32] Elapsed 0m 2s (remain 1m 6s) Loss: 0.4980(0.4980) \n",
      "EVAL: [31/32] Elapsed 0m 39s (remain 0m 0s) Loss: 0.7151(0.5820) \n"
     ]
    },
    {
     "name": "stderr",
     "output_type": "stream",
     "text": [
      "Epoch 2 - avg_train_loss: 0.2844  avg_val_loss: 0.5820  time: 222s\n"
     ]
    },
    {
     "name": "stdout",
     "output_type": "stream",
     "text": [
      "Epoch: [3][0/81] Elapsed 0m 3s (remain 4m 13s) Loss: 0.2296(0.2296) Grad: 36696.8555  LR: 0.00069347  \n",
      "Epoch: [3][50/81] Elapsed 1m 54s (remain 1m 7s) Loss: 0.3155(0.2424) Grad: 57057.8828  LR: 0.00049459  \n",
      "Epoch: [3][80/81] Elapsed 3m 1s (remain 0m 0s) Loss: 0.2274(0.2414) Grad: 46616.6992  LR: 0.00037355  \n",
      "EVAL: [0/32] Elapsed 0m 2s (remain 1m 4s) Loss: 0.5098(0.5098) \n",
      "EVAL: [31/32] Elapsed 0m 38s (remain 0m 0s) Loss: 0.7403(0.5800) \n"
     ]
    },
    {
     "name": "stderr",
     "output_type": "stream",
     "text": [
      "Epoch 3 - avg_train_loss: 0.2414  avg_val_loss: 0.5800  time: 221s\n"
     ]
    },
    {
     "name": "stdout",
     "output_type": "stream",
     "text": [
      "Epoch: [4][0/81] Elapsed 0m 3s (remain 4m 16s) Loss: 0.2253(0.2253) Grad: 35284.5859  LR: 0.00036961  \n",
      "Epoch: [4][50/81] Elapsed 1m 54s (remain 1m 7s) Loss: 0.2917(0.2166) Grad: 53678.9922  LR: 0.00018881  \n",
      "Epoch: [4][80/81] Elapsed 3m 1s (remain 0m 0s) Loss: 0.2574(0.2135) Grad: 49999.6328  LR: 0.00010329  \n",
      "EVAL: [0/32] Elapsed 0m 1s (remain 1m 0s) Loss: 0.4805(0.4805) \n",
      "EVAL: [31/32] Elapsed 0m 39s (remain 0m 0s) Loss: 0.7285(0.5539) \n"
     ]
    },
    {
     "name": "stderr",
     "output_type": "stream",
     "text": [
      "Epoch 4 - avg_train_loss: 0.2135  avg_val_loss: 0.5539  time: 222s\n"
     ]
    },
    {
     "name": "stdout",
     "output_type": "stream",
     "text": [
      "Epoch: [5][0/81] Elapsed 0m 3s (remain 4m 12s) Loss: 0.1925(0.1925) Grad: 34907.7305  LR: 0.00010083  \n",
      "Epoch: [5][50/81] Elapsed 1m 54s (remain 1m 7s) Loss: 0.2385(0.1960) Grad: 41248.3828  LR: 0.00001435  \n",
      "Epoch: [5][80/81] Elapsed 3m 1s (remain 0m 0s) Loss: 0.1645(0.1975) Grad: 27224.0352  LR: 0.00000042  \n",
      "EVAL: [0/32] Elapsed 0m 2s (remain 1m 5s) Loss: 0.4782(0.4782) \n",
      "EVAL: [31/32] Elapsed 0m 38s (remain 0m 0s) Loss: 0.7220(0.5494) \n"
     ]
    },
    {
     "name": "stderr",
     "output_type": "stream",
     "text": [
      "Epoch 5 - avg_train_loss: 0.1975  avg_val_loss: 0.5494  time: 221s\n",
      "========== fold: 1 result ==========\n",
      "Score with best loss weights stage2: 0.4774833385059082\n",
      "========== fold: 2 training ==========\n"
     ]
    },
    {
     "name": "stdout",
     "output_type": "stream",
     "text": [
      "Epoch: [1][0/82] Elapsed 0m 3s (remain 4m 46s) Loss: 0.5047(0.5047) Grad: 72150.4922  LR: 0.00004622  \n",
      "Epoch: [1][50/82] Elapsed 1m 55s (remain 1m 10s) Loss: 0.3441(0.3855) Grad: 56561.2734  LR: 0.00098396  \n",
      "Epoch: [1][81/82] Elapsed 3m 4s (remain 0m 0s) Loss: 0.2912(0.3607) Grad: 68262.3672  LR: 0.00093783  \n",
      "EVAL: [0/32] Elapsed 0m 2s (remain 1m 13s) Loss: 0.5854(0.5854) \n",
      "EVAL: [31/32] Elapsed 0m 36s (remain 0m 0s) Loss: 0.4894(0.5782) \n"
     ]
    },
    {
     "name": "stderr",
     "output_type": "stream",
     "text": [
      "Epoch 1 - avg_train_loss: 0.3607  avg_val_loss: 0.5782  time: 222s\n",
      "Epoch 1 - Save Best valid loss: 0.5782 Model\n"
     ]
    },
    {
     "name": "stdout",
     "output_type": "stream",
     "text": [
      "Epoch: [2][0/82] Elapsed 0m 3s (remain 4m 15s) Loss: 0.2494(0.2494) Grad: 50761.6602  LR: 0.00093587  \n",
      "Epoch: [2][50/82] Elapsed 1m 54s (remain 1m 9s) Loss: 0.3047(0.2755) Grad: 59429.7500  LR: 0.00080479  \n",
      "Epoch: [2][81/82] Elapsed 3m 4s (remain 0m 0s) Loss: 0.3100(0.2707) Grad: 48064.0742  LR: 0.00069727  \n",
      "EVAL: [0/32] Elapsed 0m 2s (remain 1m 4s) Loss: 0.5996(0.5996) \n",
      "EVAL: [31/32] Elapsed 0m 38s (remain 0m 0s) Loss: 0.4632(0.5434) \n"
     ]
    },
    {
     "name": "stderr",
     "output_type": "stream",
     "text": [
      "Epoch 2 - avg_train_loss: 0.2707  avg_val_loss: 0.5434  time: 223s\n",
      "Epoch 2 - Save Best valid loss: 0.5434 Model\n"
     ]
    },
    {
     "name": "stdout",
     "output_type": "stream",
     "text": [
      "Epoch: [3][0/82] Elapsed 0m 3s (remain 4m 15s) Loss: 0.2779(0.2779) Grad: 51454.5156  LR: 0.00069356  \n",
      "Epoch: [3][50/82] Elapsed 1m 54s (remain 1m 9s) Loss: 0.2201(0.2309) Grad: 45690.6094  LR: 0.00049718  \n",
      "Epoch: [3][81/82] Elapsed 3m 4s (remain 0m 0s) Loss: 0.1923(0.2312) Grad: 36428.7148  LR: 0.00037360  \n",
      "EVAL: [0/32] Elapsed 0m 2s (remain 1m 2s) Loss: 0.6021(0.6021) \n",
      "EVAL: [31/32] Elapsed 0m 37s (remain 0m 0s) Loss: 0.5286(0.5959) \n"
     ]
    },
    {
     "name": "stderr",
     "output_type": "stream",
     "text": [
      "Epoch 3 - avg_train_loss: 0.2312  avg_val_loss: 0.5959  time: 223s\n"
     ]
    },
    {
     "name": "stdout",
     "output_type": "stream",
     "text": [
      "Epoch: [4][0/82] Elapsed 0m 3s (remain 4m 14s) Loss: 0.1974(0.1974) Grad: 36361.3711  LR: 0.00036971  \n",
      "Epoch: [4][50/82] Elapsed 1m 54s (remain 1m 9s) Loss: 0.2225(0.1967) Grad: 41000.7539  LR: 0.00019084  \n",
      "Epoch: [4][81/82] Elapsed 3m 4s (remain 0m 0s) Loss: 0.2297(0.1972) Grad: 45877.5391  LR: 0.00010332  \n",
      "EVAL: [0/32] Elapsed 0m 1s (remain 1m 1s) Loss: 0.5924(0.5924) \n",
      "EVAL: [31/32] Elapsed 0m 38s (remain 0m 0s) Loss: 0.5390(0.5857) \n"
     ]
    },
    {
     "name": "stderr",
     "output_type": "stream",
     "text": [
      "Epoch 4 - avg_train_loss: 0.1972  avg_val_loss: 0.5857  time: 224s\n"
     ]
    },
    {
     "name": "stdout",
     "output_type": "stream",
     "text": [
      "Epoch: [5][0/82] Elapsed 0m 3s (remain 4m 19s) Loss: 0.1683(0.1683) Grad: 33829.5273  LR: 0.00010089  \n",
      "Epoch: [5][50/82] Elapsed 1m 55s (remain 1m 9s) Loss: 0.2089(0.1854) Grad: 49192.0781  LR: 0.00001496  \n",
      "Epoch: [5][81/82] Elapsed 3m 4s (remain 0m 0s) Loss: 0.1739(0.1832) Grad: 40067.7617  LR: 0.00000042  \n",
      "EVAL: [0/32] Elapsed 0m 2s (remain 1m 8s) Loss: 0.5838(0.5838) \n",
      "EVAL: [31/32] Elapsed 0m 39s (remain 0m 0s) Loss: 0.5195(0.5798) \n"
     ]
    },
    {
     "name": "stderr",
     "output_type": "stream",
     "text": [
      "Epoch 5 - avg_train_loss: 0.1832  avg_val_loss: 0.5798  time: 224s\n",
      "========== fold: 2 result ==========\n",
      "Score with best loss weights stage2: 0.5433639004689973\n",
      "========== fold: 3 training ==========\n"
     ]
    },
    {
     "name": "stdout",
     "output_type": "stream",
     "text": [
      "Epoch: [1][0/82] Elapsed 0m 3s (remain 4m 48s) Loss: 0.5983(0.5983) Grad: 90203.2344  LR: 0.00004622  \n",
      "Epoch: [1][50/82] Elapsed 1m 55s (remain 1m 10s) Loss: 0.3208(0.4015) Grad: 50413.5742  LR: 0.00098396  \n",
      "Epoch: [1][81/82] Elapsed 3m 4s (remain 0m 0s) Loss: 0.3636(0.3734) Grad: 84186.6172  LR: 0.00093783  \n",
      "EVAL: [0/32] Elapsed 0m 2s (remain 1m 16s) Loss: 0.6003(0.6003) \n",
      "EVAL: [31/32] Elapsed 0m 39s (remain 0m 0s) Loss: 0.9129(0.6361) \n"
     ]
    },
    {
     "name": "stderr",
     "output_type": "stream",
     "text": [
      "Epoch 1 - avg_train_loss: 0.3734  avg_val_loss: 0.6361  time: 224s\n",
      "Epoch 1 - Save Best valid loss: 0.6361 Model\n"
     ]
    },
    {
     "name": "stdout",
     "output_type": "stream",
     "text": [
      "Epoch: [2][0/82] Elapsed 0m 3s (remain 4m 21s) Loss: 0.2717(0.2717) Grad: 48092.5508  LR: 0.00093587  \n",
      "Epoch: [2][50/82] Elapsed 1m 55s (remain 1m 10s) Loss: 0.2629(0.2779) Grad: 50164.6914  LR: 0.00080479  \n",
      "Epoch: [2][81/82] Elapsed 3m 4s (remain 0m 0s) Loss: 0.2730(0.2743) Grad: 48367.8633  LR: 0.00069727  \n",
      "EVAL: [0/32] Elapsed 0m 2s (remain 1m 9s) Loss: 0.5118(0.5118) \n",
      "EVAL: [31/32] Elapsed 0m 40s (remain 0m 0s) Loss: 0.8328(0.5565) \n"
     ]
    },
    {
     "name": "stderr",
     "output_type": "stream",
     "text": [
      "Epoch 2 - avg_train_loss: 0.2743  avg_val_loss: 0.5565  time: 226s\n",
      "Epoch 2 - Save Best valid loss: 0.5565 Model\n"
     ]
    },
    {
     "name": "stdout",
     "output_type": "stream",
     "text": [
      "Epoch: [3][0/82] Elapsed 0m 3s (remain 4m 20s) Loss: 0.2213(0.2213) Grad: 36038.0742  LR: 0.00069356  \n",
      "Epoch: [3][50/82] Elapsed 1m 55s (remain 1m 10s) Loss: 0.1725(0.2250) Grad: 30495.6621  LR: 0.00049718  \n",
      "Epoch: [3][81/82] Elapsed 3m 4s (remain 0m 0s) Loss: 0.2460(0.2315) Grad: 42320.0039  LR: 0.00037360  \n",
      "EVAL: [0/32] Elapsed 0m 2s (remain 1m 3s) Loss: 0.5176(0.5176) \n",
      "EVAL: [31/32] Elapsed 0m 41s (remain 0m 0s) Loss: 0.8143(0.5522) \n"
     ]
    },
    {
     "name": "stderr",
     "output_type": "stream",
     "text": [
      "Epoch 3 - avg_train_loss: 0.2315  avg_val_loss: 0.5522  time: 227s\n",
      "Epoch 3 - Save Best valid loss: 0.5522 Model\n"
     ]
    },
    {
     "name": "stdout",
     "output_type": "stream",
     "text": [
      "Epoch: [4][0/82] Elapsed 0m 3s (remain 4m 23s) Loss: 0.1760(0.1760) Grad: 37059.5508  LR: 0.00036971  \n",
      "Epoch: [4][50/82] Elapsed 1m 55s (remain 1m 10s) Loss: 0.1727(0.2053) Grad: 36087.7266  LR: 0.00019084  \n",
      "Epoch: [4][81/82] Elapsed 3m 4s (remain 0m 0s) Loss: 0.1615(0.2026) Grad: 31324.9531  LR: 0.00010332  \n",
      "EVAL: [0/32] Elapsed 0m 2s (remain 1m 3s) Loss: 0.5244(0.5244) \n",
      "EVAL: [31/32] Elapsed 0m 40s (remain 0m 0s) Loss: 0.8289(0.5639) \n"
     ]
    },
    {
     "name": "stderr",
     "output_type": "stream",
     "text": [
      "Epoch 4 - avg_train_loss: 0.2026  avg_val_loss: 0.5639  time: 225s\n"
     ]
    },
    {
     "name": "stdout",
     "output_type": "stream",
     "text": [
      "Epoch: [5][0/82] Elapsed 0m 3s (remain 4m 23s) Loss: 0.1656(0.1656) Grad: 38832.3906  LR: 0.00010089  \n",
      "Epoch: [5][50/82] Elapsed 1m 55s (remain 1m 10s) Loss: 0.1585(0.1882) Grad: 38998.3398  LR: 0.00001496  \n",
      "Epoch: [5][81/82] Elapsed 3m 4s (remain 0m 0s) Loss: 0.1759(0.1852) Grad: 46079.2148  LR: 0.00000042  \n",
      "EVAL: [0/32] Elapsed 0m 2s (remain 1m 5s) Loss: 0.5251(0.5251) \n",
      "EVAL: [31/32] Elapsed 0m 40s (remain 0m 0s) Loss: 0.8308(0.5647) \n"
     ]
    },
    {
     "name": "stderr",
     "output_type": "stream",
     "text": [
      "Epoch 5 - avg_train_loss: 0.1852  avg_val_loss: 0.5647  time: 226s\n",
      "========== fold: 3 result ==========\n",
      "Score with best loss weights stage2: 0.5522099171568546\n",
      "========== fold: 4 training ==========\n"
     ]
    },
    {
     "name": "stdout",
     "output_type": "stream",
     "text": [
      "Epoch: [1][0/80] Elapsed 0m 3s (remain 4m 42s) Loss: 0.5195(0.5195) Grad: 72729.3281  LR: 0.00004655  \n",
      "Epoch: [1][50/80] Elapsed 1m 55s (remain 1m 5s) Loss: 0.3068(0.3852) Grad: 56567.3047  LR: 0.00098261  \n",
      "Epoch: [1][79/80] Elapsed 2m 59s (remain 0m 0s) Loss: 0.3861(0.3580) Grad: 58810.1758  LR: 0.00093778  \n",
      "EVAL: [0/32] Elapsed 0m 2s (remain 1m 14s) Loss: 0.6881(0.6881) \n",
      "EVAL: [31/32] Elapsed 0m 40s (remain 0m 0s) Loss: 0.5238(0.5629) \n"
     ]
    },
    {
     "name": "stderr",
     "output_type": "stream",
     "text": [
      "Epoch 1 - avg_train_loss: 0.3580  avg_val_loss: 0.5629  time: 221s\n",
      "Epoch 1 - Save Best valid loss: 0.5629 Model\n"
     ]
    },
    {
     "name": "stdout",
     "output_type": "stream",
     "text": [
      "Epoch: [2][0/80] Elapsed 0m 3s (remain 4m 14s) Loss: 0.2840(0.2840) Grad: 57398.0117  LR: 0.00093577  \n",
      "Epoch: [2][50/80] Elapsed 1m 55s (remain 1m 5s) Loss: 0.2865(0.2695) Grad: 65933.6328  LR: 0.00080062  \n",
      "Epoch: [2][79/80] Elapsed 2m 59s (remain 0m 0s) Loss: 0.2507(0.2644) Grad: 58713.9648  LR: 0.00069718  \n",
      "EVAL: [0/32] Elapsed 0m 2s (remain 1m 5s) Loss: 0.6307(0.6307) \n",
      "EVAL: [31/32] Elapsed 0m 39s (remain 0m 0s) Loss: 0.5382(0.5812) \n"
     ]
    },
    {
     "name": "stderr",
     "output_type": "stream",
     "text": [
      "Epoch 2 - avg_train_loss: 0.2644  avg_val_loss: 0.5812  time: 220s\n"
     ]
    },
    {
     "name": "stdout",
     "output_type": "stream",
     "text": [
      "Epoch: [3][0/80] Elapsed 0m 3s (remain 4m 15s) Loss: 0.2532(0.2532) Grad: 81518.0703  LR: 0.00069337  \n",
      "Epoch: [3][50/80] Elapsed 1m 55s (remain 1m 5s) Loss: 0.2056(0.2179) Grad: 40228.4297  LR: 0.00049194  \n",
      "Epoch: [3][79/80] Elapsed 2m 59s (remain 0m 0s) Loss: 0.2144(0.2234) Grad: 44341.0781  LR: 0.00037351  \n",
      "EVAL: [0/32] Elapsed 0m 2s (remain 1m 5s) Loss: 0.6563(0.6563) \n",
      "EVAL: [31/32] Elapsed 0m 39s (remain 0m 0s) Loss: 0.5489(0.5562) \n"
     ]
    },
    {
     "name": "stderr",
     "output_type": "stream",
     "text": [
      "Epoch 3 - avg_train_loss: 0.2234  avg_val_loss: 0.5562  time: 220s\n",
      "Epoch 3 - Save Best valid loss: 0.5562 Model\n"
     ]
    },
    {
     "name": "stdout",
     "output_type": "stream",
     "text": [
      "Epoch: [4][0/80] Elapsed 0m 3s (remain 4m 10s) Loss: 0.1958(0.1958) Grad: 43178.0547  LR: 0.00036951  \n",
      "Epoch: [4][50/80] Elapsed 1m 55s (remain 1m 5s) Loss: 0.1956(0.1938) Grad: 45578.9219  LR: 0.00018674  \n",
      "Epoch: [4][79/80] Elapsed 2m 59s (remain 0m 0s) Loss: 0.1614(0.1925) Grad: 39843.9648  LR: 0.00010326  \n",
      "EVAL: [0/32] Elapsed 0m 2s (remain 1m 6s) Loss: 0.7314(0.7314) \n",
      "EVAL: [31/32] Elapsed 0m 41s (remain 0m 0s) Loss: 0.5856(0.6090) \n"
     ]
    },
    {
     "name": "stderr",
     "output_type": "stream",
     "text": [
      "Epoch 4 - avg_train_loss: 0.1925  avg_val_loss: 0.6090  time: 222s\n"
     ]
    },
    {
     "name": "stdout",
     "output_type": "stream",
     "text": [
      "Epoch: [5][0/80] Elapsed 0m 3s (remain 4m 14s) Loss: 0.2047(0.2047) Grad: 46291.8203  LR: 0.00010077  \n",
      "Epoch: [5][50/80] Elapsed 1m 55s (remain 1m 5s) Loss: 0.1846(0.1818) Grad: 35256.1172  LR: 0.00001373  \n",
      "Epoch: [5][79/80] Elapsed 2m 59s (remain 0m 0s) Loss: 0.1910(0.1802) Grad: 34956.6836  LR: 0.00000042  \n",
      "EVAL: [0/32] Elapsed 0m 2s (remain 1m 5s) Loss: 0.7260(0.7260) \n",
      "EVAL: [31/32] Elapsed 0m 43s (remain 0m 0s) Loss: 0.5580(0.5998) \n"
     ]
    },
    {
     "name": "stderr",
     "output_type": "stream",
     "text": [
      "Epoch 5 - avg_train_loss: 0.1802  avg_val_loss: 0.5998  time: 224s\n",
      "========== fold: 4 result ==========\n",
      "Score with best loss weights stage2: 0.556249942545612\n",
      "========== CV ==========\n",
      "Score with best loss weights stage2: 0.522200485877166\n"
     ]
    }
   ],
   "source": [
    "CFG.stage1_pop1 = False\n",
    "CFG.stage2_pop2 = True\n",
    "CFG.epochs = 5\n",
    "\n",
    "if __name__ == '__main__':\n",
    "    \n",
    "    if CFG.train:\n",
    "        oof_df = pd.DataFrame()\n",
    "        scores = []\n",
    "        for fold in range(CFG.n_fold):\n",
    "            if fold in CFG.trn_fold:\n",
    "                _oof_df, score = train_loop(train, fold, POP_2_DIR)\n",
    "                oof_df = pd.concat([oof_df, _oof_df])\n",
    "                scores.append(score)\n",
    "                LOGGER.info(f\"========== fold: {fold} result ==========\")\n",
    "                LOGGER.info(f'Score with best loss weights stage2: {score}')\n",
    "        oof_df = oof_df.reset_index(drop=True)\n",
    "        LOGGER.info(f\"========== CV ==========\")\n",
    "        LOGGER.info(f'Score with best loss weights stage2: {np.mean(scores)}')\n",
    "        oof_df.to_csv(POP_2_DIR+f'{CFG.model_name}_oof_df_version{VERSION}_stage2.csv', index=False)\n",
    "        \n",
    "    if CFG.wandb:\n",
    "        wandb.finish()"
   ]
  },
  {
   "cell_type": "code",
   "execution_count": 28,
   "id": "093f89b0",
   "metadata": {
    "execution": {
     "iopub.execute_input": "2024-03-13T19:01:09.361153Z",
     "iopub.status.busy": "2024-03-13T19:01:09.360255Z",
     "iopub.status.idle": "2024-03-13T19:01:09.454326Z",
     "shell.execute_reply": "2024-03-13T19:01:09.452945Z"
    },
    "papermill": {
     "duration": 0.152703,
     "end_time": "2024-03-13T19:01:09.456747",
     "exception": false,
     "start_time": "2024-03-13T19:01:09.304044",
     "status": "completed"
    },
    "tags": []
   },
   "outputs": [
    {
     "name": "stdout",
     "output_type": "stream",
     "text": [
      "CV Stage2 Score with SparK resnet50 Spectrogram = 0.5221973075437222\n"
     ]
    }
   ],
   "source": [
    "import sys\n",
    "sys.path.append('/kaggle/input/kaggle-kl-div')\n",
    "from kaggle_kl_div import score\n",
    "\n",
    "# === Pre-process OOF ===\n",
    "label_cols = CFG.target_cols\n",
    "gt = oof_df[[\"eeg_id\"] + CFG.target_cols]\n",
    "gt.sort_values(by=\"eeg_id\", inplace=True)\n",
    "gt.reset_index(inplace=True, drop=True)\n",
    "\n",
    "preds = oof_df[[\"eeg_id\"] + CFG.pred_cols]\n",
    "preds.columns = [\"eeg_id\"] + CFG.target_cols\n",
    "preds.sort_values(by=\"eeg_id\", inplace=True)\n",
    "preds.reset_index(inplace=True, drop=True)\n",
    "\n",
    "y_trues = gt[CFG.target_cols]\n",
    "y_preds = preds[CFG.target_cols]\n",
    "\n",
    "oof = pd.DataFrame(y_preds.copy())\n",
    "oof['id'] = np.arange(len(oof))\n",
    "\n",
    "true = pd.DataFrame(y_trues.copy())\n",
    "true['id'] = np.arange(len(true))\n",
    "\n",
    "cv = score(solution=true, submission=oof, row_id_column_name='id')\n",
    "print('CV Stage2 Score with SparK resnet50 Spectrogram =',cv)"
   ]
  }
 ],
 "metadata": {
  "kaggle": {
   "accelerator": "gpu",
   "dataSources": [
    {
     "databundleVersionId": 7469972,
     "sourceId": 59093,
     "sourceType": "competition"
    },
    {
     "datasetId": 4297749,
     "sourceId": 7392733,
     "sourceType": "datasetVersion"
    },
    {
     "datasetId": 4297782,
     "sourceId": 7392775,
     "sourceType": "datasetVersion"
    },
    {
     "datasetId": 4378712,
     "sourceId": 7517324,
     "sourceType": "datasetVersion"
    },
    {
     "datasetId": 4216847,
     "sourceId": 7652061,
     "sourceType": "datasetVersion"
    },
    {
     "datasetId": 4525836,
     "sourceId": 7742867,
     "sourceType": "datasetVersion"
    },
    {
     "datasetId": 4537599,
     "sourceId": 7759456,
     "sourceType": "datasetVersion"
    },
    {
     "datasetId": 4527097,
     "sourceId": 7761629,
     "sourceType": "datasetVersion"
    }
   ],
   "dockerImageVersionId": 30648,
   "isGpuEnabled": true,
   "isInternetEnabled": true,
   "language": "python",
   "sourceType": "notebook"
  },
  "kernelspec": {
   "display_name": "Python 3",
   "language": "python",
   "name": "python3"
  },
  "language_info": {
   "codemirror_mode": {
    "name": "ipython",
    "version": 3
   },
   "file_extension": ".py",
   "mimetype": "text/x-python",
   "name": "python",
   "nbconvert_exporter": "python",
   "pygments_lexer": "ipython3",
   "version": "3.10.13"
  },
  "papermill": {
   "default_parameters": {},
   "duration": 16280.6761,
   "end_time": "2024-03-13T19:01:14.890012",
   "environment_variables": {},
   "exception": null,
   "input_path": "__notebook__.ipynb",
   "output_path": "__notebook__.ipynb",
   "parameters": {},
   "start_time": "2024-03-13T14:29:54.213912",
   "version": "2.5.0"
  },
  "widgets": {
   "application/vnd.jupyter.widget-state+json": {
    "state": {
     "2d15e1dcb93e4c908d6ccc3284ab708b": {
      "model_module": "@jupyter-widgets/controls",
      "model_module_version": "1.5.0",
      "model_name": "FloatProgressModel",
      "state": {
       "_dom_classes": [],
       "_model_module": "@jupyter-widgets/controls",
       "_model_module_version": "1.5.0",
       "_model_name": "FloatProgressModel",
       "_view_count": null,
       "_view_module": "@jupyter-widgets/controls",
       "_view_module_version": "1.5.0",
       "_view_name": "ProgressView",
       "bar_style": "success",
       "description": "",
       "description_tooltip": null,
       "layout": "IPY_MODEL_8bff78105a6d4a0189ef1f99d874dad0",
       "max": 21355344,
       "min": 0,
       "orientation": "horizontal",
       "style": "IPY_MODEL_97958e0025a545c889ab3b668a849e66",
       "value": 21355344
      }
     },
     "32a3700eb1704c80b8ebe0ed6ba62d9f": {
      "model_module": "@jupyter-widgets/controls",
      "model_module_version": "1.5.0",
      "model_name": "DescriptionStyleModel",
      "state": {
       "_model_module": "@jupyter-widgets/controls",
       "_model_module_version": "1.5.0",
       "_model_name": "DescriptionStyleModel",
       "_view_count": null,
       "_view_module": "@jupyter-widgets/base",
       "_view_module_version": "1.2.0",
       "_view_name": "StyleView",
       "description_width": ""
      }
     },
     "3e2b6648baa74030a67879da61fea2a2": {
      "model_module": "@jupyter-widgets/controls",
      "model_module_version": "1.5.0",
      "model_name": "DescriptionStyleModel",
      "state": {
       "_model_module": "@jupyter-widgets/controls",
       "_model_module_version": "1.5.0",
       "_model_name": "DescriptionStyleModel",
       "_view_count": null,
       "_view_module": "@jupyter-widgets/base",
       "_view_module_version": "1.2.0",
       "_view_name": "StyleView",
       "description_width": ""
      }
     },
     "3f264dc6ef324181bb3b789bd4bd98c8": {
      "model_module": "@jupyter-widgets/base",
      "model_module_version": "1.2.0",
      "model_name": "LayoutModel",
      "state": {
       "_model_module": "@jupyter-widgets/base",
       "_model_module_version": "1.2.0",
       "_model_name": "LayoutModel",
       "_view_count": null,
       "_view_module": "@jupyter-widgets/base",
       "_view_module_version": "1.2.0",
       "_view_name": "LayoutView",
       "align_content": null,
       "align_items": null,
       "align_self": null,
       "border": null,
       "bottom": null,
       "display": null,
       "flex": null,
       "flex_flow": null,
       "grid_area": null,
       "grid_auto_columns": null,
       "grid_auto_flow": null,
       "grid_auto_rows": null,
       "grid_column": null,
       "grid_gap": null,
       "grid_row": null,
       "grid_template_areas": null,
       "grid_template_columns": null,
       "grid_template_rows": null,
       "height": null,
       "justify_content": null,
       "justify_items": null,
       "left": null,
       "margin": null,
       "max_height": null,
       "max_width": null,
       "min_height": null,
       "min_width": null,
       "object_fit": null,
       "object_position": null,
       "order": null,
       "overflow": null,
       "overflow_x": null,
       "overflow_y": null,
       "padding": null,
       "right": null,
       "top": null,
       "visibility": null,
       "width": null
      }
     },
     "5873a4dc1a5b47d18bf3631218556f90": {
      "model_module": "@jupyter-widgets/controls",
      "model_module_version": "1.5.0",
      "model_name": "HTMLModel",
      "state": {
       "_dom_classes": [],
       "_model_module": "@jupyter-widgets/controls",
       "_model_module_version": "1.5.0",
       "_model_name": "HTMLModel",
       "_view_count": null,
       "_view_module": "@jupyter-widgets/controls",
       "_view_module_version": "1.5.0",
       "_view_name": "HTMLView",
       "description": "",
       "description_tooltip": null,
       "layout": "IPY_MODEL_df593ad44d8f40d2b6ba2b2853e3122e",
       "placeholder": "​",
       "style": "IPY_MODEL_32a3700eb1704c80b8ebe0ed6ba62d9f",
       "value": " 21.4M/21.4M [00:00&lt;00:00, 67.2MB/s]"
      }
     },
     "783c0d71164b4f36af700965815ea0f4": {
      "model_module": "@jupyter-widgets/base",
      "model_module_version": "1.2.0",
      "model_name": "LayoutModel",
      "state": {
       "_model_module": "@jupyter-widgets/base",
       "_model_module_version": "1.2.0",
       "_model_name": "LayoutModel",
       "_view_count": null,
       "_view_module": "@jupyter-widgets/base",
       "_view_module_version": "1.2.0",
       "_view_name": "LayoutView",
       "align_content": null,
       "align_items": null,
       "align_self": null,
       "border": null,
       "bottom": null,
       "display": null,
       "flex": null,
       "flex_flow": null,
       "grid_area": null,
       "grid_auto_columns": null,
       "grid_auto_flow": null,
       "grid_auto_rows": null,
       "grid_column": null,
       "grid_gap": null,
       "grid_row": null,
       "grid_template_areas": null,
       "grid_template_columns": null,
       "grid_template_rows": null,
       "height": null,
       "justify_content": null,
       "justify_items": null,
       "left": null,
       "margin": null,
       "max_height": null,
       "max_width": null,
       "min_height": null,
       "min_width": null,
       "object_fit": null,
       "object_position": null,
       "order": null,
       "overflow": null,
       "overflow_x": null,
       "overflow_y": null,
       "padding": null,
       "right": null,
       "top": null,
       "visibility": null,
       "width": null
      }
     },
     "7bc09291414948319e962bee4ca151f4": {
      "model_module": "@jupyter-widgets/controls",
      "model_module_version": "1.5.0",
      "model_name": "HTMLModel",
      "state": {
       "_dom_classes": [],
       "_model_module": "@jupyter-widgets/controls",
       "_model_module_version": "1.5.0",
       "_model_name": "HTMLModel",
       "_view_count": null,
       "_view_module": "@jupyter-widgets/controls",
       "_view_module_version": "1.5.0",
       "_view_name": "HTMLView",
       "description": "",
       "description_tooltip": null,
       "layout": "IPY_MODEL_783c0d71164b4f36af700965815ea0f4",
       "placeholder": "​",
       "style": "IPY_MODEL_3e2b6648baa74030a67879da61fea2a2",
       "value": "model.safetensors: 100%"
      }
     },
     "8bff78105a6d4a0189ef1f99d874dad0": {
      "model_module": "@jupyter-widgets/base",
      "model_module_version": "1.2.0",
      "model_name": "LayoutModel",
      "state": {
       "_model_module": "@jupyter-widgets/base",
       "_model_module_version": "1.2.0",
       "_model_name": "LayoutModel",
       "_view_count": null,
       "_view_module": "@jupyter-widgets/base",
       "_view_module_version": "1.2.0",
       "_view_name": "LayoutView",
       "align_content": null,
       "align_items": null,
       "align_self": null,
       "border": null,
       "bottom": null,
       "display": null,
       "flex": null,
       "flex_flow": null,
       "grid_area": null,
       "grid_auto_columns": null,
       "grid_auto_flow": null,
       "grid_auto_rows": null,
       "grid_column": null,
       "grid_gap": null,
       "grid_row": null,
       "grid_template_areas": null,
       "grid_template_columns": null,
       "grid_template_rows": null,
       "height": null,
       "justify_content": null,
       "justify_items": null,
       "left": null,
       "margin": null,
       "max_height": null,
       "max_width": null,
       "min_height": null,
       "min_width": null,
       "object_fit": null,
       "object_position": null,
       "order": null,
       "overflow": null,
       "overflow_x": null,
       "overflow_y": null,
       "padding": null,
       "right": null,
       "top": null,
       "visibility": null,
       "width": null
      }
     },
     "97958e0025a545c889ab3b668a849e66": {
      "model_module": "@jupyter-widgets/controls",
      "model_module_version": "1.5.0",
      "model_name": "ProgressStyleModel",
      "state": {
       "_model_module": "@jupyter-widgets/controls",
       "_model_module_version": "1.5.0",
       "_model_name": "ProgressStyleModel",
       "_view_count": null,
       "_view_module": "@jupyter-widgets/base",
       "_view_module_version": "1.2.0",
       "_view_name": "StyleView",
       "bar_color": null,
       "description_width": ""
      }
     },
     "b5e38a4663fe4fde9eb76dcd29dcadb6": {
      "model_module": "@jupyter-widgets/controls",
      "model_module_version": "1.5.0",
      "model_name": "HBoxModel",
      "state": {
       "_dom_classes": [],
       "_model_module": "@jupyter-widgets/controls",
       "_model_module_version": "1.5.0",
       "_model_name": "HBoxModel",
       "_view_count": null,
       "_view_module": "@jupyter-widgets/controls",
       "_view_module_version": "1.5.0",
       "_view_name": "HBoxView",
       "box_style": "",
       "children": [
        "IPY_MODEL_7bc09291414948319e962bee4ca151f4",
        "IPY_MODEL_2d15e1dcb93e4c908d6ccc3284ab708b",
        "IPY_MODEL_5873a4dc1a5b47d18bf3631218556f90"
       ],
       "layout": "IPY_MODEL_3f264dc6ef324181bb3b789bd4bd98c8"
      }
     },
     "df593ad44d8f40d2b6ba2b2853e3122e": {
      "model_module": "@jupyter-widgets/base",
      "model_module_version": "1.2.0",
      "model_name": "LayoutModel",
      "state": {
       "_model_module": "@jupyter-widgets/base",
       "_model_module_version": "1.2.0",
       "_model_name": "LayoutModel",
       "_view_count": null,
       "_view_module": "@jupyter-widgets/base",
       "_view_module_version": "1.2.0",
       "_view_name": "LayoutView",
       "align_content": null,
       "align_items": null,
       "align_self": null,
       "border": null,
       "bottom": null,
       "display": null,
       "flex": null,
       "flex_flow": null,
       "grid_area": null,
       "grid_auto_columns": null,
       "grid_auto_flow": null,
       "grid_auto_rows": null,
       "grid_column": null,
       "grid_gap": null,
       "grid_row": null,
       "grid_template_areas": null,
       "grid_template_columns": null,
       "grid_template_rows": null,
       "height": null,
       "justify_content": null,
       "justify_items": null,
       "left": null,
       "margin": null,
       "max_height": null,
       "max_width": null,
       "min_height": null,
       "min_width": null,
       "object_fit": null,
       "object_position": null,
       "order": null,
       "overflow": null,
       "overflow_x": null,
       "overflow_y": null,
       "padding": null,
       "right": null,
       "top": null,
       "visibility": null,
       "width": null
      }
     }
    },
    "version_major": 2,
    "version_minor": 0
   }
  }
 },
 "nbformat": 4,
 "nbformat_minor": 5
}
