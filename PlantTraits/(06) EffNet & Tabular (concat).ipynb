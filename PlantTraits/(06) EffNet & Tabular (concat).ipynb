{
 "cells": [
  {
   "cell_type": "markdown",
   "id": "e559bf93",
   "metadata": {
    "papermill": {
     "duration": 0.008021,
     "end_time": "2024-04-16T14:21:58.500169",
     "exception": false,
     "start_time": "2024-04-16T14:21:58.492148",
     "status": "completed"
    },
    "tags": []
   },
   "source": [
    "- Notebook modified from https://www.kaggle.com/code/markwijkhuizen/planttraits2024-eda-training-pub.\n",
    "- Training only, EDA part not included.\n",
    "- Image model only, tabular data not used."
   ]
  },
  {
   "cell_type": "markdown",
   "id": "32fe185f",
   "metadata": {
    "papermill": {
     "duration": 0.007741,
     "end_time": "2024-04-16T14:21:58.515351",
     "exception": false,
     "start_time": "2024-04-16T14:21:58.507610",
     "status": "completed"
    },
    "tags": []
   },
   "source": [
    "## Import Libraries "
   ]
  },
  {
   "cell_type": "code",
   "execution_count": 1,
   "id": "32512aa1",
   "metadata": {
    "execution": {
     "iopub.execute_input": "2024-04-16T14:21:58.531420Z",
     "iopub.status.busy": "2024-04-16T14:21:58.531088Z",
     "iopub.status.idle": "2024-04-16T14:22:10.892336Z",
     "shell.execute_reply": "2024-04-16T14:22:10.891303Z"
    },
    "papermill": {
     "duration": 12.37206,
     "end_time": "2024-04-16T14:22:10.894696",
     "exception": false,
     "start_time": "2024-04-16T14:21:58.522636",
     "status": "completed"
    },
    "tags": []
   },
   "outputs": [],
   "source": [
    "import numpy as np\n",
    "import pandas as pd\n",
    "import matplotlib.pyplot as plt\n",
    "import imageio.v3 as imageio\n",
    "import albumentations as A\n",
    "\n",
    "from albumentations.pytorch import ToTensorV2\n",
    "from torch.utils.data import Dataset, DataLoader\n",
    "from torch import nn\n",
    "from tqdm.notebook import tqdm\n",
    "from sklearn.preprocessing import StandardScaler\n",
    "from sklearn.model_selection import train_test_split, KFold, cross_val_score\n",
    "\n",
    "import xgboost as xgb\n",
    "\n",
    "import torch\n",
    "import timm\n",
    "import glob\n",
    "import torchmetrics\n",
    "import time\n",
    "import psutil\n",
    "import os\n",
    "import time\n",
    "import pickle\n",
    "\n",
    "tqdm.pandas()\n",
    "device = torch.device(\"cuda:0\" if torch.cuda.is_available() else \"cpu\")"
   ]
  },
  {
   "cell_type": "code",
   "execution_count": 2,
   "id": "79946c48",
   "metadata": {
    "execution": {
     "iopub.execute_input": "2024-04-16T14:22:10.911235Z",
     "iopub.status.busy": "2024-04-16T14:22:10.910900Z",
     "iopub.status.idle": "2024-04-16T14:22:10.916862Z",
     "shell.execute_reply": "2024-04-16T14:22:10.915939Z"
    },
    "papermill": {
     "duration": 0.016323,
     "end_time": "2024-04-16T14:22:10.918779",
     "exception": false,
     "start_time": "2024-04-16T14:22:10.902456",
     "status": "completed"
    },
    "tags": []
   },
   "outputs": [],
   "source": [
    "class Config():\n",
    "    IMAGE_SIZE = 384\n",
    "#     BACKBONE = 'swin_large_patch4_window12_384.ms_in22k_ft_in1k'\n",
    "    BACKBONE = 'tf_efficientnet_b0'\n",
    "    TARGET_COLUMNS = ['X4_mean', 'X11_mean', 'X18_mean', 'X50_mean', 'X26_mean', 'X3112_mean']\n",
    "    \n",
    "    N_TARGETS = len(TARGET_COLUMNS)\n",
    "    BATCH_SIZE = 32\n",
    "    LR_MAX = 1e-4\n",
    "    WEIGHT_DECAY = 0.01\n",
    "    N_EPOCHS = 8\n",
    "    TRAIN_MODEL = True\n",
    "    IS_INTERACTIVE = os.environ['KAGGLE_KERNEL_RUN_TYPE'] == 'Interactive'\n",
    "    \n",
    "#     MODEL_PATH = '/kaggle/input/plainttraits2024-swintransformer/model.pth'\n",
    "    MODEL_PATH = '/kaggle/input/planttraits2024-swintransformer-tabular/model.pth'\n",
    "        \n",
    "CONFIG = Config()"
   ]
  },
  {
   "cell_type": "markdown",
   "id": "c9bdea3b",
   "metadata": {
    "papermill": {
     "duration": 0.007096,
     "end_time": "2024-04-16T14:22:10.933283",
     "exception": false,
     "start_time": "2024-04-16T14:22:10.926187",
     "status": "completed"
    },
    "tags": []
   },
   "source": [
    "## Load Data"
   ]
  },
  {
   "cell_type": "code",
   "execution_count": 3,
   "id": "413a00f3",
   "metadata": {
    "execution": {
     "iopub.execute_input": "2024-04-16T14:22:10.949032Z",
     "iopub.status.busy": "2024-04-16T14:22:10.948750Z",
     "iopub.status.idle": "2024-04-16T14:22:46.502310Z",
     "shell.execute_reply": "2024-04-16T14:22:46.501362Z"
    },
    "papermill": {
     "duration": 35.573153,
     "end_time": "2024-04-16T14:22:46.513727",
     "exception": false,
     "start_time": "2024-04-16T14:22:10.940574",
     "status": "completed"
    },
    "tags": []
   },
   "outputs": [
    {
     "name": "stdout",
     "output_type": "stream",
     "text": [
      "N_TRAIN_SAMPLES: 49168 N_TEST_SAMPLES: 6545\n",
      "CPU times: user 1.68 s, sys: 2.86 s, total: 4.54 s\n",
      "Wall time: 35.5 s\n"
     ]
    }
   ],
   "source": [
    "%%time\n",
    "read_images = False\n",
    "\n",
    "if not read_images:\n",
    "    train = pd.read_pickle('/kaggle/input/plainttraits2024-swintransformer/train.pkl')\n",
    "    test = pd.read_pickle('/kaggle/input/plainttraits2024-swintransformer/test.pkl')\n",
    "else: \n",
    "    # if CONFIG.TRAIN_MODEL:\n",
    "    train = pd.read_csv('/kaggle/input/planttraits2024/train.csv')\n",
    "    train['file_path'] = train['id'].apply(lambda s: f'/kaggle/input/planttraits2024/train_images/{s}.jpeg')\n",
    "    train['jpeg_bytes'] = train['file_path'].progress_apply(lambda fp: open(fp, 'rb').read())\n",
    "    train.to_pickle('train.pkl')\n",
    "\n",
    "    test = pd.read_csv('/kaggle/input/planttraits2024/test.csv')\n",
    "    test['file_path'] = test['id'].apply(lambda s: f'/kaggle/input/planttraits2024/test_images/{s}.jpeg')\n",
    "    test['jpeg_bytes'] = test['file_path'].progress_apply(lambda fp: open(fp, 'rb').read())\n",
    "    test.to_pickle('test.pkl')\n",
    "\n",
    "for column in CONFIG.TARGET_COLUMNS:\n",
    "    lower_quantile = train[column].quantile(0.005)\n",
    "    upper_quantile = train[column].quantile(0.985)  \n",
    "    train = train[(train[column] >= lower_quantile) & (train[column] <= upper_quantile)]    \n",
    "    \n",
    "sd_columns = [col for col in train.columns if col.endswith('_sd')]\n",
    "train = train.drop(columns=sd_columns)\n",
    "    \n",
    "CONFIG.N_TRAIN_SAMPLES = len(train)\n",
    "CONFIG.N_STEPS_PER_EPOCH = (CONFIG.N_TRAIN_SAMPLES // CONFIG.BATCH_SIZE)\n",
    "CONFIG.N_STEPS = CONFIG.N_STEPS_PER_EPOCH * CONFIG.N_EPOCHS + 1    \n",
    "CONFIG.TABULAR_COLUMNS = train.filter(regex='^(WORLDCLIM_BIO|SOIL|MODIS_2000|VOD)').columns\n",
    "    \n",
    "if CONFIG.TRAIN_MODEL:\n",
    "    print('N_TRAIN_SAMPLES:', len(train), 'N_TEST_SAMPLES:', len(test))\n",
    "else:\n",
    "    print('N_TEST_SAMPLES:', len(test))"
   ]
  },
  {
   "cell_type": "code",
   "execution_count": 4,
   "id": "e8859ec0",
   "metadata": {
    "execution": {
     "iopub.execute_input": "2024-04-16T14:22:46.530691Z",
     "iopub.status.busy": "2024-04-16T14:22:46.530334Z",
     "iopub.status.idle": "2024-04-16T14:22:46.553812Z",
     "shell.execute_reply": "2024-04-16T14:22:46.552999Z"
    },
    "papermill": {
     "duration": 0.034838,
     "end_time": "2024-04-16T14:22:46.556209",
     "exception": false,
     "start_time": "2024-04-16T14:22:46.521371",
     "status": "completed"
    },
    "tags": []
   },
   "outputs": [],
   "source": [
    "# if CONFIG.TRAIN_MODEL:\n",
    "LOG_FEATURES = ['X4_mean', 'X11_mean', 'X18_mean', 'X50_mean', 'X26_mean', 'X3112_mean']\n",
    "\n",
    "y_df = np.zeros_like(train[CONFIG.TARGET_COLUMNS], dtype=np.float32)\n",
    "for target_idx, target in enumerate(CONFIG.TARGET_COLUMNS):\n",
    "    v = train[target].values\n",
    "    if target in LOG_FEATURES:\n",
    "        v = np.log10(v)\n",
    "    y_df[:, target_idx] = v\n",
    "\n",
    "SCALER = StandardScaler()\n",
    "y_df = SCALER.fit_transform(y_df)"
   ]
  },
  {
   "cell_type": "code",
   "execution_count": 5,
   "id": "57cb2f33",
   "metadata": {
    "execution": {
     "iopub.execute_input": "2024-04-16T14:22:46.573275Z",
     "iopub.status.busy": "2024-04-16T14:22:46.572897Z",
     "iopub.status.idle": "2024-04-16T14:22:46.643622Z",
     "shell.execute_reply": "2024-04-16T14:22:46.642677Z"
    },
    "papermill": {
     "duration": 0.081896,
     "end_time": "2024-04-16T14:22:46.645992",
     "exception": false,
     "start_time": "2024-04-16T14:22:46.564096",
     "status": "completed"
    },
    "tags": []
   },
   "outputs": [],
   "source": [
    "# Splitting the data into training and validation sets\n",
    "train_df, val_df, y_train, y_val = train_test_split(train, y_df, test_size=0.2, random_state=42)"
   ]
  },
  {
   "cell_type": "code",
   "execution_count": 6,
   "id": "760bb70d",
   "metadata": {
    "execution": {
     "iopub.execute_input": "2024-04-16T14:22:46.664835Z",
     "iopub.status.busy": "2024-04-16T14:22:46.664175Z",
     "iopub.status.idle": "2024-04-16T14:22:46.852947Z",
     "shell.execute_reply": "2024-04-16T14:22:46.852176Z"
    },
    "papermill": {
     "duration": 0.200824,
     "end_time": "2024-04-16T14:22:46.855413",
     "exception": false,
     "start_time": "2024-04-16T14:22:46.654589",
     "status": "completed"
    },
    "tags": []
   },
   "outputs": [],
   "source": [
    "# if CONFIG.TRAIN_MODEL:\n",
    "# LOG_FEATURES_TABULAR = [30, 31, 32, 33, 34, 35, 37, 41, 62, 63, 64, 65, 66, 67, 69, 70, 72, 74, 75, 77, 79, 80, 82, 84, 85, 87, 89, 90, 92, 94, 95, 97, 99, 100, 102, 104, 105, 107, 109, 110, 112, 114, 115, 117, 119, 120, 122, 124, 125]\n",
    "# LOG_FEATURES_TABULAR = []\n",
    "\n",
    "# tabular_df_train = np.zeros_like(train_df[CONFIG.TABULAR_COLUMNS], dtype=np.float64)\n",
    "# tabular_df_val = np.zeros_like(val_df[CONFIG.TABULAR_COLUMNS], dtype=np.float64)\n",
    "# tabular_df_test = np.zeros_like(test[CONFIG.TABULAR_COLUMNS], dtype=np.float64)\n",
    "\n",
    "# for tabular_df, df in zip([tabular_df_train, tabular_df_val, tabular_df_test], [train_df, val_df, test]):\n",
    "#     for col_idx, col in enumerate(CONFIG.TABULAR_COLUMNS):\n",
    "#         v = df[col].values\n",
    "#         if col_idx in LOG_FEATURES_TABULAR:\n",
    "#             v = np.log10(v)\n",
    "#         tabular_df[:, col_idx] = v \n",
    "\n",
    "SCALER_tabular = StandardScaler()\n",
    "tabular_df_train = SCALER_tabular.fit_transform(train_df[CONFIG.TABULAR_COLUMNS])\n",
    "tabular_df_val = SCALER_tabular.transform(val_df[CONFIG.TABULAR_COLUMNS])\n",
    "tabular_df_test = SCALER_tabular.fit_transform(test[CONFIG.TABULAR_COLUMNS])"
   ]
  },
  {
   "cell_type": "code",
   "execution_count": 7,
   "id": "f633af78",
   "metadata": {
    "execution": {
     "iopub.execute_input": "2024-04-16T14:22:46.872668Z",
     "iopub.status.busy": "2024-04-16T14:22:46.872366Z",
     "iopub.status.idle": "2024-04-16T14:22:46.876559Z",
     "shell.execute_reply": "2024-04-16T14:22:46.875596Z"
    },
    "papermill": {
     "duration": 0.014991,
     "end_time": "2024-04-16T14:22:46.878617",
     "exception": false,
     "start_time": "2024-04-16T14:22:46.863626",
     "status": "completed"
    },
    "tags": []
   },
   "outputs": [],
   "source": [
    "# for i, col in enumerate(CONFIG.TABULAR_COLUMNS):\n",
    "#     print(i, col)\n",
    "#     train[col].plot.hist(bins=12, alpha=0.5)\n",
    "#     plt.show()\n",
    "#     plt.hist(tabular_df_train[i], bins=12)\n",
    "#     plt.show()"
   ]
  },
  {
   "cell_type": "code",
   "execution_count": 8,
   "id": "5e660bd3",
   "metadata": {
    "execution": {
     "iopub.execute_input": "2024-04-16T14:22:46.895011Z",
     "iopub.status.busy": "2024-04-16T14:22:46.894447Z",
     "iopub.status.idle": "2024-04-16T14:22:46.909604Z",
     "shell.execute_reply": "2024-04-16T14:22:46.908909Z"
    },
    "papermill": {
     "duration": 0.025457,
     "end_time": "2024-04-16T14:22:46.911508",
     "exception": false,
     "start_time": "2024-04-16T14:22:46.886051",
     "status": "completed"
    },
    "tags": []
   },
   "outputs": [],
   "source": [
    "MEAN = np.array([0.485, 0.456, 0.406])\n",
    "STD = np.array([0.229, 0.224, 0.225])\n",
    "\n",
    "TRAIN_TRANSFORMS = A.Compose([\n",
    "        A.HorizontalFlip(p=0.5),\n",
    "        A.RandomSizedCrop(\n",
    "            [int(0.85*CONFIG.IMAGE_SIZE), CONFIG.IMAGE_SIZE],\n",
    "            CONFIG.IMAGE_SIZE, CONFIG.IMAGE_SIZE, w2h_ratio=1.0, p=0.75),\n",
    "        A.Resize(CONFIG.IMAGE_SIZE, CONFIG.IMAGE_SIZE),\n",
    "        A.RandomBrightnessContrast(brightness_limit=0.1, contrast_limit=0.1, p=0.25),\n",
    "        A.ImageCompression(quality_lower=85, quality_upper=100, p=0.25),\n",
    "        A.ToFloat(),\n",
    "        A.Normalize(mean=MEAN, std=STD, max_pixel_value=1),\n",
    "        ToTensorV2(),\n",
    "    ])\n",
    "\n",
    "TEST_TRANSFORMS = A.Compose([\n",
    "        A.Resize(CONFIG.IMAGE_SIZE, CONFIG.IMAGE_SIZE),\n",
    "        A.ToFloat(),\n",
    "        A.Normalize(mean=MEAN, std=STD, max_pixel_value=1),\n",
    "        ToTensorV2(),\n",
    "    ])\n",
    "\n",
    "class Dataset(Dataset):\n",
    "    def __init__(self, X_jpeg_bytes, X_tabular, y, transforms=None):\n",
    "        self.X_jpeg_bytes = X_jpeg_bytes\n",
    "        self.X_tabular = X_tabular\n",
    "        self.y = y\n",
    "        self.transforms = transforms\n",
    "\n",
    "    def __len__(self):\n",
    "        return len(self.X_jpeg_bytes)\n",
    "\n",
    "    def __getitem__(self, index):\n",
    "        X_sample = self.transforms(\n",
    "            image=imageio.imread(self.X_jpeg_bytes[index]),\n",
    "        )\n",
    "        X_sample['tabular'] = self.X_tabular[index].astype('float32')\n",
    "        y_sample = self.y[index]\n",
    "        \n",
    "        return X_sample, y_sample\n",
    "\n",
    "if CONFIG.TRAIN_MODEL:\n",
    "    # Creating datasets for training and validation\n",
    "    train_dataset = Dataset(\n",
    "        train_df['jpeg_bytes'].values,\n",
    "        tabular_df_train,\n",
    "        y_train,\n",
    "        TRAIN_TRANSFORMS,\n",
    "    )\n",
    "\n",
    "    val_dataset = Dataset(\n",
    "        val_df['jpeg_bytes'].values,\n",
    "        tabular_df_val,\n",
    "        y_val,\n",
    "        TEST_TRANSFORMS,\n",
    "    )\n",
    "\n",
    "    # Creating dataloaders for training and validation\n",
    "    train_dataloader = DataLoader(\n",
    "        train_dataset,\n",
    "        batch_size=CONFIG.BATCH_SIZE,\n",
    "        shuffle=True,\n",
    "        drop_last=True,\n",
    "        num_workers=psutil.cpu_count(),\n",
    "    )\n",
    "\n",
    "    val_dataloader = DataLoader(\n",
    "        val_dataset,\n",
    "        batch_size=CONFIG.BATCH_SIZE,\n",
    "        shuffle=False,  # No need to shuffle validation data\n",
    "        num_workers=psutil.cpu_count(),\n",
    "    )\n",
    "\n",
    "\n",
    "\n",
    "test_dataset = Dataset(\n",
    "    test['jpeg_bytes'].values,\n",
    "    tabular_df_test,\n",
    "    test['id'].values,\n",
    "    TEST_TRANSFORMS,\n",
    ")"
   ]
  },
  {
   "cell_type": "code",
   "execution_count": 9,
   "id": "7747e486",
   "metadata": {
    "execution": {
     "iopub.execute_input": "2024-04-16T14:22:46.927306Z",
     "iopub.status.busy": "2024-04-16T14:22:46.927023Z",
     "iopub.status.idle": "2024-04-16T14:22:47.646853Z",
     "shell.execute_reply": "2024-04-16T14:22:47.646013Z"
    },
    "papermill": {
     "duration": 0.73036,
     "end_time": "2024-04-16T14:22:47.649167",
     "exception": false,
     "start_time": "2024-04-16T14:22:46.918807",
     "status": "completed"
    },
    "tags": []
   },
   "outputs": [
    {
     "data": {
      "application/vnd.jupyter.widget-view+json": {
       "model_id": "1ebdefd15c0c4fabac3b37400c263bda",
       "version_major": 2,
       "version_minor": 0
      },
      "text/plain": [
       "model.safetensors:   0%|          | 0.00/21.4M [00:00<?, ?B/s]"
      ]
     },
     "metadata": {},
     "output_type": "display_data"
    }
   ],
   "source": [
    "class Model(nn.Module):\n",
    "    def __init__(self):\n",
    "        super().__init__()\n",
    "        self.backbone = timm.create_model(\n",
    "                CONFIG.BACKBONE,\n",
    "                pretrained=True,\n",
    "#                 num_classes=CONFIG.N_TARGETS,\n",
    "                num_classes=0,\n",
    "        )\n",
    "        \n",
    "        # Freeze the backbone weights\n",
    "#         for param in self.backbone.parameters():\n",
    "#             param.requires_grad = False\n",
    "        \n",
    "        # EfficientNet = 1280, SwinTrans = 1536, Tabular = 163\n",
    "        self.custom_layers = nn.Sequential(\n",
    "            nn.BatchNorm1d(1280+163),\n",
    "            nn.Linear(1280+163, 512),\n",
    "            nn.ReLU(), \n",
    "            nn.Linear(512, 6)  \n",
    "        )\n",
    "        \n",
    "    def forward(self, inputs):\n",
    "        image = inputs['image']\n",
    "        tabular = inputs['tabular']\n",
    "\n",
    "        x = self.backbone(image)\n",
    "        x = torch.cat((tabular, x), dim=1)\n",
    "        x = self.custom_layers(x)\n",
    "        \n",
    "        return x\n",
    "\n",
    "\n",
    "model = Model()\n",
    "model = model.to(device)\n",
    "# print(model.backbone.head)"
   ]
  },
  {
   "cell_type": "code",
   "execution_count": 10,
   "id": "f1ed758b",
   "metadata": {
    "execution": {
     "iopub.execute_input": "2024-04-16T14:22:47.666716Z",
     "iopub.status.busy": "2024-04-16T14:22:47.666018Z",
     "iopub.status.idle": "2024-04-16T14:22:47.675009Z",
     "shell.execute_reply": "2024-04-16T14:22:47.674212Z"
    },
    "papermill": {
     "duration": 0.019653,
     "end_time": "2024-04-16T14:22:47.676799",
     "exception": false,
     "start_time": "2024-04-16T14:22:47.657146",
     "status": "completed"
    },
    "tags": []
   },
   "outputs": [],
   "source": [
    "create_features = False\n",
    "\n",
    "if create_features:\n",
    "    feature_model = torch.load(CONFIG.MODEL_PATH)\n",
    "    feature_model.backbone.head.fc = nn.Identity()\n",
    "    feature_model.to(device);\n",
    "\n",
    "#     dataset = Dataset(\n",
    "#         train['jpeg_bytes'].values,\n",
    "#         y_df,\n",
    "#         TEST_TRANSFORMS,\n",
    "#     )\n",
    "    dataset = test_dataset\n",
    "\n",
    "    # Create a DataLoader for the dataset\n",
    "    dataloader = DataLoader(dataset, batch_size=CONFIG.BATCH_SIZE, shuffle=False)\n",
    "\n",
    "    # Define the shape of the features array\n",
    "    num_samples = len(dataset)\n",
    "    num_features = 1536\n",
    "\n",
    "    # Initialize an empty array filled with zeros to store features\n",
    "    features_array = np.zeros((num_samples, num_features), dtype=np.float32)\n",
    "\n",
    "    # Set the model to evaluation mode\n",
    "    model.eval()\n",
    "\n",
    "    # Initialize the index counter\n",
    "    index = 0\n",
    "\n",
    "    # Iterate over the data loader batches\n",
    "    for batch in dataloader:\n",
    "        if index % 10 == 0:\n",
    "            print(index, end=', ')\n",
    "\n",
    "        # Extract inputs and labels from the batch\n",
    "        inputs, _ = batch\n",
    "        inputs = inputs.to(device)\n",
    "\n",
    "        # Forward pass through the model to extract features\n",
    "        with torch.no_grad():\n",
    "            features = feature_model(inputs)\n",
    "\n",
    "        # Flatten the features\n",
    "        features = features.view(features.size(0), -1)\n",
    "\n",
    "        # Calculate the end index for the current batch\n",
    "        end_index = index + inputs.size(0)\n",
    "\n",
    "        # Assign features to the pre-allocated array\n",
    "        features_array[index:end_index] = features.cpu().numpy()\n",
    "\n",
    "        # Update the index counter\n",
    "        index = end_index\n",
    "\n",
    "    # Save the features as a NumPy array\n",
    "    np.save('features_test.npy', features_array)\n",
    "    \n"
   ]
  },
  {
   "cell_type": "code",
   "execution_count": 11,
   "id": "f91beaa7",
   "metadata": {
    "execution": {
     "iopub.execute_input": "2024-04-16T14:22:47.692933Z",
     "iopub.status.busy": "2024-04-16T14:22:47.692669Z",
     "iopub.status.idle": "2024-04-16T14:22:47.696579Z",
     "shell.execute_reply": "2024-04-16T14:22:47.695758Z"
    },
    "papermill": {
     "duration": 0.014146,
     "end_time": "2024-04-16T14:22:47.698433",
     "exception": false,
     "start_time": "2024-04-16T14:22:47.684287",
     "status": "completed"
    },
    "tags": []
   },
   "outputs": [],
   "source": [
    "# def count_parameters(model):\n",
    "#     return sum(p.numel() for p in model.parameters() if p.requires_grad)\n",
    "\n",
    "# # Count parameters\n",
    "# num_parameters = count_parameters(model)\n",
    "# print(\"Number of parameters in the model:\", num_parameters)"
   ]
  },
  {
   "cell_type": "code",
   "execution_count": 12,
   "id": "18e3dc54",
   "metadata": {
    "execution": {
     "iopub.execute_input": "2024-04-16T14:22:47.714449Z",
     "iopub.status.busy": "2024-04-16T14:22:47.714204Z",
     "iopub.status.idle": "2024-04-16T14:22:47.742420Z",
     "shell.execute_reply": "2024-04-16T14:22:47.741707Z"
    },
    "papermill": {
     "duration": 0.038425,
     "end_time": "2024-04-16T14:22:47.744299",
     "exception": false,
     "start_time": "2024-04-16T14:22:47.705874",
     "status": "completed"
    },
    "tags": []
   },
   "outputs": [],
   "source": [
    "def get_lr_scheduler(optimizer):\n",
    "    return torch.optim.lr_scheduler.OneCycleLR(\n",
    "        optimizer=optimizer,\n",
    "        max_lr=CONFIG.LR_MAX,\n",
    "        total_steps=CONFIG.N_STEPS,\n",
    "        pct_start=0.1,\n",
    "        anneal_strategy='cos',\n",
    "        div_factor=1e1,\n",
    "        final_div_factor=1e1,\n",
    "    )\n",
    "\n",
    "class AverageMeter(object):\n",
    "    def __init__(self):\n",
    "        self.reset()\n",
    "\n",
    "    def reset(self):\n",
    "        self.avg = 0\n",
    "        self.sum = 0\n",
    "        self.count = 0\n",
    "\n",
    "    def update(self, val):\n",
    "        self.sum += val.sum()\n",
    "        self.count += val.numel()\n",
    "        self.avg = self.sum / self.count\n",
    "\n",
    "if CONFIG.TRAIN_MODEL:\n",
    "    MAE = torchmetrics.regression.MeanAbsoluteError().to(device)\n",
    "    R2 = torchmetrics.regression.R2Score(num_outputs=CONFIG.N_TARGETS, multioutput='uniform_average').to(device)\n",
    "    LOSS = AverageMeter()\n",
    "\n",
    "    Y_MEAN = torch.tensor(y_df).mean(dim=0).to(device)\n",
    "    EPS = torch.tensor([1e-6]).to(device)\n",
    "\n",
    "    def r2_loss(y_pred, y_true):\n",
    "        ss_res = torch.sum((y_true - y_pred)**2, dim=0)\n",
    "        ss_total = torch.sum((y_true - Y_MEAN)**2, dim=0)\n",
    "        ss_total = torch.maximum(ss_total, EPS)\n",
    "        r2 = torch.mean(ss_res / ss_total)\n",
    "        return r2\n",
    "\n",
    "    LOSS_FN = r2_loss\n",
    "\n",
    "    optimizer = torch.optim.AdamW(\n",
    "        params=model.parameters(),\n",
    "        lr=CONFIG.LR_MAX,\n",
    "        weight_decay=CONFIG.WEIGHT_DECAY,\n",
    "    )\n",
    "\n",
    "    LR_SCHEDULER = get_lr_scheduler(optimizer)"
   ]
  },
  {
   "cell_type": "code",
   "execution_count": 13,
   "id": "ee171c00",
   "metadata": {
    "execution": {
     "iopub.execute_input": "2024-04-16T14:22:47.761654Z",
     "iopub.status.busy": "2024-04-16T14:22:47.761137Z",
     "iopub.status.idle": "2024-04-16T15:20:02.678854Z",
     "shell.execute_reply": "2024-04-16T15:20:02.677767Z"
    },
    "papermill": {
     "duration": 3434.936878,
     "end_time": "2024-04-16T15:20:02.689472",
     "exception": false,
     "start_time": "2024-04-16T14:22:47.752594",
     "status": "completed"
    },
    "tags": []
   },
   "outputs": [
    {
     "name": "stdout",
     "output_type": "stream",
     "text": [
      "Start Training:\n",
      "EPOCH 01, 1229/1229 | loss: 0.7823, mae: 0.6951, r2: 0.2252, step: 0.756s, lr: 1.00e-04\n",
      "EPOCH VAL, 01, 0308/308 | loss: 0.6965, mae: 0.6464, r2: 0.3153, step: 0.091s, lr: 1.00e-04\n",
      "\n",
      "EPOCH 02, 1229/1229 | loss: 0.6575, mae: 0.6278, r2: 0.3526, step: 0.287s, lr: 9.70e-05\n",
      "EPOCH VAL, 02, 0308/308 | loss: 0.6402, mae: 0.6160, r2: 0.3699, step: 0.025s, lr: 9.70e-05\n",
      "\n",
      "EPOCH 03, 1229/1229 | loss: 0.6040, mae: 0.5984, r2: 0.4071, step: 0.287s, lr: 8.84e-05\n",
      "EPOCH VAL, 03, 0308/308 | loss: 0.6233, mae: 0.6039, r2: 0.3886, step: 0.025s, lr: 8.84e-05\n",
      "\n",
      "EPOCH 04, 1229/1229 | loss: 0.5615, mae: 0.5753, r2: 0.4493, step: 0.287s, lr: 7.52e-05\n",
      "EPOCH VAL, 04, 0308/308 | loss: 0.6167, mae: 0.6002, r2: 0.3968, step: 0.025s, lr: 7.52e-05\n",
      "\n",
      "EPOCH 05, 1229/1229 | loss: 0.5227, mae: 0.5544, r2: 0.4879, step: 0.288s, lr: 5.91e-05\n",
      "EPOCH VAL, 05, 0308/308 | loss: 0.6046, mae: 0.5952, r2: 0.4079, step: 0.025s, lr: 5.91e-05\n",
      "\n",
      "EPOCH 06, 1229/1229 | loss: 0.4869, mae: 0.5341, r2: 0.5236, step: 0.287s, lr: 4.19e-05\n",
      "EPOCH VAL, 06, 0308/308 | loss: 0.6023, mae: 0.5926, r2: 0.4109, step: 0.025s, lr: 4.19e-05\n",
      "\n",
      "EPOCH 07, 1229/1229 | loss: 0.4551, mae: 0.5160, r2: 0.5545, step: 0.287s, lr: 2.57e-05\n",
      "EPOCH VAL, 07, 0308/308 | loss: 0.6016, mae: 0.5925, r2: 0.4112, step: 0.025s, lr: 2.57e-05\n",
      "\n",
      "EPOCH 08, 1229/1229 | loss: 0.4332, mae: 0.5029, r2: 0.5761, step: 0.288s, lr: 1.26e-05\n",
      "EPOCH VAL, 08, 0308/308 | loss: 0.6044, mae: 0.5929, r2: 0.4096, step: 0.025s, lr: 1.26e-05\n",
      "\n"
     ]
    }
   ],
   "source": [
    "if CONFIG.TRAIN_MODEL:\n",
    "    print(\"Start Training:\")\n",
    "    \n",
    "    best = float('inf')\n",
    "    for epoch in range(CONFIG.N_EPOCHS):\n",
    "        MAE.reset()\n",
    "        R2.reset()\n",
    "        LOSS.reset()\n",
    "        model.train()\n",
    "\n",
    "        for step, (X_batch, y_true) in enumerate(train_dataloader):\n",
    "            X_batch['image'] = X_batch['image'].to(device)\n",
    "            X_batch['tabular'] = X_batch['tabular'].to(device)\n",
    "            y_true = y_true.to(device)\n",
    "            t_start = time.perf_counter_ns()\n",
    "            y_pred = model(X_batch)\n",
    "            loss = LOSS_FN(y_pred, y_true)\n",
    "            LOSS.update(loss)\n",
    "            loss.backward()\n",
    "            optimizer.step()\n",
    "            optimizer.zero_grad()\n",
    "            LR_SCHEDULER.step()\n",
    "            MAE.update(y_pred, y_true)\n",
    "            R2.update(y_pred, y_true)\n",
    "\n",
    "            if not CONFIG.IS_INTERACTIVE and (step+1) == len(train_dataloader):\n",
    "                print(\n",
    "                    f'EPOCH {epoch+1:02d}, {step+1:04d}/{len(train_dataloader)} | ' + \n",
    "                    f'loss: {LOSS.avg:.4f}, mae: {MAE.compute().item():.4f}, r2: {R2.compute().item():.4f}, ' +\n",
    "                    f'step: {(time.perf_counter_ns()-t_start)*1e-9:.3f}s, lr: {LR_SCHEDULER.get_last_lr()[0]:.2e}',\n",
    "                )\n",
    "            elif CONFIG.IS_INTERACTIVE:\n",
    "                print(\n",
    "                    f'\\rEPOCH {epoch+1:02d}, {step+1:04d}/{len(train_dataloader)} | ' + \n",
    "                    f'loss: {LOSS.avg:.4f}, mae: {MAE.compute().item():.4f}, r2: {R2.compute().item():.4f}, ' +\n",
    "                    f'step: {(time.perf_counter_ns()-t_start)*1e-9:.3f}s, lr: {LR_SCHEDULER.get_last_lr()[0]:.2e}',\n",
    "                    end='\\n' if (step + 1) == CONFIG.N_STEPS_PER_EPOCH else '', flush=True,\n",
    "                )\n",
    "            \n",
    "        MAE.reset()\n",
    "        R2.reset()\n",
    "        LOSS.reset()\n",
    "        model.eval()\n",
    "        \n",
    "        for step, (X_batch, y_true) in enumerate(val_dataloader):\n",
    "            X_batch['image'] = X_batch['image'].to(device)\n",
    "            X_batch['tabular'] = X_batch['tabular'].to(device)\n",
    "            y_true = y_true.to(device)\n",
    "            t_start = time.perf_counter_ns()\n",
    "            with torch.no_grad():\n",
    "                y_pred = model(X_batch)\n",
    "                loss = LOSS_FN(y_pred, y_true)\n",
    "                \n",
    "            LOSS.update(loss)\n",
    "            MAE.update(y_pred, y_true)\n",
    "            R2.update(y_pred, y_true)\n",
    "            if not CONFIG.IS_INTERACTIVE and (step+1) == len(val_dataloader):\n",
    "                print(\n",
    "                    f'EPOCH VAL, {epoch+1:02d}, {step+1:04d}/{len(val_dataloader)} | ' + \n",
    "                    f'loss: {LOSS.avg:.4f}, mae: {MAE.compute().item():.4f}, r2: {R2.compute().item():.4f}, ' +\n",
    "                    f'step: {(time.perf_counter_ns()-t_start)*1e-9:.3f}s, lr: {LR_SCHEDULER.get_last_lr()[0]:.2e}',\n",
    "                )\n",
    "            elif CONFIG.IS_INTERACTIVE:\n",
    "                print(\n",
    "                    f'\\rEPOCH VAL {epoch+1:02d}, {step+1:04d}/{len(val_dataloader)} | ' + \n",
    "                    f'loss: {LOSS.avg:.4f}, mae: {MAE.compute().item():.4f}, r2: {R2.compute().item():.4f}, ' +\n",
    "                    f'step: {(time.perf_counter_ns()-t_start)*1e-9:.3f}s, lr: {LR_SCHEDULER.get_last_lr()[0]:.2e}',\n",
    "                    end='\\n' if (step + 1) == CONFIG.N_STEPS_PER_EPOCH else '', flush=True,\n",
    "                )\n",
    "        print()\n",
    "        if LOSS.avg < best:\n",
    "            best = LOSS.avg\n",
    "            torch.save(model, 'model.pth')\n",
    "            \n",
    "            \n",
    "else:\n",
    "    model = torch.load(CONFIG.MODEL_PATH)\n",
    "    model.to(device)"
   ]
  },
  {
   "cell_type": "code",
   "execution_count": 14,
   "id": "156d6a83",
   "metadata": {
    "execution": {
     "iopub.execute_input": "2024-04-16T15:20:02.708839Z",
     "iopub.status.busy": "2024-04-16T15:20:02.708523Z",
     "iopub.status.idle": "2024-04-16T15:20:02.713449Z",
     "shell.execute_reply": "2024-04-16T15:20:02.712598Z"
    },
    "papermill": {
     "duration": 0.016789,
     "end_time": "2024-04-16T15:20:02.715245",
     "exception": false,
     "start_time": "2024-04-16T15:20:02.698456",
     "status": "completed"
    },
    "tags": []
   },
   "outputs": [],
   "source": [
    "# train_features = np.load('/kaggle/input/planttraits2024-image-features/features_train.npy')\n",
    "# test_features = np.load('/kaggle/input/planttraits2024-image-features/features_test.npy')\n",
    "\n",
    "# features_df = pd.DataFrame(train_features)\n",
    "# features_df.columns = [f'feature_{i}' for i in range(train_features.shape[1])]\n",
    "# features_df.head()\n",
    "\n",
    "# train_df = pd.concat([train.reset_index(drop=True), features_df.reset_index(drop=True)], axis=1)\n",
    "\n",
    "# features_df = pd.DataFrame(test_features)\n",
    "# features_df.columns = [f'feature_{i}' for i in range(test_features.shape[1])]\n",
    "# features_df.head()\n",
    "\n",
    "# test_df = pd.concat([test.reset_index(drop=True), features_df.reset_index(drop=True)], axis=1)"
   ]
  },
  {
   "cell_type": "code",
   "execution_count": 15,
   "id": "effd0f20",
   "metadata": {
    "execution": {
     "iopub.execute_input": "2024-04-16T15:20:02.733824Z",
     "iopub.status.busy": "2024-04-16T15:20:02.733577Z",
     "iopub.status.idle": "2024-04-16T15:20:02.737383Z",
     "shell.execute_reply": "2024-04-16T15:20:02.736571Z"
    },
    "papermill": {
     "duration": 0.015224,
     "end_time": "2024-04-16T15:20:02.739181",
     "exception": false,
     "start_time": "2024-04-16T15:20:02.723957",
     "status": "completed"
    },
    "tags": []
   },
   "outputs": [],
   "source": [
    "# do_cv = True\n",
    "\n",
    "# remove_cols = [ \n",
    "#  'X4_sd',\n",
    "#  'X11_sd',\n",
    "#  'X18_sd',\n",
    "#  'X26_sd',\n",
    "#  'X50_sd',\n",
    "#  'X3112_sd',\n",
    "#  'file_path',\n",
    "#  'jpeg_bytes'\n",
    "# ]\n",
    "\n",
    "# X_full = train_df.drop(columns=CONFIG.TARGET_COLUMNS + remove_cols)\n",
    "# Y_full = train_df[CONFIG.TARGET_COLUMNS]"
   ]
  },
  {
   "cell_type": "code",
   "execution_count": 16,
   "id": "8218280a",
   "metadata": {
    "execution": {
     "iopub.execute_input": "2024-04-16T15:20:02.757945Z",
     "iopub.status.busy": "2024-04-16T15:20:02.757710Z",
     "iopub.status.idle": "2024-04-16T15:20:02.761726Z",
     "shell.execute_reply": "2024-04-16T15:20:02.760890Z"
    },
    "papermill": {
     "duration": 0.015419,
     "end_time": "2024-04-16T15:20:02.763475",
     "exception": false,
     "start_time": "2024-04-16T15:20:02.748056",
     "status": "completed"
    },
    "tags": []
   },
   "outputs": [],
   "source": [
    "# class CustomDataset(Dataset):\n",
    "#     def __init__(self, X, Y):\n",
    "#         self.X = torch.tensor(X.values, dtype=torch.float32)\n",
    "#         self.Y = torch.tensor(Y.values, dtype=torch.long)\n",
    "\n",
    "#     def __len__(self):\n",
    "#         return len(self.X)\n",
    "\n",
    "#     def __getitem__(self, idx):\n",
    "#         return self.X[idx], self.Y[idx]\n",
    "    \n",
    "# class NeuralNetwork(nn.Module):\n",
    "#     def __init__(self, input_size, hidden_size, num_classes):\n",
    "#         super(NeuralNetwork, self).__init__()\n",
    "#         self.fc1 = nn.Linear(input_size, hidden_size)\n",
    "#         self.relu = nn.ReLU()\n",
    "#         self.fc2 = nn.Linear(hidden_size, num_classes)\n",
    "\n",
    "#     def forward(self, x):\n",
    "#         out = self.fc1(x)\n",
    "#         out = self.relu(out)\n",
    "#         out = self.fc2(out)\n",
    "#         return out"
   ]
  },
  {
   "cell_type": "code",
   "execution_count": 17,
   "id": "2540b28c",
   "metadata": {
    "execution": {
     "iopub.execute_input": "2024-04-16T15:20:02.782220Z",
     "iopub.status.busy": "2024-04-16T15:20:02.781937Z",
     "iopub.status.idle": "2024-04-16T15:20:02.786918Z",
     "shell.execute_reply": "2024-04-16T15:20:02.786030Z"
    },
    "papermill": {
     "duration": 0.016586,
     "end_time": "2024-04-16T15:20:02.788874",
     "exception": false,
     "start_time": "2024-04-16T15:20:02.772288",
     "status": "completed"
    },
    "tags": []
   },
   "outputs": [],
   "source": [
    "# models = {}\n",
    "\n",
    "# xboost = False\n",
    "    \n",
    "# if xboost:\n",
    "#     for column in Y_full.columns:\n",
    "\n",
    "#         model = xgb.XGBRegressor(objective='reg:squarederror', n_estimators=150, learning_rate=0.1, max_depth=10)\n",
    "\n",
    "#         if do_cv:\n",
    "#             print(f\"\\nDoing cross-validation scoring for {column}...\")\n",
    "#             scores = cross_val_score(model, X_full, Y_full[column],\n",
    "#                                      cv=KFold(n_splits=3, shuffle=True, random_state=42),\n",
    "#                                      scoring='r2')        \n",
    "#             print(f\"R^2 score for {column}: {np.mean(scores)}\")\n",
    "\n",
    "#         #train model with all data\n",
    "#         print(f\"Training model for {column}...\")\n",
    "#         model.fit(X_full, Y_full[column])\n",
    "#         models[column] = model\n",
    "\n",
    "#     with open('all_models.pkl', 'wb') as file:\n",
    "#         pickle.dump(models, file)\n",
    "        \n",
    "#     # with open('all_models.pkl', 'rb') as file:\n",
    "#     # models = pickle.load(file)\n",
    "        \n",
    "# else:\n",
    "#     X_train, X_val, Y_train, Y_val = train_test_split(X_full, Y_full, test_size=0.2, random_state=42)\n",
    "\n",
    "#     # Define your datasets for train and validation\n",
    "#     train_dataset = CustomDataset(X_train, Y_train)\n",
    "#     val_dataset = CustomDataset(X_val, Y_val)\n",
    "\n",
    "#     # Define your data loaders for train and validation\n",
    "#     train_dataloader = DataLoader(train_dataset, batch_size=CONFIG.BATCH_SIZE, shuffle=True)\n",
    "#     val_dataloader = DataLoader(val_dataset, batch_size=CONFIG.BATCH_SIZE, shuffle=False)\n",
    "#     model = NeuralNetwork(1700, 512, 6)\n",
    "    \n",
    "   "
   ]
  },
  {
   "cell_type": "code",
   "execution_count": 18,
   "id": "d99f983b",
   "metadata": {
    "execution": {
     "iopub.execute_input": "2024-04-16T15:20:02.807720Z",
     "iopub.status.busy": "2024-04-16T15:20:02.807455Z",
     "iopub.status.idle": "2024-04-16T15:20:02.811022Z",
     "shell.execute_reply": "2024-04-16T15:20:02.810246Z"
    },
    "papermill": {
     "duration": 0.0151,
     "end_time": "2024-04-16T15:20:02.812818",
     "exception": false,
     "start_time": "2024-04-16T15:20:02.797718",
     "status": "completed"
    },
    "tags": []
   },
   "outputs": [],
   "source": [
    "# mean_values = Y_full.mean()\n",
    "# submission = pd.DataFrame({'id': test_df['id']})\n",
    "# submission[Y_full.columns] = mean_values\n",
    "\n",
    "# #rename from _mean\n",
    "# submission.columns = submission.columns.str.replace('_mean', '')\n",
    "# submission"
   ]
  },
  {
   "cell_type": "code",
   "execution_count": 19,
   "id": "54341364",
   "metadata": {
    "execution": {
     "iopub.execute_input": "2024-04-16T15:20:02.832594Z",
     "iopub.status.busy": "2024-04-16T15:20:02.831978Z",
     "iopub.status.idle": "2024-04-16T15:20:02.835981Z",
     "shell.execute_reply": "2024-04-16T15:20:02.835125Z"
    },
    "papermill": {
     "duration": 0.015762,
     "end_time": "2024-04-16T15:20:02.837836",
     "exception": false,
     "start_time": "2024-04-16T15:20:02.822074",
     "status": "completed"
    },
    "tags": []
   },
   "outputs": [],
   "source": [
    "# remove_cols = [ \n",
    "#  'file_path',\n",
    "#  'jpeg_bytes'\n",
    "# ]\n",
    "\n",
    "# X_test = test_df.drop(columns=remove_cols)\n",
    "\n",
    "# submission['X4'] = models['X4_mean'].predict(X_test)\n",
    "# submission['X11'] = models['X11_mean'].predict(X_test)\n",
    "# submission['X18'] = models['X18_mean'].predict(X_test)\n",
    "# submission['X50'] = models['X50_mean'].predict(X_test)\n",
    "# submission['X26'] = models['X26_mean'].predict(X_test)\n",
    "# submission['X3112'] = models['X3112_mean'].predict(X_test)\n",
    "\n",
    "# submission"
   ]
  },
  {
   "cell_type": "code",
   "execution_count": 20,
   "id": "e10f5ee0",
   "metadata": {
    "execution": {
     "iopub.execute_input": "2024-04-16T15:20:02.857086Z",
     "iopub.status.busy": "2024-04-16T15:20:02.856809Z",
     "iopub.status.idle": "2024-04-16T15:20:02.860519Z",
     "shell.execute_reply": "2024-04-16T15:20:02.859681Z"
    },
    "papermill": {
     "duration": 0.015523,
     "end_time": "2024-04-16T15:20:02.862313",
     "exception": false,
     "start_time": "2024-04-16T15:20:02.846790",
     "status": "completed"
    },
    "tags": []
   },
   "outputs": [],
   "source": [
    "# submission.to_csv('submission.csv', index=False)"
   ]
  },
  {
   "cell_type": "code",
   "execution_count": 21,
   "id": "06ecef28",
   "metadata": {
    "execution": {
     "iopub.execute_input": "2024-04-16T15:20:02.881950Z",
     "iopub.status.busy": "2024-04-16T15:20:02.881230Z",
     "iopub.status.idle": "2024-04-16T15:20:02.969792Z",
     "shell.execute_reply": "2024-04-16T15:20:02.969115Z"
    },
    "papermill": {
     "duration": 0.100464,
     "end_time": "2024-04-16T15:20:02.971811",
     "exception": false,
     "start_time": "2024-04-16T15:20:02.871347",
     "status": "completed"
    },
    "tags": []
   },
   "outputs": [],
   "source": [
    "model = torch.load('/kaggle/working/model.pth')\n",
    "model.to(device);"
   ]
  },
  {
   "cell_type": "code",
   "execution_count": 22,
   "id": "1ae536e6",
   "metadata": {
    "execution": {
     "iopub.execute_input": "2024-04-16T15:20:02.991278Z",
     "iopub.status.busy": "2024-04-16T15:20:02.991026Z",
     "iopub.status.idle": "2024-04-16T15:21:50.827216Z",
     "shell.execute_reply": "2024-04-16T15:21:50.826034Z"
    },
    "papermill": {
     "duration": 107.848155,
     "end_time": "2024-04-16T15:21:50.829249",
     "exception": false,
     "start_time": "2024-04-16T15:20:02.981094",
     "status": "completed"
    },
    "tags": []
   },
   "outputs": [
    {
     "data": {
      "application/vnd.jupyter.widget-view+json": {
       "model_id": "0251220e685b4c4898e1a046d0750f26",
       "version_major": 2,
       "version_minor": 0
      },
      "text/plain": [
       "  0%|          | 0/6545 [00:00<?, ?it/s]"
      ]
     },
     "metadata": {},
     "output_type": "display_data"
    },
    {
     "name": "stdout",
     "output_type": "stream",
     "text": [
      "Submit!\n"
     ]
    }
   ],
   "source": [
    "SUBMISSION_ROWS = []\n",
    "model.eval()\n",
    "\n",
    "for X_sample_test, test_id in tqdm(test_dataset):\n",
    "    X_sample_test['image'] = torch.Tensor(X_sample_test['image']).unsqueeze(0).to(device)\n",
    "    X_sample_test['tabular'] = torch.Tensor(X_sample_test['tabular']).unsqueeze(0).to(device)\n",
    "    with torch.no_grad():\n",
    "        y_pred = model(X_sample_test).detach().cpu().numpy()\n",
    "    \n",
    "    y_pred = SCALER.inverse_transform(y_pred).squeeze()\n",
    "    row = {'id': test_id}\n",
    "    \n",
    "    for k, v in zip(CONFIG.TARGET_COLUMNS, y_pred):\n",
    "        if k in LOG_FEATURES:\n",
    "            row[k.replace('_mean', '')] = 10 ** v\n",
    "        else:\n",
    "            row[k.replace('_mean', '')] = v\n",
    "\n",
    "    SUBMISSION_ROWS.append(row)\n",
    "    \n",
    "submission_df = pd.DataFrame(SUBMISSION_ROWS)\n",
    "submission_df.to_csv('submission.csv', index=False)\n",
    "print(\"Submit!\")"
   ]
  },
  {
   "cell_type": "code",
   "execution_count": null,
   "id": "0c3598d5",
   "metadata": {
    "papermill": {
     "duration": 0.009157,
     "end_time": "2024-04-16T15:21:50.848234",
     "exception": false,
     "start_time": "2024-04-16T15:21:50.839077",
     "status": "completed"
    },
    "tags": []
   },
   "outputs": [],
   "source": []
  },
  {
   "cell_type": "code",
   "execution_count": null,
   "id": "14962067",
   "metadata": {
    "papermill": {
     "duration": 0.009044,
     "end_time": "2024-04-16T15:21:50.866654",
     "exception": false,
     "start_time": "2024-04-16T15:21:50.857610",
     "status": "completed"
    },
    "tags": []
   },
   "outputs": [],
   "source": []
  },
  {
   "cell_type": "code",
   "execution_count": null,
   "id": "718a49f1",
   "metadata": {
    "papermill": {
     "duration": 0.00935,
     "end_time": "2024-04-16T15:21:50.885358",
     "exception": false,
     "start_time": "2024-04-16T15:21:50.876008",
     "status": "completed"
    },
    "tags": []
   },
   "outputs": [],
   "source": []
  }
 ],
 "metadata": {
  "kaggle": {
   "accelerator": "gpu",
   "dataSources": [
    {
     "databundleVersionId": 8046133,
     "sourceId": 65626,
     "sourceType": "competition"
    },
    {
     "datasetId": 4761376,
     "sourceId": 8069756,
     "sourceType": "datasetVersion"
    },
    {
     "datasetId": 4769096,
     "sourceId": 8080312,
     "sourceType": "datasetVersion"
    },
    {
     "datasetId": 4794400,
     "sourceId": 8115215,
     "sourceType": "datasetVersion"
    }
   ],
   "isGpuEnabled": true,
   "isInternetEnabled": true,
   "language": "python",
   "sourceType": "notebook"
  },
  "kernelspec": {
   "display_name": "Python 3",
   "language": "python",
   "name": "python3"
  },
  "language_info": {
   "codemirror_mode": {
    "name": "ipython",
    "version": 3
   },
   "file_extension": ".py",
   "mimetype": "text/x-python",
   "name": "python",
   "nbconvert_exporter": "python",
   "pygments_lexer": "ipython3",
   "version": "3.10.13"
  },
  "papermill": {
   "default_parameters": {},
   "duration": 3597.869406,
   "end_time": "2024-04-16T15:21:53.565927",
   "environment_variables": {},
   "exception": null,
   "input_path": "__notebook__.ipynb",
   "output_path": "__notebook__.ipynb",
   "parameters": {},
   "start_time": "2024-04-16T14:21:55.696521",
   "version": "2.5.0"
  },
  "widgets": {
   "application/vnd.jupyter.widget-state+json": {
    "state": {
     "0251220e685b4c4898e1a046d0750f26": {
      "model_module": "@jupyter-widgets/controls",
      "model_module_version": "1.5.0",
      "model_name": "HBoxModel",
      "state": {
       "_dom_classes": [],
       "_model_module": "@jupyter-widgets/controls",
       "_model_module_version": "1.5.0",
       "_model_name": "HBoxModel",
       "_view_count": null,
       "_view_module": "@jupyter-widgets/controls",
       "_view_module_version": "1.5.0",
       "_view_name": "HBoxView",
       "box_style": "",
       "children": [
        "IPY_MODEL_293b7956d9a64ff08a838e5fbb2e1c0c",
        "IPY_MODEL_6bd37e709e6e4ba69aace85e71139722",
        "IPY_MODEL_3eb918dc589d4206bdd2eac448b71508"
       ],
       "layout": "IPY_MODEL_1d80eb1c14e84e76993e7972410562d8"
      }
     },
     "07cf6eefa43d4a64877be48afd1dd5dc": {
      "model_module": "@jupyter-widgets/controls",
      "model_module_version": "1.5.0",
      "model_name": "ProgressStyleModel",
      "state": {
       "_model_module": "@jupyter-widgets/controls",
       "_model_module_version": "1.5.0",
       "_model_name": "ProgressStyleModel",
       "_view_count": null,
       "_view_module": "@jupyter-widgets/base",
       "_view_module_version": "1.2.0",
       "_view_name": "StyleView",
       "bar_color": null,
       "description_width": ""
      }
     },
     "08523ea1cc534ca587365c702afa01b8": {
      "model_module": "@jupyter-widgets/controls",
      "model_module_version": "1.5.0",
      "model_name": "HTMLModel",
      "state": {
       "_dom_classes": [],
       "_model_module": "@jupyter-widgets/controls",
       "_model_module_version": "1.5.0",
       "_model_name": "HTMLModel",
       "_view_count": null,
       "_view_module": "@jupyter-widgets/controls",
       "_view_module_version": "1.5.0",
       "_view_name": "HTMLView",
       "description": "",
       "description_tooltip": null,
       "layout": "IPY_MODEL_a7185cda4a4e49ff85aa642960f9dd09",
       "placeholder": "​",
       "style": "IPY_MODEL_46ff537a9b75401eaf500c62145feb2c",
       "value": "model.safetensors: 100%"
      }
     },
     "11d64f5d33a74c898ee41fff2401f3ce": {
      "model_module": "@jupyter-widgets/controls",
      "model_module_version": "1.5.0",
      "model_name": "HTMLModel",
      "state": {
       "_dom_classes": [],
       "_model_module": "@jupyter-widgets/controls",
       "_model_module_version": "1.5.0",
       "_model_name": "HTMLModel",
       "_view_count": null,
       "_view_module": "@jupyter-widgets/controls",
       "_view_module_version": "1.5.0",
       "_view_name": "HTMLView",
       "description": "",
       "description_tooltip": null,
       "layout": "IPY_MODEL_ff53b2a0e40a44539b4c07a45cc0659a",
       "placeholder": "​",
       "style": "IPY_MODEL_ebbf8c5c66bf4be09deefcc36e43b965",
       "value": " 21.4M/21.4M [00:00&lt;00:00, 174MB/s]"
      }
     },
     "1d80eb1c14e84e76993e7972410562d8": {
      "model_module": "@jupyter-widgets/base",
      "model_module_version": "1.2.0",
      "model_name": "LayoutModel",
      "state": {
       "_model_module": "@jupyter-widgets/base",
       "_model_module_version": "1.2.0",
       "_model_name": "LayoutModel",
       "_view_count": null,
       "_view_module": "@jupyter-widgets/base",
       "_view_module_version": "1.2.0",
       "_view_name": "LayoutView",
       "align_content": null,
       "align_items": null,
       "align_self": null,
       "border": null,
       "bottom": null,
       "display": null,
       "flex": null,
       "flex_flow": null,
       "grid_area": null,
       "grid_auto_columns": null,
       "grid_auto_flow": null,
       "grid_auto_rows": null,
       "grid_column": null,
       "grid_gap": null,
       "grid_row": null,
       "grid_template_areas": null,
       "grid_template_columns": null,
       "grid_template_rows": null,
       "height": null,
       "justify_content": null,
       "justify_items": null,
       "left": null,
       "margin": null,
       "max_height": null,
       "max_width": null,
       "min_height": null,
       "min_width": null,
       "object_fit": null,
       "object_position": null,
       "order": null,
       "overflow": null,
       "overflow_x": null,
       "overflow_y": null,
       "padding": null,
       "right": null,
       "top": null,
       "visibility": null,
       "width": null
      }
     },
     "1ebdefd15c0c4fabac3b37400c263bda": {
      "model_module": "@jupyter-widgets/controls",
      "model_module_version": "1.5.0",
      "model_name": "HBoxModel",
      "state": {
       "_dom_classes": [],
       "_model_module": "@jupyter-widgets/controls",
       "_model_module_version": "1.5.0",
       "_model_name": "HBoxModel",
       "_view_count": null,
       "_view_module": "@jupyter-widgets/controls",
       "_view_module_version": "1.5.0",
       "_view_name": "HBoxView",
       "box_style": "",
       "children": [
        "IPY_MODEL_08523ea1cc534ca587365c702afa01b8",
        "IPY_MODEL_3f67f6e329fa4175aa7fd979d30226aa",
        "IPY_MODEL_11d64f5d33a74c898ee41fff2401f3ce"
       ],
       "layout": "IPY_MODEL_8af440fd53324b8cb60f9be28731ebdb"
      }
     },
     "209e5ceeb8ed46f1b0800c1933254aff": {
      "model_module": "@jupyter-widgets/controls",
      "model_module_version": "1.5.0",
      "model_name": "DescriptionStyleModel",
      "state": {
       "_model_module": "@jupyter-widgets/controls",
       "_model_module_version": "1.5.0",
       "_model_name": "DescriptionStyleModel",
       "_view_count": null,
       "_view_module": "@jupyter-widgets/base",
       "_view_module_version": "1.2.0",
       "_view_name": "StyleView",
       "description_width": ""
      }
     },
     "293b7956d9a64ff08a838e5fbb2e1c0c": {
      "model_module": "@jupyter-widgets/controls",
      "model_module_version": "1.5.0",
      "model_name": "HTMLModel",
      "state": {
       "_dom_classes": [],
       "_model_module": "@jupyter-widgets/controls",
       "_model_module_version": "1.5.0",
       "_model_name": "HTMLModel",
       "_view_count": null,
       "_view_module": "@jupyter-widgets/controls",
       "_view_module_version": "1.5.0",
       "_view_name": "HTMLView",
       "description": "",
       "description_tooltip": null,
       "layout": "IPY_MODEL_798866d6c72d41888b43372f0b0f2bc4",
       "placeholder": "​",
       "style": "IPY_MODEL_c14b3b70dbcc434b8433cbc9c72d5a95",
       "value": "100%"
      }
     },
     "29ef676aa1914a49964f8fc68fc00934": {
      "model_module": "@jupyter-widgets/base",
      "model_module_version": "1.2.0",
      "model_name": "LayoutModel",
      "state": {
       "_model_module": "@jupyter-widgets/base",
       "_model_module_version": "1.2.0",
       "_model_name": "LayoutModel",
       "_view_count": null,
       "_view_module": "@jupyter-widgets/base",
       "_view_module_version": "1.2.0",
       "_view_name": "LayoutView",
       "align_content": null,
       "align_items": null,
       "align_self": null,
       "border": null,
       "bottom": null,
       "display": null,
       "flex": null,
       "flex_flow": null,
       "grid_area": null,
       "grid_auto_columns": null,
       "grid_auto_flow": null,
       "grid_auto_rows": null,
       "grid_column": null,
       "grid_gap": null,
       "grid_row": null,
       "grid_template_areas": null,
       "grid_template_columns": null,
       "grid_template_rows": null,
       "height": null,
       "justify_content": null,
       "justify_items": null,
       "left": null,
       "margin": null,
       "max_height": null,
       "max_width": null,
       "min_height": null,
       "min_width": null,
       "object_fit": null,
       "object_position": null,
       "order": null,
       "overflow": null,
       "overflow_x": null,
       "overflow_y": null,
       "padding": null,
       "right": null,
       "top": null,
       "visibility": null,
       "width": null
      }
     },
     "3eb918dc589d4206bdd2eac448b71508": {
      "model_module": "@jupyter-widgets/controls",
      "model_module_version": "1.5.0",
      "model_name": "HTMLModel",
      "state": {
       "_dom_classes": [],
       "_model_module": "@jupyter-widgets/controls",
       "_model_module_version": "1.5.0",
       "_model_name": "HTMLModel",
       "_view_count": null,
       "_view_module": "@jupyter-widgets/controls",
       "_view_module_version": "1.5.0",
       "_view_name": "HTMLView",
       "description": "",
       "description_tooltip": null,
       "layout": "IPY_MODEL_cd9636a3914e4e13b8246b6b6e3e22b6",
       "placeholder": "​",
       "style": "IPY_MODEL_209e5ceeb8ed46f1b0800c1933254aff",
       "value": " 6545/6545 [01:47&lt;00:00, 56.61it/s]"
      }
     },
     "3f67f6e329fa4175aa7fd979d30226aa": {
      "model_module": "@jupyter-widgets/controls",
      "model_module_version": "1.5.0",
      "model_name": "FloatProgressModel",
      "state": {
       "_dom_classes": [],
       "_model_module": "@jupyter-widgets/controls",
       "_model_module_version": "1.5.0",
       "_model_name": "FloatProgressModel",
       "_view_count": null,
       "_view_module": "@jupyter-widgets/controls",
       "_view_module_version": "1.5.0",
       "_view_name": "ProgressView",
       "bar_style": "success",
       "description": "",
       "description_tooltip": null,
       "layout": "IPY_MODEL_29ef676aa1914a49964f8fc68fc00934",
       "max": 21355344.0,
       "min": 0.0,
       "orientation": "horizontal",
       "style": "IPY_MODEL_cd1a324fa6c848119a62ee9ce9ad5e5e",
       "value": 21355344.0
      }
     },
     "46ff537a9b75401eaf500c62145feb2c": {
      "model_module": "@jupyter-widgets/controls",
      "model_module_version": "1.5.0",
      "model_name": "DescriptionStyleModel",
      "state": {
       "_model_module": "@jupyter-widgets/controls",
       "_model_module_version": "1.5.0",
       "_model_name": "DescriptionStyleModel",
       "_view_count": null,
       "_view_module": "@jupyter-widgets/base",
       "_view_module_version": "1.2.0",
       "_view_name": "StyleView",
       "description_width": ""
      }
     },
     "6559994550184b20bfdaa5e0e47e3d80": {
      "model_module": "@jupyter-widgets/base",
      "model_module_version": "1.2.0",
      "model_name": "LayoutModel",
      "state": {
       "_model_module": "@jupyter-widgets/base",
       "_model_module_version": "1.2.0",
       "_model_name": "LayoutModel",
       "_view_count": null,
       "_view_module": "@jupyter-widgets/base",
       "_view_module_version": "1.2.0",
       "_view_name": "LayoutView",
       "align_content": null,
       "align_items": null,
       "align_self": null,
       "border": null,
       "bottom": null,
       "display": null,
       "flex": null,
       "flex_flow": null,
       "grid_area": null,
       "grid_auto_columns": null,
       "grid_auto_flow": null,
       "grid_auto_rows": null,
       "grid_column": null,
       "grid_gap": null,
       "grid_row": null,
       "grid_template_areas": null,
       "grid_template_columns": null,
       "grid_template_rows": null,
       "height": null,
       "justify_content": null,
       "justify_items": null,
       "left": null,
       "margin": null,
       "max_height": null,
       "max_width": null,
       "min_height": null,
       "min_width": null,
       "object_fit": null,
       "object_position": null,
       "order": null,
       "overflow": null,
       "overflow_x": null,
       "overflow_y": null,
       "padding": null,
       "right": null,
       "top": null,
       "visibility": null,
       "width": null
      }
     },
     "6bd37e709e6e4ba69aace85e71139722": {
      "model_module": "@jupyter-widgets/controls",
      "model_module_version": "1.5.0",
      "model_name": "FloatProgressModel",
      "state": {
       "_dom_classes": [],
       "_model_module": "@jupyter-widgets/controls",
       "_model_module_version": "1.5.0",
       "_model_name": "FloatProgressModel",
       "_view_count": null,
       "_view_module": "@jupyter-widgets/controls",
       "_view_module_version": "1.5.0",
       "_view_name": "ProgressView",
       "bar_style": "success",
       "description": "",
       "description_tooltip": null,
       "layout": "IPY_MODEL_6559994550184b20bfdaa5e0e47e3d80",
       "max": 6545.0,
       "min": 0.0,
       "orientation": "horizontal",
       "style": "IPY_MODEL_07cf6eefa43d4a64877be48afd1dd5dc",
       "value": 6545.0
      }
     },
     "798866d6c72d41888b43372f0b0f2bc4": {
      "model_module": "@jupyter-widgets/base",
      "model_module_version": "1.2.0",
      "model_name": "LayoutModel",
      "state": {
       "_model_module": "@jupyter-widgets/base",
       "_model_module_version": "1.2.0",
       "_model_name": "LayoutModel",
       "_view_count": null,
       "_view_module": "@jupyter-widgets/base",
       "_view_module_version": "1.2.0",
       "_view_name": "LayoutView",
       "align_content": null,
       "align_items": null,
       "align_self": null,
       "border": null,
       "bottom": null,
       "display": null,
       "flex": null,
       "flex_flow": null,
       "grid_area": null,
       "grid_auto_columns": null,
       "grid_auto_flow": null,
       "grid_auto_rows": null,
       "grid_column": null,
       "grid_gap": null,
       "grid_row": null,
       "grid_template_areas": null,
       "grid_template_columns": null,
       "grid_template_rows": null,
       "height": null,
       "justify_content": null,
       "justify_items": null,
       "left": null,
       "margin": null,
       "max_height": null,
       "max_width": null,
       "min_height": null,
       "min_width": null,
       "object_fit": null,
       "object_position": null,
       "order": null,
       "overflow": null,
       "overflow_x": null,
       "overflow_y": null,
       "padding": null,
       "right": null,
       "top": null,
       "visibility": null,
       "width": null
      }
     },
     "8af440fd53324b8cb60f9be28731ebdb": {
      "model_module": "@jupyter-widgets/base",
      "model_module_version": "1.2.0",
      "model_name": "LayoutModel",
      "state": {
       "_model_module": "@jupyter-widgets/base",
       "_model_module_version": "1.2.0",
       "_model_name": "LayoutModel",
       "_view_count": null,
       "_view_module": "@jupyter-widgets/base",
       "_view_module_version": "1.2.0",
       "_view_name": "LayoutView",
       "align_content": null,
       "align_items": null,
       "align_self": null,
       "border": null,
       "bottom": null,
       "display": null,
       "flex": null,
       "flex_flow": null,
       "grid_area": null,
       "grid_auto_columns": null,
       "grid_auto_flow": null,
       "grid_auto_rows": null,
       "grid_column": null,
       "grid_gap": null,
       "grid_row": null,
       "grid_template_areas": null,
       "grid_template_columns": null,
       "grid_template_rows": null,
       "height": null,
       "justify_content": null,
       "justify_items": null,
       "left": null,
       "margin": null,
       "max_height": null,
       "max_width": null,
       "min_height": null,
       "min_width": null,
       "object_fit": null,
       "object_position": null,
       "order": null,
       "overflow": null,
       "overflow_x": null,
       "overflow_y": null,
       "padding": null,
       "right": null,
       "top": null,
       "visibility": null,
       "width": null
      }
     },
     "a7185cda4a4e49ff85aa642960f9dd09": {
      "model_module": "@jupyter-widgets/base",
      "model_module_version": "1.2.0",
      "model_name": "LayoutModel",
      "state": {
       "_model_module": "@jupyter-widgets/base",
       "_model_module_version": "1.2.0",
       "_model_name": "LayoutModel",
       "_view_count": null,
       "_view_module": "@jupyter-widgets/base",
       "_view_module_version": "1.2.0",
       "_view_name": "LayoutView",
       "align_content": null,
       "align_items": null,
       "align_self": null,
       "border": null,
       "bottom": null,
       "display": null,
       "flex": null,
       "flex_flow": null,
       "grid_area": null,
       "grid_auto_columns": null,
       "grid_auto_flow": null,
       "grid_auto_rows": null,
       "grid_column": null,
       "grid_gap": null,
       "grid_row": null,
       "grid_template_areas": null,
       "grid_template_columns": null,
       "grid_template_rows": null,
       "height": null,
       "justify_content": null,
       "justify_items": null,
       "left": null,
       "margin": null,
       "max_height": null,
       "max_width": null,
       "min_height": null,
       "min_width": null,
       "object_fit": null,
       "object_position": null,
       "order": null,
       "overflow": null,
       "overflow_x": null,
       "overflow_y": null,
       "padding": null,
       "right": null,
       "top": null,
       "visibility": null,
       "width": null
      }
     },
     "c14b3b70dbcc434b8433cbc9c72d5a95": {
      "model_module": "@jupyter-widgets/controls",
      "model_module_version": "1.5.0",
      "model_name": "DescriptionStyleModel",
      "state": {
       "_model_module": "@jupyter-widgets/controls",
       "_model_module_version": "1.5.0",
       "_model_name": "DescriptionStyleModel",
       "_view_count": null,
       "_view_module": "@jupyter-widgets/base",
       "_view_module_version": "1.2.0",
       "_view_name": "StyleView",
       "description_width": ""
      }
     },
     "cd1a324fa6c848119a62ee9ce9ad5e5e": {
      "model_module": "@jupyter-widgets/controls",
      "model_module_version": "1.5.0",
      "model_name": "ProgressStyleModel",
      "state": {
       "_model_module": "@jupyter-widgets/controls",
       "_model_module_version": "1.5.0",
       "_model_name": "ProgressStyleModel",
       "_view_count": null,
       "_view_module": "@jupyter-widgets/base",
       "_view_module_version": "1.2.0",
       "_view_name": "StyleView",
       "bar_color": null,
       "description_width": ""
      }
     },
     "cd9636a3914e4e13b8246b6b6e3e22b6": {
      "model_module": "@jupyter-widgets/base",
      "model_module_version": "1.2.0",
      "model_name": "LayoutModel",
      "state": {
       "_model_module": "@jupyter-widgets/base",
       "_model_module_version": "1.2.0",
       "_model_name": "LayoutModel",
       "_view_count": null,
       "_view_module": "@jupyter-widgets/base",
       "_view_module_version": "1.2.0",
       "_view_name": "LayoutView",
       "align_content": null,
       "align_items": null,
       "align_self": null,
       "border": null,
       "bottom": null,
       "display": null,
       "flex": null,
       "flex_flow": null,
       "grid_area": null,
       "grid_auto_columns": null,
       "grid_auto_flow": null,
       "grid_auto_rows": null,
       "grid_column": null,
       "grid_gap": null,
       "grid_row": null,
       "grid_template_areas": null,
       "grid_template_columns": null,
       "grid_template_rows": null,
       "height": null,
       "justify_content": null,
       "justify_items": null,
       "left": null,
       "margin": null,
       "max_height": null,
       "max_width": null,
       "min_height": null,
       "min_width": null,
       "object_fit": null,
       "object_position": null,
       "order": null,
       "overflow": null,
       "overflow_x": null,
       "overflow_y": null,
       "padding": null,
       "right": null,
       "top": null,
       "visibility": null,
       "width": null
      }
     },
     "ebbf8c5c66bf4be09deefcc36e43b965": {
      "model_module": "@jupyter-widgets/controls",
      "model_module_version": "1.5.0",
      "model_name": "DescriptionStyleModel",
      "state": {
       "_model_module": "@jupyter-widgets/controls",
       "_model_module_version": "1.5.0",
       "_model_name": "DescriptionStyleModel",
       "_view_count": null,
       "_view_module": "@jupyter-widgets/base",
       "_view_module_version": "1.2.0",
       "_view_name": "StyleView",
       "description_width": ""
      }
     },
     "ff53b2a0e40a44539b4c07a45cc0659a": {
      "model_module": "@jupyter-widgets/base",
      "model_module_version": "1.2.0",
      "model_name": "LayoutModel",
      "state": {
       "_model_module": "@jupyter-widgets/base",
       "_model_module_version": "1.2.0",
       "_model_name": "LayoutModel",
       "_view_count": null,
       "_view_module": "@jupyter-widgets/base",
       "_view_module_version": "1.2.0",
       "_view_name": "LayoutView",
       "align_content": null,
       "align_items": null,
       "align_self": null,
       "border": null,
       "bottom": null,
       "display": null,
       "flex": null,
       "flex_flow": null,
       "grid_area": null,
       "grid_auto_columns": null,
       "grid_auto_flow": null,
       "grid_auto_rows": null,
       "grid_column": null,
       "grid_gap": null,
       "grid_row": null,
       "grid_template_areas": null,
       "grid_template_columns": null,
       "grid_template_rows": null,
       "height": null,
       "justify_content": null,
       "justify_items": null,
       "left": null,
       "margin": null,
       "max_height": null,
       "max_width": null,
       "min_height": null,
       "min_width": null,
       "object_fit": null,
       "object_position": null,
       "order": null,
       "overflow": null,
       "overflow_x": null,
       "overflow_y": null,
       "padding": null,
       "right": null,
       "top": null,
       "visibility": null,
       "width": null
      }
     }
    },
    "version_major": 2,
    "version_minor": 0
   }
  }
 },
 "nbformat": 4,
 "nbformat_minor": 5
}
