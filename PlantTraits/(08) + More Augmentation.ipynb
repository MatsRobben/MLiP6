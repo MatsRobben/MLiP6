{
 "cells": [
  {
   "cell_type": "markdown",
   "id": "454a5225",
   "metadata": {
    "papermill": {
     "duration": 0.008058,
     "end_time": "2024-04-20T13:24:15.819628",
     "exception": false,
     "start_time": "2024-04-20T13:24:15.811570",
     "status": "completed"
    },
    "tags": []
   },
   "source": [
    "- Notebook modified from https://www.kaggle.com/code/markwijkhuizen/planttraits2024-eda-training-pub.\n",
    "- Training only, EDA part not included.\n",
    "- Image model only, tabular data not used."
   ]
  },
  {
   "cell_type": "markdown",
   "id": "f1bb8e99",
   "metadata": {
    "papermill": {
     "duration": 0.007299,
     "end_time": "2024-04-20T13:24:15.834662",
     "exception": false,
     "start_time": "2024-04-20T13:24:15.827363",
     "status": "completed"
    },
    "tags": []
   },
   "source": [
    "## Import Libraries "
   ]
  },
  {
   "cell_type": "code",
   "execution_count": 1,
   "id": "ab811f8d",
   "metadata": {
    "execution": {
     "iopub.execute_input": "2024-04-20T13:24:15.851022Z",
     "iopub.status.busy": "2024-04-20T13:24:15.850695Z",
     "iopub.status.idle": "2024-04-20T13:24:28.251344Z",
     "shell.execute_reply": "2024-04-20T13:24:28.250495Z"
    },
    "papermill": {
     "duration": 12.411599,
     "end_time": "2024-04-20T13:24:28.253702",
     "exception": false,
     "start_time": "2024-04-20T13:24:15.842103",
     "status": "completed"
    },
    "tags": []
   },
   "outputs": [],
   "source": [
    "import numpy as np\n",
    "import pandas as pd\n",
    "import matplotlib.pyplot as plt\n",
    "import imageio.v3 as imageio\n",
    "import albumentations as A\n",
    "\n",
    "from albumentations.pytorch import ToTensorV2\n",
    "from torch.utils.data import Dataset, DataLoader\n",
    "from torch import nn\n",
    "from tqdm.notebook import tqdm\n",
    "from sklearn.preprocessing import StandardScaler\n",
    "from sklearn.model_selection import train_test_split, KFold, cross_val_score\n",
    "\n",
    "import xgboost as xgb\n",
    "\n",
    "import torch\n",
    "import timm\n",
    "import glob\n",
    "import torchmetrics\n",
    "import time\n",
    "import psutil\n",
    "import os\n",
    "import time\n",
    "import pickle\n",
    "\n",
    "tqdm.pandas()\n",
    "device = torch.device(\"cuda:0\" if torch.cuda.is_available() else \"cpu\")"
   ]
  },
  {
   "cell_type": "code",
   "execution_count": 2,
   "id": "45632c53",
   "metadata": {
    "execution": {
     "iopub.execute_input": "2024-04-20T13:24:28.270875Z",
     "iopub.status.busy": "2024-04-20T13:24:28.270565Z",
     "iopub.status.idle": "2024-04-20T13:24:28.276649Z",
     "shell.execute_reply": "2024-04-20T13:24:28.275775Z"
    },
    "papermill": {
     "duration": 0.0169,
     "end_time": "2024-04-20T13:24:28.278634",
     "exception": false,
     "start_time": "2024-04-20T13:24:28.261734",
     "status": "completed"
    },
    "tags": []
   },
   "outputs": [],
   "source": [
    "class Config():\n",
    "    IMAGE_SIZE = 384\n",
    "#     BACKBONE = 'swin_large_patch4_window12_384.ms_in22k_ft_in1k'\n",
    "    BACKBONE = 'tf_efficientnet_b0'\n",
    "    TARGET_COLUMNS = ['X4_mean', 'X11_mean', 'X18_mean', 'X50_mean', 'X26_mean', 'X3112_mean']\n",
    "    \n",
    "    N_TARGETS = len(TARGET_COLUMNS)\n",
    "    BATCH_SIZE = 32\n",
    "    LR_MAX = 1e-4\n",
    "    WEIGHT_DECAY = 0.01\n",
    "    N_EPOCHS = 8\n",
    "    TRAIN_MODEL = True\n",
    "    IS_INTERACTIVE = os.environ['KAGGLE_KERNEL_RUN_TYPE'] == 'Interactive'\n",
    "    \n",
    "#     MODEL_PATH = '/kaggle/input/plainttraits2024-swintransformer/model.pth'\n",
    "    MODEL_PATH = '/kaggle/input/planttraits2024-swintransformer-tabular/model.pth'\n",
    "        \n",
    "CONFIG = Config()"
   ]
  },
  {
   "cell_type": "markdown",
   "id": "0c1fa4b1",
   "metadata": {
    "papermill": {
     "duration": 0.007846,
     "end_time": "2024-04-20T13:24:28.294412",
     "exception": false,
     "start_time": "2024-04-20T13:24:28.286566",
     "status": "completed"
    },
    "tags": []
   },
   "source": [
    "## Load Data"
   ]
  },
  {
   "cell_type": "code",
   "execution_count": 3,
   "id": "b0eb158b",
   "metadata": {
    "execution": {
     "iopub.execute_input": "2024-04-20T13:24:28.311406Z",
     "iopub.status.busy": "2024-04-20T13:24:28.310855Z",
     "iopub.status.idle": "2024-04-20T13:25:07.375998Z",
     "shell.execute_reply": "2024-04-20T13:25:07.374916Z"
    },
    "papermill": {
     "duration": 39.084995,
     "end_time": "2024-04-20T13:25:07.387011",
     "exception": false,
     "start_time": "2024-04-20T13:24:28.302016",
     "status": "completed"
    },
    "tags": []
   },
   "outputs": [
    {
     "name": "stdout",
     "output_type": "stream",
     "text": [
      "N_TRAIN_SAMPLES: 49168 N_TEST_SAMPLES: 6545\n",
      "CPU times: user 1.58 s, sys: 3.01 s, total: 4.6 s\n",
      "Wall time: 39.1 s\n"
     ]
    }
   ],
   "source": [
    "%%time\n",
    "read_images = False\n",
    "\n",
    "if not read_images:\n",
    "    train = pd.read_pickle('/kaggle/input/plainttraits2024-swintransformer/train.pkl')\n",
    "    test = pd.read_pickle('/kaggle/input/plainttraits2024-swintransformer/test.pkl')\n",
    "else: \n",
    "    # if CONFIG.TRAIN_MODEL:\n",
    "    train = pd.read_csv('/kaggle/input/planttraits2024/train.csv')\n",
    "    train['file_path'] = train['id'].apply(lambda s: f'/kaggle/input/planttraits2024/train_images/{s}.jpeg')\n",
    "    train['jpeg_bytes'] = train['file_path'].progress_apply(lambda fp: open(fp, 'rb').read())\n",
    "    train.to_pickle('train.pkl')\n",
    "\n",
    "    test = pd.read_csv('/kaggle/input/planttraits2024/test.csv')\n",
    "    test['file_path'] = test['id'].apply(lambda s: f'/kaggle/input/planttraits2024/test_images/{s}.jpeg')\n",
    "    test['jpeg_bytes'] = test['file_path'].progress_apply(lambda fp: open(fp, 'rb').read())\n",
    "    test.to_pickle('test.pkl')\n",
    "\n",
    "for column in CONFIG.TARGET_COLUMNS:\n",
    "    lower_quantile = train[column].quantile(0.005)\n",
    "    upper_quantile = train[column].quantile(0.985)  \n",
    "    train = train[(train[column] >= lower_quantile) & (train[column] <= upper_quantile)]    \n",
    "    \n",
    "sd_columns = [col for col in train.columns if col.endswith('_sd')]\n",
    "train = train.drop(columns=sd_columns)\n",
    "    \n",
    "CONFIG.N_TRAIN_SAMPLES = len(train)\n",
    "CONFIG.N_STEPS_PER_EPOCH = (CONFIG.N_TRAIN_SAMPLES // CONFIG.BATCH_SIZE)\n",
    "CONFIG.N_STEPS = CONFIG.N_STEPS_PER_EPOCH * CONFIG.N_EPOCHS + 1    \n",
    "CONFIG.TABULAR_COLUMNS = train.filter(regex='^(WORLDCLIM_BIO|SOIL|MODIS_2000|VOD)').columns\n",
    "    \n",
    "if CONFIG.TRAIN_MODEL:\n",
    "    print('N_TRAIN_SAMPLES:', len(train), 'N_TEST_SAMPLES:', len(test))\n",
    "else:\n",
    "    print('N_TEST_SAMPLES:', len(test))"
   ]
  },
  {
   "cell_type": "code",
   "execution_count": 4,
   "id": "bf53c22e",
   "metadata": {
    "execution": {
     "iopub.execute_input": "2024-04-20T13:25:07.405459Z",
     "iopub.status.busy": "2024-04-20T13:25:07.405148Z",
     "iopub.status.idle": "2024-04-20T13:25:07.427533Z",
     "shell.execute_reply": "2024-04-20T13:25:07.426626Z"
    },
    "papermill": {
     "duration": 0.033342,
     "end_time": "2024-04-20T13:25:07.429643",
     "exception": false,
     "start_time": "2024-04-20T13:25:07.396301",
     "status": "completed"
    },
    "tags": []
   },
   "outputs": [],
   "source": [
    "# if CONFIG.TRAIN_MODEL:\n",
    "LOG_FEATURES = ['X4_mean', 'X11_mean', 'X18_mean', 'X50_mean', 'X26_mean', 'X3112_mean']\n",
    "\n",
    "y_df = np.zeros_like(train[CONFIG.TARGET_COLUMNS], dtype=np.float32)\n",
    "for target_idx, target in enumerate(CONFIG.TARGET_COLUMNS):\n",
    "    v = train[target].values\n",
    "    if target in LOG_FEATURES:\n",
    "        v = np.log10(v)\n",
    "    y_df[:, target_idx] = v\n",
    "\n",
    "SCALER = StandardScaler()\n",
    "y_df = SCALER.fit_transform(y_df)"
   ]
  },
  {
   "cell_type": "code",
   "execution_count": 5,
   "id": "e029aedd",
   "metadata": {
    "execution": {
     "iopub.execute_input": "2024-04-20T13:25:07.446936Z",
     "iopub.status.busy": "2024-04-20T13:25:07.446275Z",
     "iopub.status.idle": "2024-04-20T13:25:07.513733Z",
     "shell.execute_reply": "2024-04-20T13:25:07.512759Z"
    },
    "papermill": {
     "duration": 0.07853,
     "end_time": "2024-04-20T13:25:07.516000",
     "exception": false,
     "start_time": "2024-04-20T13:25:07.437470",
     "status": "completed"
    },
    "tags": []
   },
   "outputs": [],
   "source": [
    "# Splitting the data into training and validation sets\n",
    "train_df, val_df, y_train, y_val = train_test_split(train, y_df, test_size=0.2, random_state=42)"
   ]
  },
  {
   "cell_type": "code",
   "execution_count": 6,
   "id": "15bd22ad",
   "metadata": {
    "execution": {
     "iopub.execute_input": "2024-04-20T13:25:07.534046Z",
     "iopub.status.busy": "2024-04-20T13:25:07.533448Z",
     "iopub.status.idle": "2024-04-20T13:25:07.722408Z",
     "shell.execute_reply": "2024-04-20T13:25:07.721336Z"
    },
    "papermill": {
     "duration": 0.200686,
     "end_time": "2024-04-20T13:25:07.725035",
     "exception": false,
     "start_time": "2024-04-20T13:25:07.524349",
     "status": "completed"
    },
    "tags": []
   },
   "outputs": [],
   "source": [
    "# if CONFIG.TRAIN_MODEL:\n",
    "# LOG_FEATURES_TABULAR = [30, 31, 32, 33, 34, 35, 37, 41, 62, 63, 64, 65, 66, 67, 69, 70, 72, 74, 75, 77, 79, 80, 82, 84, 85, 87, 89, 90, 92, 94, 95, 97, 99, 100, 102, 104, 105, 107, 109, 110, 112, 114, 115, 117, 119, 120, 122, 124, 125]\n",
    "# LOG_FEATURES_TABULAR = []\n",
    "\n",
    "# tabular_df_train = np.zeros_like(train_df[CONFIG.TABULAR_COLUMNS], dtype=np.float64)\n",
    "# tabular_df_val = np.zeros_like(val_df[CONFIG.TABULAR_COLUMNS], dtype=np.float64)\n",
    "# tabular_df_test = np.zeros_like(test[CONFIG.TABULAR_COLUMNS], dtype=np.float64)\n",
    "\n",
    "# for tabular_df, df in zip([tabular_df_train, tabular_df_val, tabular_df_test], [train_df, val_df, test]):\n",
    "#     for col_idx, col in enumerate(CONFIG.TABULAR_COLUMNS):\n",
    "#         v = df[col].values\n",
    "#         if col_idx in LOG_FEATURES_TABULAR:\n",
    "#             v = np.log10(v)\n",
    "#         tabular_df[:, col_idx] = v \n",
    "\n",
    "SCALER_tabular = StandardScaler()\n",
    "tabular_df_train = SCALER_tabular.fit_transform(train_df[CONFIG.TABULAR_COLUMNS])\n",
    "tabular_df_val = SCALER_tabular.transform(val_df[CONFIG.TABULAR_COLUMNS])\n",
    "tabular_df_test = SCALER_tabular.fit_transform(test[CONFIG.TABULAR_COLUMNS])"
   ]
  },
  {
   "cell_type": "code",
   "execution_count": 7,
   "id": "f6d19b9a",
   "metadata": {
    "execution": {
     "iopub.execute_input": "2024-04-20T13:25:07.742644Z",
     "iopub.status.busy": "2024-04-20T13:25:07.742324Z",
     "iopub.status.idle": "2024-04-20T13:25:07.746271Z",
     "shell.execute_reply": "2024-04-20T13:25:07.745430Z"
    },
    "papermill": {
     "duration": 0.014525,
     "end_time": "2024-04-20T13:25:07.748175",
     "exception": false,
     "start_time": "2024-04-20T13:25:07.733650",
     "status": "completed"
    },
    "tags": []
   },
   "outputs": [],
   "source": [
    "# for i, col in enumerate(CONFIG.TABULAR_COLUMNS):\n",
    "#     print(i, col)\n",
    "#     train[col].plot.hist(bins=12, alpha=0.5)\n",
    "#     plt.show()\n",
    "#     plt.hist(tabular_df_train[i], bins=12)\n",
    "#     plt.show()"
   ]
  },
  {
   "cell_type": "code",
   "execution_count": 8,
   "id": "de8d9e37",
   "metadata": {
    "execution": {
     "iopub.execute_input": "2024-04-20T13:25:07.764370Z",
     "iopub.status.busy": "2024-04-20T13:25:07.764097Z",
     "iopub.status.idle": "2024-04-20T13:25:07.779661Z",
     "shell.execute_reply": "2024-04-20T13:25:07.778910Z"
    },
    "papermill": {
     "duration": 0.025816,
     "end_time": "2024-04-20T13:25:07.781536",
     "exception": false,
     "start_time": "2024-04-20T13:25:07.755720",
     "status": "completed"
    },
    "tags": []
   },
   "outputs": [],
   "source": [
    "MEAN = np.array([0.485, 0.456, 0.406])\n",
    "STD = np.array([0.229, 0.224, 0.225])\n",
    "\n",
    "TRAIN_TRANSFORMS = A.Compose([\n",
    "        A.HorizontalFlip(p=0.5),\n",
    "        A.ShiftScaleRotate(shift_limit=0.0625, scale_limit=0.2, rotate_limit=45, p=0.4),\n",
    "        A.RandomSizedCrop(\n",
    "            [int(0.85*CONFIG.IMAGE_SIZE), CONFIG.IMAGE_SIZE],\n",
    "            CONFIG.IMAGE_SIZE, CONFIG.IMAGE_SIZE, w2h_ratio=1.0, p=0.75),\n",
    "        A.Resize(CONFIG.IMAGE_SIZE, CONFIG.IMAGE_SIZE),\n",
    "        A.RandomBrightnessContrast(brightness_limit=0.1, contrast_limit=0.1, p=0.25),\n",
    "        A.HueSaturationValue(p=0.3),\n",
    "        A.ImageCompression(quality_lower=85, quality_upper=100, p=0.25),\n",
    "        A.ToFloat(),\n",
    "        A.Normalize(mean=MEAN, std=STD, max_pixel_value=1),\n",
    "        ToTensorV2(),\n",
    "    ])\n",
    "\n",
    "TEST_TRANSFORMS = A.Compose([\n",
    "        A.Resize(CONFIG.IMAGE_SIZE, CONFIG.IMAGE_SIZE),\n",
    "        A.ToFloat(),\n",
    "        A.Normalize(mean=MEAN, std=STD, max_pixel_value=1),\n",
    "        ToTensorV2(),\n",
    "    ])\n",
    "\n",
    "class Dataset(Dataset):\n",
    "    def __init__(self, X_jpeg_bytes, X_tabular, y, transforms=None):\n",
    "        self.X_jpeg_bytes = X_jpeg_bytes\n",
    "        self.X_tabular = X_tabular\n",
    "        self.y = y\n",
    "        self.transforms = transforms\n",
    "\n",
    "    def __len__(self):\n",
    "        return len(self.X_jpeg_bytes)\n",
    "\n",
    "    def __getitem__(self, index):\n",
    "        X_sample = self.transforms(\n",
    "            image=imageio.imread(self.X_jpeg_bytes[index]),\n",
    "        )\n",
    "        X_sample['tabular'] = self.X_tabular[index].astype('float32')\n",
    "        y_sample = self.y[index]\n",
    "        \n",
    "        return X_sample, y_sample\n",
    "\n",
    "if CONFIG.TRAIN_MODEL:\n",
    "    # Creating datasets for training and validation\n",
    "    train_dataset = Dataset(\n",
    "        train_df['jpeg_bytes'].values,\n",
    "        tabular_df_train,\n",
    "        y_train,\n",
    "        TRAIN_TRANSFORMS,\n",
    "    )\n",
    "\n",
    "    val_dataset = Dataset(\n",
    "        val_df['jpeg_bytes'].values,\n",
    "        tabular_df_val,\n",
    "        y_val,\n",
    "        TEST_TRANSFORMS,\n",
    "    )\n",
    "\n",
    "    # Creating dataloaders for training and validation\n",
    "    train_dataloader = DataLoader(\n",
    "        train_dataset,\n",
    "        batch_size=CONFIG.BATCH_SIZE,\n",
    "        shuffle=True,\n",
    "        drop_last=True,\n",
    "        num_workers=psutil.cpu_count(),\n",
    "    )\n",
    "\n",
    "    val_dataloader = DataLoader(\n",
    "        val_dataset,\n",
    "        batch_size=CONFIG.BATCH_SIZE,\n",
    "        shuffle=False,  # No need to shuffle validation data\n",
    "        num_workers=psutil.cpu_count(),\n",
    "    )\n",
    "\n",
    "\n",
    "\n",
    "test_dataset = Dataset(\n",
    "    test['jpeg_bytes'].values,\n",
    "    tabular_df_test,\n",
    "    test['id'].values,\n",
    "    TEST_TRANSFORMS,\n",
    ")"
   ]
  },
  {
   "cell_type": "code",
   "execution_count": 9,
   "id": "f7b0f304",
   "metadata": {
    "execution": {
     "iopub.execute_input": "2024-04-20T13:25:07.797683Z",
     "iopub.status.busy": "2024-04-20T13:25:07.797428Z",
     "iopub.status.idle": "2024-04-20T13:25:08.631641Z",
     "shell.execute_reply": "2024-04-20T13:25:08.630858Z"
    },
    "papermill": {
     "duration": 0.844775,
     "end_time": "2024-04-20T13:25:08.633859",
     "exception": false,
     "start_time": "2024-04-20T13:25:07.789084",
     "status": "completed"
    },
    "tags": []
   },
   "outputs": [
    {
     "data": {
      "application/vnd.jupyter.widget-view+json": {
       "model_id": "264b7fae538d4ed39c06e713687af58f",
       "version_major": 2,
       "version_minor": 0
      },
      "text/plain": [
       "model.safetensors:   0%|          | 0.00/21.4M [00:00<?, ?B/s]"
      ]
     },
     "metadata": {},
     "output_type": "display_data"
    }
   ],
   "source": [
    "class Model(nn.Module):\n",
    "    def __init__(self):\n",
    "        super().__init__()\n",
    "        self.backbone = timm.create_model(\n",
    "                CONFIG.BACKBONE,\n",
    "                pretrained=True,\n",
    "#                 num_classes=CONFIG.N_TARGETS,\n",
    "                num_classes=0,\n",
    "        )\n",
    "        \n",
    "        # Freeze the backbone weights\n",
    "#         for param in self.backbone.parameters():\n",
    "#             param.requires_grad = False\n",
    "        \n",
    "        # EfficientNet = 1280, SwinTrans = 1536, Tabular = 163\n",
    "        self.custom_layers = nn.Sequential(\n",
    "            nn.BatchNorm1d(1280+163),\n",
    "            nn.Linear(1280+163, 512),\n",
    "            nn.ReLU(), \n",
    "            nn.Linear(512, 6)  \n",
    "        )\n",
    "        \n",
    "    def forward(self, inputs):\n",
    "        image = inputs['image']\n",
    "        tabular = inputs['tabular']\n",
    "\n",
    "        x = self.backbone(image)\n",
    "        x = torch.cat((tabular, x), dim=1)\n",
    "        x = self.custom_layers(x)\n",
    "        \n",
    "        return x\n",
    "\n",
    "\n",
    "model = Model()\n",
    "model = model.to(device)\n",
    "# print(model.backbone.head)"
   ]
  },
  {
   "cell_type": "code",
   "execution_count": 10,
   "id": "c21a5b2a",
   "metadata": {
    "execution": {
     "iopub.execute_input": "2024-04-20T13:25:08.651211Z",
     "iopub.status.busy": "2024-04-20T13:25:08.650865Z",
     "iopub.status.idle": "2024-04-20T13:25:08.660216Z",
     "shell.execute_reply": "2024-04-20T13:25:08.659378Z"
    },
    "papermill": {
     "duration": 0.020153,
     "end_time": "2024-04-20T13:25:08.662128",
     "exception": false,
     "start_time": "2024-04-20T13:25:08.641975",
     "status": "completed"
    },
    "tags": []
   },
   "outputs": [],
   "source": [
    "create_features = False\n",
    "\n",
    "if create_features:\n",
    "    feature_model = torch.load(CONFIG.MODEL_PATH)\n",
    "    feature_model.backbone.head.fc = nn.Identity()\n",
    "    feature_model.to(device);\n",
    "\n",
    "#     dataset = Dataset(\n",
    "#         train['jpeg_bytes'].values,\n",
    "#         y_df,\n",
    "#         TEST_TRANSFORMS,\n",
    "#     )\n",
    "    dataset = test_dataset\n",
    "\n",
    "    # Create a DataLoader for the dataset\n",
    "    dataloader = DataLoader(dataset, batch_size=CONFIG.BATCH_SIZE, shuffle=False)\n",
    "\n",
    "    # Define the shape of the features array\n",
    "    num_samples = len(dataset)\n",
    "    num_features = 1536\n",
    "\n",
    "    # Initialize an empty array filled with zeros to store features\n",
    "    features_array = np.zeros((num_samples, num_features), dtype=np.float32)\n",
    "\n",
    "    # Set the model to evaluation mode\n",
    "    model.eval()\n",
    "\n",
    "    # Initialize the index counter\n",
    "    index = 0\n",
    "\n",
    "    # Iterate over the data loader batches\n",
    "    for batch in dataloader:\n",
    "        if index % 10 == 0:\n",
    "            print(index, end=', ')\n",
    "\n",
    "        # Extract inputs and labels from the batch\n",
    "        inputs, _ = batch\n",
    "        inputs = inputs.to(device)\n",
    "\n",
    "        # Forward pass through the model to extract features\n",
    "        with torch.no_grad():\n",
    "            features = feature_model(inputs)\n",
    "\n",
    "        # Flatten the features\n",
    "        features = features.view(features.size(0), -1)\n",
    "\n",
    "        # Calculate the end index for the current batch\n",
    "        end_index = index + inputs.size(0)\n",
    "\n",
    "        # Assign features to the pre-allocated array\n",
    "        features_array[index:end_index] = features.cpu().numpy()\n",
    "\n",
    "        # Update the index counter\n",
    "        index = end_index\n",
    "\n",
    "    # Save the features as a NumPy array\n",
    "    np.save('features_test.npy', features_array)\n",
    "    \n"
   ]
  },
  {
   "cell_type": "code",
   "execution_count": 11,
   "id": "d28bab98",
   "metadata": {
    "execution": {
     "iopub.execute_input": "2024-04-20T13:25:08.678599Z",
     "iopub.status.busy": "2024-04-20T13:25:08.678318Z",
     "iopub.status.idle": "2024-04-20T13:25:08.682088Z",
     "shell.execute_reply": "2024-04-20T13:25:08.681274Z"
    },
    "papermill": {
     "duration": 0.013963,
     "end_time": "2024-04-20T13:25:08.683881",
     "exception": false,
     "start_time": "2024-04-20T13:25:08.669918",
     "status": "completed"
    },
    "tags": []
   },
   "outputs": [],
   "source": [
    "# def count_parameters(model):\n",
    "#     return sum(p.numel() for p in model.parameters() if p.requires_grad)\n",
    "\n",
    "# # Count parameters\n",
    "# num_parameters = count_parameters(model)\n",
    "# print(\"Number of parameters in the model:\", num_parameters)"
   ]
  },
  {
   "cell_type": "code",
   "execution_count": 12,
   "id": "82910ebe",
   "metadata": {
    "execution": {
     "iopub.execute_input": "2024-04-20T13:25:08.700575Z",
     "iopub.status.busy": "2024-04-20T13:25:08.700302Z",
     "iopub.status.idle": "2024-04-20T13:25:08.728317Z",
     "shell.execute_reply": "2024-04-20T13:25:08.727447Z"
    },
    "papermill": {
     "duration": 0.038876,
     "end_time": "2024-04-20T13:25:08.730450",
     "exception": false,
     "start_time": "2024-04-20T13:25:08.691574",
     "status": "completed"
    },
    "tags": []
   },
   "outputs": [],
   "source": [
    "def get_lr_scheduler(optimizer):\n",
    "    return torch.optim.lr_scheduler.OneCycleLR(\n",
    "        optimizer=optimizer,\n",
    "        max_lr=CONFIG.LR_MAX,\n",
    "        total_steps=CONFIG.N_STEPS,\n",
    "        pct_start=0.1,\n",
    "        anneal_strategy='cos',\n",
    "        div_factor=1e1,\n",
    "        final_div_factor=1e1,\n",
    "    )\n",
    "\n",
    "class AverageMeter(object):\n",
    "    def __init__(self):\n",
    "        self.reset()\n",
    "\n",
    "    def reset(self):\n",
    "        self.avg = 0\n",
    "        self.sum = 0\n",
    "        self.count = 0\n",
    "\n",
    "    def update(self, val):\n",
    "        self.sum += val.sum()\n",
    "        self.count += val.numel()\n",
    "        self.avg = self.sum / self.count\n",
    "\n",
    "if CONFIG.TRAIN_MODEL:\n",
    "    MAE = torchmetrics.regression.MeanAbsoluteError().to(device)\n",
    "    R2 = torchmetrics.regression.R2Score(num_outputs=CONFIG.N_TARGETS, multioutput='uniform_average').to(device)\n",
    "    LOSS = AverageMeter()\n",
    "\n",
    "    Y_MEAN = torch.tensor(y_df).mean(dim=0).to(device)\n",
    "    EPS = torch.tensor([1e-6]).to(device)\n",
    "\n",
    "    def r2_loss(y_pred, y_true):\n",
    "        ss_res = torch.sum((y_true - y_pred)**2, dim=0)\n",
    "        ss_total = torch.sum((y_true - Y_MEAN)**2, dim=0)\n",
    "        ss_total = torch.maximum(ss_total, EPS)\n",
    "        r2 = torch.mean(ss_res / ss_total)\n",
    "        return r2\n",
    "\n",
    "    LOSS_FN = r2_loss\n",
    "\n",
    "    optimizer = torch.optim.AdamW(\n",
    "        params=model.parameters(),\n",
    "        lr=CONFIG.LR_MAX,\n",
    "        weight_decay=CONFIG.WEIGHT_DECAY,\n",
    "    )\n",
    "\n",
    "    LR_SCHEDULER = get_lr_scheduler(optimizer)"
   ]
  },
  {
   "cell_type": "code",
   "execution_count": 13,
   "id": "6e9d86ab",
   "metadata": {
    "execution": {
     "iopub.execute_input": "2024-04-20T13:25:08.747846Z",
     "iopub.status.busy": "2024-04-20T13:25:08.747587Z",
     "iopub.status.idle": "2024-04-20T14:23:22.160798Z",
     "shell.execute_reply": "2024-04-20T14:23:22.159803Z"
    },
    "papermill": {
     "duration": 3493.424056,
     "end_time": "2024-04-20T14:23:22.162924",
     "exception": false,
     "start_time": "2024-04-20T13:25:08.738868",
     "status": "completed"
    },
    "tags": []
   },
   "outputs": [
    {
     "name": "stdout",
     "output_type": "stream",
     "text": [
      "Start Training:\n",
      "EPOCH 01, 1229/1229 | loss: 0.7851, mae: 0.6960, r2: 0.2223, step: 0.760s, lr: 1.00e-04\n",
      "EPOCH VAL, 01, 0308/308 | loss: 0.6922, mae: 0.6440, r2: 0.3191, step: 0.088s, lr: 1.00e-04\n",
      "\n",
      "EPOCH 02, 1229/1229 | loss: 0.6708, mae: 0.6350, r2: 0.3396, step: 0.288s, lr: 9.70e-05\n",
      "EPOCH VAL, 02, 0308/308 | loss: 0.6404, mae: 0.6153, r2: 0.3704, step: 0.025s, lr: 9.70e-05\n",
      "\n",
      "EPOCH 03, 1229/1229 | loss: 0.6220, mae: 0.6086, r2: 0.3875, step: 0.289s, lr: 8.84e-05\n",
      "EPOCH VAL, 03, 0308/308 | loss: 0.6294, mae: 0.6082, r2: 0.3828, step: 0.025s, lr: 8.84e-05\n",
      "\n",
      "EPOCH 04, 1229/1229 | loss: 0.5867, mae: 0.5894, r2: 0.4238, step: 0.287s, lr: 7.52e-05\n",
      "EPOCH VAL, 04, 0308/308 | loss: 0.6113, mae: 0.5998, r2: 0.4001, step: 0.025s, lr: 7.52e-05\n",
      "\n",
      "EPOCH 05, 1229/1229 | loss: 0.5529, mae: 0.5708, r2: 0.4568, step: 0.288s, lr: 5.91e-05\n",
      "EPOCH VAL, 05, 0308/308 | loss: 0.5998, mae: 0.5929, r2: 0.4122, step: 0.025s, lr: 5.91e-05\n",
      "\n",
      "EPOCH 06, 1229/1229 | loss: 0.5271, mae: 0.5561, r2: 0.4838, step: 0.288s, lr: 4.19e-05\n",
      "EPOCH VAL, 06, 0308/308 | loss: 0.5981, mae: 0.5926, r2: 0.4141, step: 0.025s, lr: 4.19e-05\n",
      "\n",
      "EPOCH 07, 1229/1229 | loss: 0.5024, mae: 0.5427, r2: 0.5070, step: 0.288s, lr: 2.57e-05\n",
      "EPOCH VAL, 07, 0308/308 | loss: 0.5934, mae: 0.5892, r2: 0.4193, step: 0.025s, lr: 2.57e-05\n",
      "\n",
      "EPOCH 08, 1229/1229 | loss: 0.4823, mae: 0.5305, r2: 0.5272, step: 0.288s, lr: 1.26e-05\n",
      "EPOCH VAL, 08, 0308/308 | loss: 0.5906, mae: 0.5867, r2: 0.4221, step: 0.025s, lr: 1.26e-05\n",
      "\n"
     ]
    }
   ],
   "source": [
    "if CONFIG.TRAIN_MODEL:\n",
    "    print(\"Start Training:\")\n",
    "    \n",
    "    best = float('inf')\n",
    "    for epoch in range(CONFIG.N_EPOCHS):\n",
    "        MAE.reset()\n",
    "        R2.reset()\n",
    "        LOSS.reset()\n",
    "        model.train()\n",
    "\n",
    "        for step, (X_batch, y_true) in enumerate(train_dataloader):\n",
    "            X_batch['image'] = X_batch['image'].to(device)\n",
    "            X_batch['tabular'] = X_batch['tabular'].to(device)\n",
    "            y_true = y_true.to(device)\n",
    "            t_start = time.perf_counter_ns()\n",
    "            y_pred = model(X_batch)\n",
    "            loss = LOSS_FN(y_pred, y_true)\n",
    "            LOSS.update(loss)\n",
    "            loss.backward()\n",
    "            optimizer.step()\n",
    "            optimizer.zero_grad()\n",
    "            LR_SCHEDULER.step()\n",
    "            MAE.update(y_pred, y_true)\n",
    "            R2.update(y_pred, y_true)\n",
    "\n",
    "            if not CONFIG.IS_INTERACTIVE and (step+1) == len(train_dataloader):\n",
    "                print(\n",
    "                    f'EPOCH {epoch+1:02d}, {step+1:04d}/{len(train_dataloader)} | ' + \n",
    "                    f'loss: {LOSS.avg:.4f}, mae: {MAE.compute().item():.4f}, r2: {R2.compute().item():.4f}, ' +\n",
    "                    f'step: {(time.perf_counter_ns()-t_start)*1e-9:.3f}s, lr: {LR_SCHEDULER.get_last_lr()[0]:.2e}',\n",
    "                )\n",
    "            elif CONFIG.IS_INTERACTIVE:\n",
    "                print(\n",
    "                    f'\\rEPOCH {epoch+1:02d}, {step+1:04d}/{len(train_dataloader)} | ' + \n",
    "                    f'loss: {LOSS.avg:.4f}, mae: {MAE.compute().item():.4f}, r2: {R2.compute().item():.4f}, ' +\n",
    "                    f'step: {(time.perf_counter_ns()-t_start)*1e-9:.3f}s, lr: {LR_SCHEDULER.get_last_lr()[0]:.2e}',\n",
    "                    end='\\n' if (step + 1) == CONFIG.N_STEPS_PER_EPOCH else '', flush=True,\n",
    "                )\n",
    "            \n",
    "        MAE.reset()\n",
    "        R2.reset()\n",
    "        LOSS.reset()\n",
    "        model.eval()\n",
    "        \n",
    "        for step, (X_batch, y_true) in enumerate(val_dataloader):\n",
    "            X_batch['image'] = X_batch['image'].to(device)\n",
    "            X_batch['tabular'] = X_batch['tabular'].to(device)\n",
    "            y_true = y_true.to(device)\n",
    "            t_start = time.perf_counter_ns()\n",
    "            with torch.no_grad():\n",
    "                y_pred = model(X_batch)\n",
    "                loss = LOSS_FN(y_pred, y_true)\n",
    "                \n",
    "            LOSS.update(loss)\n",
    "            MAE.update(y_pred, y_true)\n",
    "            R2.update(y_pred, y_true)\n",
    "            if not CONFIG.IS_INTERACTIVE and (step+1) == len(val_dataloader):\n",
    "                print(\n",
    "                    f'EPOCH VAL, {epoch+1:02d}, {step+1:04d}/{len(val_dataloader)} | ' + \n",
    "                    f'loss: {LOSS.avg:.4f}, mae: {MAE.compute().item():.4f}, r2: {R2.compute().item():.4f}, ' +\n",
    "                    f'step: {(time.perf_counter_ns()-t_start)*1e-9:.3f}s, lr: {LR_SCHEDULER.get_last_lr()[0]:.2e}',\n",
    "                )\n",
    "            elif CONFIG.IS_INTERACTIVE:\n",
    "                print(\n",
    "                    f'\\rEPOCH VAL {epoch+1:02d}, {step+1:04d}/{len(val_dataloader)} | ' + \n",
    "                    f'loss: {LOSS.avg:.4f}, mae: {MAE.compute().item():.4f}, r2: {R2.compute().item():.4f}, ' +\n",
    "                    f'step: {(time.perf_counter_ns()-t_start)*1e-9:.3f}s, lr: {LR_SCHEDULER.get_last_lr()[0]:.2e}',\n",
    "                    end='\\n' if (step + 1) == CONFIG.N_STEPS_PER_EPOCH else '', flush=True,\n",
    "                )\n",
    "        print()\n",
    "        if LOSS.avg < best:\n",
    "            best = LOSS.avg\n",
    "            torch.save(model, 'model.pth')\n",
    "            \n",
    "            \n",
    "else:\n",
    "    model = torch.load(CONFIG.MODEL_PATH)\n",
    "    model.to(device)"
   ]
  },
  {
   "cell_type": "code",
   "execution_count": 14,
   "id": "16951a57",
   "metadata": {
    "execution": {
     "iopub.execute_input": "2024-04-20T14:23:22.182815Z",
     "iopub.status.busy": "2024-04-20T14:23:22.182484Z",
     "iopub.status.idle": "2024-04-20T14:23:22.187267Z",
     "shell.execute_reply": "2024-04-20T14:23:22.186470Z"
    },
    "papermill": {
     "duration": 0.016987,
     "end_time": "2024-04-20T14:23:22.189131",
     "exception": false,
     "start_time": "2024-04-20T14:23:22.172144",
     "status": "completed"
    },
    "tags": []
   },
   "outputs": [],
   "source": [
    "# train_features = np.load('/kaggle/input/planttraits2024-image-features/features_train.npy')\n",
    "# test_features = np.load('/kaggle/input/planttraits2024-image-features/features_test.npy')\n",
    "\n",
    "# features_df = pd.DataFrame(train_features)\n",
    "# features_df.columns = [f'feature_{i}' for i in range(train_features.shape[1])]\n",
    "# features_df.head()\n",
    "\n",
    "# train_df = pd.concat([train.reset_index(drop=True), features_df.reset_index(drop=True)], axis=1)\n",
    "\n",
    "# features_df = pd.DataFrame(test_features)\n",
    "# features_df.columns = [f'feature_{i}' for i in range(test_features.shape[1])]\n",
    "# features_df.head()\n",
    "\n",
    "# test_df = pd.concat([test.reset_index(drop=True), features_df.reset_index(drop=True)], axis=1)"
   ]
  },
  {
   "cell_type": "code",
   "execution_count": 15,
   "id": "e2627dd0",
   "metadata": {
    "execution": {
     "iopub.execute_input": "2024-04-20T14:23:22.208174Z",
     "iopub.status.busy": "2024-04-20T14:23:22.207874Z",
     "iopub.status.idle": "2024-04-20T14:23:22.212022Z",
     "shell.execute_reply": "2024-04-20T14:23:22.211173Z"
    },
    "papermill": {
     "duration": 0.015948,
     "end_time": "2024-04-20T14:23:22.213954",
     "exception": false,
     "start_time": "2024-04-20T14:23:22.198006",
     "status": "completed"
    },
    "tags": []
   },
   "outputs": [],
   "source": [
    "# do_cv = True\n",
    "\n",
    "# remove_cols = [ \n",
    "#  'X4_sd',\n",
    "#  'X11_sd',\n",
    "#  'X18_sd',\n",
    "#  'X26_sd',\n",
    "#  'X50_sd',\n",
    "#  'X3112_sd',\n",
    "#  'file_path',\n",
    "#  'jpeg_bytes'\n",
    "# ]\n",
    "\n",
    "# X_full = train_df.drop(columns=CONFIG.TARGET_COLUMNS + remove_cols)\n",
    "# Y_full = train_df[CONFIG.TARGET_COLUMNS]"
   ]
  },
  {
   "cell_type": "code",
   "execution_count": 16,
   "id": "c90ca946",
   "metadata": {
    "execution": {
     "iopub.execute_input": "2024-04-20T14:23:22.234288Z",
     "iopub.status.busy": "2024-04-20T14:23:22.233931Z",
     "iopub.status.idle": "2024-04-20T14:23:22.238501Z",
     "shell.execute_reply": "2024-04-20T14:23:22.237670Z"
    },
    "papermill": {
     "duration": 0.017525,
     "end_time": "2024-04-20T14:23:22.240473",
     "exception": false,
     "start_time": "2024-04-20T14:23:22.222948",
     "status": "completed"
    },
    "tags": []
   },
   "outputs": [],
   "source": [
    "# class CustomDataset(Dataset):\n",
    "#     def __init__(self, X, Y):\n",
    "#         self.X = torch.tensor(X.values, dtype=torch.float32)\n",
    "#         self.Y = torch.tensor(Y.values, dtype=torch.long)\n",
    "\n",
    "#     def __len__(self):\n",
    "#         return len(self.X)\n",
    "\n",
    "#     def __getitem__(self, idx):\n",
    "#         return self.X[idx], self.Y[idx]\n",
    "    \n",
    "# class NeuralNetwork(nn.Module):\n",
    "#     def __init__(self, input_size, hidden_size, num_classes):\n",
    "#         super(NeuralNetwork, self).__init__()\n",
    "#         self.fc1 = nn.Linear(input_size, hidden_size)\n",
    "#         self.relu = nn.ReLU()\n",
    "#         self.fc2 = nn.Linear(hidden_size, num_classes)\n",
    "\n",
    "#     def forward(self, x):\n",
    "#         out = self.fc1(x)\n",
    "#         out = self.relu(out)\n",
    "#         out = self.fc2(out)\n",
    "#         return out"
   ]
  },
  {
   "cell_type": "code",
   "execution_count": 17,
   "id": "c710d3a7",
   "metadata": {
    "execution": {
     "iopub.execute_input": "2024-04-20T14:23:22.259863Z",
     "iopub.status.busy": "2024-04-20T14:23:22.259612Z",
     "iopub.status.idle": "2024-04-20T14:23:22.265028Z",
     "shell.execute_reply": "2024-04-20T14:23:22.264154Z"
    },
    "papermill": {
     "duration": 0.017332,
     "end_time": "2024-04-20T14:23:22.266936",
     "exception": false,
     "start_time": "2024-04-20T14:23:22.249604",
     "status": "completed"
    },
    "tags": []
   },
   "outputs": [],
   "source": [
    "# models = {}\n",
    "\n",
    "# xboost = False\n",
    "    \n",
    "# if xboost:\n",
    "#     for column in Y_full.columns:\n",
    "\n",
    "#         model = xgb.XGBRegressor(objective='reg:squarederror', n_estimators=150, learning_rate=0.1, max_depth=10)\n",
    "\n",
    "#         if do_cv:\n",
    "#             print(f\"\\nDoing cross-validation scoring for {column}...\")\n",
    "#             scores = cross_val_score(model, X_full, Y_full[column],\n",
    "#                                      cv=KFold(n_splits=3, shuffle=True, random_state=42),\n",
    "#                                      scoring='r2')        \n",
    "#             print(f\"R^2 score for {column}: {np.mean(scores)}\")\n",
    "\n",
    "#         #train model with all data\n",
    "#         print(f\"Training model for {column}...\")\n",
    "#         model.fit(X_full, Y_full[column])\n",
    "#         models[column] = model\n",
    "\n",
    "#     with open('all_models.pkl', 'wb') as file:\n",
    "#         pickle.dump(models, file)\n",
    "        \n",
    "#     # with open('all_models.pkl', 'rb') as file:\n",
    "#     # models = pickle.load(file)\n",
    "        \n",
    "# else:\n",
    "#     X_train, X_val, Y_train, Y_val = train_test_split(X_full, Y_full, test_size=0.2, random_state=42)\n",
    "\n",
    "#     # Define your datasets for train and validation\n",
    "#     train_dataset = CustomDataset(X_train, Y_train)\n",
    "#     val_dataset = CustomDataset(X_val, Y_val)\n",
    "\n",
    "#     # Define your data loaders for train and validation\n",
    "#     train_dataloader = DataLoader(train_dataset, batch_size=CONFIG.BATCH_SIZE, shuffle=True)\n",
    "#     val_dataloader = DataLoader(val_dataset, batch_size=CONFIG.BATCH_SIZE, shuffle=False)\n",
    "#     model = NeuralNetwork(1700, 512, 6)\n",
    "    \n",
    "   "
   ]
  },
  {
   "cell_type": "code",
   "execution_count": 18,
   "id": "e58ecba5",
   "metadata": {
    "execution": {
     "iopub.execute_input": "2024-04-20T14:23:22.286682Z",
     "iopub.status.busy": "2024-04-20T14:23:22.285993Z",
     "iopub.status.idle": "2024-04-20T14:23:22.290044Z",
     "shell.execute_reply": "2024-04-20T14:23:22.289241Z"
    },
    "papermill": {
     "duration": 0.015848,
     "end_time": "2024-04-20T14:23:22.291870",
     "exception": false,
     "start_time": "2024-04-20T14:23:22.276022",
     "status": "completed"
    },
    "tags": []
   },
   "outputs": [],
   "source": [
    "# mean_values = Y_full.mean()\n",
    "# submission = pd.DataFrame({'id': test_df['id']})\n",
    "# submission[Y_full.columns] = mean_values\n",
    "\n",
    "# #rename from _mean\n",
    "# submission.columns = submission.columns.str.replace('_mean', '')\n",
    "# submission"
   ]
  },
  {
   "cell_type": "code",
   "execution_count": 19,
   "id": "c6419151",
   "metadata": {
    "execution": {
     "iopub.execute_input": "2024-04-20T14:23:22.312064Z",
     "iopub.status.busy": "2024-04-20T14:23:22.311740Z",
     "iopub.status.idle": "2024-04-20T14:23:22.316277Z",
     "shell.execute_reply": "2024-04-20T14:23:22.315353Z"
    },
    "papermill": {
     "duration": 0.017165,
     "end_time": "2024-04-20T14:23:22.318363",
     "exception": false,
     "start_time": "2024-04-20T14:23:22.301198",
     "status": "completed"
    },
    "tags": []
   },
   "outputs": [],
   "source": [
    "# remove_cols = [ \n",
    "#  'file_path',\n",
    "#  'jpeg_bytes'\n",
    "# ]\n",
    "\n",
    "# X_test = test_df.drop(columns=remove_cols)\n",
    "\n",
    "# submission['X4'] = models['X4_mean'].predict(X_test)\n",
    "# submission['X11'] = models['X11_mean'].predict(X_test)\n",
    "# submission['X18'] = models['X18_mean'].predict(X_test)\n",
    "# submission['X50'] = models['X50_mean'].predict(X_test)\n",
    "# submission['X26'] = models['X26_mean'].predict(X_test)\n",
    "# submission['X3112'] = models['X3112_mean'].predict(X_test)\n",
    "\n",
    "# submission"
   ]
  },
  {
   "cell_type": "code",
   "execution_count": 20,
   "id": "2275e222",
   "metadata": {
    "execution": {
     "iopub.execute_input": "2024-04-20T14:23:22.338958Z",
     "iopub.status.busy": "2024-04-20T14:23:22.338665Z",
     "iopub.status.idle": "2024-04-20T14:23:22.342865Z",
     "shell.execute_reply": "2024-04-20T14:23:22.341909Z"
    },
    "papermill": {
     "duration": 0.017099,
     "end_time": "2024-04-20T14:23:22.344791",
     "exception": false,
     "start_time": "2024-04-20T14:23:22.327692",
     "status": "completed"
    },
    "tags": []
   },
   "outputs": [],
   "source": [
    "# submission.to_csv('submission.csv', index=False)"
   ]
  },
  {
   "cell_type": "code",
   "execution_count": 21,
   "id": "9ad668bf",
   "metadata": {
    "execution": {
     "iopub.execute_input": "2024-04-20T14:23:22.365158Z",
     "iopub.status.busy": "2024-04-20T14:23:22.364861Z",
     "iopub.status.idle": "2024-04-20T14:23:22.714241Z",
     "shell.execute_reply": "2024-04-20T14:23:22.713316Z"
    },
    "papermill": {
     "duration": 0.362097,
     "end_time": "2024-04-20T14:23:22.716547",
     "exception": false,
     "start_time": "2024-04-20T14:23:22.354450",
     "status": "completed"
    },
    "tags": []
   },
   "outputs": [],
   "source": [
    "model = torch.load('/kaggle/working/model.pth')\n",
    "model.to(device);"
   ]
  },
  {
   "cell_type": "code",
   "execution_count": 22,
   "id": "8c2fbe49",
   "metadata": {
    "execution": {
     "iopub.execute_input": "2024-04-20T14:23:22.737390Z",
     "iopub.status.busy": "2024-04-20T14:23:22.737019Z",
     "iopub.status.idle": "2024-04-20T14:25:18.520361Z",
     "shell.execute_reply": "2024-04-20T14:25:18.519183Z"
    },
    "papermill": {
     "duration": 115.796315,
     "end_time": "2024-04-20T14:25:18.522787",
     "exception": false,
     "start_time": "2024-04-20T14:23:22.726472",
     "status": "completed"
    },
    "tags": []
   },
   "outputs": [
    {
     "data": {
      "application/vnd.jupyter.widget-view+json": {
       "model_id": "d7ab02c108bf493bb9018803625cadd7",
       "version_major": 2,
       "version_minor": 0
      },
      "text/plain": [
       "  0%|          | 0/6545 [00:00<?, ?it/s]"
      ]
     },
     "metadata": {},
     "output_type": "display_data"
    },
    {
     "name": "stdout",
     "output_type": "stream",
     "text": [
      "Submit!\n"
     ]
    }
   ],
   "source": [
    "SUBMISSION_ROWS = []\n",
    "model.eval()\n",
    "\n",
    "for X_sample_test, test_id in tqdm(test_dataset):\n",
    "    X_sample_test['image'] = torch.Tensor(X_sample_test['image']).unsqueeze(0).to(device)\n",
    "    X_sample_test['tabular'] = torch.Tensor(X_sample_test['tabular']).unsqueeze(0).to(device)\n",
    "    with torch.no_grad():\n",
    "        y_pred = model(X_sample_test).detach().cpu().numpy()\n",
    "    \n",
    "    y_pred = SCALER.inverse_transform(y_pred).squeeze()\n",
    "    row = {'id': test_id}\n",
    "    \n",
    "    for k, v in zip(CONFIG.TARGET_COLUMNS, y_pred):\n",
    "        if k in LOG_FEATURES:\n",
    "            row[k.replace('_mean', '')] = 10 ** v\n",
    "        else:\n",
    "            row[k.replace('_mean', '')] = v\n",
    "\n",
    "    SUBMISSION_ROWS.append(row)\n",
    "    \n",
    "submission_df = pd.DataFrame(SUBMISSION_ROWS)\n",
    "submission_df.to_csv('submission.csv', index=False)\n",
    "print(\"Submit!\")"
   ]
  },
  {
   "cell_type": "code",
   "execution_count": null,
   "id": "a834e239",
   "metadata": {
    "papermill": {
     "duration": 0.010934,
     "end_time": "2024-04-20T14:25:18.545079",
     "exception": false,
     "start_time": "2024-04-20T14:25:18.534145",
     "status": "completed"
    },
    "tags": []
   },
   "outputs": [],
   "source": []
  },
  {
   "cell_type": "code",
   "execution_count": null,
   "id": "afead823",
   "metadata": {
    "papermill": {
     "duration": 0.010647,
     "end_time": "2024-04-20T14:25:18.566482",
     "exception": false,
     "start_time": "2024-04-20T14:25:18.555835",
     "status": "completed"
    },
    "tags": []
   },
   "outputs": [],
   "source": []
  },
  {
   "cell_type": "code",
   "execution_count": null,
   "id": "29584522",
   "metadata": {
    "papermill": {
     "duration": 0.009275,
     "end_time": "2024-04-20T14:25:18.586295",
     "exception": false,
     "start_time": "2024-04-20T14:25:18.577020",
     "status": "completed"
    },
    "tags": []
   },
   "outputs": [],
   "source": []
  }
 ],
 "metadata": {
  "kaggle": {
   "accelerator": "gpu",
   "dataSources": [
    {
     "databundleVersionId": 8046133,
     "sourceId": 65626,
     "sourceType": "competition"
    },
    {
     "datasetId": 4761376,
     "sourceId": 8069756,
     "sourceType": "datasetVersion"
    },
    {
     "datasetId": 4769096,
     "sourceId": 8080312,
     "sourceType": "datasetVersion"
    },
    {
     "datasetId": 4794400,
     "sourceId": 8115215,
     "sourceType": "datasetVersion"
    },
    {
     "datasetId": 4828729,
     "sourceId": 8161566,
     "sourceType": "datasetVersion"
    }
   ],
   "isGpuEnabled": true,
   "isInternetEnabled": true,
   "language": "python",
   "sourceType": "notebook"
  },
  "kernelspec": {
   "display_name": "Python 3",
   "language": "python",
   "name": "python3"
  },
  "language_info": {
   "codemirror_mode": {
    "name": "ipython",
    "version": 3
   },
   "file_extension": ".py",
   "mimetype": "text/x-python",
   "name": "python",
   "nbconvert_exporter": "python",
   "pygments_lexer": "ipython3",
   "version": "3.10.13"
  },
  "papermill": {
   "default_parameters": {},
   "duration": 3669.105168,
   "end_time": "2024-04-20T14:25:22.054340",
   "environment_variables": {},
   "exception": null,
   "input_path": "__notebook__.ipynb",
   "output_path": "__notebook__.ipynb",
   "parameters": {},
   "start_time": "2024-04-20T13:24:12.949172",
   "version": "2.5.0"
  },
  "widgets": {
   "application/vnd.jupyter.widget-state+json": {
    "state": {
     "130dc256ab3146a8a8e1dcdd63eb1025": {
      "model_module": "@jupyter-widgets/controls",
      "model_module_version": "1.5.0",
      "model_name": "DescriptionStyleModel",
      "state": {
       "_model_module": "@jupyter-widgets/controls",
       "_model_module_version": "1.5.0",
       "_model_name": "DescriptionStyleModel",
       "_view_count": null,
       "_view_module": "@jupyter-widgets/base",
       "_view_module_version": "1.2.0",
       "_view_name": "StyleView",
       "description_width": ""
      }
     },
     "15d0f9c756084384ae871c7c917b0fd2": {
      "model_module": "@jupyter-widgets/controls",
      "model_module_version": "1.5.0",
      "model_name": "ProgressStyleModel",
      "state": {
       "_model_module": "@jupyter-widgets/controls",
       "_model_module_version": "1.5.0",
       "_model_name": "ProgressStyleModel",
       "_view_count": null,
       "_view_module": "@jupyter-widgets/base",
       "_view_module_version": "1.2.0",
       "_view_name": "StyleView",
       "bar_color": null,
       "description_width": ""
      }
     },
     "2397b1693bd24044ba9b81f563ae921c": {
      "model_module": "@jupyter-widgets/controls",
      "model_module_version": "1.5.0",
      "model_name": "FloatProgressModel",
      "state": {
       "_dom_classes": [],
       "_model_module": "@jupyter-widgets/controls",
       "_model_module_version": "1.5.0",
       "_model_name": "FloatProgressModel",
       "_view_count": null,
       "_view_module": "@jupyter-widgets/controls",
       "_view_module_version": "1.5.0",
       "_view_name": "ProgressView",
       "bar_style": "success",
       "description": "",
       "description_tooltip": null,
       "layout": "IPY_MODEL_44f98ce60fc8409faf93815a8074376c",
       "max": 21355344.0,
       "min": 0.0,
       "orientation": "horizontal",
       "style": "IPY_MODEL_15d0f9c756084384ae871c7c917b0fd2",
       "value": 21355344.0
      }
     },
     "264b7fae538d4ed39c06e713687af58f": {
      "model_module": "@jupyter-widgets/controls",
      "model_module_version": "1.5.0",
      "model_name": "HBoxModel",
      "state": {
       "_dom_classes": [],
       "_model_module": "@jupyter-widgets/controls",
       "_model_module_version": "1.5.0",
       "_model_name": "HBoxModel",
       "_view_count": null,
       "_view_module": "@jupyter-widgets/controls",
       "_view_module_version": "1.5.0",
       "_view_name": "HBoxView",
       "box_style": "",
       "children": [
        "IPY_MODEL_8f0601f49953461cac2d91935d905c93",
        "IPY_MODEL_2397b1693bd24044ba9b81f563ae921c",
        "IPY_MODEL_cba06efc7b6649e1aa27463d709b5eb6"
       ],
       "layout": "IPY_MODEL_5135b50a508a4e328396dfd5d9bfd1d1"
      }
     },
     "27dfdbf9ba834cd9bdf262eec66446f7": {
      "model_module": "@jupyter-widgets/base",
      "model_module_version": "1.2.0",
      "model_name": "LayoutModel",
      "state": {
       "_model_module": "@jupyter-widgets/base",
       "_model_module_version": "1.2.0",
       "_model_name": "LayoutModel",
       "_view_count": null,
       "_view_module": "@jupyter-widgets/base",
       "_view_module_version": "1.2.0",
       "_view_name": "LayoutView",
       "align_content": null,
       "align_items": null,
       "align_self": null,
       "border": null,
       "bottom": null,
       "display": null,
       "flex": null,
       "flex_flow": null,
       "grid_area": null,
       "grid_auto_columns": null,
       "grid_auto_flow": null,
       "grid_auto_rows": null,
       "grid_column": null,
       "grid_gap": null,
       "grid_row": null,
       "grid_template_areas": null,
       "grid_template_columns": null,
       "grid_template_rows": null,
       "height": null,
       "justify_content": null,
       "justify_items": null,
       "left": null,
       "margin": null,
       "max_height": null,
       "max_width": null,
       "min_height": null,
       "min_width": null,
       "object_fit": null,
       "object_position": null,
       "order": null,
       "overflow": null,
       "overflow_x": null,
       "overflow_y": null,
       "padding": null,
       "right": null,
       "top": null,
       "visibility": null,
       "width": null
      }
     },
     "310dafe6030440fc8f273ab5ef4e2564": {
      "model_module": "@jupyter-widgets/controls",
      "model_module_version": "1.5.0",
      "model_name": "FloatProgressModel",
      "state": {
       "_dom_classes": [],
       "_model_module": "@jupyter-widgets/controls",
       "_model_module_version": "1.5.0",
       "_model_name": "FloatProgressModel",
       "_view_count": null,
       "_view_module": "@jupyter-widgets/controls",
       "_view_module_version": "1.5.0",
       "_view_name": "ProgressView",
       "bar_style": "success",
       "description": "",
       "description_tooltip": null,
       "layout": "IPY_MODEL_a32ed170021e4f0a8a6e116c8ebbf432",
       "max": 6545.0,
       "min": 0.0,
       "orientation": "horizontal",
       "style": "IPY_MODEL_55502131f628421d9cc1aa66fa33a363",
       "value": 6545.0
      }
     },
     "44f98ce60fc8409faf93815a8074376c": {
      "model_module": "@jupyter-widgets/base",
      "model_module_version": "1.2.0",
      "model_name": "LayoutModel",
      "state": {
       "_model_module": "@jupyter-widgets/base",
       "_model_module_version": "1.2.0",
       "_model_name": "LayoutModel",
       "_view_count": null,
       "_view_module": "@jupyter-widgets/base",
       "_view_module_version": "1.2.0",
       "_view_name": "LayoutView",
       "align_content": null,
       "align_items": null,
       "align_self": null,
       "border": null,
       "bottom": null,
       "display": null,
       "flex": null,
       "flex_flow": null,
       "grid_area": null,
       "grid_auto_columns": null,
       "grid_auto_flow": null,
       "grid_auto_rows": null,
       "grid_column": null,
       "grid_gap": null,
       "grid_row": null,
       "grid_template_areas": null,
       "grid_template_columns": null,
       "grid_template_rows": null,
       "height": null,
       "justify_content": null,
       "justify_items": null,
       "left": null,
       "margin": null,
       "max_height": null,
       "max_width": null,
       "min_height": null,
       "min_width": null,
       "object_fit": null,
       "object_position": null,
       "order": null,
       "overflow": null,
       "overflow_x": null,
       "overflow_y": null,
       "padding": null,
       "right": null,
       "top": null,
       "visibility": null,
       "width": null
      }
     },
     "50b1cbbe895f4789801b3cd554ec1c7e": {
      "model_module": "@jupyter-widgets/base",
      "model_module_version": "1.2.0",
      "model_name": "LayoutModel",
      "state": {
       "_model_module": "@jupyter-widgets/base",
       "_model_module_version": "1.2.0",
       "_model_name": "LayoutModel",
       "_view_count": null,
       "_view_module": "@jupyter-widgets/base",
       "_view_module_version": "1.2.0",
       "_view_name": "LayoutView",
       "align_content": null,
       "align_items": null,
       "align_self": null,
       "border": null,
       "bottom": null,
       "display": null,
       "flex": null,
       "flex_flow": null,
       "grid_area": null,
       "grid_auto_columns": null,
       "grid_auto_flow": null,
       "grid_auto_rows": null,
       "grid_column": null,
       "grid_gap": null,
       "grid_row": null,
       "grid_template_areas": null,
       "grid_template_columns": null,
       "grid_template_rows": null,
       "height": null,
       "justify_content": null,
       "justify_items": null,
       "left": null,
       "margin": null,
       "max_height": null,
       "max_width": null,
       "min_height": null,
       "min_width": null,
       "object_fit": null,
       "object_position": null,
       "order": null,
       "overflow": null,
       "overflow_x": null,
       "overflow_y": null,
       "padding": null,
       "right": null,
       "top": null,
       "visibility": null,
       "width": null
      }
     },
     "5135b50a508a4e328396dfd5d9bfd1d1": {
      "model_module": "@jupyter-widgets/base",
      "model_module_version": "1.2.0",
      "model_name": "LayoutModel",
      "state": {
       "_model_module": "@jupyter-widgets/base",
       "_model_module_version": "1.2.0",
       "_model_name": "LayoutModel",
       "_view_count": null,
       "_view_module": "@jupyter-widgets/base",
       "_view_module_version": "1.2.0",
       "_view_name": "LayoutView",
       "align_content": null,
       "align_items": null,
       "align_self": null,
       "border": null,
       "bottom": null,
       "display": null,
       "flex": null,
       "flex_flow": null,
       "grid_area": null,
       "grid_auto_columns": null,
       "grid_auto_flow": null,
       "grid_auto_rows": null,
       "grid_column": null,
       "grid_gap": null,
       "grid_row": null,
       "grid_template_areas": null,
       "grid_template_columns": null,
       "grid_template_rows": null,
       "height": null,
       "justify_content": null,
       "justify_items": null,
       "left": null,
       "margin": null,
       "max_height": null,
       "max_width": null,
       "min_height": null,
       "min_width": null,
       "object_fit": null,
       "object_position": null,
       "order": null,
       "overflow": null,
       "overflow_x": null,
       "overflow_y": null,
       "padding": null,
       "right": null,
       "top": null,
       "visibility": null,
       "width": null
      }
     },
     "55502131f628421d9cc1aa66fa33a363": {
      "model_module": "@jupyter-widgets/controls",
      "model_module_version": "1.5.0",
      "model_name": "ProgressStyleModel",
      "state": {
       "_model_module": "@jupyter-widgets/controls",
       "_model_module_version": "1.5.0",
       "_model_name": "ProgressStyleModel",
       "_view_count": null,
       "_view_module": "@jupyter-widgets/base",
       "_view_module_version": "1.2.0",
       "_view_name": "StyleView",
       "bar_color": null,
       "description_width": ""
      }
     },
     "73c2cf651df24721885212203bbd82e9": {
      "model_module": "@jupyter-widgets/base",
      "model_module_version": "1.2.0",
      "model_name": "LayoutModel",
      "state": {
       "_model_module": "@jupyter-widgets/base",
       "_model_module_version": "1.2.0",
       "_model_name": "LayoutModel",
       "_view_count": null,
       "_view_module": "@jupyter-widgets/base",
       "_view_module_version": "1.2.0",
       "_view_name": "LayoutView",
       "align_content": null,
       "align_items": null,
       "align_self": null,
       "border": null,
       "bottom": null,
       "display": null,
       "flex": null,
       "flex_flow": null,
       "grid_area": null,
       "grid_auto_columns": null,
       "grid_auto_flow": null,
       "grid_auto_rows": null,
       "grid_column": null,
       "grid_gap": null,
       "grid_row": null,
       "grid_template_areas": null,
       "grid_template_columns": null,
       "grid_template_rows": null,
       "height": null,
       "justify_content": null,
       "justify_items": null,
       "left": null,
       "margin": null,
       "max_height": null,
       "max_width": null,
       "min_height": null,
       "min_width": null,
       "object_fit": null,
       "object_position": null,
       "order": null,
       "overflow": null,
       "overflow_x": null,
       "overflow_y": null,
       "padding": null,
       "right": null,
       "top": null,
       "visibility": null,
       "width": null
      }
     },
     "7f1a932fca7344309ed3dab75ad65f88": {
      "model_module": "@jupyter-widgets/controls",
      "model_module_version": "1.5.0",
      "model_name": "HTMLModel",
      "state": {
       "_dom_classes": [],
       "_model_module": "@jupyter-widgets/controls",
       "_model_module_version": "1.5.0",
       "_model_name": "HTMLModel",
       "_view_count": null,
       "_view_module": "@jupyter-widgets/controls",
       "_view_module_version": "1.5.0",
       "_view_name": "HTMLView",
       "description": "",
       "description_tooltip": null,
       "layout": "IPY_MODEL_27dfdbf9ba834cd9bdf262eec66446f7",
       "placeholder": "​",
       "style": "IPY_MODEL_130dc256ab3146a8a8e1dcdd63eb1025",
       "value": " 6545/6545 [01:55&lt;00:00, 58.19it/s]"
      }
     },
     "8c73e81d6803426da18c33d76f9f1214": {
      "model_module": "@jupyter-widgets/controls",
      "model_module_version": "1.5.0",
      "model_name": "DescriptionStyleModel",
      "state": {
       "_model_module": "@jupyter-widgets/controls",
       "_model_module_version": "1.5.0",
       "_model_name": "DescriptionStyleModel",
       "_view_count": null,
       "_view_module": "@jupyter-widgets/base",
       "_view_module_version": "1.2.0",
       "_view_name": "StyleView",
       "description_width": ""
      }
     },
     "8cfa0663243c4c469d0504ad426d0734": {
      "model_module": "@jupyter-widgets/controls",
      "model_module_version": "1.5.0",
      "model_name": "DescriptionStyleModel",
      "state": {
       "_model_module": "@jupyter-widgets/controls",
       "_model_module_version": "1.5.0",
       "_model_name": "DescriptionStyleModel",
       "_view_count": null,
       "_view_module": "@jupyter-widgets/base",
       "_view_module_version": "1.2.0",
       "_view_name": "StyleView",
       "description_width": ""
      }
     },
     "8f0601f49953461cac2d91935d905c93": {
      "model_module": "@jupyter-widgets/controls",
      "model_module_version": "1.5.0",
      "model_name": "HTMLModel",
      "state": {
       "_dom_classes": [],
       "_model_module": "@jupyter-widgets/controls",
       "_model_module_version": "1.5.0",
       "_model_name": "HTMLModel",
       "_view_count": null,
       "_view_module": "@jupyter-widgets/controls",
       "_view_module_version": "1.5.0",
       "_view_name": "HTMLView",
       "description": "",
       "description_tooltip": null,
       "layout": "IPY_MODEL_af9ec53144bc4f5ead3d13c1fc531ea7",
       "placeholder": "​",
       "style": "IPY_MODEL_fd1d573c13e04085bcc1bc99f91a507c",
       "value": "model.safetensors: 100%"
      }
     },
     "a32ed170021e4f0a8a6e116c8ebbf432": {
      "model_module": "@jupyter-widgets/base",
      "model_module_version": "1.2.0",
      "model_name": "LayoutModel",
      "state": {
       "_model_module": "@jupyter-widgets/base",
       "_model_module_version": "1.2.0",
       "_model_name": "LayoutModel",
       "_view_count": null,
       "_view_module": "@jupyter-widgets/base",
       "_view_module_version": "1.2.0",
       "_view_name": "LayoutView",
       "align_content": null,
       "align_items": null,
       "align_self": null,
       "border": null,
       "bottom": null,
       "display": null,
       "flex": null,
       "flex_flow": null,
       "grid_area": null,
       "grid_auto_columns": null,
       "grid_auto_flow": null,
       "grid_auto_rows": null,
       "grid_column": null,
       "grid_gap": null,
       "grid_row": null,
       "grid_template_areas": null,
       "grid_template_columns": null,
       "grid_template_rows": null,
       "height": null,
       "justify_content": null,
       "justify_items": null,
       "left": null,
       "margin": null,
       "max_height": null,
       "max_width": null,
       "min_height": null,
       "min_width": null,
       "object_fit": null,
       "object_position": null,
       "order": null,
       "overflow": null,
       "overflow_x": null,
       "overflow_y": null,
       "padding": null,
       "right": null,
       "top": null,
       "visibility": null,
       "width": null
      }
     },
     "af9ec53144bc4f5ead3d13c1fc531ea7": {
      "model_module": "@jupyter-widgets/base",
      "model_module_version": "1.2.0",
      "model_name": "LayoutModel",
      "state": {
       "_model_module": "@jupyter-widgets/base",
       "_model_module_version": "1.2.0",
       "_model_name": "LayoutModel",
       "_view_count": null,
       "_view_module": "@jupyter-widgets/base",
       "_view_module_version": "1.2.0",
       "_view_name": "LayoutView",
       "align_content": null,
       "align_items": null,
       "align_self": null,
       "border": null,
       "bottom": null,
       "display": null,
       "flex": null,
       "flex_flow": null,
       "grid_area": null,
       "grid_auto_columns": null,
       "grid_auto_flow": null,
       "grid_auto_rows": null,
       "grid_column": null,
       "grid_gap": null,
       "grid_row": null,
       "grid_template_areas": null,
       "grid_template_columns": null,
       "grid_template_rows": null,
       "height": null,
       "justify_content": null,
       "justify_items": null,
       "left": null,
       "margin": null,
       "max_height": null,
       "max_width": null,
       "min_height": null,
       "min_width": null,
       "object_fit": null,
       "object_position": null,
       "order": null,
       "overflow": null,
       "overflow_x": null,
       "overflow_y": null,
       "padding": null,
       "right": null,
       "top": null,
       "visibility": null,
       "width": null
      }
     },
     "b96fbe95fa6b4925bebcbfb690918faa": {
      "model_module": "@jupyter-widgets/base",
      "model_module_version": "1.2.0",
      "model_name": "LayoutModel",
      "state": {
       "_model_module": "@jupyter-widgets/base",
       "_model_module_version": "1.2.0",
       "_model_name": "LayoutModel",
       "_view_count": null,
       "_view_module": "@jupyter-widgets/base",
       "_view_module_version": "1.2.0",
       "_view_name": "LayoutView",
       "align_content": null,
       "align_items": null,
       "align_self": null,
       "border": null,
       "bottom": null,
       "display": null,
       "flex": null,
       "flex_flow": null,
       "grid_area": null,
       "grid_auto_columns": null,
       "grid_auto_flow": null,
       "grid_auto_rows": null,
       "grid_column": null,
       "grid_gap": null,
       "grid_row": null,
       "grid_template_areas": null,
       "grid_template_columns": null,
       "grid_template_rows": null,
       "height": null,
       "justify_content": null,
       "justify_items": null,
       "left": null,
       "margin": null,
       "max_height": null,
       "max_width": null,
       "min_height": null,
       "min_width": null,
       "object_fit": null,
       "object_position": null,
       "order": null,
       "overflow": null,
       "overflow_x": null,
       "overflow_y": null,
       "padding": null,
       "right": null,
       "top": null,
       "visibility": null,
       "width": null
      }
     },
     "cba06efc7b6649e1aa27463d709b5eb6": {
      "model_module": "@jupyter-widgets/controls",
      "model_module_version": "1.5.0",
      "model_name": "HTMLModel",
      "state": {
       "_dom_classes": [],
       "_model_module": "@jupyter-widgets/controls",
       "_model_module_version": "1.5.0",
       "_model_name": "HTMLModel",
       "_view_count": null,
       "_view_module": "@jupyter-widgets/controls",
       "_view_module_version": "1.5.0",
       "_view_name": "HTMLView",
       "description": "",
       "description_tooltip": null,
       "layout": "IPY_MODEL_50b1cbbe895f4789801b3cd554ec1c7e",
       "placeholder": "​",
       "style": "IPY_MODEL_8cfa0663243c4c469d0504ad426d0734",
       "value": " 21.4M/21.4M [00:00&lt;00:00, 58.2MB/s]"
      }
     },
     "d7ab02c108bf493bb9018803625cadd7": {
      "model_module": "@jupyter-widgets/controls",
      "model_module_version": "1.5.0",
      "model_name": "HBoxModel",
      "state": {
       "_dom_classes": [],
       "_model_module": "@jupyter-widgets/controls",
       "_model_module_version": "1.5.0",
       "_model_name": "HBoxModel",
       "_view_count": null,
       "_view_module": "@jupyter-widgets/controls",
       "_view_module_version": "1.5.0",
       "_view_name": "HBoxView",
       "box_style": "",
       "children": [
        "IPY_MODEL_f505cc3a38e24e67acebdfd455f0e31e",
        "IPY_MODEL_310dafe6030440fc8f273ab5ef4e2564",
        "IPY_MODEL_7f1a932fca7344309ed3dab75ad65f88"
       ],
       "layout": "IPY_MODEL_73c2cf651df24721885212203bbd82e9"
      }
     },
     "f505cc3a38e24e67acebdfd455f0e31e": {
      "model_module": "@jupyter-widgets/controls",
      "model_module_version": "1.5.0",
      "model_name": "HTMLModel",
      "state": {
       "_dom_classes": [],
       "_model_module": "@jupyter-widgets/controls",
       "_model_module_version": "1.5.0",
       "_model_name": "HTMLModel",
       "_view_count": null,
       "_view_module": "@jupyter-widgets/controls",
       "_view_module_version": "1.5.0",
       "_view_name": "HTMLView",
       "description": "",
       "description_tooltip": null,
       "layout": "IPY_MODEL_b96fbe95fa6b4925bebcbfb690918faa",
       "placeholder": "​",
       "style": "IPY_MODEL_8c73e81d6803426da18c33d76f9f1214",
       "value": "100%"
      }
     },
     "fd1d573c13e04085bcc1bc99f91a507c": {
      "model_module": "@jupyter-widgets/controls",
      "model_module_version": "1.5.0",
      "model_name": "DescriptionStyleModel",
      "state": {
       "_model_module": "@jupyter-widgets/controls",
       "_model_module_version": "1.5.0",
       "_model_name": "DescriptionStyleModel",
       "_view_count": null,
       "_view_module": "@jupyter-widgets/base",
       "_view_module_version": "1.2.0",
       "_view_name": "StyleView",
       "description_width": ""
      }
     }
    },
    "version_major": 2,
    "version_minor": 0
   }
  }
 },
 "nbformat": 4,
 "nbformat_minor": 5
}
