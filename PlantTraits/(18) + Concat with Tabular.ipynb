{
 "cells": [
  {
   "cell_type": "markdown",
   "id": "c763b0b1",
   "metadata": {
    "papermill": {
     "duration": 0.008155,
     "end_time": "2024-04-16T11:05:41.623403",
     "exception": false,
     "start_time": "2024-04-16T11:05:41.615248",
     "status": "completed"
    },
    "tags": []
   },
   "source": [
    "- Notebook modified from https://www.kaggle.com/code/markwijkhuizen/planttraits2024-eda-training-pub.\n",
    "- Training only, EDA part not included.\n",
    "- Image model only, tabular data not used."
   ]
  },
  {
   "cell_type": "markdown",
   "id": "7e60afc1",
   "metadata": {
    "papermill": {
     "duration": 0.007115,
     "end_time": "2024-04-16T11:05:41.637930",
     "exception": false,
     "start_time": "2024-04-16T11:05:41.630815",
     "status": "completed"
    },
    "tags": []
   },
   "source": [
    "## Import Libraries "
   ]
  },
  {
   "cell_type": "code",
   "execution_count": 1,
   "id": "2a9e80bc",
   "metadata": {
    "execution": {
     "iopub.execute_input": "2024-04-16T11:05:41.654155Z",
     "iopub.status.busy": "2024-04-16T11:05:41.653818Z",
     "iopub.status.idle": "2024-04-16T11:05:53.623752Z",
     "shell.execute_reply": "2024-04-16T11:05:53.622887Z"
    },
    "papermill": {
     "duration": 11.98076,
     "end_time": "2024-04-16T11:05:53.626023",
     "exception": false,
     "start_time": "2024-04-16T11:05:41.645263",
     "status": "completed"
    },
    "tags": []
   },
   "outputs": [],
   "source": [
    "import numpy as np\n",
    "import pandas as pd\n",
    "import matplotlib.pyplot as plt\n",
    "import imageio.v3 as imageio\n",
    "import albumentations as A\n",
    "\n",
    "from albumentations.pytorch import ToTensorV2\n",
    "from torch.utils.data import Dataset, DataLoader\n",
    "from torch import nn\n",
    "from tqdm.notebook import tqdm\n",
    "from sklearn.preprocessing import StandardScaler\n",
    "from sklearn.model_selection import train_test_split, KFold, cross_val_score\n",
    "\n",
    "import xgboost as xgb\n",
    "\n",
    "import torch\n",
    "import timm\n",
    "import glob\n",
    "import torchmetrics\n",
    "import time\n",
    "import psutil\n",
    "import os\n",
    "import time\n",
    "import pickle\n",
    "\n",
    "tqdm.pandas()\n",
    "device = torch.device(\"cuda:0\" if torch.cuda.is_available() else \"cpu\")"
   ]
  },
  {
   "cell_type": "code",
   "execution_count": 2,
   "id": "5efd0573",
   "metadata": {
    "execution": {
     "iopub.execute_input": "2024-04-16T11:05:53.642366Z",
     "iopub.status.busy": "2024-04-16T11:05:53.642067Z",
     "iopub.status.idle": "2024-04-16T11:05:53.647691Z",
     "shell.execute_reply": "2024-04-16T11:05:53.646858Z"
    },
    "papermill": {
     "duration": 0.015763,
     "end_time": "2024-04-16T11:05:53.649608",
     "exception": false,
     "start_time": "2024-04-16T11:05:53.633845",
     "status": "completed"
    },
    "tags": []
   },
   "outputs": [],
   "source": [
    "class Config():\n",
    "    IMAGE_SIZE = 384\n",
    "    BACKBONE = 'swin_large_patch4_window12_384.ms_in22k_ft_in1k'\n",
    "#     BACKBONE = 'tf_efficientnet_b0'\n",
    "    TARGET_COLUMNS = ['X4_mean', 'X11_mean', 'X18_mean', 'X50_mean', 'X26_mean', 'X3112_mean']\n",
    "    \n",
    "    N_TARGETS = len(TARGET_COLUMNS)\n",
    "    BATCH_SIZE = 10\n",
    "    LR_MAX = 1e-4\n",
    "    WEIGHT_DECAY = 0.01\n",
    "    N_EPOCHS = 8\n",
    "    TRAIN_MODEL = True\n",
    "    IS_INTERACTIVE = os.environ['KAGGLE_KERNEL_RUN_TYPE'] == 'Interactive'\n",
    "    \n",
    "#     MODEL_PATH = '/kaggle/input/plainttraits2024-swintransformer/model.pth'\n",
    "    MODEL_PATH = '/kaggle/input/planttraits2024-swintransformer-tabular/model.pth'\n",
    "        \n",
    "CONFIG = Config()"
   ]
  },
  {
   "cell_type": "markdown",
   "id": "0798f0a0",
   "metadata": {
    "papermill": {
     "duration": 0.007006,
     "end_time": "2024-04-16T11:05:53.663864",
     "exception": false,
     "start_time": "2024-04-16T11:05:53.656858",
     "status": "completed"
    },
    "tags": []
   },
   "source": [
    "## Load Data"
   ]
  },
  {
   "cell_type": "code",
   "execution_count": 3,
   "id": "3893f440",
   "metadata": {
    "execution": {
     "iopub.execute_input": "2024-04-16T11:05:53.679450Z",
     "iopub.status.busy": "2024-04-16T11:05:53.679114Z",
     "iopub.status.idle": "2024-04-16T11:06:23.532542Z",
     "shell.execute_reply": "2024-04-16T11:06:23.531560Z"
    },
    "papermill": {
     "duration": 29.863656,
     "end_time": "2024-04-16T11:06:23.534785",
     "exception": false,
     "start_time": "2024-04-16T11:05:53.671129",
     "status": "completed"
    },
    "tags": []
   },
   "outputs": [
    {
     "name": "stdout",
     "output_type": "stream",
     "text": [
      "N_TRAIN_SAMPLES: 49168 N_TEST_SAMPLES: 6545\n",
      "CPU times: user 1.55 s, sys: 2.87 s, total: 4.42 s\n",
      "Wall time: 29.8 s\n"
     ]
    }
   ],
   "source": [
    "%%time\n",
    "read_images = False\n",
    "\n",
    "if not read_images:\n",
    "    train = pd.read_pickle('/kaggle/input/plainttraits2024-swintransformer/train.pkl')\n",
    "    test = pd.read_pickle('/kaggle/input/plainttraits2024-swintransformer/test.pkl')\n",
    "else: \n",
    "    # if CONFIG.TRAIN_MODEL:\n",
    "    train = pd.read_csv('/kaggle/input/planttraits2024/train.csv')\n",
    "    train['file_path'] = train['id'].apply(lambda s: f'/kaggle/input/planttraits2024/train_images/{s}.jpeg')\n",
    "    train['jpeg_bytes'] = train['file_path'].progress_apply(lambda fp: open(fp, 'rb').read())\n",
    "    train.to_pickle('train.pkl')\n",
    "\n",
    "    test = pd.read_csv('/kaggle/input/planttraits2024/test.csv')\n",
    "    test['file_path'] = test['id'].apply(lambda s: f'/kaggle/input/planttraits2024/test_images/{s}.jpeg')\n",
    "    test['jpeg_bytes'] = test['file_path'].progress_apply(lambda fp: open(fp, 'rb').read())\n",
    "    test.to_pickle('test.pkl')\n",
    "\n",
    "for column in CONFIG.TARGET_COLUMNS:\n",
    "    lower_quantile = train[column].quantile(0.005)\n",
    "    upper_quantile = train[column].quantile(0.985)  \n",
    "    train = train[(train[column] >= lower_quantile) & (train[column] <= upper_quantile)]    \n",
    "    \n",
    "sd_columns = [col for col in train.columns if col.endswith('_sd')]\n",
    "train = train.drop(columns=sd_columns)\n",
    "    \n",
    "CONFIG.N_TRAIN_SAMPLES = len(train)\n",
    "CONFIG.N_STEPS_PER_EPOCH = (CONFIG.N_TRAIN_SAMPLES // CONFIG.BATCH_SIZE)\n",
    "CONFIG.N_STEPS = CONFIG.N_STEPS_PER_EPOCH * CONFIG.N_EPOCHS + 1    \n",
    "CONFIG.TABULAR_COLUMNS = train.filter(regex='^(WORLDCLIM_BIO|SOIL|MODIS_2000|VOD)').columns\n",
    "    \n",
    "if CONFIG.TRAIN_MODEL:\n",
    "    print('N_TRAIN_SAMPLES:', len(train), 'N_TEST_SAMPLES:', len(test))\n",
    "else:\n",
    "    print('N_TEST_SAMPLES:', len(test))"
   ]
  },
  {
   "cell_type": "code",
   "execution_count": 4,
   "id": "c0d41403",
   "metadata": {
    "execution": {
     "iopub.execute_input": "2024-04-16T11:06:23.552595Z",
     "iopub.status.busy": "2024-04-16T11:06:23.552264Z",
     "iopub.status.idle": "2024-04-16T11:06:23.574523Z",
     "shell.execute_reply": "2024-04-16T11:06:23.573818Z"
    },
    "papermill": {
     "duration": 0.033774,
     "end_time": "2024-04-16T11:06:23.576621",
     "exception": false,
     "start_time": "2024-04-16T11:06:23.542847",
     "status": "completed"
    },
    "tags": []
   },
   "outputs": [],
   "source": [
    "# if CONFIG.TRAIN_MODEL:\n",
    "LOG_FEATURES = ['X4_mean', 'X11_mean', 'X18_mean', 'X50_mean', 'X26_mean', 'X3112_mean']\n",
    "\n",
    "y_df = np.zeros_like(train[CONFIG.TARGET_COLUMNS], dtype=np.float32)\n",
    "for target_idx, target in enumerate(CONFIG.TARGET_COLUMNS):\n",
    "    v = train[target].values\n",
    "    if target in LOG_FEATURES:\n",
    "        v = np.log10(v)\n",
    "    y_df[:, target_idx] = v\n",
    "\n",
    "SCALER = StandardScaler()\n",
    "y_df = SCALER.fit_transform(y_df)"
   ]
  },
  {
   "cell_type": "code",
   "execution_count": 5,
   "id": "92dd2ca2",
   "metadata": {
    "execution": {
     "iopub.execute_input": "2024-04-16T11:06:23.592871Z",
     "iopub.status.busy": "2024-04-16T11:06:23.592612Z",
     "iopub.status.idle": "2024-04-16T11:06:23.659313Z",
     "shell.execute_reply": "2024-04-16T11:06:23.658427Z"
    },
    "papermill": {
     "duration": 0.077731,
     "end_time": "2024-04-16T11:06:23.661911",
     "exception": false,
     "start_time": "2024-04-16T11:06:23.584180",
     "status": "completed"
    },
    "tags": []
   },
   "outputs": [],
   "source": [
    "# Splitting the data into training and validation sets\n",
    "train_df, val_df, y_train, y_val = train_test_split(train, y_df, test_size=0.2, random_state=42)"
   ]
  },
  {
   "cell_type": "code",
   "execution_count": 6,
   "id": "8d8ab3e0",
   "metadata": {
    "execution": {
     "iopub.execute_input": "2024-04-16T11:06:23.678548Z",
     "iopub.status.busy": "2024-04-16T11:06:23.678218Z",
     "iopub.status.idle": "2024-04-16T11:06:23.866641Z",
     "shell.execute_reply": "2024-04-16T11:06:23.865550Z"
    },
    "papermill": {
     "duration": 0.199309,
     "end_time": "2024-04-16T11:06:23.869089",
     "exception": false,
     "start_time": "2024-04-16T11:06:23.669780",
     "status": "completed"
    },
    "tags": []
   },
   "outputs": [],
   "source": [
    "# if CONFIG.TRAIN_MODEL:\n",
    "# LOG_FEATURES_TABULAR = [30, 31, 32, 33, 34, 35, 37, 41, 62, 63, 64, 65, 66, 67, 69, 70, 72, 74, 75, 77, 79, 80, 82, 84, 85, 87, 89, 90, 92, 94, 95, 97, 99, 100, 102, 104, 105, 107, 109, 110, 112, 114, 115, 117, 119, 120, 122, 124, 125]\n",
    "# LOG_FEATURES_TABULAR = []\n",
    "\n",
    "# tabular_df_train = np.zeros_like(train_df[CONFIG.TABULAR_COLUMNS], dtype=np.float64)\n",
    "# tabular_df_val = np.zeros_like(val_df[CONFIG.TABULAR_COLUMNS], dtype=np.float64)\n",
    "# tabular_df_test = np.zeros_like(test[CONFIG.TABULAR_COLUMNS], dtype=np.float64)\n",
    "\n",
    "# for tabular_df, df in zip([tabular_df_train, tabular_df_val, tabular_df_test], [train_df, val_df, test]):\n",
    "#     for col_idx, col in enumerate(CONFIG.TABULAR_COLUMNS):\n",
    "#         v = df[col].values\n",
    "#         if col_idx in LOG_FEATURES_TABULAR:\n",
    "#             v = np.log10(v)\n",
    "#         tabular_df[:, col_idx] = v \n",
    "\n",
    "SCALER_tabular = StandardScaler()\n",
    "tabular_df_train = SCALER_tabular.fit_transform(train_df[CONFIG.TABULAR_COLUMNS])\n",
    "tabular_df_val = SCALER_tabular.transform(val_df[CONFIG.TABULAR_COLUMNS])\n",
    "tabular_df_test = SCALER_tabular.fit_transform(test[CONFIG.TABULAR_COLUMNS])"
   ]
  },
  {
   "cell_type": "code",
   "execution_count": 7,
   "id": "29572c69",
   "metadata": {
    "execution": {
     "iopub.execute_input": "2024-04-16T11:06:23.886723Z",
     "iopub.status.busy": "2024-04-16T11:06:23.885882Z",
     "iopub.status.idle": "2024-04-16T11:06:23.890232Z",
     "shell.execute_reply": "2024-04-16T11:06:23.889329Z"
    },
    "papermill": {
     "duration": 0.015188,
     "end_time": "2024-04-16T11:06:23.892279",
     "exception": false,
     "start_time": "2024-04-16T11:06:23.877091",
     "status": "completed"
    },
    "tags": []
   },
   "outputs": [],
   "source": [
    "# for i, col in enumerate(CONFIG.TABULAR_COLUMNS):\n",
    "#     print(i, col)\n",
    "#     train[col].plot.hist(bins=12, alpha=0.5)\n",
    "#     plt.show()\n",
    "#     plt.hist(tabular_df_train[i], bins=12)\n",
    "#     plt.show()"
   ]
  },
  {
   "cell_type": "code",
   "execution_count": 8,
   "id": "0a80ab35",
   "metadata": {
    "execution": {
     "iopub.execute_input": "2024-04-16T11:06:23.908568Z",
     "iopub.status.busy": "2024-04-16T11:06:23.908259Z",
     "iopub.status.idle": "2024-04-16T11:06:23.923018Z",
     "shell.execute_reply": "2024-04-16T11:06:23.922203Z"
    },
    "papermill": {
     "duration": 0.025104,
     "end_time": "2024-04-16T11:06:23.924855",
     "exception": false,
     "start_time": "2024-04-16T11:06:23.899751",
     "status": "completed"
    },
    "tags": []
   },
   "outputs": [],
   "source": [
    "MEAN = np.array([0.485, 0.456, 0.406])\n",
    "STD = np.array([0.229, 0.224, 0.225])\n",
    "\n",
    "TRAIN_TRANSFORMS = A.Compose([\n",
    "        A.HorizontalFlip(p=0.5),\n",
    "        A.RandomSizedCrop(\n",
    "            [int(0.85*CONFIG.IMAGE_SIZE), CONFIG.IMAGE_SIZE],\n",
    "            CONFIG.IMAGE_SIZE, CONFIG.IMAGE_SIZE, w2h_ratio=1.0, p=0.75),\n",
    "        A.Resize(CONFIG.IMAGE_SIZE, CONFIG.IMAGE_SIZE),\n",
    "        A.RandomBrightnessContrast(brightness_limit=0.1, contrast_limit=0.1, p=0.25),\n",
    "        A.ImageCompression(quality_lower=85, quality_upper=100, p=0.25),\n",
    "        A.ToFloat(),\n",
    "        A.Normalize(mean=MEAN, std=STD, max_pixel_value=1),\n",
    "        ToTensorV2(),\n",
    "    ])\n",
    "\n",
    "TEST_TRANSFORMS = A.Compose([\n",
    "        A.Resize(CONFIG.IMAGE_SIZE, CONFIG.IMAGE_SIZE),\n",
    "        A.ToFloat(),\n",
    "        A.Normalize(mean=MEAN, std=STD, max_pixel_value=1),\n",
    "        ToTensorV2(),\n",
    "    ])\n",
    "\n",
    "class Dataset(Dataset):\n",
    "    def __init__(self, X_jpeg_bytes, X_tabular, y, transforms=None):\n",
    "        self.X_jpeg_bytes = X_jpeg_bytes\n",
    "        self.X_tabular = X_tabular\n",
    "        self.y = y\n",
    "        self.transforms = transforms\n",
    "\n",
    "    def __len__(self):\n",
    "        return len(self.X_jpeg_bytes)\n",
    "\n",
    "    def __getitem__(self, index):\n",
    "        X_sample = self.transforms(\n",
    "            image=imageio.imread(self.X_jpeg_bytes[index]),\n",
    "        )\n",
    "        X_sample['tabular'] = self.X_tabular[index].astype('float32')\n",
    "        y_sample = self.y[index]\n",
    "        \n",
    "        return X_sample, y_sample\n",
    "\n",
    "if CONFIG.TRAIN_MODEL:\n",
    "    # Creating datasets for training and validation\n",
    "    train_dataset = Dataset(\n",
    "        train_df['jpeg_bytes'].values,\n",
    "        tabular_df_train,\n",
    "        y_train,\n",
    "        TRAIN_TRANSFORMS,\n",
    "    )\n",
    "\n",
    "    val_dataset = Dataset(\n",
    "        val_df['jpeg_bytes'].values,\n",
    "        tabular_df_val,\n",
    "        y_val,\n",
    "        TEST_TRANSFORMS,\n",
    "    )\n",
    "\n",
    "    # Creating dataloaders for training and validation\n",
    "    train_dataloader = DataLoader(\n",
    "        train_dataset,\n",
    "        batch_size=CONFIG.BATCH_SIZE,\n",
    "        shuffle=True,\n",
    "        drop_last=True,\n",
    "        num_workers=psutil.cpu_count(),\n",
    "    )\n",
    "\n",
    "    val_dataloader = DataLoader(\n",
    "        val_dataset,\n",
    "        batch_size=CONFIG.BATCH_SIZE,\n",
    "        shuffle=False,  # No need to shuffle validation data\n",
    "        num_workers=psutil.cpu_count(),\n",
    "    )\n",
    "\n",
    "\n",
    "\n",
    "test_dataset = Dataset(\n",
    "    test['jpeg_bytes'].values,\n",
    "    tabular_df_test,\n",
    "    test['id'].values,\n",
    "    TEST_TRANSFORMS,\n",
    ")"
   ]
  },
  {
   "cell_type": "code",
   "execution_count": 9,
   "id": "7b758768",
   "metadata": {
    "execution": {
     "iopub.execute_input": "2024-04-16T11:06:23.941628Z",
     "iopub.status.busy": "2024-04-16T11:06:23.941312Z",
     "iopub.status.idle": "2024-04-16T11:06:40.435919Z",
     "shell.execute_reply": "2024-04-16T11:06:40.434869Z"
    },
    "papermill": {
     "duration": 16.506079,
     "end_time": "2024-04-16T11:06:40.438345",
     "exception": false,
     "start_time": "2024-04-16T11:06:23.932266",
     "status": "completed"
    },
    "tags": []
   },
   "outputs": [
    {
     "data": {
      "application/vnd.jupyter.widget-view+json": {
       "model_id": "95ccc6c4d29b48be98620514f9b9061a",
       "version_major": 2,
       "version_minor": 0
      },
      "text/plain": [
       "model.safetensors:   0%|          | 0.00/801M [00:00<?, ?B/s]"
      ]
     },
     "metadata": {},
     "output_type": "display_data"
    }
   ],
   "source": [
    "class Model(nn.Module):\n",
    "    def __init__(self):\n",
    "        super().__init__()\n",
    "        self.backbone = timm.create_model(\n",
    "                CONFIG.BACKBONE,\n",
    "                pretrained=True,\n",
    "#                 num_classes=CONFIG.N_TARGETS,\n",
    "                num_classes=0,\n",
    "        )\n",
    "        \n",
    "        # Freeze the backbone weights\n",
    "#         for param in self.backbone.parameters():\n",
    "#             param.requires_grad = False\n",
    "        \n",
    "        # EfficientNet = 1280, SwinTrans = 1536, Tabular = 163\n",
    "        self.custom_layers = nn.Sequential(\n",
    "            nn.Linear(1536+163, 512),\n",
    "            nn.ReLU(), \n",
    "            nn.Linear(512, 6)  \n",
    "        )\n",
    "        \n",
    "    def forward(self, inputs):\n",
    "        image = inputs['image']\n",
    "        tabular = inputs['tabular']\n",
    "\n",
    "        x = self.backbone(image)\n",
    "        x = torch.cat((tabular, x), dim=1)\n",
    "        x = self.custom_layers(x)\n",
    "        \n",
    "        return x\n",
    "\n",
    "\n",
    "model = Model()\n",
    "model = model.to(device)\n",
    "# print(model.backbone.head)"
   ]
  },
  {
   "cell_type": "code",
   "execution_count": 10,
   "id": "4f98025e",
   "metadata": {
    "execution": {
     "iopub.execute_input": "2024-04-16T11:06:40.456356Z",
     "iopub.status.busy": "2024-04-16T11:06:40.455964Z",
     "iopub.status.idle": "2024-04-16T11:06:40.466120Z",
     "shell.execute_reply": "2024-04-16T11:06:40.465206Z"
    },
    "papermill": {
     "duration": 0.021254,
     "end_time": "2024-04-16T11:06:40.467998",
     "exception": false,
     "start_time": "2024-04-16T11:06:40.446744",
     "status": "completed"
    },
    "tags": []
   },
   "outputs": [],
   "source": [
    "create_features = False\n",
    "\n",
    "if create_features:\n",
    "    feature_model = torch.load(CONFIG.MODEL_PATH)\n",
    "    feature_model.backbone.head.fc = nn.Identity()\n",
    "    feature_model.to(device);\n",
    "\n",
    "#     dataset = Dataset(\n",
    "#         train['jpeg_bytes'].values,\n",
    "#         y_df,\n",
    "#         TEST_TRANSFORMS,\n",
    "#     )\n",
    "    dataset = test_dataset\n",
    "\n",
    "    # Create a DataLoader for the dataset\n",
    "    dataloader = DataLoader(dataset, batch_size=CONFIG.BATCH_SIZE, shuffle=False)\n",
    "\n",
    "    # Define the shape of the features array\n",
    "    num_samples = len(dataset)\n",
    "    num_features = 1536\n",
    "\n",
    "    # Initialize an empty array filled with zeros to store features\n",
    "    features_array = np.zeros((num_samples, num_features), dtype=np.float32)\n",
    "\n",
    "    # Set the model to evaluation mode\n",
    "    model.eval()\n",
    "\n",
    "    # Initialize the index counter\n",
    "    index = 0\n",
    "\n",
    "    # Iterate over the data loader batches\n",
    "    for batch in dataloader:\n",
    "        if index % 10 == 0:\n",
    "            print(index, end=', ')\n",
    "\n",
    "        # Extract inputs and labels from the batch\n",
    "        inputs, _ = batch\n",
    "        inputs = inputs.to(device)\n",
    "\n",
    "        # Forward pass through the model to extract features\n",
    "        with torch.no_grad():\n",
    "            features = feature_model(inputs)\n",
    "\n",
    "        # Flatten the features\n",
    "        features = features.view(features.size(0), -1)\n",
    "\n",
    "        # Calculate the end index for the current batch\n",
    "        end_index = index + inputs.size(0)\n",
    "\n",
    "        # Assign features to the pre-allocated array\n",
    "        features_array[index:end_index] = features.cpu().numpy()\n",
    "\n",
    "        # Update the index counter\n",
    "        index = end_index\n",
    "\n",
    "    # Save the features as a NumPy array\n",
    "    np.save('features_test.npy', features_array)\n",
    "    \n"
   ]
  },
  {
   "cell_type": "code",
   "execution_count": 11,
   "id": "d213c8ee",
   "metadata": {
    "execution": {
     "iopub.execute_input": "2024-04-16T11:06:40.485751Z",
     "iopub.status.busy": "2024-04-16T11:06:40.485468Z",
     "iopub.status.idle": "2024-04-16T11:06:40.489199Z",
     "shell.execute_reply": "2024-04-16T11:06:40.488362Z"
    },
    "papermill": {
     "duration": 0.014997,
     "end_time": "2024-04-16T11:06:40.491078",
     "exception": false,
     "start_time": "2024-04-16T11:06:40.476081",
     "status": "completed"
    },
    "tags": []
   },
   "outputs": [],
   "source": [
    "# def count_parameters(model):\n",
    "#     return sum(p.numel() for p in model.parameters() if p.requires_grad)\n",
    "\n",
    "# # Count parameters\n",
    "# num_parameters = count_parameters(model)\n",
    "# print(\"Number of parameters in the model:\", num_parameters)"
   ]
  },
  {
   "cell_type": "code",
   "execution_count": 12,
   "id": "7c0e0090",
   "metadata": {
    "execution": {
     "iopub.execute_input": "2024-04-16T11:06:40.508416Z",
     "iopub.status.busy": "2024-04-16T11:06:40.507620Z",
     "iopub.status.idle": "2024-04-16T11:06:40.529175Z",
     "shell.execute_reply": "2024-04-16T11:06:40.528341Z"
    },
    "papermill": {
     "duration": 0.032411,
     "end_time": "2024-04-16T11:06:40.531436",
     "exception": false,
     "start_time": "2024-04-16T11:06:40.499025",
     "status": "completed"
    },
    "tags": []
   },
   "outputs": [],
   "source": [
    "def get_lr_scheduler(optimizer):\n",
    "    return torch.optim.lr_scheduler.OneCycleLR(\n",
    "        optimizer=optimizer,\n",
    "        max_lr=CONFIG.LR_MAX,\n",
    "        total_steps=CONFIG.N_STEPS,\n",
    "        pct_start=0.1,\n",
    "        anneal_strategy='cos',\n",
    "        div_factor=1e1,\n",
    "        final_div_factor=1e1,\n",
    "    )\n",
    "\n",
    "class AverageMeter(object):\n",
    "    def __init__(self):\n",
    "        self.reset()\n",
    "\n",
    "    def reset(self):\n",
    "        self.avg = 0\n",
    "        self.sum = 0\n",
    "        self.count = 0\n",
    "\n",
    "    def update(self, val):\n",
    "        self.sum += val.sum()\n",
    "        self.count += val.numel()\n",
    "        self.avg = self.sum / self.count\n",
    "\n",
    "if CONFIG.TRAIN_MODEL:\n",
    "    MAE = torchmetrics.regression.MeanAbsoluteError().to(device)\n",
    "    R2 = torchmetrics.regression.R2Score(num_outputs=CONFIG.N_TARGETS, multioutput='uniform_average').to(device)\n",
    "    LOSS = AverageMeter()\n",
    "\n",
    "    Y_MEAN = torch.tensor(y_df).mean(dim=0).to(device)\n",
    "    EPS = torch.tensor([1e-6]).to(device)\n",
    "\n",
    "    def r2_loss(y_pred, y_true):\n",
    "        ss_res = torch.sum((y_true - y_pred)**2, dim=0)\n",
    "        ss_total = torch.sum((y_true - Y_MEAN)**2, dim=0)\n",
    "        ss_total = torch.maximum(ss_total, EPS)\n",
    "        r2 = torch.mean(ss_res / ss_total)\n",
    "        return r2\n",
    "\n",
    "    LOSS_FN = r2_loss\n",
    "\n",
    "    optimizer = torch.optim.AdamW(\n",
    "        params=model.parameters(),\n",
    "        lr=CONFIG.LR_MAX,\n",
    "        weight_decay=CONFIG.WEIGHT_DECAY,\n",
    "    )\n",
    "\n",
    "    LR_SCHEDULER = get_lr_scheduler(optimizer)"
   ]
  },
  {
   "cell_type": "code",
   "execution_count": 13,
   "id": "308890a4",
   "metadata": {
    "execution": {
     "iopub.execute_input": "2024-04-16T11:06:40.549217Z",
     "iopub.status.busy": "2024-04-16T11:06:40.548946Z",
     "iopub.status.idle": "2024-04-16T22:52:00.464559Z",
     "shell.execute_reply": "2024-04-16T22:52:00.463332Z"
    },
    "papermill": {
     "duration": 42319.928505,
     "end_time": "2024-04-16T22:52:00.468516",
     "exception": false,
     "start_time": "2024-04-16T11:06:40.540011",
     "status": "completed"
    },
    "tags": []
   },
   "outputs": [
    {
     "name": "stdout",
     "output_type": "stream",
     "text": [
      "Start Training:\n",
      "EPOCH 01, 3933/3933 | loss: 0.6311, mae: 0.5983, r2: 0.3985, step: 1.339s, lr: 1.00e-04\n",
      "EPOCH VAL, 01, 0984/984 | loss: 0.5949, mae: 0.5728, r2: 0.4400, step: 0.177s, lr: 1.00e-04\n",
      "\n",
      "EPOCH 02, 3933/3933 | loss: 0.5767, mae: 0.5645, r2: 0.4543, step: 1.227s, lr: 9.70e-05\n",
      "EPOCH VAL, 02, 0984/984 | loss: 0.5849, mae: 0.5630, r2: 0.4560, step: 0.173s, lr: 9.70e-05\n",
      "\n",
      "EPOCH 03, 3933/3933 | loss: 0.5153, mae: 0.5265, r2: 0.5169, step: 1.229s, lr: 8.84e-05\n",
      "EPOCH VAL, 03, 0984/984 | loss: 0.5463, mae: 0.5379, r2: 0.4923, step: 0.173s, lr: 8.84e-05\n",
      "\n",
      "EPOCH 04, 3933/3933 | loss: 0.4477, mae: 0.4843, r2: 0.5845, step: 1.230s, lr: 7.52e-05\n",
      "EPOCH VAL, 04, 0984/984 | loss: 0.5216, mae: 0.5230, r2: 0.5119, step: 0.173s, lr: 7.52e-05\n",
      "\n",
      "EPOCH 05, 3933/3933 | loss: 0.3732, mae: 0.4365, r2: 0.6572, step: 1.231s, lr: 5.91e-05\n",
      "EPOCH VAL, 05, 0984/984 | loss: 0.4897, mae: 0.4973, r2: 0.5512, step: 0.173s, lr: 5.91e-05\n",
      "\n",
      "EPOCH 06, 3933/3933 | loss: 0.3003, mae: 0.3867, r2: 0.7266, step: 1.229s, lr: 4.19e-05\n",
      "EPOCH VAL, 06, 0984/984 | loss: 0.4731, mae: 0.4842, r2: 0.5721, step: 0.173s, lr: 4.19e-05\n",
      "\n",
      "EPOCH 07, 3933/3933 | loss: 0.2354, mae: 0.3385, r2: 0.7885, step: 1.229s, lr: 2.57e-05\n",
      "EPOCH VAL, 07, 0984/984 | loss: 0.4629, mae: 0.4754, r2: 0.5812, step: 0.174s, lr: 2.57e-05\n",
      "\n",
      "EPOCH 08, 3933/3933 | loss: 0.1848, mae: 0.2981, r2: 0.8348, step: 1.229s, lr: 1.26e-05\n",
      "EPOCH VAL, 08, 0984/984 | loss: 0.4605, mae: 0.4714, r2: 0.5877, step: 0.173s, lr: 1.26e-05\n",
      "\n"
     ]
    }
   ],
   "source": [
    "if CONFIG.TRAIN_MODEL:\n",
    "    print(\"Start Training:\")\n",
    "    \n",
    "    best = float('inf')\n",
    "    for epoch in range(CONFIG.N_EPOCHS):\n",
    "        MAE.reset()\n",
    "        R2.reset()\n",
    "        LOSS.reset()\n",
    "        model.train()\n",
    "\n",
    "        for step, (X_batch, y_true) in enumerate(train_dataloader):\n",
    "            X_batch['image'] = X_batch['image'].to(device)\n",
    "            X_batch['tabular'] = X_batch['tabular'].to(device)\n",
    "            y_true = y_true.to(device)\n",
    "            t_start = time.perf_counter_ns()\n",
    "            y_pred = model(X_batch)\n",
    "            loss = LOSS_FN(y_pred, y_true)\n",
    "            LOSS.update(loss)\n",
    "            loss.backward()\n",
    "            optimizer.step()\n",
    "            optimizer.zero_grad()\n",
    "            LR_SCHEDULER.step()\n",
    "            MAE.update(y_pred, y_true)\n",
    "            R2.update(y_pred, y_true)\n",
    "\n",
    "            if not CONFIG.IS_INTERACTIVE and (step+1) == len(train_dataloader):\n",
    "                print(\n",
    "                    f'EPOCH {epoch+1:02d}, {step+1:04d}/{len(train_dataloader)} | ' + \n",
    "                    f'loss: {LOSS.avg:.4f}, mae: {MAE.compute().item():.4f}, r2: {R2.compute().item():.4f}, ' +\n",
    "                    f'step: {(time.perf_counter_ns()-t_start)*1e-9:.3f}s, lr: {LR_SCHEDULER.get_last_lr()[0]:.2e}',\n",
    "                )\n",
    "            elif CONFIG.IS_INTERACTIVE:\n",
    "                print(\n",
    "                    f'\\rEPOCH {epoch+1:02d}, {step+1:04d}/{len(train_dataloader)} | ' + \n",
    "                    f'loss: {LOSS.avg:.4f}, mae: {MAE.compute().item():.4f}, r2: {R2.compute().item():.4f}, ' +\n",
    "                    f'step: {(time.perf_counter_ns()-t_start)*1e-9:.3f}s, lr: {LR_SCHEDULER.get_last_lr()[0]:.2e}',\n",
    "                    end='\\n' if (step + 1) == CONFIG.N_STEPS_PER_EPOCH else '', flush=True,\n",
    "                )\n",
    "            \n",
    "        MAE.reset()\n",
    "        R2.reset()\n",
    "        LOSS.reset()\n",
    "        model.eval()\n",
    "        \n",
    "        for step, (X_batch, y_true) in enumerate(val_dataloader):\n",
    "            X_batch['image'] = X_batch['image'].to(device)\n",
    "            X_batch['tabular'] = X_batch['tabular'].to(device)\n",
    "            y_true = y_true.to(device)\n",
    "            t_start = time.perf_counter_ns()\n",
    "            with torch.no_grad():\n",
    "                y_pred = model(X_batch)\n",
    "                loss = LOSS_FN(y_pred, y_true)\n",
    "                \n",
    "            LOSS.update(loss)\n",
    "            MAE.update(y_pred, y_true)\n",
    "            R2.update(y_pred, y_true)\n",
    "            if not CONFIG.IS_INTERACTIVE and (step+1) == len(val_dataloader):\n",
    "                print(\n",
    "                    f'EPOCH VAL, {epoch+1:02d}, {step+1:04d}/{len(val_dataloader)} | ' + \n",
    "                    f'loss: {LOSS.avg:.4f}, mae: {MAE.compute().item():.4f}, r2: {R2.compute().item():.4f}, ' +\n",
    "                    f'step: {(time.perf_counter_ns()-t_start)*1e-9:.3f}s, lr: {LR_SCHEDULER.get_last_lr()[0]:.2e}',\n",
    "                )\n",
    "            elif CONFIG.IS_INTERACTIVE:\n",
    "                print(\n",
    "                    f'\\rEPOCH VAL {epoch+1:02d}, {step+1:04d}/{len(val_dataloader)} | ' + \n",
    "                    f'loss: {LOSS.avg:.4f}, mae: {MAE.compute().item():.4f}, r2: {R2.compute().item():.4f}, ' +\n",
    "                    f'step: {(time.perf_counter_ns()-t_start)*1e-9:.3f}s, lr: {LR_SCHEDULER.get_last_lr()[0]:.2e}',\n",
    "                    end='\\n' if (step + 1) == CONFIG.N_STEPS_PER_EPOCH else '', flush=True,\n",
    "                )\n",
    "        print()\n",
    "        if LOSS.avg < best:\n",
    "            best = LOSS.avg\n",
    "            torch.save(model, 'model.pth')\n",
    "            \n",
    "            \n",
    "else:\n",
    "    model = torch.load(CONFIG.MODEL_PATH)\n",
    "    model.to(device)"
   ]
  },
  {
   "cell_type": "code",
   "execution_count": 14,
   "id": "6e4bad53",
   "metadata": {
    "execution": {
     "iopub.execute_input": "2024-04-16T22:52:00.490835Z",
     "iopub.status.busy": "2024-04-16T22:52:00.490512Z",
     "iopub.status.idle": "2024-04-16T22:52:00.495227Z",
     "shell.execute_reply": "2024-04-16T22:52:00.494358Z"
    },
    "papermill": {
     "duration": 0.017615,
     "end_time": "2024-04-16T22:52:00.497185",
     "exception": false,
     "start_time": "2024-04-16T22:52:00.479570",
     "status": "completed"
    },
    "tags": []
   },
   "outputs": [],
   "source": [
    "# train_features = np.load('/kaggle/input/planttraits2024-image-features/features_train.npy')\n",
    "# test_features = np.load('/kaggle/input/planttraits2024-image-features/features_test.npy')\n",
    "\n",
    "# features_df = pd.DataFrame(train_features)\n",
    "# features_df.columns = [f'feature_{i}' for i in range(train_features.shape[1])]\n",
    "# features_df.head()\n",
    "\n",
    "# train_df = pd.concat([train.reset_index(drop=True), features_df.reset_index(drop=True)], axis=1)\n",
    "\n",
    "# features_df = pd.DataFrame(test_features)\n",
    "# features_df.columns = [f'feature_{i}' for i in range(test_features.shape[1])]\n",
    "# features_df.head()\n",
    "\n",
    "# test_df = pd.concat([test.reset_index(drop=True), features_df.reset_index(drop=True)], axis=1)"
   ]
  },
  {
   "cell_type": "code",
   "execution_count": 15,
   "id": "8c33318a",
   "metadata": {
    "execution": {
     "iopub.execute_input": "2024-04-16T22:52:00.605455Z",
     "iopub.status.busy": "2024-04-16T22:52:00.605082Z",
     "iopub.status.idle": "2024-04-16T22:52:00.609422Z",
     "shell.execute_reply": "2024-04-16T22:52:00.608520Z"
    },
    "papermill": {
     "duration": 0.017311,
     "end_time": "2024-04-16T22:52:00.611343",
     "exception": false,
     "start_time": "2024-04-16T22:52:00.594032",
     "status": "completed"
    },
    "tags": []
   },
   "outputs": [],
   "source": [
    "# do_cv = True\n",
    "\n",
    "# remove_cols = [ \n",
    "#  'X4_sd',\n",
    "#  'X11_sd',\n",
    "#  'X18_sd',\n",
    "#  'X26_sd',\n",
    "#  'X50_sd',\n",
    "#  'X3112_sd',\n",
    "#  'file_path',\n",
    "#  'jpeg_bytes'\n",
    "# ]\n",
    "\n",
    "# X_full = train_df.drop(columns=CONFIG.TARGET_COLUMNS + remove_cols)\n",
    "# Y_full = train_df[CONFIG.TARGET_COLUMNS]"
   ]
  },
  {
   "cell_type": "code",
   "execution_count": 16,
   "id": "eee5591a",
   "metadata": {
    "execution": {
     "iopub.execute_input": "2024-04-16T22:52:00.632089Z",
     "iopub.status.busy": "2024-04-16T22:52:00.631406Z",
     "iopub.status.idle": "2024-04-16T22:52:00.636166Z",
     "shell.execute_reply": "2024-04-16T22:52:00.635331Z"
    },
    "papermill": {
     "duration": 0.017085,
     "end_time": "2024-04-16T22:52:00.637988",
     "exception": false,
     "start_time": "2024-04-16T22:52:00.620903",
     "status": "completed"
    },
    "tags": []
   },
   "outputs": [],
   "source": [
    "# class CustomDataset(Dataset):\n",
    "#     def __init__(self, X, Y):\n",
    "#         self.X = torch.tensor(X.values, dtype=torch.float32)\n",
    "#         self.Y = torch.tensor(Y.values, dtype=torch.long)\n",
    "\n",
    "#     def __len__(self):\n",
    "#         return len(self.X)\n",
    "\n",
    "#     def __getitem__(self, idx):\n",
    "#         return self.X[idx], self.Y[idx]\n",
    "    \n",
    "# class NeuralNetwork(nn.Module):\n",
    "#     def __init__(self, input_size, hidden_size, num_classes):\n",
    "#         super(NeuralNetwork, self).__init__()\n",
    "#         self.fc1 = nn.Linear(input_size, hidden_size)\n",
    "#         self.relu = nn.ReLU()\n",
    "#         self.fc2 = nn.Linear(hidden_size, num_classes)\n",
    "\n",
    "#     def forward(self, x):\n",
    "#         out = self.fc1(x)\n",
    "#         out = self.relu(out)\n",
    "#         out = self.fc2(out)\n",
    "#         return out"
   ]
  },
  {
   "cell_type": "code",
   "execution_count": 17,
   "id": "14a28b2d",
   "metadata": {
    "execution": {
     "iopub.execute_input": "2024-04-16T22:52:00.658822Z",
     "iopub.status.busy": "2024-04-16T22:52:00.658276Z",
     "iopub.status.idle": "2024-04-16T22:52:00.663352Z",
     "shell.execute_reply": "2024-04-16T22:52:00.662496Z"
    },
    "papermill": {
     "duration": 0.017201,
     "end_time": "2024-04-16T22:52:00.665086",
     "exception": false,
     "start_time": "2024-04-16T22:52:00.647885",
     "status": "completed"
    },
    "tags": []
   },
   "outputs": [],
   "source": [
    "# models = {}\n",
    "\n",
    "# xboost = False\n",
    "    \n",
    "# if xboost:\n",
    "#     for column in Y_full.columns:\n",
    "\n",
    "#         model = xgb.XGBRegressor(objective='reg:squarederror', n_estimators=150, learning_rate=0.1, max_depth=10)\n",
    "\n",
    "#         if do_cv:\n",
    "#             print(f\"\\nDoing cross-validation scoring for {column}...\")\n",
    "#             scores = cross_val_score(model, X_full, Y_full[column],\n",
    "#                                      cv=KFold(n_splits=3, shuffle=True, random_state=42),\n",
    "#                                      scoring='r2')        \n",
    "#             print(f\"R^2 score for {column}: {np.mean(scores)}\")\n",
    "\n",
    "#         #train model with all data\n",
    "#         print(f\"Training model for {column}...\")\n",
    "#         model.fit(X_full, Y_full[column])\n",
    "#         models[column] = model\n",
    "\n",
    "#     with open('all_models.pkl', 'wb') as file:\n",
    "#         pickle.dump(models, file)\n",
    "        \n",
    "#     # with open('all_models.pkl', 'rb') as file:\n",
    "#     # models = pickle.load(file)\n",
    "        \n",
    "# else:\n",
    "#     X_train, X_val, Y_train, Y_val = train_test_split(X_full, Y_full, test_size=0.2, random_state=42)\n",
    "\n",
    "#     # Define your datasets for train and validation\n",
    "#     train_dataset = CustomDataset(X_train, Y_train)\n",
    "#     val_dataset = CustomDataset(X_val, Y_val)\n",
    "\n",
    "#     # Define your data loaders for train and validation\n",
    "#     train_dataloader = DataLoader(train_dataset, batch_size=CONFIG.BATCH_SIZE, shuffle=True)\n",
    "#     val_dataloader = DataLoader(val_dataset, batch_size=CONFIG.BATCH_SIZE, shuffle=False)\n",
    "#     model = NeuralNetwork(1700, 512, 6)\n",
    "    \n",
    "   "
   ]
  },
  {
   "cell_type": "code",
   "execution_count": 18,
   "id": "2f5f6e85",
   "metadata": {
    "execution": {
     "iopub.execute_input": "2024-04-16T22:52:00.685661Z",
     "iopub.status.busy": "2024-04-16T22:52:00.685016Z",
     "iopub.status.idle": "2024-04-16T22:52:00.688632Z",
     "shell.execute_reply": "2024-04-16T22:52:00.687740Z"
    },
    "papermill": {
     "duration": 0.015605,
     "end_time": "2024-04-16T22:52:00.690367",
     "exception": false,
     "start_time": "2024-04-16T22:52:00.674762",
     "status": "completed"
    },
    "tags": []
   },
   "outputs": [],
   "source": [
    "# mean_values = Y_full.mean()\n",
    "# submission = pd.DataFrame({'id': test_df['id']})\n",
    "# submission[Y_full.columns] = mean_values\n",
    "\n",
    "# #rename from _mean\n",
    "# submission.columns = submission.columns.str.replace('_mean', '')\n",
    "# submission"
   ]
  },
  {
   "cell_type": "code",
   "execution_count": 19,
   "id": "73024f3b",
   "metadata": {
    "execution": {
     "iopub.execute_input": "2024-04-16T22:52:00.710735Z",
     "iopub.status.busy": "2024-04-16T22:52:00.710185Z",
     "iopub.status.idle": "2024-04-16T22:52:00.714128Z",
     "shell.execute_reply": "2024-04-16T22:52:00.713346Z"
    },
    "papermill": {
     "duration": 0.01605,
     "end_time": "2024-04-16T22:52:00.715941",
     "exception": false,
     "start_time": "2024-04-16T22:52:00.699891",
     "status": "completed"
    },
    "tags": []
   },
   "outputs": [],
   "source": [
    "# remove_cols = [ \n",
    "#  'file_path',\n",
    "#  'jpeg_bytes'\n",
    "# ]\n",
    "\n",
    "# X_test = test_df.drop(columns=remove_cols)\n",
    "\n",
    "# submission['X4'] = models['X4_mean'].predict(X_test)\n",
    "# submission['X11'] = models['X11_mean'].predict(X_test)\n",
    "# submission['X18'] = models['X18_mean'].predict(X_test)\n",
    "# submission['X50'] = models['X50_mean'].predict(X_test)\n",
    "# submission['X26'] = models['X26_mean'].predict(X_test)\n",
    "# submission['X3112'] = models['X3112_mean'].predict(X_test)\n",
    "\n",
    "# submission"
   ]
  },
  {
   "cell_type": "code",
   "execution_count": 20,
   "id": "c95d5ac4",
   "metadata": {
    "execution": {
     "iopub.execute_input": "2024-04-16T22:52:00.736339Z",
     "iopub.status.busy": "2024-04-16T22:52:00.736078Z",
     "iopub.status.idle": "2024-04-16T22:52:00.740737Z",
     "shell.execute_reply": "2024-04-16T22:52:00.740045Z"
    },
    "papermill": {
     "duration": 0.016854,
     "end_time": "2024-04-16T22:52:00.742641",
     "exception": false,
     "start_time": "2024-04-16T22:52:00.725787",
     "status": "completed"
    },
    "tags": []
   },
   "outputs": [],
   "source": [
    "# submission.to_csv('submission.csv', index=False)"
   ]
  },
  {
   "cell_type": "code",
   "execution_count": 21,
   "id": "1291f9c1",
   "metadata": {
    "execution": {
     "iopub.execute_input": "2024-04-16T22:52:00.762909Z",
     "iopub.status.busy": "2024-04-16T22:52:00.762669Z",
     "iopub.status.idle": "2024-04-16T22:52:01.229472Z",
     "shell.execute_reply": "2024-04-16T22:52:01.228654Z"
    },
    "papermill": {
     "duration": 0.479599,
     "end_time": "2024-04-16T22:52:01.231944",
     "exception": false,
     "start_time": "2024-04-16T22:52:00.752345",
     "status": "completed"
    },
    "tags": []
   },
   "outputs": [],
   "source": [
    "model = torch.load('/kaggle/working/model.pth')\n",
    "model.to(device);"
   ]
  },
  {
   "cell_type": "code",
   "execution_count": 22,
   "id": "50327fbd",
   "metadata": {
    "execution": {
     "iopub.execute_input": "2024-04-16T22:52:01.253878Z",
     "iopub.status.busy": "2024-04-16T22:52:01.253594Z",
     "iopub.status.idle": "2024-04-16T22:58:13.132669Z",
     "shell.execute_reply": "2024-04-16T22:58:13.131703Z"
    },
    "papermill": {
     "duration": 371.892433,
     "end_time": "2024-04-16T22:58:13.135044",
     "exception": false,
     "start_time": "2024-04-16T22:52:01.242611",
     "status": "completed"
    },
    "tags": []
   },
   "outputs": [
    {
     "data": {
      "application/vnd.jupyter.widget-view+json": {
       "model_id": "0cb30b8be82141fe99fddaf4a3ef2ef2",
       "version_major": 2,
       "version_minor": 0
      },
      "text/plain": [
       "  0%|          | 0/6545 [00:00<?, ?it/s]"
      ]
     },
     "metadata": {},
     "output_type": "display_data"
    },
    {
     "name": "stdout",
     "output_type": "stream",
     "text": [
      "Submit!\n"
     ]
    }
   ],
   "source": [
    "SUBMISSION_ROWS = []\n",
    "model.eval()\n",
    "\n",
    "for X_sample_test, test_id in tqdm(test_dataset):\n",
    "    X_sample_test['image'] = torch.Tensor(X_sample_test['image']).unsqueeze(0).to(device)\n",
    "    X_sample_test['tabular'] = torch.Tensor(X_sample_test['tabular']).unsqueeze(0).to(device)\n",
    "    with torch.no_grad():\n",
    "        y_pred = model(X_sample_test).detach().cpu().numpy()\n",
    "    \n",
    "    y_pred = SCALER.inverse_transform(y_pred).squeeze()\n",
    "    row = {'id': test_id}\n",
    "    \n",
    "    for k, v in zip(CONFIG.TARGET_COLUMNS, y_pred):\n",
    "        if k in LOG_FEATURES:\n",
    "            row[k.replace('_mean', '')] = 10 ** v\n",
    "        else:\n",
    "            row[k.replace('_mean', '')] = v\n",
    "\n",
    "    SUBMISSION_ROWS.append(row)\n",
    "    \n",
    "submission_df = pd.DataFrame(SUBMISSION_ROWS)\n",
    "submission_df.to_csv('submission.csv', index=False)\n",
    "print(\"Submit!\")"
   ]
  },
  {
   "cell_type": "code",
   "execution_count": null,
   "id": "1f6b3848",
   "metadata": {
    "papermill": {
     "duration": 0.010187,
     "end_time": "2024-04-16T22:58:13.155811",
     "exception": false,
     "start_time": "2024-04-16T22:58:13.145624",
     "status": "completed"
    },
    "tags": []
   },
   "outputs": [],
   "source": []
  },
  {
   "cell_type": "code",
   "execution_count": null,
   "id": "5537f6dc",
   "metadata": {
    "papermill": {
     "duration": 0.009977,
     "end_time": "2024-04-16T22:58:13.176181",
     "exception": false,
     "start_time": "2024-04-16T22:58:13.166204",
     "status": "completed"
    },
    "tags": []
   },
   "outputs": [],
   "source": []
  },
  {
   "cell_type": "code",
   "execution_count": null,
   "id": "45c9b3bb",
   "metadata": {
    "papermill": {
     "duration": 0.010317,
     "end_time": "2024-04-16T22:58:13.196877",
     "exception": false,
     "start_time": "2024-04-16T22:58:13.186560",
     "status": "completed"
    },
    "tags": []
   },
   "outputs": [],
   "source": []
  }
 ],
 "metadata": {
  "kaggle": {
   "accelerator": "none",
   "dataSources": [
    {
     "databundleVersionId": 8046133,
     "sourceId": 65626,
     "sourceType": "competition"
    },
    {
     "datasetId": 4761376,
     "sourceId": 8069756,
     "sourceType": "datasetVersion"
    },
    {
     "datasetId": 4769096,
     "sourceId": 8080312,
     "sourceType": "datasetVersion"
    },
    {
     "datasetId": 4794400,
     "sourceId": 8115215,
     "sourceType": "datasetVersion"
    }
   ],
   "isGpuEnabled": false,
   "isInternetEnabled": true,
   "language": "python",
   "sourceType": "notebook"
  },
  "kernelspec": {
   "display_name": "Python 3",
   "language": "python",
   "name": "python3"
  },
  "language_info": {
   "codemirror_mode": {
    "name": "ipython",
    "version": 3
   },
   "file_extension": ".py",
   "mimetype": "text/x-python",
   "name": "python",
   "nbconvert_exporter": "python",
   "pygments_lexer": "ipython3",
   "version": "3.10.13"
  },
  "papermill": {
   "default_parameters": {},
   "duration": 42757.83802,
   "end_time": "2024-04-16T22:58:16.745765",
   "environment_variables": {},
   "exception": null,
   "input_path": "__notebook__.ipynb",
   "output_path": "__notebook__.ipynb",
   "parameters": {},
   "start_time": "2024-04-16T11:05:38.907745",
   "version": "2.5.0"
  },
  "widgets": {
   "application/vnd.jupyter.widget-state+json": {
    "state": {
     "0cb30b8be82141fe99fddaf4a3ef2ef2": {
      "model_module": "@jupyter-widgets/controls",
      "model_module_version": "1.5.0",
      "model_name": "HBoxModel",
      "state": {
       "_dom_classes": [],
       "_model_module": "@jupyter-widgets/controls",
       "_model_module_version": "1.5.0",
       "_model_name": "HBoxModel",
       "_view_count": null,
       "_view_module": "@jupyter-widgets/controls",
       "_view_module_version": "1.5.0",
       "_view_name": "HBoxView",
       "box_style": "",
       "children": [
        "IPY_MODEL_c58ab6c09efe45c2bc7ac78cb50a8c5d",
        "IPY_MODEL_79f90fc5a0054daf943442c216557702",
        "IPY_MODEL_acf605a1a26f47909c18f0bf821f3900"
       ],
       "layout": "IPY_MODEL_af3bfbdfbca346a2bab43a5c1d23c954"
      }
     },
     "1937bfd752a74e7b925fed81302f80dd": {
      "model_module": "@jupyter-widgets/base",
      "model_module_version": "1.2.0",
      "model_name": "LayoutModel",
      "state": {
       "_model_module": "@jupyter-widgets/base",
       "_model_module_version": "1.2.0",
       "_model_name": "LayoutModel",
       "_view_count": null,
       "_view_module": "@jupyter-widgets/base",
       "_view_module_version": "1.2.0",
       "_view_name": "LayoutView",
       "align_content": null,
       "align_items": null,
       "align_self": null,
       "border": null,
       "bottom": null,
       "display": null,
       "flex": null,
       "flex_flow": null,
       "grid_area": null,
       "grid_auto_columns": null,
       "grid_auto_flow": null,
       "grid_auto_rows": null,
       "grid_column": null,
       "grid_gap": null,
       "grid_row": null,
       "grid_template_areas": null,
       "grid_template_columns": null,
       "grid_template_rows": null,
       "height": null,
       "justify_content": null,
       "justify_items": null,
       "left": null,
       "margin": null,
       "max_height": null,
       "max_width": null,
       "min_height": null,
       "min_width": null,
       "object_fit": null,
       "object_position": null,
       "order": null,
       "overflow": null,
       "overflow_x": null,
       "overflow_y": null,
       "padding": null,
       "right": null,
       "top": null,
       "visibility": null,
       "width": null
      }
     },
     "1ca2f5a249634394bba1792d94ef71bc": {
      "model_module": "@jupyter-widgets/controls",
      "model_module_version": "1.5.0",
      "model_name": "HTMLModel",
      "state": {
       "_dom_classes": [],
       "_model_module": "@jupyter-widgets/controls",
       "_model_module_version": "1.5.0",
       "_model_name": "HTMLModel",
       "_view_count": null,
       "_view_module": "@jupyter-widgets/controls",
       "_view_module_version": "1.5.0",
       "_view_name": "HTMLView",
       "description": "",
       "description_tooltip": null,
       "layout": "IPY_MODEL_41f60322110a400c89e76d458acc219d",
       "placeholder": "​",
       "style": "IPY_MODEL_ac4723a4c5f5422891e64b3ed15bddaa",
       "value": " 801M/801M [00:11&lt;00:00, 70.0MB/s]"
      }
     },
     "41f60322110a400c89e76d458acc219d": {
      "model_module": "@jupyter-widgets/base",
      "model_module_version": "1.2.0",
      "model_name": "LayoutModel",
      "state": {
       "_model_module": "@jupyter-widgets/base",
       "_model_module_version": "1.2.0",
       "_model_name": "LayoutModel",
       "_view_count": null,
       "_view_module": "@jupyter-widgets/base",
       "_view_module_version": "1.2.0",
       "_view_name": "LayoutView",
       "align_content": null,
       "align_items": null,
       "align_self": null,
       "border": null,
       "bottom": null,
       "display": null,
       "flex": null,
       "flex_flow": null,
       "grid_area": null,
       "grid_auto_columns": null,
       "grid_auto_flow": null,
       "grid_auto_rows": null,
       "grid_column": null,
       "grid_gap": null,
       "grid_row": null,
       "grid_template_areas": null,
       "grid_template_columns": null,
       "grid_template_rows": null,
       "height": null,
       "justify_content": null,
       "justify_items": null,
       "left": null,
       "margin": null,
       "max_height": null,
       "max_width": null,
       "min_height": null,
       "min_width": null,
       "object_fit": null,
       "object_position": null,
       "order": null,
       "overflow": null,
       "overflow_x": null,
       "overflow_y": null,
       "padding": null,
       "right": null,
       "top": null,
       "visibility": null,
       "width": null
      }
     },
     "4f4ed32388ea4c9ca7c1917c464762d8": {
      "model_module": "@jupyter-widgets/controls",
      "model_module_version": "1.5.0",
      "model_name": "ProgressStyleModel",
      "state": {
       "_model_module": "@jupyter-widgets/controls",
       "_model_module_version": "1.5.0",
       "_model_name": "ProgressStyleModel",
       "_view_count": null,
       "_view_module": "@jupyter-widgets/base",
       "_view_module_version": "1.2.0",
       "_view_name": "StyleView",
       "bar_color": null,
       "description_width": ""
      }
     },
     "633b4c834e45428dbb7a11403cf4414c": {
      "model_module": "@jupyter-widgets/base",
      "model_module_version": "1.2.0",
      "model_name": "LayoutModel",
      "state": {
       "_model_module": "@jupyter-widgets/base",
       "_model_module_version": "1.2.0",
       "_model_name": "LayoutModel",
       "_view_count": null,
       "_view_module": "@jupyter-widgets/base",
       "_view_module_version": "1.2.0",
       "_view_name": "LayoutView",
       "align_content": null,
       "align_items": null,
       "align_self": null,
       "border": null,
       "bottom": null,
       "display": null,
       "flex": null,
       "flex_flow": null,
       "grid_area": null,
       "grid_auto_columns": null,
       "grid_auto_flow": null,
       "grid_auto_rows": null,
       "grid_column": null,
       "grid_gap": null,
       "grid_row": null,
       "grid_template_areas": null,
       "grid_template_columns": null,
       "grid_template_rows": null,
       "height": null,
       "justify_content": null,
       "justify_items": null,
       "left": null,
       "margin": null,
       "max_height": null,
       "max_width": null,
       "min_height": null,
       "min_width": null,
       "object_fit": null,
       "object_position": null,
       "order": null,
       "overflow": null,
       "overflow_x": null,
       "overflow_y": null,
       "padding": null,
       "right": null,
       "top": null,
       "visibility": null,
       "width": null
      }
     },
     "66c924b1c1224b5e901e4c55cfd59335": {
      "model_module": "@jupyter-widgets/controls",
      "model_module_version": "1.5.0",
      "model_name": "DescriptionStyleModel",
      "state": {
       "_model_module": "@jupyter-widgets/controls",
       "_model_module_version": "1.5.0",
       "_model_name": "DescriptionStyleModel",
       "_view_count": null,
       "_view_module": "@jupyter-widgets/base",
       "_view_module_version": "1.2.0",
       "_view_name": "StyleView",
       "description_width": ""
      }
     },
     "79f90fc5a0054daf943442c216557702": {
      "model_module": "@jupyter-widgets/controls",
      "model_module_version": "1.5.0",
      "model_name": "FloatProgressModel",
      "state": {
       "_dom_classes": [],
       "_model_module": "@jupyter-widgets/controls",
       "_model_module_version": "1.5.0",
       "_model_name": "FloatProgressModel",
       "_view_count": null,
       "_view_module": "@jupyter-widgets/controls",
       "_view_module_version": "1.5.0",
       "_view_name": "ProgressView",
       "bar_style": "success",
       "description": "",
       "description_tooltip": null,
       "layout": "IPY_MODEL_633b4c834e45428dbb7a11403cf4414c",
       "max": 6545.0,
       "min": 0.0,
       "orientation": "horizontal",
       "style": "IPY_MODEL_b0f151f72a904e2b83d2095708ab8f9c",
       "value": 6545.0
      }
     },
     "7df74f2e82ca4424a35e4db17a50e91a": {
      "model_module": "@jupyter-widgets/base",
      "model_module_version": "1.2.0",
      "model_name": "LayoutModel",
      "state": {
       "_model_module": "@jupyter-widgets/base",
       "_model_module_version": "1.2.0",
       "_model_name": "LayoutModel",
       "_view_count": null,
       "_view_module": "@jupyter-widgets/base",
       "_view_module_version": "1.2.0",
       "_view_name": "LayoutView",
       "align_content": null,
       "align_items": null,
       "align_self": null,
       "border": null,
       "bottom": null,
       "display": null,
       "flex": null,
       "flex_flow": null,
       "grid_area": null,
       "grid_auto_columns": null,
       "grid_auto_flow": null,
       "grid_auto_rows": null,
       "grid_column": null,
       "grid_gap": null,
       "grid_row": null,
       "grid_template_areas": null,
       "grid_template_columns": null,
       "grid_template_rows": null,
       "height": null,
       "justify_content": null,
       "justify_items": null,
       "left": null,
       "margin": null,
       "max_height": null,
       "max_width": null,
       "min_height": null,
       "min_width": null,
       "object_fit": null,
       "object_position": null,
       "order": null,
       "overflow": null,
       "overflow_x": null,
       "overflow_y": null,
       "padding": null,
       "right": null,
       "top": null,
       "visibility": null,
       "width": null
      }
     },
     "854abf55be23429db08a5af99ceccf0a": {
      "model_module": "@jupyter-widgets/base",
      "model_module_version": "1.2.0",
      "model_name": "LayoutModel",
      "state": {
       "_model_module": "@jupyter-widgets/base",
       "_model_module_version": "1.2.0",
       "_model_name": "LayoutModel",
       "_view_count": null,
       "_view_module": "@jupyter-widgets/base",
       "_view_module_version": "1.2.0",
       "_view_name": "LayoutView",
       "align_content": null,
       "align_items": null,
       "align_self": null,
       "border": null,
       "bottom": null,
       "display": null,
       "flex": null,
       "flex_flow": null,
       "grid_area": null,
       "grid_auto_columns": null,
       "grid_auto_flow": null,
       "grid_auto_rows": null,
       "grid_column": null,
       "grid_gap": null,
       "grid_row": null,
       "grid_template_areas": null,
       "grid_template_columns": null,
       "grid_template_rows": null,
       "height": null,
       "justify_content": null,
       "justify_items": null,
       "left": null,
       "margin": null,
       "max_height": null,
       "max_width": null,
       "min_height": null,
       "min_width": null,
       "object_fit": null,
       "object_position": null,
       "order": null,
       "overflow": null,
       "overflow_x": null,
       "overflow_y": null,
       "padding": null,
       "right": null,
       "top": null,
       "visibility": null,
       "width": null
      }
     },
     "9319deec8b8c49638dd1077ae4aafb64": {
      "model_module": "@jupyter-widgets/base",
      "model_module_version": "1.2.0",
      "model_name": "LayoutModel",
      "state": {
       "_model_module": "@jupyter-widgets/base",
       "_model_module_version": "1.2.0",
       "_model_name": "LayoutModel",
       "_view_count": null,
       "_view_module": "@jupyter-widgets/base",
       "_view_module_version": "1.2.0",
       "_view_name": "LayoutView",
       "align_content": null,
       "align_items": null,
       "align_self": null,
       "border": null,
       "bottom": null,
       "display": null,
       "flex": null,
       "flex_flow": null,
       "grid_area": null,
       "grid_auto_columns": null,
       "grid_auto_flow": null,
       "grid_auto_rows": null,
       "grid_column": null,
       "grid_gap": null,
       "grid_row": null,
       "grid_template_areas": null,
       "grid_template_columns": null,
       "grid_template_rows": null,
       "height": null,
       "justify_content": null,
       "justify_items": null,
       "left": null,
       "margin": null,
       "max_height": null,
       "max_width": null,
       "min_height": null,
       "min_width": null,
       "object_fit": null,
       "object_position": null,
       "order": null,
       "overflow": null,
       "overflow_x": null,
       "overflow_y": null,
       "padding": null,
       "right": null,
       "top": null,
       "visibility": null,
       "width": null
      }
     },
     "95ccc6c4d29b48be98620514f9b9061a": {
      "model_module": "@jupyter-widgets/controls",
      "model_module_version": "1.5.0",
      "model_name": "HBoxModel",
      "state": {
       "_dom_classes": [],
       "_model_module": "@jupyter-widgets/controls",
       "_model_module_version": "1.5.0",
       "_model_name": "HBoxModel",
       "_view_count": null,
       "_view_module": "@jupyter-widgets/controls",
       "_view_module_version": "1.5.0",
       "_view_name": "HBoxView",
       "box_style": "",
       "children": [
        "IPY_MODEL_b60f28e07c8c4b1bb8568d2c57c1916f",
        "IPY_MODEL_d6c4f59d828d4f558a43066a28217366",
        "IPY_MODEL_1ca2f5a249634394bba1792d94ef71bc"
       ],
       "layout": "IPY_MODEL_1937bfd752a74e7b925fed81302f80dd"
      }
     },
     "ac4723a4c5f5422891e64b3ed15bddaa": {
      "model_module": "@jupyter-widgets/controls",
      "model_module_version": "1.5.0",
      "model_name": "DescriptionStyleModel",
      "state": {
       "_model_module": "@jupyter-widgets/controls",
       "_model_module_version": "1.5.0",
       "_model_name": "DescriptionStyleModel",
       "_view_count": null,
       "_view_module": "@jupyter-widgets/base",
       "_view_module_version": "1.2.0",
       "_view_name": "StyleView",
       "description_width": ""
      }
     },
     "acf605a1a26f47909c18f0bf821f3900": {
      "model_module": "@jupyter-widgets/controls",
      "model_module_version": "1.5.0",
      "model_name": "HTMLModel",
      "state": {
       "_dom_classes": [],
       "_model_module": "@jupyter-widgets/controls",
       "_model_module_version": "1.5.0",
       "_model_name": "HTMLModel",
       "_view_count": null,
       "_view_module": "@jupyter-widgets/controls",
       "_view_module_version": "1.5.0",
       "_view_name": "HTMLView",
       "description": "",
       "description_tooltip": null,
       "layout": "IPY_MODEL_e806f4f577124e89828254b4b1a8bda9",
       "placeholder": "​",
       "style": "IPY_MODEL_d78d635105b84b529d153425c2e2cec5",
       "value": " 6545/6545 [06:11&lt;00:00, 17.39it/s]"
      }
     },
     "af3bfbdfbca346a2bab43a5c1d23c954": {
      "model_module": "@jupyter-widgets/base",
      "model_module_version": "1.2.0",
      "model_name": "LayoutModel",
      "state": {
       "_model_module": "@jupyter-widgets/base",
       "_model_module_version": "1.2.0",
       "_model_name": "LayoutModel",
       "_view_count": null,
       "_view_module": "@jupyter-widgets/base",
       "_view_module_version": "1.2.0",
       "_view_name": "LayoutView",
       "align_content": null,
       "align_items": null,
       "align_self": null,
       "border": null,
       "bottom": null,
       "display": null,
       "flex": null,
       "flex_flow": null,
       "grid_area": null,
       "grid_auto_columns": null,
       "grid_auto_flow": null,
       "grid_auto_rows": null,
       "grid_column": null,
       "grid_gap": null,
       "grid_row": null,
       "grid_template_areas": null,
       "grid_template_columns": null,
       "grid_template_rows": null,
       "height": null,
       "justify_content": null,
       "justify_items": null,
       "left": null,
       "margin": null,
       "max_height": null,
       "max_width": null,
       "min_height": null,
       "min_width": null,
       "object_fit": null,
       "object_position": null,
       "order": null,
       "overflow": null,
       "overflow_x": null,
       "overflow_y": null,
       "padding": null,
       "right": null,
       "top": null,
       "visibility": null,
       "width": null
      }
     },
     "b0f151f72a904e2b83d2095708ab8f9c": {
      "model_module": "@jupyter-widgets/controls",
      "model_module_version": "1.5.0",
      "model_name": "ProgressStyleModel",
      "state": {
       "_model_module": "@jupyter-widgets/controls",
       "_model_module_version": "1.5.0",
       "_model_name": "ProgressStyleModel",
       "_view_count": null,
       "_view_module": "@jupyter-widgets/base",
       "_view_module_version": "1.2.0",
       "_view_name": "StyleView",
       "bar_color": null,
       "description_width": ""
      }
     },
     "b60f28e07c8c4b1bb8568d2c57c1916f": {
      "model_module": "@jupyter-widgets/controls",
      "model_module_version": "1.5.0",
      "model_name": "HTMLModel",
      "state": {
       "_dom_classes": [],
       "_model_module": "@jupyter-widgets/controls",
       "_model_module_version": "1.5.0",
       "_model_name": "HTMLModel",
       "_view_count": null,
       "_view_module": "@jupyter-widgets/controls",
       "_view_module_version": "1.5.0",
       "_view_name": "HTMLView",
       "description": "",
       "description_tooltip": null,
       "layout": "IPY_MODEL_9319deec8b8c49638dd1077ae4aafb64",
       "placeholder": "​",
       "style": "IPY_MODEL_66c924b1c1224b5e901e4c55cfd59335",
       "value": "model.safetensors: 100%"
      }
     },
     "c58ab6c09efe45c2bc7ac78cb50a8c5d": {
      "model_module": "@jupyter-widgets/controls",
      "model_module_version": "1.5.0",
      "model_name": "HTMLModel",
      "state": {
       "_dom_classes": [],
       "_model_module": "@jupyter-widgets/controls",
       "_model_module_version": "1.5.0",
       "_model_name": "HTMLModel",
       "_view_count": null,
       "_view_module": "@jupyter-widgets/controls",
       "_view_module_version": "1.5.0",
       "_view_name": "HTMLView",
       "description": "",
       "description_tooltip": null,
       "layout": "IPY_MODEL_7df74f2e82ca4424a35e4db17a50e91a",
       "placeholder": "​",
       "style": "IPY_MODEL_c8731dff36db4437a8b0c629625783fb",
       "value": "100%"
      }
     },
     "c8731dff36db4437a8b0c629625783fb": {
      "model_module": "@jupyter-widgets/controls",
      "model_module_version": "1.5.0",
      "model_name": "DescriptionStyleModel",
      "state": {
       "_model_module": "@jupyter-widgets/controls",
       "_model_module_version": "1.5.0",
       "_model_name": "DescriptionStyleModel",
       "_view_count": null,
       "_view_module": "@jupyter-widgets/base",
       "_view_module_version": "1.2.0",
       "_view_name": "StyleView",
       "description_width": ""
      }
     },
     "d6c4f59d828d4f558a43066a28217366": {
      "model_module": "@jupyter-widgets/controls",
      "model_module_version": "1.5.0",
      "model_name": "FloatProgressModel",
      "state": {
       "_dom_classes": [],
       "_model_module": "@jupyter-widgets/controls",
       "_model_module_version": "1.5.0",
       "_model_name": "FloatProgressModel",
       "_view_count": null,
       "_view_module": "@jupyter-widgets/controls",
       "_view_module_version": "1.5.0",
       "_view_name": "ProgressView",
       "bar_style": "success",
       "description": "",
       "description_tooltip": null,
       "layout": "IPY_MODEL_854abf55be23429db08a5af99ceccf0a",
       "max": 800582904.0,
       "min": 0.0,
       "orientation": "horizontal",
       "style": "IPY_MODEL_4f4ed32388ea4c9ca7c1917c464762d8",
       "value": 800582904.0
      }
     },
     "d78d635105b84b529d153425c2e2cec5": {
      "model_module": "@jupyter-widgets/controls",
      "model_module_version": "1.5.0",
      "model_name": "DescriptionStyleModel",
      "state": {
       "_model_module": "@jupyter-widgets/controls",
       "_model_module_version": "1.5.0",
       "_model_name": "DescriptionStyleModel",
       "_view_count": null,
       "_view_module": "@jupyter-widgets/base",
       "_view_module_version": "1.2.0",
       "_view_name": "StyleView",
       "description_width": ""
      }
     },
     "e806f4f577124e89828254b4b1a8bda9": {
      "model_module": "@jupyter-widgets/base",
      "model_module_version": "1.2.0",
      "model_name": "LayoutModel",
      "state": {
       "_model_module": "@jupyter-widgets/base",
       "_model_module_version": "1.2.0",
       "_model_name": "LayoutModel",
       "_view_count": null,
       "_view_module": "@jupyter-widgets/base",
       "_view_module_version": "1.2.0",
       "_view_name": "LayoutView",
       "align_content": null,
       "align_items": null,
       "align_self": null,
       "border": null,
       "bottom": null,
       "display": null,
       "flex": null,
       "flex_flow": null,
       "grid_area": null,
       "grid_auto_columns": null,
       "grid_auto_flow": null,
       "grid_auto_rows": null,
       "grid_column": null,
       "grid_gap": null,
       "grid_row": null,
       "grid_template_areas": null,
       "grid_template_columns": null,
       "grid_template_rows": null,
       "height": null,
       "justify_content": null,
       "justify_items": null,
       "left": null,
       "margin": null,
       "max_height": null,
       "max_width": null,
       "min_height": null,
       "min_width": null,
       "object_fit": null,
       "object_position": null,
       "order": null,
       "overflow": null,
       "overflow_x": null,
       "overflow_y": null,
       "padding": null,
       "right": null,
       "top": null,
       "visibility": null,
       "width": null
      }
     }
    },
    "version_major": 2,
    "version_minor": 0
   }
  }
 },
 "nbformat": 4,
 "nbformat_minor": 5
}
