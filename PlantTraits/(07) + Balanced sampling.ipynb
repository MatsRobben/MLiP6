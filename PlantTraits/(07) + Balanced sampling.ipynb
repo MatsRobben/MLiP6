{
 "cells": [
  {
   "cell_type": "markdown",
   "id": "10a090ef",
   "metadata": {
    "papermill": {
     "duration": 0.009768,
     "end_time": "2024-04-18T13:59:21.508097",
     "exception": false,
     "start_time": "2024-04-18T13:59:21.498329",
     "status": "completed"
    },
    "tags": []
   },
   "source": [
    "- Notebook modified from https://www.kaggle.com/code/markwijkhuizen/planttraits2024-eda-training-pub.\n",
    "- Training only, EDA part not included.\n",
    "- Image model only, tabular data not used."
   ]
  },
  {
   "cell_type": "markdown",
   "id": "b1b08332",
   "metadata": {
    "papermill": {
     "duration": 0.016014,
     "end_time": "2024-04-18T13:59:21.532459",
     "exception": false,
     "start_time": "2024-04-18T13:59:21.516445",
     "status": "completed"
    },
    "tags": []
   },
   "source": [
    "## Import Libraries "
   ]
  },
  {
   "cell_type": "code",
   "execution_count": 1,
   "id": "9c1fcef6",
   "metadata": {
    "execution": {
     "iopub.execute_input": "2024-04-18T13:59:21.550426Z",
     "iopub.status.busy": "2024-04-18T13:59:21.550085Z",
     "iopub.status.idle": "2024-04-18T13:59:32.846001Z",
     "shell.execute_reply": "2024-04-18T13:59:32.845041Z"
    },
    "papermill": {
     "duration": 11.307646,
     "end_time": "2024-04-18T13:59:32.848500",
     "exception": false,
     "start_time": "2024-04-18T13:59:21.540854",
     "status": "completed"
    },
    "tags": []
   },
   "outputs": [],
   "source": [
    "import numpy as np\n",
    "import pandas as pd\n",
    "import matplotlib.pyplot as plt\n",
    "import imageio.v3 as imageio\n",
    "import albumentations as A\n",
    "\n",
    "from albumentations.pytorch import ToTensorV2\n",
    "from torch.utils.data import Dataset, DataLoader\n",
    "from torch import nn\n",
    "from tqdm.notebook import tqdm\n",
    "from sklearn.preprocessing import StandardScaler\n",
    "from sklearn.model_selection import train_test_split, KFold, cross_val_score\n",
    "\n",
    "import xgboost as xgb\n",
    "\n",
    "import torch\n",
    "import timm\n",
    "import glob\n",
    "import torchmetrics\n",
    "import time\n",
    "import psutil\n",
    "import os\n",
    "import time\n",
    "import pickle\n",
    "\n",
    "tqdm.pandas()\n",
    "device = torch.device(\"cuda:0\" if torch.cuda.is_available() else \"cpu\")"
   ]
  },
  {
   "cell_type": "code",
   "execution_count": 2,
   "id": "67a7672b",
   "metadata": {
    "execution": {
     "iopub.execute_input": "2024-04-18T13:59:32.867422Z",
     "iopub.status.busy": "2024-04-18T13:59:32.867100Z",
     "iopub.status.idle": "2024-04-18T13:59:32.874252Z",
     "shell.execute_reply": "2024-04-18T13:59:32.873567Z"
    },
    "papermill": {
     "duration": 0.018613,
     "end_time": "2024-04-18T13:59:32.876085",
     "exception": false,
     "start_time": "2024-04-18T13:59:32.857472",
     "status": "completed"
    },
    "tags": []
   },
   "outputs": [],
   "source": [
    "class Config():\n",
    "    IMAGE_SIZE = 384\n",
    "#     BACKBONE = 'swin_large_patch4_window12_384.ms_in22k_ft_in1k'\n",
    "    BACKBONE = 'tf_efficientnet_b0'\n",
    "    TARGET_COLUMNS = ['X4_mean', 'X11_mean', 'X18_mean', 'X50_mean', 'X26_mean', 'X3112_mean']\n",
    "    \n",
    "    N_TARGETS = len(TARGET_COLUMNS)\n",
    "    BATCH_SIZE = 32\n",
    "    LR_MAX = 1e-4\n",
    "    WEIGHT_DECAY = 0.01\n",
    "    N_EPOCHS = 8\n",
    "    TRAIN_MODEL = True\n",
    "    IS_INTERACTIVE = os.environ['KAGGLE_KERNEL_RUN_TYPE'] == 'Interactive'\n",
    "    \n",
    "#     MODEL_PATH = '/kaggle/input/plainttraits2024-swintransformer/model.pth'\n",
    "    MODEL_PATH = '/kaggle/input/planttraits2024-swintransformer-tabular/model.pth'\n",
    "        \n",
    "CONFIG = Config()"
   ]
  },
  {
   "cell_type": "markdown",
   "id": "3a45ab91",
   "metadata": {
    "papermill": {
     "duration": 0.008317,
     "end_time": "2024-04-18T13:59:32.892730",
     "exception": false,
     "start_time": "2024-04-18T13:59:32.884413",
     "status": "completed"
    },
    "tags": []
   },
   "source": [
    "## Load Data"
   ]
  },
  {
   "cell_type": "code",
   "execution_count": 3,
   "id": "977d2c31",
   "metadata": {
    "execution": {
     "iopub.execute_input": "2024-04-18T13:59:32.911568Z",
     "iopub.status.busy": "2024-04-18T13:59:32.911276Z",
     "iopub.status.idle": "2024-04-18T14:00:13.607264Z",
     "shell.execute_reply": "2024-04-18T14:00:13.606247Z"
    },
    "papermill": {
     "duration": 40.716316,
     "end_time": "2024-04-18T14:00:13.617361",
     "exception": false,
     "start_time": "2024-04-18T13:59:32.901045",
     "status": "completed"
    },
    "tags": []
   },
   "outputs": [
    {
     "name": "stdout",
     "output_type": "stream",
     "text": [
      "N_TRAIN_SAMPLES: 49168 N_TEST_SAMPLES: 6545\n",
      "CPU times: user 1.6 s, sys: 3 s, total: 4.6 s\n",
      "Wall time: 40.7 s\n"
     ]
    }
   ],
   "source": [
    "%%time\n",
    "read_images = False\n",
    "\n",
    "if not read_images:\n",
    "    train = pd.read_pickle('/kaggle/input/plainttraits2024-swintransformer/train.pkl')\n",
    "    test = pd.read_pickle('/kaggle/input/plainttraits2024-swintransformer/test.pkl')\n",
    "else: \n",
    "    # if CONFIG.TRAIN_MODEL:\n",
    "    train = pd.read_csv('/kaggle/input/planttraits2024/train.csv')\n",
    "    train['file_path'] = train['id'].apply(lambda s: f'/kaggle/input/planttraits2024/train_images/{s}.jpeg')\n",
    "    train['jpeg_bytes'] = train['file_path'].progress_apply(lambda fp: open(fp, 'rb').read())\n",
    "    train.to_pickle('train.pkl')\n",
    "\n",
    "    test = pd.read_csv('/kaggle/input/planttraits2024/test.csv')\n",
    "    test['file_path'] = test['id'].apply(lambda s: f'/kaggle/input/planttraits2024/test_images/{s}.jpeg')\n",
    "    test['jpeg_bytes'] = test['file_path'].progress_apply(lambda fp: open(fp, 'rb').read())\n",
    "    test.to_pickle('test.pkl')\n",
    "\n",
    "for column in CONFIG.TARGET_COLUMNS:\n",
    "    lower_quantile = train[column].quantile(0.005)\n",
    "    upper_quantile = train[column].quantile(0.985)  \n",
    "    train = train[(train[column] >= lower_quantile) & (train[column] <= upper_quantile)]    \n",
    "    \n",
    "sd_columns = [col for col in train.columns if col.endswith('_sd')]\n",
    "train = train.drop(columns=sd_columns)\n",
    "    \n",
    "CONFIG.N_TRAIN_SAMPLES = len(train)\n",
    "CONFIG.N_STEPS_PER_EPOCH = (CONFIG.N_TRAIN_SAMPLES // CONFIG.BATCH_SIZE)\n",
    "CONFIG.N_STEPS = CONFIG.N_STEPS_PER_EPOCH * CONFIG.N_EPOCHS + 1    \n",
    "CONFIG.TABULAR_COLUMNS = train.filter(regex='^(WORLDCLIM_BIO|SOIL|MODIS_2000|VOD)').columns\n",
    "    \n",
    "if CONFIG.TRAIN_MODEL:\n",
    "    print('N_TRAIN_SAMPLES:', len(train), 'N_TEST_SAMPLES:', len(test))\n",
    "else:\n",
    "    print('N_TEST_SAMPLES:', len(test))"
   ]
  },
  {
   "cell_type": "code",
   "execution_count": 4,
   "id": "f72e861d",
   "metadata": {
    "execution": {
     "iopub.execute_input": "2024-04-18T14:00:13.635317Z",
     "iopub.status.busy": "2024-04-18T14:00:13.634742Z",
     "iopub.status.idle": "2024-04-18T14:00:13.672196Z",
     "shell.execute_reply": "2024-04-18T14:00:13.671150Z"
    },
    "papermill": {
     "duration": 0.048767,
     "end_time": "2024-04-18T14:00:13.674320",
     "exception": false,
     "start_time": "2024-04-18T14:00:13.625553",
     "status": "completed"
    },
    "tags": []
   },
   "outputs": [
    {
     "name": "stdout",
     "output_type": "stream",
     "text": [
      "17535 unique species found in 49168 records\n"
     ]
    }
   ],
   "source": [
    "# extract species\n",
    "train['species'] = train.groupby(CONFIG.TARGET_COLUMNS).ngroup()\n",
    "species_counts = train['species'].nunique()\n",
    "\n",
    "print (f\"{species_counts} unique species found in {len(train)} records\")\n"
   ]
  },
  {
   "cell_type": "code",
   "execution_count": 5,
   "id": "5ec1720b",
   "metadata": {
    "execution": {
     "iopub.execute_input": "2024-04-18T14:00:13.693230Z",
     "iopub.status.busy": "2024-04-18T14:00:13.692908Z",
     "iopub.status.idle": "2024-04-18T14:00:14.094811Z",
     "shell.execute_reply": "2024-04-18T14:00:14.093816Z"
    },
    "papermill": {
     "duration": 0.41316,
     "end_time": "2024-04-18T14:00:14.096762",
     "exception": false,
     "start_time": "2024-04-18T14:00:13.683602",
     "status": "completed"
    },
    "tags": []
   },
   "outputs": [
    {
     "data": {
      "image/png": "[encoded data removed]",
      "text/plain": [
       "<Figure size 700x300 with 1 Axes>"
      ]
     },
     "metadata": {},
     "output_type": "display_data"
    }
   ],
   "source": [
    "# visualize species\n",
    "species_count = train['species'].value_counts()\n",
    "count_summary = species_count.value_counts().sort_index()\n",
    "count_summary.plot(kind='bar', figsize=(7, 3))\n",
    "\n",
    "plt.title('Images per Species')\n",
    "plt.xlabel('Images')\n",
    "plt.ylabel('Species')\n",
    "\n",
    "# Show the plot\n",
    "plt.tight_layout() \n",
    "plt.show()"
   ]
  },
  {
   "cell_type": "code",
   "execution_count": 6,
   "id": "ce086b2b",
   "metadata": {
    "execution": {
     "iopub.execute_input": "2024-04-18T14:00:14.116722Z",
     "iopub.status.busy": "2024-04-18T14:00:14.116194Z",
     "iopub.status.idle": "2024-04-18T14:00:21.882035Z",
     "shell.execute_reply": "2024-04-18T14:00:21.880781Z"
    },
    "papermill": {
     "duration": 7.778605,
     "end_time": "2024-04-18T14:00:21.884165",
     "exception": false,
     "start_time": "2024-04-18T14:00:14.105560",
     "status": "completed"
    },
    "tags": []
   },
   "outputs": [
    {
     "name": "stdout",
     "output_type": "stream",
     "text": [
      "52605\n"
     ]
    },
    {
     "name": "stderr",
     "output_type": "stream",
     "text": [
      "/tmp/ipykernel_24/986111767.py:5: DeprecationWarning: DataFrameGroupBy.apply operated on the grouping columns. This behavior is deprecated, and in a future version of pandas the grouping columns will be excluded from the operation. Either pass `include_groups=False` to exclude the groupings or explicitly select the grouping columns after groupby to silence this warning.\n",
      "  train = balanced_training.groupby('species').apply(lambda x: x.sample(n=3,replace=True)).reset_index(drop = True)\n"
     ]
    }
   ],
   "source": [
    "# Make the training set balanced by resampling from the 20,000 plant species\n",
    "balanced_training = train.copy()\n",
    "\n",
    "# sample 3 entries from each species column\n",
    "train = balanced_training.groupby('species').apply(lambda x: x.sample(n=3,replace=True)).reset_index(drop = True) \n",
    "print(len(train))\n"
   ]
  },
  {
   "cell_type": "code",
   "execution_count": 7,
   "id": "ba18b927",
   "metadata": {
    "execution": {
     "iopub.execute_input": "2024-04-18T14:00:21.903819Z",
     "iopub.status.busy": "2024-04-18T14:00:21.903020Z",
     "iopub.status.idle": "2024-04-18T14:00:21.924794Z",
     "shell.execute_reply": "2024-04-18T14:00:21.923881Z"
    },
    "papermill": {
     "duration": 0.033651,
     "end_time": "2024-04-18T14:00:21.926831",
     "exception": false,
     "start_time": "2024-04-18T14:00:21.893180",
     "status": "completed"
    },
    "tags": []
   },
   "outputs": [],
   "source": [
    "# if CONFIG.TRAIN_MODEL:\n",
    "LOG_FEATURES = ['X4_mean', 'X11_mean', 'X18_mean', 'X50_mean', 'X26_mean', 'X3112_mean']\n",
    "\n",
    "y_df = np.zeros_like(train[CONFIG.TARGET_COLUMNS], dtype=np.float32)\n",
    "for target_idx, target in enumerate(CONFIG.TARGET_COLUMNS):\n",
    "    v = train[target].values\n",
    "    if target in LOG_FEATURES:\n",
    "        v = np.log10(v)\n",
    "    y_df[:, target_idx] = v\n",
    "\n",
    "SCALER = StandardScaler()\n",
    "y_df = SCALER.fit_transform(y_df)"
   ]
  },
  {
   "cell_type": "code",
   "execution_count": 8,
   "id": "4ecc5f04",
   "metadata": {
    "execution": {
     "iopub.execute_input": "2024-04-18T14:00:21.946538Z",
     "iopub.status.busy": "2024-04-18T14:00:21.945922Z",
     "iopub.status.idle": "2024-04-18T14:00:22.005806Z",
     "shell.execute_reply": "2024-04-18T14:00:22.004838Z"
    },
    "papermill": {
     "duration": 0.071935,
     "end_time": "2024-04-18T14:00:22.008060",
     "exception": false,
     "start_time": "2024-04-18T14:00:21.936125",
     "status": "completed"
    },
    "tags": []
   },
   "outputs": [],
   "source": [
    "# Splitting the data into training and validation sets\n",
    "train_df, val_df, y_train, y_val = train_test_split(train, y_df, test_size=0.2, random_state=42)"
   ]
  },
  {
   "cell_type": "code",
   "execution_count": 9,
   "id": "e54424eb",
   "metadata": {
    "execution": {
     "iopub.execute_input": "2024-04-18T14:00:22.027590Z",
     "iopub.status.busy": "2024-04-18T14:00:22.026978Z",
     "iopub.status.idle": "2024-04-18T14:00:22.223081Z",
     "shell.execute_reply": "2024-04-18T14:00:22.222077Z"
    },
    "papermill": {
     "duration": 0.208549,
     "end_time": "2024-04-18T14:00:22.225697",
     "exception": false,
     "start_time": "2024-04-18T14:00:22.017148",
     "status": "completed"
    },
    "tags": []
   },
   "outputs": [],
   "source": [
    "# if CONFIG.TRAIN_MODEL:\n",
    "# LOG_FEATURES_TABULAR = [30, 31, 32, 33, 34, 35, 37, 41, 62, 63, 64, 65, 66, 67, 69, 70, 72, 74, 75, 77, 79, 80, 82, 84, 85, 87, 89, 90, 92, 94, 95, 97, 99, 100, 102, 104, 105, 107, 109, 110, 112, 114, 115, 117, 119, 120, 122, 124, 125]\n",
    "# LOG_FEATURES_TABULAR = []\n",
    "\n",
    "# tabular_df_train = np.zeros_like(train_df[CONFIG.TABULAR_COLUMNS], dtype=np.float64)\n",
    "# tabular_df_val = np.zeros_like(val_df[CONFIG.TABULAR_COLUMNS], dtype=np.float64)\n",
    "# tabular_df_test = np.zeros_like(test[CONFIG.TABULAR_COLUMNS], dtype=np.float64)\n",
    "\n",
    "# for tabular_df, df in zip([tabular_df_train, tabular_df_val, tabular_df_test], [train_df, val_df, test]):\n",
    "#     for col_idx, col in enumerate(CONFIG.TABULAR_COLUMNS):\n",
    "#         v = df[col].values\n",
    "#         if col_idx in LOG_FEATURES_TABULAR:\n",
    "#             v = np.log10(v)\n",
    "#         tabular_df[:, col_idx] = v \n",
    "\n",
    "SCALER_tabular = StandardScaler()\n",
    "tabular_df_train = SCALER_tabular.fit_transform(train_df[CONFIG.TABULAR_COLUMNS])\n",
    "tabular_df_val = SCALER_tabular.transform(val_df[CONFIG.TABULAR_COLUMNS])\n",
    "tabular_df_test = SCALER_tabular.fit_transform(test[CONFIG.TABULAR_COLUMNS])"
   ]
  },
  {
   "cell_type": "code",
   "execution_count": 10,
   "id": "896eb0e3",
   "metadata": {
    "execution": {
     "iopub.execute_input": "2024-04-18T14:00:22.245779Z",
     "iopub.status.busy": "2024-04-18T14:00:22.245003Z",
     "iopub.status.idle": "2024-04-18T14:00:22.249046Z",
     "shell.execute_reply": "2024-04-18T14:00:22.248165Z"
    },
    "papermill": {
     "duration": 0.015688,
     "end_time": "2024-04-18T14:00:22.250862",
     "exception": false,
     "start_time": "2024-04-18T14:00:22.235174",
     "status": "completed"
    },
    "tags": []
   },
   "outputs": [],
   "source": [
    "# for i, col in enumerate(CONFIG.TABULAR_COLUMNS):\n",
    "#     print(i, col)\n",
    "#     train[col].plot.hist(bins=12, alpha=0.5)\n",
    "#     plt.show()\n",
    "#     plt.hist(tabular_df_train[i], bins=12)\n",
    "#     plt.show()"
   ]
  },
  {
   "cell_type": "code",
   "execution_count": 11,
   "id": "f01f69f0",
   "metadata": {
    "execution": {
     "iopub.execute_input": "2024-04-18T14:00:22.269765Z",
     "iopub.status.busy": "2024-04-18T14:00:22.269474Z",
     "iopub.status.idle": "2024-04-18T14:00:22.284446Z",
     "shell.execute_reply": "2024-04-18T14:00:22.283577Z"
    },
    "papermill": {
     "duration": 0.02658,
     "end_time": "2024-04-18T14:00:22.286272",
     "exception": false,
     "start_time": "2024-04-18T14:00:22.259692",
     "status": "completed"
    },
    "tags": []
   },
   "outputs": [],
   "source": [
    "MEAN = np.array([0.485, 0.456, 0.406])\n",
    "STD = np.array([0.229, 0.224, 0.225])\n",
    "\n",
    "TRAIN_TRANSFORMS = A.Compose([\n",
    "        A.HorizontalFlip(p=0.5),\n",
    "        A.RandomSizedCrop(\n",
    "            [int(0.85*CONFIG.IMAGE_SIZE), CONFIG.IMAGE_SIZE],\n",
    "            CONFIG.IMAGE_SIZE, CONFIG.IMAGE_SIZE, w2h_ratio=1.0, p=0.75),\n",
    "        A.Resize(CONFIG.IMAGE_SIZE, CONFIG.IMAGE_SIZE),\n",
    "        A.RandomBrightnessContrast(brightness_limit=0.1, contrast_limit=0.1, p=0.25),\n",
    "        A.ImageCompression(quality_lower=85, quality_upper=100, p=0.25),\n",
    "        A.ToFloat(),\n",
    "        A.Normalize(mean=MEAN, std=STD, max_pixel_value=1),\n",
    "        ToTensorV2(),\n",
    "    ])\n",
    "\n",
    "TEST_TRANSFORMS = A.Compose([\n",
    "        A.Resize(CONFIG.IMAGE_SIZE, CONFIG.IMAGE_SIZE),\n",
    "        A.ToFloat(),\n",
    "        A.Normalize(mean=MEAN, std=STD, max_pixel_value=1),\n",
    "        ToTensorV2(),\n",
    "    ])\n",
    "\n",
    "class Dataset(Dataset):\n",
    "    def __init__(self, X_jpeg_bytes, X_tabular, y, transforms=None):\n",
    "        self.X_jpeg_bytes = X_jpeg_bytes\n",
    "        self.X_tabular = X_tabular\n",
    "        self.y = y\n",
    "        self.transforms = transforms\n",
    "\n",
    "    def __len__(self):\n",
    "        return len(self.X_jpeg_bytes)\n",
    "\n",
    "    def __getitem__(self, index):\n",
    "        X_sample = self.transforms(\n",
    "            image=imageio.imread(self.X_jpeg_bytes[index]),\n",
    "        )\n",
    "        X_sample['tabular'] = self.X_tabular[index].astype('float32')\n",
    "        y_sample = self.y[index]\n",
    "        \n",
    "        return X_sample, y_sample\n",
    "\n",
    "if CONFIG.TRAIN_MODEL:\n",
    "    # Creating datasets for training and validation\n",
    "    train_dataset = Dataset(\n",
    "        train_df['jpeg_bytes'].values,\n",
    "        tabular_df_train,\n",
    "        y_train,\n",
    "        TRAIN_TRANSFORMS,\n",
    "    )\n",
    "\n",
    "    val_dataset = Dataset(\n",
    "        val_df['jpeg_bytes'].values,\n",
    "        tabular_df_val,\n",
    "        y_val,\n",
    "        TEST_TRANSFORMS,\n",
    "    )\n",
    "\n",
    "    # Creating dataloaders for training and validation\n",
    "    train_dataloader = DataLoader(\n",
    "        train_dataset,\n",
    "        batch_size=CONFIG.BATCH_SIZE,\n",
    "        shuffle=True,\n",
    "        drop_last=True,\n",
    "        num_workers=psutil.cpu_count(),\n",
    "    )\n",
    "\n",
    "    val_dataloader = DataLoader(\n",
    "        val_dataset,\n",
    "        batch_size=CONFIG.BATCH_SIZE,\n",
    "        shuffle=False,  # No need to shuffle validation data\n",
    "        num_workers=psutil.cpu_count(),\n",
    "    )\n",
    "\n",
    "\n",
    "\n",
    "test_dataset = Dataset(\n",
    "    test['jpeg_bytes'].values,\n",
    "    tabular_df_test,\n",
    "    test['id'].values,\n",
    "    TEST_TRANSFORMS,\n",
    ")"
   ]
  },
  {
   "cell_type": "code",
   "execution_count": 12,
   "id": "a8ce2e6b",
   "metadata": {
    "execution": {
     "iopub.execute_input": "2024-04-18T14:00:22.304855Z",
     "iopub.status.busy": "2024-04-18T14:00:22.304550Z",
     "iopub.status.idle": "2024-04-18T14:00:25.395450Z",
     "shell.execute_reply": "2024-04-18T14:00:25.394607Z"
    },
    "papermill": {
     "duration": 3.10294,
     "end_time": "2024-04-18T14:00:25.397908",
     "exception": false,
     "start_time": "2024-04-18T14:00:22.294968",
     "status": "completed"
    },
    "tags": []
   },
   "outputs": [
    {
     "data": {
      "application/vnd.jupyter.widget-view+json": {
       "model_id": "f3834bac36c141d49ffdc3421bd99bd1",
       "version_major": 2,
       "version_minor": 0
      },
      "text/plain": [
       "model.safetensors:   0%|          | 0.00/21.4M [00:00<?, ?B/s]"
      ]
     },
     "metadata": {},
     "output_type": "display_data"
    }
   ],
   "source": [
    "class Model(nn.Module):\n",
    "    def __init__(self):\n",
    "        super().__init__()\n",
    "        self.backbone = timm.create_model(\n",
    "                CONFIG.BACKBONE,\n",
    "                pretrained=True,\n",
    "#                 num_classes=CONFIG.N_TARGETS,\n",
    "                num_classes=0,\n",
    "        )\n",
    "        \n",
    "        # Freeze the backbone weights\n",
    "#         for param in self.backbone.parameters():\n",
    "#             param.requires_grad = False\n",
    "        \n",
    "        # EfficientNet = 1280, SwinTrans = 1536, Tabular = 163\n",
    "        self.custom_layers = nn.Sequential(\n",
    "            nn.BatchNorm1d(1280+163),\n",
    "            nn.Linear(1280+163, 512),\n",
    "            nn.ReLU(), \n",
    "            nn.Linear(512, 6)  \n",
    "        )\n",
    "        \n",
    "    def forward(self, inputs):\n",
    "        image = inputs['image']\n",
    "        tabular = inputs['tabular']\n",
    "\n",
    "        x = self.backbone(image)\n",
    "        x = torch.cat((tabular, x), dim=1)\n",
    "        x = self.custom_layers(x)\n",
    "        \n",
    "        return x\n",
    "\n",
    "\n",
    "model = Model()\n",
    "model = model.to(device)\n",
    "# print(model.backbone.head)"
   ]
  },
  {
   "cell_type": "code",
   "execution_count": 13,
   "id": "6ab2e2ef",
   "metadata": {
    "execution": {
     "iopub.execute_input": "2024-04-18T14:00:25.418824Z",
     "iopub.status.busy": "2024-04-18T14:00:25.418221Z",
     "iopub.status.idle": "2024-04-18T14:00:25.427542Z",
     "shell.execute_reply": "2024-04-18T14:00:25.426685Z"
    },
    "papermill": {
     "duration": 0.021694,
     "end_time": "2024-04-18T14:00:25.429442",
     "exception": false,
     "start_time": "2024-04-18T14:00:25.407748",
     "status": "completed"
    },
    "tags": []
   },
   "outputs": [],
   "source": [
    "create_features = False\n",
    "\n",
    "if create_features:\n",
    "    feature_model = torch.load(CONFIG.MODEL_PATH)\n",
    "    feature_model.backbone.head.fc = nn.Identity()\n",
    "    feature_model.to(device);\n",
    "\n",
    "#     dataset = Dataset(\n",
    "#         train['jpeg_bytes'].values,\n",
    "#         y_df,\n",
    "#         TEST_TRANSFORMS,\n",
    "#     )\n",
    "    dataset = test_dataset\n",
    "\n",
    "    # Create a DataLoader for the dataset\n",
    "    dataloader = DataLoader(dataset, batch_size=CONFIG.BATCH_SIZE, shuffle=False)\n",
    "\n",
    "    # Define the shape of the features array\n",
    "    num_samples = len(dataset)\n",
    "    num_features = 1536\n",
    "\n",
    "    # Initialize an empty array filled with zeros to store features\n",
    "    features_array = np.zeros((num_samples, num_features), dtype=np.float32)\n",
    "\n",
    "    # Set the model to evaluation mode\n",
    "    model.eval()\n",
    "\n",
    "    # Initialize the index counter\n",
    "    index = 0\n",
    "\n",
    "    # Iterate over the data loader batches\n",
    "    for batch in dataloader:\n",
    "        if index % 10 == 0:\n",
    "            print(index, end=', ')\n",
    "\n",
    "        # Extract inputs and labels from the batch\n",
    "        inputs, _ = batch\n",
    "        inputs = inputs.to(device)\n",
    "\n",
    "        # Forward pass through the model to extract features\n",
    "        with torch.no_grad():\n",
    "            features = feature_model(inputs)\n",
    "\n",
    "        # Flatten the features\n",
    "        features = features.view(features.size(0), -1)\n",
    "\n",
    "        # Calculate the end index for the current batch\n",
    "        end_index = index + inputs.size(0)\n",
    "\n",
    "        # Assign features to the pre-allocated array\n",
    "        features_array[index:end_index] = features.cpu().numpy()\n",
    "\n",
    "        # Update the index counter\n",
    "        index = end_index\n",
    "\n",
    "    # Save the features as a NumPy array\n",
    "    np.save('features_test.npy', features_array)\n",
    "    \n"
   ]
  },
  {
   "cell_type": "code",
   "execution_count": 14,
   "id": "e0202788",
   "metadata": {
    "execution": {
     "iopub.execute_input": "2024-04-18T14:00:25.448644Z",
     "iopub.status.busy": "2024-04-18T14:00:25.448328Z",
     "iopub.status.idle": "2024-04-18T14:00:25.452137Z",
     "shell.execute_reply": "2024-04-18T14:00:25.451367Z"
    },
    "papermill": {
     "duration": 0.015649,
     "end_time": "2024-04-18T14:00:25.454139",
     "exception": false,
     "start_time": "2024-04-18T14:00:25.438490",
     "status": "completed"
    },
    "tags": []
   },
   "outputs": [],
   "source": [
    "# def count_parameters(model):\n",
    "#     return sum(p.numel() for p in model.parameters() if p.requires_grad)\n",
    "\n",
    "# # Count parameters\n",
    "# num_parameters = count_parameters(model)\n",
    "# print(\"Number of parameters in the model:\", num_parameters)"
   ]
  },
  {
   "cell_type": "code",
   "execution_count": 15,
   "id": "7f3bcc40",
   "metadata": {
    "execution": {
     "iopub.execute_input": "2024-04-18T14:00:25.472855Z",
     "iopub.status.busy": "2024-04-18T14:00:25.472556Z",
     "iopub.status.idle": "2024-04-18T14:00:25.499600Z",
     "shell.execute_reply": "2024-04-18T14:00:25.498740Z"
    },
    "papermill": {
     "duration": 0.038642,
     "end_time": "2024-04-18T14:00:25.501672",
     "exception": false,
     "start_time": "2024-04-18T14:00:25.463030",
     "status": "completed"
    },
    "tags": []
   },
   "outputs": [],
   "source": [
    "def get_lr_scheduler(optimizer):\n",
    "    return torch.optim.lr_scheduler.OneCycleLR(\n",
    "        optimizer=optimizer,\n",
    "        max_lr=CONFIG.LR_MAX,\n",
    "        total_steps=CONFIG.N_STEPS,\n",
    "        pct_start=0.1,\n",
    "        anneal_strategy='cos',\n",
    "        div_factor=1e1,\n",
    "        final_div_factor=1e1,\n",
    "    )\n",
    "\n",
    "class AverageMeter(object):\n",
    "    def __init__(self):\n",
    "        self.reset()\n",
    "\n",
    "    def reset(self):\n",
    "        self.avg = 0\n",
    "        self.sum = 0\n",
    "        self.count = 0\n",
    "\n",
    "    def update(self, val):\n",
    "        self.sum += val.sum()\n",
    "        self.count += val.numel()\n",
    "        self.avg = self.sum / self.count\n",
    "\n",
    "if CONFIG.TRAIN_MODEL:\n",
    "    MAE = torchmetrics.regression.MeanAbsoluteError().to(device)\n",
    "    R2 = torchmetrics.regression.R2Score(num_outputs=CONFIG.N_TARGETS, multioutput='uniform_average').to(device)\n",
    "    LOSS = AverageMeter()\n",
    "\n",
    "    Y_MEAN = torch.tensor(y_df).mean(dim=0).to(device)\n",
    "    EPS = torch.tensor([1e-6]).to(device)\n",
    "\n",
    "    def r2_loss(y_pred, y_true):\n",
    "        ss_res = torch.sum((y_true - y_pred)**2, dim=0)\n",
    "        ss_total = torch.sum((y_true - Y_MEAN)**2, dim=0)\n",
    "        ss_total = torch.maximum(ss_total, EPS)\n",
    "        r2 = torch.mean(ss_res / ss_total)\n",
    "        return r2\n",
    "\n",
    "    LOSS_FN = r2_loss\n",
    "\n",
    "    optimizer = torch.optim.AdamW(\n",
    "        params=model.parameters(),\n",
    "        lr=CONFIG.LR_MAX,\n",
    "        weight_decay=CONFIG.WEIGHT_DECAY,\n",
    "    )\n",
    "\n",
    "    LR_SCHEDULER = get_lr_scheduler(optimizer)"
   ]
  },
  {
   "cell_type": "code",
   "execution_count": 16,
   "id": "20e8f74c",
   "metadata": {
    "execution": {
     "iopub.execute_input": "2024-04-18T14:00:25.521651Z",
     "iopub.status.busy": "2024-04-18T14:00:25.521383Z",
     "iopub.status.idle": "2024-04-18T15:01:46.753581Z",
     "shell.execute_reply": "2024-04-18T15:01:46.752386Z"
    },
    "papermill": {
     "duration": 3681.244978,
     "end_time": "2024-04-18T15:01:46.756398",
     "exception": false,
     "start_time": "2024-04-18T14:00:25.511420",
     "status": "completed"
    },
    "tags": []
   },
   "outputs": [
    {
     "name": "stdout",
     "output_type": "stream",
     "text": [
      "Start Training:\n",
      "EPOCH 01, 1315/1315 | loss: 0.7669, mae: 0.6874, r2: 0.2403, step: 0.715s, lr: 1.00e-04\n",
      "EPOCH VAL, 01, 0329/329 | loss: 0.6495, mae: 0.6178, r2: 0.3620, step: 0.064s, lr: 1.00e-04\n",
      "\n",
      "EPOCH 02, 1315/1315 | loss: 0.6242, mae: 0.6101, r2: 0.3856, step: 0.288s, lr: 9.61e-05\n",
      "EPOCH VAL, 02, 0329/329 | loss: 0.5837, mae: 0.5823, r2: 0.4269, step: 0.057s, lr: 9.61e-05\n",
      "\n",
      "EPOCH 03, 1315/1315 | loss: 0.5485, mae: 0.5692, r2: 0.4614, step: 0.288s, lr: 8.60e-05\n",
      "EPOCH VAL, 03, 0329/329 | loss: 0.5495, mae: 0.5634, r2: 0.4627, step: 0.057s, lr: 8.60e-05\n",
      "\n",
      "EPOCH 04, 1315/1315 | loss: 0.4860, mae: 0.5334, r2: 0.5236, step: 0.288s, lr: 7.09e-05\n",
      "EPOCH VAL, 04, 0329/329 | loss: 0.5200, mae: 0.5445, r2: 0.4911, step: 0.057s, lr: 7.09e-05\n",
      "\n",
      "EPOCH 05, 1315/1315 | loss: 0.4299, mae: 0.5005, r2: 0.5798, step: 0.287s, lr: 5.31e-05\n",
      "EPOCH VAL, 05, 0329/329 | loss: 0.4892, mae: 0.5265, r2: 0.5211, step: 0.057s, lr: 5.31e-05\n",
      "\n",
      "EPOCH 06, 1315/1315 | loss: 0.3874, mae: 0.4732, r2: 0.6227, step: 0.287s, lr: 3.49e-05\n",
      "EPOCH VAL, 06, 0329/329 | loss: 0.4717, mae: 0.5143, r2: 0.5394, step: 0.057s, lr: 3.49e-05\n",
      "\n",
      "EPOCH 07, 1315/1315 | loss: 0.3524, mae: 0.4511, r2: 0.6561, step: 0.287s, lr: 1.88e-05\n",
      "EPOCH VAL, 07, 0329/329 | loss: 0.4586, mae: 0.5045, r2: 0.5527, step: 0.057s, lr: 1.88e-05\n",
      "\n",
      "EPOCH 08, 1315/1315 | loss: 0.3322, mae: 0.4372, r2: 0.6764, step: 0.287s, lr: 7.11e-06\n",
      "EPOCH VAL, 08, 0329/329 | loss: 0.4528, mae: 0.5005, r2: 0.5584, step: 0.057s, lr: 7.11e-06\n",
      "\n"
     ]
    }
   ],
   "source": [
    "if CONFIG.TRAIN_MODEL:\n",
    "    print(\"Start Training:\")\n",
    "    \n",
    "    best = float('inf')\n",
    "    for epoch in range(CONFIG.N_EPOCHS):\n",
    "        MAE.reset()\n",
    "        R2.reset()\n",
    "        LOSS.reset()\n",
    "        model.train()\n",
    "\n",
    "        for step, (X_batch, y_true) in enumerate(train_dataloader):\n",
    "            X_batch['image'] = X_batch['image'].to(device)\n",
    "            X_batch['tabular'] = X_batch['tabular'].to(device)\n",
    "            y_true = y_true.to(device)\n",
    "            t_start = time.perf_counter_ns()\n",
    "            y_pred = model(X_batch)\n",
    "            loss = LOSS_FN(y_pred, y_true)\n",
    "            LOSS.update(loss)\n",
    "            loss.backward()\n",
    "            optimizer.step()\n",
    "            optimizer.zero_grad()\n",
    "            LR_SCHEDULER.step()\n",
    "            MAE.update(y_pred, y_true)\n",
    "            R2.update(y_pred, y_true)\n",
    "\n",
    "            if not CONFIG.IS_INTERACTIVE and (step+1) == len(train_dataloader):\n",
    "                print(\n",
    "                    f'EPOCH {epoch+1:02d}, {step+1:04d}/{len(train_dataloader)} | ' + \n",
    "                    f'loss: {LOSS.avg:.4f}, mae: {MAE.compute().item():.4f}, r2: {R2.compute().item():.4f}, ' +\n",
    "                    f'step: {(time.perf_counter_ns()-t_start)*1e-9:.3f}s, lr: {LR_SCHEDULER.get_last_lr()[0]:.2e}',\n",
    "                )\n",
    "            elif CONFIG.IS_INTERACTIVE:\n",
    "                print(\n",
    "                    f'\\rEPOCH {epoch+1:02d}, {step+1:04d}/{len(train_dataloader)} | ' + \n",
    "                    f'loss: {LOSS.avg:.4f}, mae: {MAE.compute().item():.4f}, r2: {R2.compute().item():.4f}, ' +\n",
    "                    f'step: {(time.perf_counter_ns()-t_start)*1e-9:.3f}s, lr: {LR_SCHEDULER.get_last_lr()[0]:.2e}',\n",
    "                    end='\\n' if (step + 1) == CONFIG.N_STEPS_PER_EPOCH else '', flush=True,\n",
    "                )\n",
    "            \n",
    "        MAE.reset()\n",
    "        R2.reset()\n",
    "        LOSS.reset()\n",
    "        model.eval()\n",
    "        \n",
    "        for step, (X_batch, y_true) in enumerate(val_dataloader):\n",
    "            X_batch['image'] = X_batch['image'].to(device)\n",
    "            X_batch['tabular'] = X_batch['tabular'].to(device)\n",
    "            y_true = y_true.to(device)\n",
    "            t_start = time.perf_counter_ns()\n",
    "            with torch.no_grad():\n",
    "                y_pred = model(X_batch)\n",
    "                loss = LOSS_FN(y_pred, y_true)\n",
    "                \n",
    "            LOSS.update(loss)\n",
    "            MAE.update(y_pred, y_true)\n",
    "            R2.update(y_pred, y_true)\n",
    "            if not CONFIG.IS_INTERACTIVE and (step+1) == len(val_dataloader):\n",
    "                print(\n",
    "                    f'EPOCH VAL, {epoch+1:02d}, {step+1:04d}/{len(val_dataloader)} | ' + \n",
    "                    f'loss: {LOSS.avg:.4f}, mae: {MAE.compute().item():.4f}, r2: {R2.compute().item():.4f}, ' +\n",
    "                    f'step: {(time.perf_counter_ns()-t_start)*1e-9:.3f}s, lr: {LR_SCHEDULER.get_last_lr()[0]:.2e}',\n",
    "                )\n",
    "            elif CONFIG.IS_INTERACTIVE:\n",
    "                print(\n",
    "                    f'\\rEPOCH VAL {epoch+1:02d}, {step+1:04d}/{len(val_dataloader)} | ' + \n",
    "                    f'loss: {LOSS.avg:.4f}, mae: {MAE.compute().item():.4f}, r2: {R2.compute().item():.4f}, ' +\n",
    "                    f'step: {(time.perf_counter_ns()-t_start)*1e-9:.3f}s, lr: {LR_SCHEDULER.get_last_lr()[0]:.2e}',\n",
    "                    end='\\n' if (step + 1) == CONFIG.N_STEPS_PER_EPOCH else '', flush=True,\n",
    "                )\n",
    "        print()\n",
    "        if LOSS.avg < best:\n",
    "            best = LOSS.avg\n",
    "            torch.save(model, 'model.pth')\n",
    "            \n",
    "            \n",
    "else:\n",
    "    model = torch.load(CONFIG.MODEL_PATH)\n",
    "    model.to(device)"
   ]
  },
  {
   "cell_type": "code",
   "execution_count": 17,
   "id": "57b01730",
   "metadata": {
    "execution": {
     "iopub.execute_input": "2024-04-18T15:01:46.779604Z",
     "iopub.status.busy": "2024-04-18T15:01:46.779300Z",
     "iopub.status.idle": "2024-04-18T15:01:46.784115Z",
     "shell.execute_reply": "2024-04-18T15:01:46.783348Z"
    },
    "papermill": {
     "duration": 0.019361,
     "end_time": "2024-04-18T15:01:46.785908",
     "exception": false,
     "start_time": "2024-04-18T15:01:46.766547",
     "status": "completed"
    },
    "tags": []
   },
   "outputs": [],
   "source": [
    "# train_features = np.load('/kaggle/input/planttraits2024-image-features/features_train.npy')\n",
    "# test_features = np.load('/kaggle/input/planttraits2024-image-features/features_test.npy')\n",
    "\n",
    "# features_df = pd.DataFrame(train_features)\n",
    "# features_df.columns = [f'feature_{i}' for i in range(train_features.shape[1])]\n",
    "# features_df.head()\n",
    "\n",
    "# train_df = pd.concat([train.reset_index(drop=True), features_df.reset_index(drop=True)], axis=1)\n",
    "\n",
    "# features_df = pd.DataFrame(test_features)\n",
    "# features_df.columns = [f'feature_{i}' for i in range(test_features.shape[1])]\n",
    "# features_df.head()\n",
    "\n",
    "# test_df = pd.concat([test.reset_index(drop=True), features_df.reset_index(drop=True)], axis=1)"
   ]
  },
  {
   "cell_type": "code",
   "execution_count": 18,
   "id": "fa655db7",
   "metadata": {
    "execution": {
     "iopub.execute_input": "2024-04-18T15:01:46.807299Z",
     "iopub.status.busy": "2024-04-18T15:01:46.807022Z",
     "iopub.status.idle": "2024-04-18T15:01:46.810938Z",
     "shell.execute_reply": "2024-04-18T15:01:46.810105Z"
    },
    "papermill": {
     "duration": 0.016825,
     "end_time": "2024-04-18T15:01:46.812789",
     "exception": false,
     "start_time": "2024-04-18T15:01:46.795964",
     "status": "completed"
    },
    "tags": []
   },
   "outputs": [],
   "source": [
    "# do_cv = True\n",
    "\n",
    "# remove_cols = [ \n",
    "#  'X4_sd',\n",
    "#  'X11_sd',\n",
    "#  'X18_sd',\n",
    "#  'X26_sd',\n",
    "#  'X50_sd',\n",
    "#  'X3112_sd',\n",
    "#  'file_path',\n",
    "#  'jpeg_bytes'\n",
    "# ]\n",
    "\n",
    "# X_full = train_df.drop(columns=CONFIG.TARGET_COLUMNS + remove_cols)\n",
    "# Y_full = train_df[CONFIG.TARGET_COLUMNS]"
   ]
  },
  {
   "cell_type": "code",
   "execution_count": 19,
   "id": "1570f1b9",
   "metadata": {
    "execution": {
     "iopub.execute_input": "2024-04-18T15:01:46.834608Z",
     "iopub.status.busy": "2024-04-18T15:01:46.833909Z",
     "iopub.status.idle": "2024-04-18T15:01:46.838407Z",
     "shell.execute_reply": "2024-04-18T15:01:46.837579Z"
    },
    "papermill": {
     "duration": 0.017387,
     "end_time": "2024-04-18T15:01:46.840237",
     "exception": false,
     "start_time": "2024-04-18T15:01:46.822850",
     "status": "completed"
    },
    "tags": []
   },
   "outputs": [],
   "source": [
    "# class CustomDataset(Dataset):\n",
    "#     def __init__(self, X, Y):\n",
    "#         self.X = torch.tensor(X.values, dtype=torch.float32)\n",
    "#         self.Y = torch.tensor(Y.values, dtype=torch.long)\n",
    "\n",
    "#     def __len__(self):\n",
    "#         return len(self.X)\n",
    "\n",
    "#     def __getitem__(self, idx):\n",
    "#         return self.X[idx], self.Y[idx]\n",
    "    \n",
    "# class NeuralNetwork(nn.Module):\n",
    "#     def __init__(self, input_size, hidden_size, num_classes):\n",
    "#         super(NeuralNetwork, self).__init__()\n",
    "#         self.fc1 = nn.Linear(input_size, hidden_size)\n",
    "#         self.relu = nn.ReLU()\n",
    "#         self.fc2 = nn.Linear(hidden_size, num_classes)\n",
    "\n",
    "#     def forward(self, x):\n",
    "#         out = self.fc1(x)\n",
    "#         out = self.relu(out)\n",
    "#         out = self.fc2(out)\n",
    "#         return out"
   ]
  },
  {
   "cell_type": "code",
   "execution_count": 20,
   "id": "5f3f3e9d",
   "metadata": {
    "execution": {
     "iopub.execute_input": "2024-04-18T15:01:46.861675Z",
     "iopub.status.busy": "2024-04-18T15:01:46.861381Z",
     "iopub.status.idle": "2024-04-18T15:01:46.866481Z",
     "shell.execute_reply": "2024-04-18T15:01:46.865633Z"
    },
    "papermill": {
     "duration": 0.017997,
     "end_time": "2024-04-18T15:01:46.868313",
     "exception": false,
     "start_time": "2024-04-18T15:01:46.850316",
     "status": "completed"
    },
    "tags": []
   },
   "outputs": [],
   "source": [
    "# models = {}\n",
    "\n",
    "# xboost = False\n",
    "    \n",
    "# if xboost:\n",
    "#     for column in Y_full.columns:\n",
    "\n",
    "#         model = xgb.XGBRegressor(objective='reg:squarederror', n_estimators=150, learning_rate=0.1, max_depth=10)\n",
    "\n",
    "#         if do_cv:\n",
    "#             print(f\"\\nDoing cross-validation scoring for {column}...\")\n",
    "#             scores = cross_val_score(model, X_full, Y_full[column],\n",
    "#                                      cv=KFold(n_splits=3, shuffle=True, random_state=42),\n",
    "#                                      scoring='r2')        \n",
    "#             print(f\"R^2 score for {column}: {np.mean(scores)}\")\n",
    "\n",
    "#         #train model with all data\n",
    "#         print(f\"Training model for {column}...\")\n",
    "#         model.fit(X_full, Y_full[column])\n",
    "#         models[column] = model\n",
    "\n",
    "#     with open('all_models.pkl', 'wb') as file:\n",
    "#         pickle.dump(models, file)\n",
    "        \n",
    "#     # with open('all_models.pkl', 'rb') as file:\n",
    "#     # models = pickle.load(file)\n",
    "        \n",
    "# else:\n",
    "#     X_train, X_val, Y_train, Y_val = train_test_split(X_full, Y_full, test_size=0.2, random_state=42)\n",
    "\n",
    "#     # Define your datasets for train and validation\n",
    "#     train_dataset = CustomDataset(X_train, Y_train)\n",
    "#     val_dataset = CustomDataset(X_val, Y_val)\n",
    "\n",
    "#     # Define your data loaders for train and validation\n",
    "#     train_dataloader = DataLoader(train_dataset, batch_size=CONFIG.BATCH_SIZE, shuffle=True)\n",
    "#     val_dataloader = DataLoader(val_dataset, batch_size=CONFIG.BATCH_SIZE, shuffle=False)\n",
    "#     model = NeuralNetwork(1700, 512, 6)\n",
    "    \n",
    "   "
   ]
  },
  {
   "cell_type": "code",
   "execution_count": 21,
   "id": "dd9f3be8",
   "metadata": {
    "execution": {
     "iopub.execute_input": "2024-04-18T15:01:46.889817Z",
     "iopub.status.busy": "2024-04-18T15:01:46.889541Z",
     "iopub.status.idle": "2024-04-18T15:01:46.893181Z",
     "shell.execute_reply": "2024-04-18T15:01:46.892377Z"
    },
    "papermill": {
     "duration": 0.016452,
     "end_time": "2024-04-18T15:01:46.894989",
     "exception": false,
     "start_time": "2024-04-18T15:01:46.878537",
     "status": "completed"
    },
    "tags": []
   },
   "outputs": [],
   "source": [
    "# mean_values = Y_full.mean()\n",
    "# submission = pd.DataFrame({'id': test_df['id']})\n",
    "# submission[Y_full.columns] = mean_values\n",
    "\n",
    "# #rename from _mean\n",
    "# submission.columns = submission.columns.str.replace('_mean', '')\n",
    "# submission"
   ]
  },
  {
   "cell_type": "code",
   "execution_count": 22,
   "id": "67395230",
   "metadata": {
    "execution": {
     "iopub.execute_input": "2024-04-18T15:01:46.916748Z",
     "iopub.status.busy": "2024-04-18T15:01:46.916466Z",
     "iopub.status.idle": "2024-04-18T15:01:46.920485Z",
     "shell.execute_reply": "2024-04-18T15:01:46.919752Z"
    },
    "papermill": {
     "duration": 0.016981,
     "end_time": "2024-04-18T15:01:46.922288",
     "exception": false,
     "start_time": "2024-04-18T15:01:46.905307",
     "status": "completed"
    },
    "tags": []
   },
   "outputs": [],
   "source": [
    "# remove_cols = [ \n",
    "#  'file_path',\n",
    "#  'jpeg_bytes'\n",
    "# ]\n",
    "\n",
    "# X_test = test_df.drop(columns=remove_cols)\n",
    "\n",
    "# submission['X4'] = models['X4_mean'].predict(X_test)\n",
    "# submission['X11'] = models['X11_mean'].predict(X_test)\n",
    "# submission['X18'] = models['X18_mean'].predict(X_test)\n",
    "# submission['X50'] = models['X50_mean'].predict(X_test)\n",
    "# submission['X26'] = models['X26_mean'].predict(X_test)\n",
    "# submission['X3112'] = models['X3112_mean'].predict(X_test)\n",
    "\n",
    "# submission"
   ]
  },
  {
   "cell_type": "code",
   "execution_count": 23,
   "id": "6d087d2f",
   "metadata": {
    "execution": {
     "iopub.execute_input": "2024-04-18T15:01:46.944013Z",
     "iopub.status.busy": "2024-04-18T15:01:46.943754Z",
     "iopub.status.idle": "2024-04-18T15:01:46.947656Z",
     "shell.execute_reply": "2024-04-18T15:01:46.946775Z"
    },
    "papermill": {
     "duration": 0.017183,
     "end_time": "2024-04-18T15:01:46.949708",
     "exception": false,
     "start_time": "2024-04-18T15:01:46.932525",
     "status": "completed"
    },
    "tags": []
   },
   "outputs": [],
   "source": [
    "# submission.to_csv('submission.csv', index=False)"
   ]
  },
  {
   "cell_type": "code",
   "execution_count": 24,
   "id": "cb0b79c2",
   "metadata": {
    "execution": {
     "iopub.execute_input": "2024-04-18T15:01:46.971703Z",
     "iopub.status.busy": "2024-04-18T15:01:46.971221Z",
     "iopub.status.idle": "2024-04-18T15:01:47.059469Z",
     "shell.execute_reply": "2024-04-18T15:01:47.058562Z"
    },
    "papermill": {
     "duration": 0.101381,
     "end_time": "2024-04-18T15:01:47.061600",
     "exception": false,
     "start_time": "2024-04-18T15:01:46.960219",
     "status": "completed"
    },
    "tags": []
   },
   "outputs": [],
   "source": [
    "model = torch.load('/kaggle/working/model.pth')\n",
    "model.to(device);"
   ]
  },
  {
   "cell_type": "code",
   "execution_count": 25,
   "id": "b6528e80",
   "metadata": {
    "execution": {
     "iopub.execute_input": "2024-04-18T15:01:47.083583Z",
     "iopub.status.busy": "2024-04-18T15:01:47.083315Z",
     "iopub.status.idle": "2024-04-18T15:03:35.925390Z",
     "shell.execute_reply": "2024-04-18T15:03:35.924233Z"
    },
    "papermill": {
     "duration": 108.855403,
     "end_time": "2024-04-18T15:03:35.927461",
     "exception": false,
     "start_time": "2024-04-18T15:01:47.072058",
     "status": "completed"
    },
    "tags": []
   },
   "outputs": [
    {
     "data": {
      "application/vnd.jupyter.widget-view+json": {
       "model_id": "933e251a932d4063bf1dc5fe429edd6a",
       "version_major": 2,
       "version_minor": 0
      },
      "text/plain": [
       "  0%|          | 0/6545 [00:00<?, ?it/s]"
      ]
     },
     "metadata": {},
     "output_type": "display_data"
    },
    {
     "name": "stdout",
     "output_type": "stream",
     "text": [
      "Submit!\n"
     ]
    }
   ],
   "source": [
    "SUBMISSION_ROWS = []\n",
    "model.eval()\n",
    "\n",
    "for X_sample_test, test_id in tqdm(test_dataset):\n",
    "    X_sample_test['image'] = torch.Tensor(X_sample_test['image']).unsqueeze(0).to(device)\n",
    "    X_sample_test['tabular'] = torch.Tensor(X_sample_test['tabular']).unsqueeze(0).to(device)\n",
    "    with torch.no_grad():\n",
    "        y_pred = model(X_sample_test).detach().cpu().numpy()\n",
    "    \n",
    "    y_pred = SCALER.inverse_transform(y_pred).squeeze()\n",
    "    row = {'id': test_id}\n",
    "    \n",
    "    for k, v in zip(CONFIG.TARGET_COLUMNS, y_pred):\n",
    "        if k in LOG_FEATURES:\n",
    "            row[k.replace('_mean', '')] = 10 ** v\n",
    "        else:\n",
    "            row[k.replace('_mean', '')] = v\n",
    "\n",
    "    SUBMISSION_ROWS.append(row)\n",
    "    \n",
    "submission_df = pd.DataFrame(SUBMISSION_ROWS)\n",
    "submission_df.to_csv('submission.csv', index=False)\n",
    "print(\"Submit!\")"
   ]
  },
  {
   "cell_type": "code",
   "execution_count": null,
   "id": "50a7a252",
   "metadata": {
    "papermill": {
     "duration": 0.010863,
     "end_time": "2024-04-18T15:03:35.949634",
     "exception": false,
     "start_time": "2024-04-18T15:03:35.938771",
     "status": "completed"
    },
    "tags": []
   },
   "outputs": [],
   "source": []
  },
  {
   "cell_type": "code",
   "execution_count": null,
   "id": "ea07fd7f",
   "metadata": {
    "papermill": {
     "duration": 0.010552,
     "end_time": "2024-04-18T15:03:35.971074",
     "exception": false,
     "start_time": "2024-04-18T15:03:35.960522",
     "status": "completed"
    },
    "tags": []
   },
   "outputs": [],
   "source": []
  },
  {
   "cell_type": "code",
   "execution_count": null,
   "id": "b7b4227b",
   "metadata": {
    "papermill": {
     "duration": 0.010843,
     "end_time": "2024-04-18T15:03:35.992809",
     "exception": false,
     "start_time": "2024-04-18T15:03:35.981966",
     "status": "completed"
    },
    "tags": []
   },
   "outputs": [],
   "source": []
  }
 ],
 "metadata": {
  "kaggle": {
   "accelerator": "gpu",
   "dataSources": [
    {
     "databundleVersionId": 8046133,
     "sourceId": 65626,
     "sourceType": "competition"
    },
    {
     "datasetId": 4761376,
     "sourceId": 8069756,
     "sourceType": "datasetVersion"
    },
    {
     "datasetId": 4769096,
     "sourceId": 8080312,
     "sourceType": "datasetVersion"
    },
    {
     "datasetId": 4794400,
     "sourceId": 8115215,
     "sourceType": "datasetVersion"
    }
   ],
   "isGpuEnabled": true,
   "isInternetEnabled": true,
   "language": "python",
   "sourceType": "notebook"
  },
  "kernelspec": {
   "display_name": "Python 3",
   "language": "python",
   "name": "python3"
  },
  "language_info": {
   "codemirror_mode": {
    "name": "ipython",
    "version": 3
   },
   "file_extension": ".py",
   "mimetype": "text/x-python",
   "name": "python",
   "nbconvert_exporter": "python",
   "pygments_lexer": "ipython3",
   "version": "3.10.13"
  },
  "papermill": {
   "default_parameters": {},
   "duration": 3860.84362,
   "end_time": "2024-04-18T15:03:39.715426",
   "environment_variables": {},
   "exception": null,
   "input_path": "__notebook__.ipynb",
   "output_path": "__notebook__.ipynb",
   "parameters": {},
   "start_time": "2024-04-18T13:59:18.871806",
   "version": "2.5.0"
  },
  "widgets": {
   "application/vnd.jupyter.widget-state+json": {
    "state": {
     "084e0f1b3a714d808f280ddb4e33e9f3": {
      "model_module": "@jupyter-widgets/controls",
      "model_module_version": "1.5.0",
      "model_name": "ProgressStyleModel",
      "state": {
       "_model_module": "@jupyter-widgets/controls",
       "_model_module_version": "1.5.0",
       "_model_name": "ProgressStyleModel",
       "_view_count": null,
       "_view_module": "@jupyter-widgets/base",
       "_view_module_version": "1.2.0",
       "_view_name": "StyleView",
       "bar_color": null,
       "description_width": ""
      }
     },
     "321f9dd2ed194bf9afe8c49786533d80": {
      "model_module": "@jupyter-widgets/controls",
      "model_module_version": "1.5.0",
      "model_name": "DescriptionStyleModel",
      "state": {
       "_model_module": "@jupyter-widgets/controls",
       "_model_module_version": "1.5.0",
       "_model_name": "DescriptionStyleModel",
       "_view_count": null,
       "_view_module": "@jupyter-widgets/base",
       "_view_module_version": "1.2.0",
       "_view_name": "StyleView",
       "description_width": ""
      }
     },
     "507c7715cfd84344bd86ea8dcad344d0": {
      "model_module": "@jupyter-widgets/base",
      "model_module_version": "1.2.0",
      "model_name": "LayoutModel",
      "state": {
       "_model_module": "@jupyter-widgets/base",
       "_model_module_version": "1.2.0",
       "_model_name": "LayoutModel",
       "_view_count": null,
       "_view_module": "@jupyter-widgets/base",
       "_view_module_version": "1.2.0",
       "_view_name": "LayoutView",
       "align_content": null,
       "align_items": null,
       "align_self": null,
       "border": null,
       "bottom": null,
       "display": null,
       "flex": null,
       "flex_flow": null,
       "grid_area": null,
       "grid_auto_columns": null,
       "grid_auto_flow": null,
       "grid_auto_rows": null,
       "grid_column": null,
       "grid_gap": null,
       "grid_row": null,
       "grid_template_areas": null,
       "grid_template_columns": null,
       "grid_template_rows": null,
       "height": null,
       "justify_content": null,
       "justify_items": null,
       "left": null,
       "margin": null,
       "max_height": null,
       "max_width": null,
       "min_height": null,
       "min_width": null,
       "object_fit": null,
       "object_position": null,
       "order": null,
       "overflow": null,
       "overflow_x": null,
       "overflow_y": null,
       "padding": null,
       "right": null,
       "top": null,
       "visibility": null,
       "width": null
      }
     },
     "697b4cbec1164e41a9a522edf21c0d6f": {
      "model_module": "@jupyter-widgets/controls",
      "model_module_version": "1.5.0",
      "model_name": "ProgressStyleModel",
      "state": {
       "_model_module": "@jupyter-widgets/controls",
       "_model_module_version": "1.5.0",
       "_model_name": "ProgressStyleModel",
       "_view_count": null,
       "_view_module": "@jupyter-widgets/base",
       "_view_module_version": "1.2.0",
       "_view_name": "StyleView",
       "bar_color": null,
       "description_width": ""
      }
     },
     "74eab5d4400248939a600740a2644005": {
      "model_module": "@jupyter-widgets/base",
      "model_module_version": "1.2.0",
      "model_name": "LayoutModel",
      "state": {
       "_model_module": "@jupyter-widgets/base",
       "_model_module_version": "1.2.0",
       "_model_name": "LayoutModel",
       "_view_count": null,
       "_view_module": "@jupyter-widgets/base",
       "_view_module_version": "1.2.0",
       "_view_name": "LayoutView",
       "align_content": null,
       "align_items": null,
       "align_self": null,
       "border": null,
       "bottom": null,
       "display": null,
       "flex": null,
       "flex_flow": null,
       "grid_area": null,
       "grid_auto_columns": null,
       "grid_auto_flow": null,
       "grid_auto_rows": null,
       "grid_column": null,
       "grid_gap": null,
       "grid_row": null,
       "grid_template_areas": null,
       "grid_template_columns": null,
       "grid_template_rows": null,
       "height": null,
       "justify_content": null,
       "justify_items": null,
       "left": null,
       "margin": null,
       "max_height": null,
       "max_width": null,
       "min_height": null,
       "min_width": null,
       "object_fit": null,
       "object_position": null,
       "order": null,
       "overflow": null,
       "overflow_x": null,
       "overflow_y": null,
       "padding": null,
       "right": null,
       "top": null,
       "visibility": null,
       "width": null
      }
     },
     "7dc5355b4e484128b5ed00e5fc4623e4": {
      "model_module": "@jupyter-widgets/controls",
      "model_module_version": "1.5.0",
      "model_name": "HTMLModel",
      "state": {
       "_dom_classes": [],
       "_model_module": "@jupyter-widgets/controls",
       "_model_module_version": "1.5.0",
       "_model_name": "HTMLModel",
       "_view_count": null,
       "_view_module": "@jupyter-widgets/controls",
       "_view_module_version": "1.5.0",
       "_view_name": "HTMLView",
       "description": "",
       "description_tooltip": null,
       "layout": "IPY_MODEL_d91c982365ba4064931ca02b0a1e2be8",
       "placeholder": "​",
       "style": "IPY_MODEL_bb341b94e00a45ccb78657cc3c4cc225",
       "value": "model.safetensors: 100%"
      }
     },
     "869b8eeaa60047aab71167a9d3efa0b7": {
      "model_module": "@jupyter-widgets/controls",
      "model_module_version": "1.5.0",
      "model_name": "DescriptionStyleModel",
      "state": {
       "_model_module": "@jupyter-widgets/controls",
       "_model_module_version": "1.5.0",
       "_model_name": "DescriptionStyleModel",
       "_view_count": null,
       "_view_module": "@jupyter-widgets/base",
       "_view_module_version": "1.2.0",
       "_view_name": "StyleView",
       "description_width": ""
      }
     },
     "92a858730ff34868bae5067000990058": {
      "model_module": "@jupyter-widgets/base",
      "model_module_version": "1.2.0",
      "model_name": "LayoutModel",
      "state": {
       "_model_module": "@jupyter-widgets/base",
       "_model_module_version": "1.2.0",
       "_model_name": "LayoutModel",
       "_view_count": null,
       "_view_module": "@jupyter-widgets/base",
       "_view_module_version": "1.2.0",
       "_view_name": "LayoutView",
       "align_content": null,
       "align_items": null,
       "align_self": null,
       "border": null,
       "bottom": null,
       "display": null,
       "flex": null,
       "flex_flow": null,
       "grid_area": null,
       "grid_auto_columns": null,
       "grid_auto_flow": null,
       "grid_auto_rows": null,
       "grid_column": null,
       "grid_gap": null,
       "grid_row": null,
       "grid_template_areas": null,
       "grid_template_columns": null,
       "grid_template_rows": null,
       "height": null,
       "justify_content": null,
       "justify_items": null,
       "left": null,
       "margin": null,
       "max_height": null,
       "max_width": null,
       "min_height": null,
       "min_width": null,
       "object_fit": null,
       "object_position": null,
       "order": null,
       "overflow": null,
       "overflow_x": null,
       "overflow_y": null,
       "padding": null,
       "right": null,
       "top": null,
       "visibility": null,
       "width": null
      }
     },
     "933e251a932d4063bf1dc5fe429edd6a": {
      "model_module": "@jupyter-widgets/controls",
      "model_module_version": "1.5.0",
      "model_name": "HBoxModel",
      "state": {
       "_dom_classes": [],
       "_model_module": "@jupyter-widgets/controls",
       "_model_module_version": "1.5.0",
       "_model_name": "HBoxModel",
       "_view_count": null,
       "_view_module": "@jupyter-widgets/controls",
       "_view_module_version": "1.5.0",
       "_view_name": "HBoxView",
       "box_style": "",
       "children": [
        "IPY_MODEL_f541d125c6ae4a3895d422f9ed9843c7",
        "IPY_MODEL_bc30d990b871484aae0b30f470004166",
        "IPY_MODEL_fb8b528850dc4db1860beca44ad80561"
       ],
       "layout": "IPY_MODEL_faad85c0d2724cc0bbc2d07af2c906d3"
      }
     },
     "9dbe557bf55644afa55cd72333457463": {
      "model_module": "@jupyter-widgets/controls",
      "model_module_version": "1.5.0",
      "model_name": "HTMLModel",
      "state": {
       "_dom_classes": [],
       "_model_module": "@jupyter-widgets/controls",
       "_model_module_version": "1.5.0",
       "_model_name": "HTMLModel",
       "_view_count": null,
       "_view_module": "@jupyter-widgets/controls",
       "_view_module_version": "1.5.0",
       "_view_name": "HTMLView",
       "description": "",
       "description_tooltip": null,
       "layout": "IPY_MODEL_9f2f42a19e924ea28bccc3fc59e92b7a",
       "placeholder": "​",
       "style": "IPY_MODEL_fdfdf48012f94aa2bfe2cd2658f2e4c2",
       "value": " 21.4M/21.4M [00:01&lt;00:00, 20.6MB/s]"
      }
     },
     "9f2f42a19e924ea28bccc3fc59e92b7a": {
      "model_module": "@jupyter-widgets/base",
      "model_module_version": "1.2.0",
      "model_name": "LayoutModel",
      "state": {
       "_model_module": "@jupyter-widgets/base",
       "_model_module_version": "1.2.0",
       "_model_name": "LayoutModel",
       "_view_count": null,
       "_view_module": "@jupyter-widgets/base",
       "_view_module_version": "1.2.0",
       "_view_name": "LayoutView",
       "align_content": null,
       "align_items": null,
       "align_self": null,
       "border": null,
       "bottom": null,
       "display": null,
       "flex": null,
       "flex_flow": null,
       "grid_area": null,
       "grid_auto_columns": null,
       "grid_auto_flow": null,
       "grid_auto_rows": null,
       "grid_column": null,
       "grid_gap": null,
       "grid_row": null,
       "grid_template_areas": null,
       "grid_template_columns": null,
       "grid_template_rows": null,
       "height": null,
       "justify_content": null,
       "justify_items": null,
       "left": null,
       "margin": null,
       "max_height": null,
       "max_width": null,
       "min_height": null,
       "min_width": null,
       "object_fit": null,
       "object_position": null,
       "order": null,
       "overflow": null,
       "overflow_x": null,
       "overflow_y": null,
       "padding": null,
       "right": null,
       "top": null,
       "visibility": null,
       "width": null
      }
     },
     "b30674d945e24d05aecad37f83043c63": {
      "model_module": "@jupyter-widgets/base",
      "model_module_version": "1.2.0",
      "model_name": "LayoutModel",
      "state": {
       "_model_module": "@jupyter-widgets/base",
       "_model_module_version": "1.2.0",
       "_model_name": "LayoutModel",
       "_view_count": null,
       "_view_module": "@jupyter-widgets/base",
       "_view_module_version": "1.2.0",
       "_view_name": "LayoutView",
       "align_content": null,
       "align_items": null,
       "align_self": null,
       "border": null,
       "bottom": null,
       "display": null,
       "flex": null,
       "flex_flow": null,
       "grid_area": null,
       "grid_auto_columns": null,
       "grid_auto_flow": null,
       "grid_auto_rows": null,
       "grid_column": null,
       "grid_gap": null,
       "grid_row": null,
       "grid_template_areas": null,
       "grid_template_columns": null,
       "grid_template_rows": null,
       "height": null,
       "justify_content": null,
       "justify_items": null,
       "left": null,
       "margin": null,
       "max_height": null,
       "max_width": null,
       "min_height": null,
       "min_width": null,
       "object_fit": null,
       "object_position": null,
       "order": null,
       "overflow": null,
       "overflow_x": null,
       "overflow_y": null,
       "padding": null,
       "right": null,
       "top": null,
       "visibility": null,
       "width": null
      }
     },
     "bb341b94e00a45ccb78657cc3c4cc225": {
      "model_module": "@jupyter-widgets/controls",
      "model_module_version": "1.5.0",
      "model_name": "DescriptionStyleModel",
      "state": {
       "_model_module": "@jupyter-widgets/controls",
       "_model_module_version": "1.5.0",
       "_model_name": "DescriptionStyleModel",
       "_view_count": null,
       "_view_module": "@jupyter-widgets/base",
       "_view_module_version": "1.2.0",
       "_view_name": "StyleView",
       "description_width": ""
      }
     },
     "bc30d990b871484aae0b30f470004166": {
      "model_module": "@jupyter-widgets/controls",
      "model_module_version": "1.5.0",
      "model_name": "FloatProgressModel",
      "state": {
       "_dom_classes": [],
       "_model_module": "@jupyter-widgets/controls",
       "_model_module_version": "1.5.0",
       "_model_name": "FloatProgressModel",
       "_view_count": null,
       "_view_module": "@jupyter-widgets/controls",
       "_view_module_version": "1.5.0",
       "_view_name": "ProgressView",
       "bar_style": "success",
       "description": "",
       "description_tooltip": null,
       "layout": "IPY_MODEL_507c7715cfd84344bd86ea8dcad344d0",
       "max": 6545.0,
       "min": 0.0,
       "orientation": "horizontal",
       "style": "IPY_MODEL_697b4cbec1164e41a9a522edf21c0d6f",
       "value": 6545.0
      }
     },
     "d91c982365ba4064931ca02b0a1e2be8": {
      "model_module": "@jupyter-widgets/base",
      "model_module_version": "1.2.0",
      "model_name": "LayoutModel",
      "state": {
       "_model_module": "@jupyter-widgets/base",
       "_model_module_version": "1.2.0",
       "_model_name": "LayoutModel",
       "_view_count": null,
       "_view_module": "@jupyter-widgets/base",
       "_view_module_version": "1.2.0",
       "_view_name": "LayoutView",
       "align_content": null,
       "align_items": null,
       "align_self": null,
       "border": null,
       "bottom": null,
       "display": null,
       "flex": null,
       "flex_flow": null,
       "grid_area": null,
       "grid_auto_columns": null,
       "grid_auto_flow": null,
       "grid_auto_rows": null,
       "grid_column": null,
       "grid_gap": null,
       "grid_row": null,
       "grid_template_areas": null,
       "grid_template_columns": null,
       "grid_template_rows": null,
       "height": null,
       "justify_content": null,
       "justify_items": null,
       "left": null,
       "margin": null,
       "max_height": null,
       "max_width": null,
       "min_height": null,
       "min_width": null,
       "object_fit": null,
       "object_position": null,
       "order": null,
       "overflow": null,
       "overflow_x": null,
       "overflow_y": null,
       "padding": null,
       "right": null,
       "top": null,
       "visibility": null,
       "width": null
      }
     },
     "e95d8e4a9862416a99bb15a2acc645dd": {
      "model_module": "@jupyter-widgets/controls",
      "model_module_version": "1.5.0",
      "model_name": "FloatProgressModel",
      "state": {
       "_dom_classes": [],
       "_model_module": "@jupyter-widgets/controls",
       "_model_module_version": "1.5.0",
       "_model_name": "FloatProgressModel",
       "_view_count": null,
       "_view_module": "@jupyter-widgets/controls",
       "_view_module_version": "1.5.0",
       "_view_name": "ProgressView",
       "bar_style": "success",
       "description": "",
       "description_tooltip": null,
       "layout": "IPY_MODEL_74eab5d4400248939a600740a2644005",
       "max": 21355344.0,
       "min": 0.0,
       "orientation": "horizontal",
       "style": "IPY_MODEL_084e0f1b3a714d808f280ddb4e33e9f3",
       "value": 21355344.0
      }
     },
     "f3834bac36c141d49ffdc3421bd99bd1": {
      "model_module": "@jupyter-widgets/controls",
      "model_module_version": "1.5.0",
      "model_name": "HBoxModel",
      "state": {
       "_dom_classes": [],
       "_model_module": "@jupyter-widgets/controls",
       "_model_module_version": "1.5.0",
       "_model_name": "HBoxModel",
       "_view_count": null,
       "_view_module": "@jupyter-widgets/controls",
       "_view_module_version": "1.5.0",
       "_view_name": "HBoxView",
       "box_style": "",
       "children": [
        "IPY_MODEL_7dc5355b4e484128b5ed00e5fc4623e4",
        "IPY_MODEL_e95d8e4a9862416a99bb15a2acc645dd",
        "IPY_MODEL_9dbe557bf55644afa55cd72333457463"
       ],
       "layout": "IPY_MODEL_fae2066d673f41b28531642e11d5b81d"
      }
     },
     "f541d125c6ae4a3895d422f9ed9843c7": {
      "model_module": "@jupyter-widgets/controls",
      "model_module_version": "1.5.0",
      "model_name": "HTMLModel",
      "state": {
       "_dom_classes": [],
       "_model_module": "@jupyter-widgets/controls",
       "_model_module_version": "1.5.0",
       "_model_name": "HTMLModel",
       "_view_count": null,
       "_view_module": "@jupyter-widgets/controls",
       "_view_module_version": "1.5.0",
       "_view_name": "HTMLView",
       "description": "",
       "description_tooltip": null,
       "layout": "IPY_MODEL_92a858730ff34868bae5067000990058",
       "placeholder": "​",
       "style": "IPY_MODEL_869b8eeaa60047aab71167a9d3efa0b7",
       "value": "100%"
      }
     },
     "faad85c0d2724cc0bbc2d07af2c906d3": {
      "model_module": "@jupyter-widgets/base",
      "model_module_version": "1.2.0",
      "model_name": "LayoutModel",
      "state": {
       "_model_module": "@jupyter-widgets/base",
       "_model_module_version": "1.2.0",
       "_model_name": "LayoutModel",
       "_view_count": null,
       "_view_module": "@jupyter-widgets/base",
       "_view_module_version": "1.2.0",
       "_view_name": "LayoutView",
       "align_content": null,
       "align_items": null,
       "align_self": null,
       "border": null,
       "bottom": null,
       "display": null,
       "flex": null,
       "flex_flow": null,
       "grid_area": null,
       "grid_auto_columns": null,
       "grid_auto_flow": null,
       "grid_auto_rows": null,
       "grid_column": null,
       "grid_gap": null,
       "grid_row": null,
       "grid_template_areas": null,
       "grid_template_columns": null,
       "grid_template_rows": null,
       "height": null,
       "justify_content": null,
       "justify_items": null,
       "left": null,
       "margin": null,
       "max_height": null,
       "max_width": null,
       "min_height": null,
       "min_width": null,
       "object_fit": null,
       "object_position": null,
       "order": null,
       "overflow": null,
       "overflow_x": null,
       "overflow_y": null,
       "padding": null,
       "right": null,
       "top": null,
       "visibility": null,
       "width": null
      }
     },
     "fae2066d673f41b28531642e11d5b81d": {
      "model_module": "@jupyter-widgets/base",
      "model_module_version": "1.2.0",
      "model_name": "LayoutModel",
      "state": {
       "_model_module": "@jupyter-widgets/base",
       "_model_module_version": "1.2.0",
       "_model_name": "LayoutModel",
       "_view_count": null,
       "_view_module": "@jupyter-widgets/base",
       "_view_module_version": "1.2.0",
       "_view_name": "LayoutView",
       "align_content": null,
       "align_items": null,
       "align_self": null,
       "border": null,
       "bottom": null,
       "display": null,
       "flex": null,
       "flex_flow": null,
       "grid_area": null,
       "grid_auto_columns": null,
       "grid_auto_flow": null,
       "grid_auto_rows": null,
       "grid_column": null,
       "grid_gap": null,
       "grid_row": null,
       "grid_template_areas": null,
       "grid_template_columns": null,
       "grid_template_rows": null,
       "height": null,
       "justify_content": null,
       "justify_items": null,
       "left": null,
       "margin": null,
       "max_height": null,
       "max_width": null,
       "min_height": null,
       "min_width": null,
       "object_fit": null,
       "object_position": null,
       "order": null,
       "overflow": null,
       "overflow_x": null,
       "overflow_y": null,
       "padding": null,
       "right": null,
       "top": null,
       "visibility": null,
       "width": null
      }
     },
     "fb8b528850dc4db1860beca44ad80561": {
      "model_module": "@jupyter-widgets/controls",
      "model_module_version": "1.5.0",
      "model_name": "HTMLModel",
      "state": {
       "_dom_classes": [],
       "_model_module": "@jupyter-widgets/controls",
       "_model_module_version": "1.5.0",
       "_model_name": "HTMLModel",
       "_view_count": null,
       "_view_module": "@jupyter-widgets/controls",
       "_view_module_version": "1.5.0",
       "_view_name": "HTMLView",
       "description": "",
       "description_tooltip": null,
       "layout": "IPY_MODEL_b30674d945e24d05aecad37f83043c63",
       "placeholder": "​",
       "style": "IPY_MODEL_321f9dd2ed194bf9afe8c49786533d80",
       "value": " 6545/6545 [01:48&lt;00:00, 61.37it/s]"
      }
     },
     "fdfdf48012f94aa2bfe2cd2658f2e4c2": {
      "model_module": "@jupyter-widgets/controls",
      "model_module_version": "1.5.0",
      "model_name": "DescriptionStyleModel",
      "state": {
       "_model_module": "@jupyter-widgets/controls",
       "_model_module_version": "1.5.0",
       "_model_name": "DescriptionStyleModel",
       "_view_count": null,
       "_view_module": "@jupyter-widgets/base",
       "_view_module_version": "1.2.0",
       "_view_name": "StyleView",
       "description_width": ""
      }
     }
    },
    "version_major": 2,
    "version_minor": 0
   }
  }
 },
 "nbformat": 4,
 "nbformat_minor": 5
}
