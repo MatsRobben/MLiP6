{
 "cells": [
  {
   "cell_type": "markdown",
   "id": "15b80bd4",
   "metadata": {
    "papermill": {
     "duration": 0.009385,
     "end_time": "2024-04-20T14:30:15.468233",
     "exception": false,
     "start_time": "2024-04-20T14:30:15.458848",
     "status": "completed"
    },
    "tags": []
   },
   "source": [
    "- Notebook modified from https://www.kaggle.com/code/markwijkhuizen/planttraits2024-eda-training-pub.\n",
    "- Training only, EDA part not included.\n",
    "- Image model only, tabular data not used."
   ]
  },
  {
   "cell_type": "markdown",
   "id": "486ef036",
   "metadata": {
    "papermill": {
     "duration": 0.009367,
     "end_time": "2024-04-20T14:30:15.486347",
     "exception": false,
     "start_time": "2024-04-20T14:30:15.476980",
     "status": "completed"
    },
    "tags": []
   },
   "source": [
    "## Import Libraries "
   ]
  },
  {
   "cell_type": "code",
   "execution_count": 1,
   "id": "0cd801a5",
   "metadata": {
    "execution": {
     "iopub.execute_input": "2024-04-20T14:30:15.504813Z",
     "iopub.status.busy": "2024-04-20T14:30:15.504413Z",
     "iopub.status.idle": "2024-04-20T14:30:29.685710Z",
     "shell.execute_reply": "2024-04-20T14:30:29.684580Z"
    },
    "papermill": {
     "duration": 14.193664,
     "end_time": "2024-04-20T14:30:29.688338",
     "exception": false,
     "start_time": "2024-04-20T14:30:15.494674",
     "status": "completed"
    },
    "tags": []
   },
   "outputs": [],
   "source": [
    "import numpy as np\n",
    "import pandas as pd\n",
    "import matplotlib.pyplot as plt\n",
    "import imageio.v3 as imageio\n",
    "import albumentations as A\n",
    "\n",
    "from albumentations.pytorch import ToTensorV2\n",
    "from torch.utils.data import Dataset, DataLoader\n",
    "from torch import nn\n",
    "from tqdm.notebook import tqdm\n",
    "from sklearn.preprocessing import StandardScaler\n",
    "from sklearn.model_selection import train_test_split, KFold, cross_val_score\n",
    "\n",
    "import xgboost as xgb\n",
    "\n",
    "import torch\n",
    "import timm\n",
    "import glob\n",
    "import torchmetrics\n",
    "import time\n",
    "import psutil\n",
    "import os\n",
    "import time\n",
    "import pickle\n",
    "\n",
    "tqdm.pandas()\n",
    "device = torch.device(\"cuda:0\" if torch.cuda.is_available() else \"cpu\")"
   ]
  },
  {
   "cell_type": "code",
   "execution_count": 2,
   "id": "48ddc226",
   "metadata": {
    "execution": {
     "iopub.execute_input": "2024-04-20T14:30:29.707601Z",
     "iopub.status.busy": "2024-04-20T14:30:29.706830Z",
     "iopub.status.idle": "2024-04-20T14:30:29.713238Z",
     "shell.execute_reply": "2024-04-20T14:30:29.712207Z"
    },
    "papermill": {
     "duration": 0.01822,
     "end_time": "2024-04-20T14:30:29.715396",
     "exception": false,
     "start_time": "2024-04-20T14:30:29.697176",
     "status": "completed"
    },
    "tags": []
   },
   "outputs": [],
   "source": [
    "class Config():\n",
    "    IMAGE_SIZE = 384\n",
    "#     BACKBONE = 'swin_large_patch4_window12_384.ms_in22k_ft_in1k'\n",
    "    BACKBONE = 'tf_efficientnet_b0'\n",
    "    TARGET_COLUMNS = ['X4_mean', 'X11_mean', 'X18_mean', 'X50_mean', 'X26_mean', 'X3112_mean']\n",
    "    \n",
    "    N_TARGETS = len(TARGET_COLUMNS)\n",
    "    BATCH_SIZE = 32\n",
    "    LR_MAX = 1e-4\n",
    "    WEIGHT_DECAY = 0.01\n",
    "    N_EPOCHS = 8\n",
    "    TRAIN_MODEL = True\n",
    "    IS_INTERACTIVE = os.environ['KAGGLE_KERNEL_RUN_TYPE'] == 'Interactive'\n",
    "    \n",
    "#     MODEL_PATH = '/kaggle/input/plainttraits2024-swintransformer/model.pth'\n",
    "    MODEL_PATH = '/kaggle/input/planttraits2024-swintransformer-tabular/model.pth'\n",
    "        \n",
    "CONFIG = Config()"
   ]
  },
  {
   "cell_type": "markdown",
   "id": "95915a92",
   "metadata": {
    "papermill": {
     "duration": 0.007946,
     "end_time": "2024-04-20T14:30:29.731916",
     "exception": false,
     "start_time": "2024-04-20T14:30:29.723970",
     "status": "completed"
    },
    "tags": []
   },
   "source": [
    "## Load Data"
   ]
  },
  {
   "cell_type": "code",
   "execution_count": 3,
   "id": "996b52ab",
   "metadata": {
    "execution": {
     "iopub.execute_input": "2024-04-20T14:30:29.749640Z",
     "iopub.status.busy": "2024-04-20T14:30:29.749230Z",
     "iopub.status.idle": "2024-04-20T14:31:05.504248Z",
     "shell.execute_reply": "2024-04-20T14:31:05.503194Z"
    },
    "papermill": {
     "duration": 35.775115,
     "end_time": "2024-04-20T14:31:05.514812",
     "exception": false,
     "start_time": "2024-04-20T14:30:29.739697",
     "status": "completed"
    },
    "tags": []
   },
   "outputs": [
    {
     "name": "stdout",
     "output_type": "stream",
     "text": [
      "N_TRAIN_SAMPLES: 49168 N_TEST_SAMPLES: 6545\n",
      "CPU times: user 2.08 s, sys: 3.18 s, total: 5.26 s\n",
      "Wall time: 35.7 s\n"
     ]
    }
   ],
   "source": [
    "%%time\n",
    "read_images = False\n",
    "\n",
    "if not read_images:\n",
    "    train = pd.read_pickle('/kaggle/input/plainttraits2024-swintransformer/train.pkl')\n",
    "    test = pd.read_pickle('/kaggle/input/plainttraits2024-swintransformer/test.pkl')\n",
    "else: \n",
    "    # if CONFIG.TRAIN_MODEL:\n",
    "    train = pd.read_csv('/kaggle/input/planttraits2024/train.csv')\n",
    "    train['file_path'] = train['id'].apply(lambda s: f'/kaggle/input/planttraits2024/train_images/{s}.jpeg')\n",
    "    train['jpeg_bytes'] = train['file_path'].progress_apply(lambda fp: open(fp, 'rb').read())\n",
    "    train.to_pickle('train.pkl')\n",
    "\n",
    "    test = pd.read_csv('/kaggle/input/planttraits2024/test.csv')\n",
    "    test['file_path'] = test['id'].apply(lambda s: f'/kaggle/input/planttraits2024/test_images/{s}.jpeg')\n",
    "    test['jpeg_bytes'] = test['file_path'].progress_apply(lambda fp: open(fp, 'rb').read())\n",
    "    test.to_pickle('test.pkl')\n",
    "\n",
    "for column in CONFIG.TARGET_COLUMNS:\n",
    "    lower_quantile = train[column].quantile(0.005)\n",
    "    upper_quantile = train[column].quantile(0.985)  \n",
    "    train = train[(train[column] >= lower_quantile) & (train[column] <= upper_quantile)]    \n",
    "    \n",
    "sd_columns = [col for col in train.columns if col.endswith('_sd')]\n",
    "train = train.drop(columns=sd_columns)\n",
    "    \n",
    "CONFIG.N_TRAIN_SAMPLES = len(train)\n",
    "CONFIG.N_STEPS_PER_EPOCH = (CONFIG.N_TRAIN_SAMPLES // CONFIG.BATCH_SIZE)\n",
    "CONFIG.N_STEPS = CONFIG.N_STEPS_PER_EPOCH * CONFIG.N_EPOCHS + 1    \n",
    "CONFIG.TABULAR_COLUMNS = train.filter(regex='^(WORLDCLIM_BIO|SOIL|MODIS_2000|VOD)').columns\n",
    "    \n",
    "if CONFIG.TRAIN_MODEL:\n",
    "    print('N_TRAIN_SAMPLES:', len(train), 'N_TEST_SAMPLES:', len(test))\n",
    "else:\n",
    "    print('N_TEST_SAMPLES:', len(test))"
   ]
  },
  {
   "cell_type": "code",
   "execution_count": 4,
   "id": "3d7aebd3",
   "metadata": {
    "execution": {
     "iopub.execute_input": "2024-04-20T14:31:05.532899Z",
     "iopub.status.busy": "2024-04-20T14:31:05.532034Z",
     "iopub.status.idle": "2024-04-20T14:31:05.556862Z",
     "shell.execute_reply": "2024-04-20T14:31:05.555762Z"
    },
    "papermill": {
     "duration": 0.036254,
     "end_time": "2024-04-20T14:31:05.559232",
     "exception": false,
     "start_time": "2024-04-20T14:31:05.522978",
     "status": "completed"
    },
    "tags": []
   },
   "outputs": [],
   "source": [
    "# if CONFIG.TRAIN_MODEL:\n",
    "LOG_FEATURES = ['X4_mean', 'X11_mean', 'X18_mean', 'X50_mean', 'X26_mean', 'X3112_mean']\n",
    "\n",
    "y_df = np.zeros_like(train[CONFIG.TARGET_COLUMNS], dtype=np.float32)\n",
    "for target_idx, target in enumerate(CONFIG.TARGET_COLUMNS):\n",
    "    v = train[target].values\n",
    "    if target in LOG_FEATURES:\n",
    "        v = np.log10(v)\n",
    "    y_df[:, target_idx] = v\n",
    "\n",
    "SCALER = StandardScaler()\n",
    "y_df = SCALER.fit_transform(y_df)"
   ]
  },
  {
   "cell_type": "code",
   "execution_count": 5,
   "id": "6de89acf",
   "metadata": {
    "execution": {
     "iopub.execute_input": "2024-04-20T14:31:05.578146Z",
     "iopub.status.busy": "2024-04-20T14:31:05.577771Z",
     "iopub.status.idle": "2024-04-20T14:31:05.648095Z",
     "shell.execute_reply": "2024-04-20T14:31:05.647068Z"
    },
    "papermill": {
     "duration": 0.083164,
     "end_time": "2024-04-20T14:31:05.650905",
     "exception": false,
     "start_time": "2024-04-20T14:31:05.567741",
     "status": "completed"
    },
    "tags": []
   },
   "outputs": [],
   "source": [
    "# Splitting the data into training and validation sets\n",
    "train_df, val_df, y_train, y_val = train_test_split(train, y_df, test_size=0.2, random_state=42)"
   ]
  },
  {
   "cell_type": "code",
   "execution_count": 6,
   "id": "1e3a0fc2",
   "metadata": {
    "execution": {
     "iopub.execute_input": "2024-04-20T14:31:05.670111Z",
     "iopub.status.busy": "2024-04-20T14:31:05.668884Z",
     "iopub.status.idle": "2024-04-20T14:31:05.875960Z",
     "shell.execute_reply": "2024-04-20T14:31:05.875042Z"
    },
    "papermill": {
     "duration": 0.219433,
     "end_time": "2024-04-20T14:31:05.878573",
     "exception": false,
     "start_time": "2024-04-20T14:31:05.659140",
     "status": "completed"
    },
    "tags": []
   },
   "outputs": [],
   "source": [
    "# if CONFIG.TRAIN_MODEL:\n",
    "# LOG_FEATURES_TABULAR = [30, 31, 32, 33, 34, 35, 37, 41, 62, 63, 64, 65, 66, 67, 69, 70, 72, 74, 75, 77, 79, 80, 82, 84, 85, 87, 89, 90, 92, 94, 95, 97, 99, 100, 102, 104, 105, 107, 109, 110, 112, 114, 115, 117, 119, 120, 122, 124, 125]\n",
    "# LOG_FEATURES_TABULAR = []\n",
    "\n",
    "# tabular_df_train = np.zeros_like(train_df[CONFIG.TABULAR_COLUMNS], dtype=np.float64)\n",
    "# tabular_df_val = np.zeros_like(val_df[CONFIG.TABULAR_COLUMNS], dtype=np.float64)\n",
    "# tabular_df_test = np.zeros_like(test[CONFIG.TABULAR_COLUMNS], dtype=np.float64)\n",
    "\n",
    "# for tabular_df, df in zip([tabular_df_train, tabular_df_val, tabular_df_test], [train_df, val_df, test]):\n",
    "#     for col_idx, col in enumerate(CONFIG.TABULAR_COLUMNS):\n",
    "#         v = df[col].values\n",
    "#         if col_idx in LOG_FEATURES_TABULAR:\n",
    "#             v = np.log10(v)\n",
    "#         tabular_df[:, col_idx] = v \n",
    "\n",
    "SCALER_tabular = StandardScaler()\n",
    "tabular_df_train = SCALER_tabular.fit_transform(train_df[CONFIG.TABULAR_COLUMNS])\n",
    "tabular_df_val = SCALER_tabular.transform(val_df[CONFIG.TABULAR_COLUMNS])\n",
    "tabular_df_test = SCALER_tabular.fit_transform(test[CONFIG.TABULAR_COLUMNS])"
   ]
  },
  {
   "cell_type": "code",
   "execution_count": 7,
   "id": "b01faf2b",
   "metadata": {
    "execution": {
     "iopub.execute_input": "2024-04-20T14:31:05.898875Z",
     "iopub.status.busy": "2024-04-20T14:31:05.898043Z",
     "iopub.status.idle": "2024-04-20T14:31:05.902863Z",
     "shell.execute_reply": "2024-04-20T14:31:05.901858Z"
    },
    "papermill": {
     "duration": 0.017463,
     "end_time": "2024-04-20T14:31:05.905203",
     "exception": false,
     "start_time": "2024-04-20T14:31:05.887740",
     "status": "completed"
    },
    "tags": []
   },
   "outputs": [],
   "source": [
    "# for i, col in enumerate(CONFIG.TABULAR_COLUMNS):\n",
    "#     print(i, col)\n",
    "#     train[col].plot.hist(bins=12, alpha=0.5)\n",
    "#     plt.show()\n",
    "#     plt.hist(tabular_df_train[i], bins=12)\n",
    "#     plt.show()"
   ]
  },
  {
   "cell_type": "code",
   "execution_count": 8,
   "id": "69f3c677",
   "metadata": {
    "execution": {
     "iopub.execute_input": "2024-04-20T14:31:05.925580Z",
     "iopub.status.busy": "2024-04-20T14:31:05.924950Z",
     "iopub.status.idle": "2024-04-20T14:31:05.943328Z",
     "shell.execute_reply": "2024-04-20T14:31:05.942222Z"
    },
    "papermill": {
     "duration": 0.031026,
     "end_time": "2024-04-20T14:31:05.945568",
     "exception": false,
     "start_time": "2024-04-20T14:31:05.914542",
     "status": "completed"
    },
    "tags": []
   },
   "outputs": [],
   "source": [
    "MEAN = np.array([0.485, 0.456, 0.406])\n",
    "STD = np.array([0.229, 0.224, 0.225])\n",
    "\n",
    "TRAIN_TRANSFORMS = A.Compose([\n",
    "        A.HorizontalFlip(p=0.5),\n",
    "        A.ShiftScaleRotate(shift_limit=0.0625, scale_limit=0.2, rotate_limit=45, p=0.4),\n",
    "        A.RandomSizedCrop(\n",
    "            [int(0.85*CONFIG.IMAGE_SIZE), CONFIG.IMAGE_SIZE],\n",
    "            CONFIG.IMAGE_SIZE, CONFIG.IMAGE_SIZE, w2h_ratio=1.0, p=0.75),\n",
    "        A.Resize(CONFIG.IMAGE_SIZE, CONFIG.IMAGE_SIZE),\n",
    "        A.RandomBrightnessContrast(brightness_limit=0.1, contrast_limit=0.1, p=0.25),\n",
    "        A.HueSaturationValue(p=0.3),\n",
    "        A.ImageCompression(quality_lower=85, quality_upper=100, p=0.25),\n",
    "        A.ToFloat(),\n",
    "        A.Normalize(mean=MEAN, std=STD, max_pixel_value=1),\n",
    "        ToTensorV2(),\n",
    "    ])\n",
    "\n",
    "TEST_TRANSFORMS = A.Compose([\n",
    "        A.Resize(CONFIG.IMAGE_SIZE, CONFIG.IMAGE_SIZE),\n",
    "        A.ToFloat(),\n",
    "        A.Normalize(mean=MEAN, std=STD, max_pixel_value=1),\n",
    "        ToTensorV2(),\n",
    "    ])\n",
    "\n",
    "class Dataset(Dataset):\n",
    "    def __init__(self, X_jpeg_bytes, X_tabular, y, transforms=None):\n",
    "        self.X_jpeg_bytes = X_jpeg_bytes\n",
    "        self.X_tabular = X_tabular\n",
    "        self.y = y\n",
    "        self.transforms = transforms\n",
    "\n",
    "    def __len__(self):\n",
    "        return len(self.X_jpeg_bytes)\n",
    "\n",
    "    def __getitem__(self, index):\n",
    "        X_sample = self.transforms(\n",
    "            image=imageio.imread(self.X_jpeg_bytes[index]),\n",
    "        )\n",
    "        X_sample['tabular'] = self.X_tabular[index].astype('float32')\n",
    "        y_sample = self.y[index]\n",
    "        \n",
    "        return X_sample, y_sample\n",
    "\n",
    "if CONFIG.TRAIN_MODEL:\n",
    "    # Creating datasets for training and validation\n",
    "    train_dataset = Dataset(\n",
    "        train_df['jpeg_bytes'].values,\n",
    "        tabular_df_train,\n",
    "        y_train,\n",
    "        TRAIN_TRANSFORMS,\n",
    "    )\n",
    "\n",
    "    val_dataset = Dataset(\n",
    "        val_df['jpeg_bytes'].values,\n",
    "        tabular_df_val,\n",
    "        y_val,\n",
    "        TEST_TRANSFORMS,\n",
    "    )\n",
    "\n",
    "    # Creating dataloaders for training and validation\n",
    "    train_dataloader = DataLoader(\n",
    "        train_dataset,\n",
    "        batch_size=CONFIG.BATCH_SIZE,\n",
    "        shuffle=True,\n",
    "        drop_last=True,\n",
    "        num_workers=psutil.cpu_count(),\n",
    "    )\n",
    "\n",
    "    val_dataloader = DataLoader(\n",
    "        val_dataset,\n",
    "        batch_size=CONFIG.BATCH_SIZE,\n",
    "        shuffle=False,  # No need to shuffle validation data\n",
    "        num_workers=psutil.cpu_count(),\n",
    "    )\n",
    "\n",
    "\n",
    "\n",
    "test_dataset = Dataset(\n",
    "    test['jpeg_bytes'].values,\n",
    "    tabular_df_test,\n",
    "    test['id'].values,\n",
    "    TEST_TRANSFORMS,\n",
    ")"
   ]
  },
  {
   "cell_type": "code",
   "execution_count": 9,
   "id": "efbecb35",
   "metadata": {
    "execution": {
     "iopub.execute_input": "2024-04-20T14:31:05.965435Z",
     "iopub.status.busy": "2024-04-20T14:31:05.965004Z",
     "iopub.status.idle": "2024-04-20T14:31:06.731229Z",
     "shell.execute_reply": "2024-04-20T14:31:06.730410Z"
    },
    "papermill": {
     "duration": 0.779205,
     "end_time": "2024-04-20T14:31:06.733745",
     "exception": false,
     "start_time": "2024-04-20T14:31:05.954540",
     "status": "completed"
    },
    "tags": []
   },
   "outputs": [
    {
     "data": {
      "application/vnd.jupyter.widget-view+json": {
       "model_id": "ed56554cfe0e4edbab6da147e8dc2c2d",
       "version_major": 2,
       "version_minor": 0
      },
      "text/plain": [
       "model.safetensors:   0%|          | 0.00/21.4M [00:00<?, ?B/s]"
      ]
     },
     "metadata": {},
     "output_type": "display_data"
    }
   ],
   "source": [
    "class Model(nn.Module):\n",
    "    def __init__(self):\n",
    "        super().__init__()\n",
    "        self.backbone = timm.create_model(\n",
    "                CONFIG.BACKBONE,\n",
    "                pretrained=True,\n",
    "#                 num_classes=CONFIG.N_TARGETS,\n",
    "                num_classes=0,\n",
    "        )\n",
    "        \n",
    "        # Freeze the backbone weights\n",
    "#         for param in self.backbone.parameters():\n",
    "#             param.requires_grad = False\n",
    "        \n",
    "        # EfficientNet = 1280, SwinTrans = 1536, Tabular = 163\n",
    "        self.custom_layers = nn.Sequential(\n",
    "            nn.Linear(1280+163, 512),\n",
    "            nn.ReLU(), \n",
    "            nn.Linear(512, 6)  \n",
    "        )\n",
    "        \n",
    "    def forward(self, inputs):\n",
    "        image = inputs['image']\n",
    "        tabular = inputs['tabular']\n",
    "\n",
    "        x = self.backbone(image)\n",
    "        x = torch.cat((tabular, x), dim=1)\n",
    "        x = self.custom_layers(x)\n",
    "        \n",
    "        return x\n",
    "\n",
    "\n",
    "model = Model()\n",
    "model = model.to(device)\n",
    "# print(model.backbone.head)"
   ]
  },
  {
   "cell_type": "code",
   "execution_count": 10,
   "id": "43f438a0",
   "metadata": {
    "execution": {
     "iopub.execute_input": "2024-04-20T14:31:06.753043Z",
     "iopub.status.busy": "2024-04-20T14:31:06.752656Z",
     "iopub.status.idle": "2024-04-20T14:31:06.763265Z",
     "shell.execute_reply": "2024-04-20T14:31:06.762306Z"
    },
    "papermill": {
     "duration": 0.023372,
     "end_time": "2024-04-20T14:31:06.765472",
     "exception": false,
     "start_time": "2024-04-20T14:31:06.742100",
     "status": "completed"
    },
    "tags": []
   },
   "outputs": [],
   "source": [
    "create_features = False\n",
    "\n",
    "if create_features:\n",
    "    feature_model = torch.load(CONFIG.MODEL_PATH)\n",
    "    feature_model.backbone.head.fc = nn.Identity()\n",
    "    feature_model.to(device);\n",
    "\n",
    "#     dataset = Dataset(\n",
    "#         train['jpeg_bytes'].values,\n",
    "#         y_df,\n",
    "#         TEST_TRANSFORMS,\n",
    "#     )\n",
    "    dataset = test_dataset\n",
    "\n",
    "    # Create a DataLoader for the dataset\n",
    "    dataloader = DataLoader(dataset, batch_size=CONFIG.BATCH_SIZE, shuffle=False)\n",
    "\n",
    "    # Define the shape of the features array\n",
    "    num_samples = len(dataset)\n",
    "    num_features = 1536\n",
    "\n",
    "    # Initialize an empty array filled with zeros to store features\n",
    "    features_array = np.zeros((num_samples, num_features), dtype=np.float32)\n",
    "\n",
    "    # Set the model to evaluation mode\n",
    "    model.eval()\n",
    "\n",
    "    # Initialize the index counter\n",
    "    index = 0\n",
    "\n",
    "    # Iterate over the data loader batches\n",
    "    for batch in dataloader:\n",
    "        if index % 10 == 0:\n",
    "            print(index, end=', ')\n",
    "\n",
    "        # Extract inputs and labels from the batch\n",
    "        inputs, _ = batch\n",
    "        inputs = inputs.to(device)\n",
    "\n",
    "        # Forward pass through the model to extract features\n",
    "        with torch.no_grad():\n",
    "            features = feature_model(inputs)\n",
    "\n",
    "        # Flatten the features\n",
    "        features = features.view(features.size(0), -1)\n",
    "\n",
    "        # Calculate the end index for the current batch\n",
    "        end_index = index + inputs.size(0)\n",
    "\n",
    "        # Assign features to the pre-allocated array\n",
    "        features_array[index:end_index] = features.cpu().numpy()\n",
    "\n",
    "        # Update the index counter\n",
    "        index = end_index\n",
    "\n",
    "    # Save the features as a NumPy array\n",
    "    np.save('features_test.npy', features_array)\n",
    "    \n"
   ]
  },
  {
   "cell_type": "code",
   "execution_count": 11,
   "id": "2151eca0",
   "metadata": {
    "execution": {
     "iopub.execute_input": "2024-04-20T14:31:06.784300Z",
     "iopub.status.busy": "2024-04-20T14:31:06.783923Z",
     "iopub.status.idle": "2024-04-20T14:31:06.788325Z",
     "shell.execute_reply": "2024-04-20T14:31:06.787381Z"
    },
    "papermill": {
     "duration": 0.016161,
     "end_time": "2024-04-20T14:31:06.790346",
     "exception": false,
     "start_time": "2024-04-20T14:31:06.774185",
     "status": "completed"
    },
    "tags": []
   },
   "outputs": [],
   "source": [
    "# def count_parameters(model):\n",
    "#     return sum(p.numel() for p in model.parameters() if p.requires_grad)\n",
    "\n",
    "# # Count parameters\n",
    "# num_parameters = count_parameters(model)\n",
    "# print(\"Number of parameters in the model:\", num_parameters)"
   ]
  },
  {
   "cell_type": "code",
   "execution_count": 12,
   "id": "e97f50ef",
   "metadata": {
    "execution": {
     "iopub.execute_input": "2024-04-20T14:31:06.809352Z",
     "iopub.status.busy": "2024-04-20T14:31:06.808940Z",
     "iopub.status.idle": "2024-04-20T14:31:06.842385Z",
     "shell.execute_reply": "2024-04-20T14:31:06.841503Z"
    },
    "papermill": {
     "duration": 0.046276,
     "end_time": "2024-04-20T14:31:06.845010",
     "exception": false,
     "start_time": "2024-04-20T14:31:06.798734",
     "status": "completed"
    },
    "tags": []
   },
   "outputs": [],
   "source": [
    "def get_lr_scheduler(optimizer):\n",
    "    return torch.optim.lr_scheduler.OneCycleLR(\n",
    "        optimizer=optimizer,\n",
    "        max_lr=CONFIG.LR_MAX,\n",
    "        total_steps=CONFIG.N_STEPS,\n",
    "        pct_start=0.1,\n",
    "        anneal_strategy='cos',\n",
    "        div_factor=1e1,\n",
    "        final_div_factor=1e1,\n",
    "    )\n",
    "\n",
    "class AverageMeter(object):\n",
    "    def __init__(self):\n",
    "        self.reset()\n",
    "\n",
    "    def reset(self):\n",
    "        self.avg = 0\n",
    "        self.sum = 0\n",
    "        self.count = 0\n",
    "\n",
    "    def update(self, val):\n",
    "        self.sum += val.sum()\n",
    "        self.count += val.numel()\n",
    "        self.avg = self.sum / self.count\n",
    "\n",
    "if CONFIG.TRAIN_MODEL:\n",
    "    MAE = torchmetrics.regression.MeanAbsoluteError().to(device)\n",
    "    R2 = torchmetrics.regression.R2Score(num_outputs=CONFIG.N_TARGETS, multioutput='uniform_average').to(device)\n",
    "    LOSS = AverageMeter()\n",
    "\n",
    "    Y_MEAN = torch.tensor(y_df).mean(dim=0).to(device)\n",
    "    EPS = torch.tensor([1e-6]).to(device)\n",
    "\n",
    "    def r2_loss(y_pred, y_true):\n",
    "        ss_res = torch.sum((y_true - y_pred)**2, dim=0)\n",
    "        ss_total = torch.sum((y_true - Y_MEAN)**2, dim=0)\n",
    "        ss_total = torch.maximum(ss_total, EPS)\n",
    "        r2 = torch.mean(ss_res / ss_total)\n",
    "        return r2\n",
    "\n",
    "    LOSS_FN = r2_loss\n",
    "\n",
    "    optimizer = torch.optim.AdamW(\n",
    "        params=model.parameters(),\n",
    "        lr=CONFIG.LR_MAX,\n",
    "        weight_decay=CONFIG.WEIGHT_DECAY,\n",
    "    )\n",
    "\n",
    "    LR_SCHEDULER = get_lr_scheduler(optimizer)"
   ]
  },
  {
   "cell_type": "code",
   "execution_count": 13,
   "id": "dd7cc5a2",
   "metadata": {
    "execution": {
     "iopub.execute_input": "2024-04-20T14:31:06.864480Z",
     "iopub.status.busy": "2024-04-20T14:31:06.863593Z",
     "iopub.status.idle": "2024-04-20T15:29:51.866573Z",
     "shell.execute_reply": "2024-04-20T15:29:51.865405Z"
    },
    "papermill": {
     "duration": 3525.015213,
     "end_time": "2024-04-20T15:29:51.868865",
     "exception": false,
     "start_time": "2024-04-20T14:31:06.853652",
     "status": "completed"
    },
    "tags": []
   },
   "outputs": [
    {
     "name": "stdout",
     "output_type": "stream",
     "text": [
      "Start Training:\n",
      "EPOCH 01, 1229/1229 | loss: 0.7687, mae: 0.6887, r2: 0.2370, step: 0.874s, lr: 1.00e-04\n",
      "EPOCH VAL, 01, 0308/308 | loss: 0.6640, mae: 0.6308, r2: 0.3456, step: 0.117s, lr: 1.00e-04\n",
      "\n",
      "EPOCH 02, 1229/1229 | loss: 0.6432, mae: 0.6204, r2: 0.3655, step: 0.288s, lr: 9.70e-05\n",
      "EPOCH VAL, 02, 0308/308 | loss: 0.6216, mae: 0.6042, r2: 0.3886, step: 0.025s, lr: 9.70e-05\n",
      "\n",
      "EPOCH 03, 1229/1229 | loss: 0.6015, mae: 0.5963, r2: 0.4086, step: 0.288s, lr: 8.84e-05\n",
      "EPOCH VAL, 03, 0308/308 | loss: 0.6025, mae: 0.5948, r2: 0.4079, step: 0.025s, lr: 8.84e-05\n",
      "\n",
      "EPOCH 04, 1229/1229 | loss: 0.5684, mae: 0.5782, r2: 0.4411, step: 0.288s, lr: 7.52e-05\n",
      "EPOCH VAL, 04, 0308/308 | loss: 0.5887, mae: 0.5851, r2: 0.4233, step: 0.025s, lr: 7.52e-05\n",
      "\n",
      "EPOCH 05, 1229/1229 | loss: 0.5382, mae: 0.5614, r2: 0.4716, step: 0.288s, lr: 5.91e-05\n",
      "EPOCH VAL, 05, 0308/308 | loss: 0.5831, mae: 0.5819, r2: 0.4290, step: 0.025s, lr: 5.91e-05\n",
      "\n",
      "EPOCH 06, 1229/1229 | loss: 0.5144, mae: 0.5473, r2: 0.4964, step: 0.289s, lr: 4.19e-05\n",
      "EPOCH VAL, 06, 0308/308 | loss: 0.5809, mae: 0.5798, r2: 0.4321, step: 0.025s, lr: 4.19e-05\n",
      "\n",
      "EPOCH 07, 1229/1229 | loss: 0.4892, mae: 0.5336, r2: 0.5203, step: 0.287s, lr: 2.57e-05\n",
      "EPOCH VAL, 07, 0308/308 | loss: 0.5775, mae: 0.5787, r2: 0.4355, step: 0.025s, lr: 2.57e-05\n",
      "\n",
      "EPOCH 08, 1229/1229 | loss: 0.4747, mae: 0.5245, r2: 0.5358, step: 0.287s, lr: 1.26e-05\n",
      "EPOCH VAL, 08, 0308/308 | loss: 0.5760, mae: 0.5769, r2: 0.4366, step: 0.025s, lr: 1.26e-05\n",
      "\n"
     ]
    }
   ],
   "source": [
    "if CONFIG.TRAIN_MODEL:\n",
    "    print(\"Start Training:\")\n",
    "    \n",
    "    best = float('inf')\n",
    "    for epoch in range(CONFIG.N_EPOCHS):\n",
    "        MAE.reset()\n",
    "        R2.reset()\n",
    "        LOSS.reset()\n",
    "        model.train()\n",
    "\n",
    "        for step, (X_batch, y_true) in enumerate(train_dataloader):\n",
    "            X_batch['image'] = X_batch['image'].to(device)\n",
    "            X_batch['tabular'] = X_batch['tabular'].to(device)\n",
    "            y_true = y_true.to(device)\n",
    "            t_start = time.perf_counter_ns()\n",
    "            y_pred = model(X_batch)\n",
    "            loss = LOSS_FN(y_pred, y_true)\n",
    "            LOSS.update(loss)\n",
    "            loss.backward()\n",
    "            optimizer.step()\n",
    "            optimizer.zero_grad()\n",
    "            LR_SCHEDULER.step()\n",
    "            MAE.update(y_pred, y_true)\n",
    "            R2.update(y_pred, y_true)\n",
    "\n",
    "            if not CONFIG.IS_INTERACTIVE and (step+1) == len(train_dataloader):\n",
    "                print(\n",
    "                    f'EPOCH {epoch+1:02d}, {step+1:04d}/{len(train_dataloader)} | ' + \n",
    "                    f'loss: {LOSS.avg:.4f}, mae: {MAE.compute().item():.4f}, r2: {R2.compute().item():.4f}, ' +\n",
    "                    f'step: {(time.perf_counter_ns()-t_start)*1e-9:.3f}s, lr: {LR_SCHEDULER.get_last_lr()[0]:.2e}',\n",
    "                )\n",
    "            elif CONFIG.IS_INTERACTIVE:\n",
    "                print(\n",
    "                    f'\\rEPOCH {epoch+1:02d}, {step+1:04d}/{len(train_dataloader)} | ' + \n",
    "                    f'loss: {LOSS.avg:.4f}, mae: {MAE.compute().item():.4f}, r2: {R2.compute().item():.4f}, ' +\n",
    "                    f'step: {(time.perf_counter_ns()-t_start)*1e-9:.3f}s, lr: {LR_SCHEDULER.get_last_lr()[0]:.2e}',\n",
    "                    end='\\n' if (step + 1) == CONFIG.N_STEPS_PER_EPOCH else '', flush=True,\n",
    "                )\n",
    "            \n",
    "        MAE.reset()\n",
    "        R2.reset()\n",
    "        LOSS.reset()\n",
    "        model.eval()\n",
    "        \n",
    "        for step, (X_batch, y_true) in enumerate(val_dataloader):\n",
    "            X_batch['image'] = X_batch['image'].to(device)\n",
    "            X_batch['tabular'] = X_batch['tabular'].to(device)\n",
    "            y_true = y_true.to(device)\n",
    "            t_start = time.perf_counter_ns()\n",
    "            with torch.no_grad():\n",
    "                y_pred = model(X_batch)\n",
    "                loss = LOSS_FN(y_pred, y_true)\n",
    "                \n",
    "            LOSS.update(loss)\n",
    "            MAE.update(y_pred, y_true)\n",
    "            R2.update(y_pred, y_true)\n",
    "            if not CONFIG.IS_INTERACTIVE and (step+1) == len(val_dataloader):\n",
    "                print(\n",
    "                    f'EPOCH VAL, {epoch+1:02d}, {step+1:04d}/{len(val_dataloader)} | ' + \n",
    "                    f'loss: {LOSS.avg:.4f}, mae: {MAE.compute().item():.4f}, r2: {R2.compute().item():.4f}, ' +\n",
    "                    f'step: {(time.perf_counter_ns()-t_start)*1e-9:.3f}s, lr: {LR_SCHEDULER.get_last_lr()[0]:.2e}',\n",
    "                )\n",
    "            elif CONFIG.IS_INTERACTIVE:\n",
    "                print(\n",
    "                    f'\\rEPOCH VAL {epoch+1:02d}, {step+1:04d}/{len(val_dataloader)} | ' + \n",
    "                    f'loss: {LOSS.avg:.4f}, mae: {MAE.compute().item():.4f}, r2: {R2.compute().item():.4f}, ' +\n",
    "                    f'step: {(time.perf_counter_ns()-t_start)*1e-9:.3f}s, lr: {LR_SCHEDULER.get_last_lr()[0]:.2e}',\n",
    "                    end='\\n' if (step + 1) == CONFIG.N_STEPS_PER_EPOCH else '', flush=True,\n",
    "                )\n",
    "        print()\n",
    "        if LOSS.avg < best:\n",
    "            best = LOSS.avg\n",
    "            torch.save(model, 'model.pth')\n",
    "            \n",
    "            \n",
    "else:\n",
    "    model = torch.load(CONFIG.MODEL_PATH)\n",
    "    model.to(device)"
   ]
  },
  {
   "cell_type": "code",
   "execution_count": 14,
   "id": "69be7021",
   "metadata": {
    "execution": {
     "iopub.execute_input": "2024-04-20T15:29:51.889076Z",
     "iopub.status.busy": "2024-04-20T15:29:51.888732Z",
     "iopub.status.idle": "2024-04-20T15:29:51.893588Z",
     "shell.execute_reply": "2024-04-20T15:29:51.892650Z"
    },
    "papermill": {
     "duration": 0.017328,
     "end_time": "2024-04-20T15:29:51.895644",
     "exception": false,
     "start_time": "2024-04-20T15:29:51.878316",
     "status": "completed"
    },
    "tags": []
   },
   "outputs": [],
   "source": [
    "# train_features = np.load('/kaggle/input/planttraits2024-image-features/features_train.npy')\n",
    "# test_features = np.load('/kaggle/input/planttraits2024-image-features/features_test.npy')\n",
    "\n",
    "# features_df = pd.DataFrame(train_features)\n",
    "# features_df.columns = [f'feature_{i}' for i in range(train_features.shape[1])]\n",
    "# features_df.head()\n",
    "\n",
    "# train_df = pd.concat([train.reset_index(drop=True), features_df.reset_index(drop=True)], axis=1)\n",
    "\n",
    "# features_df = pd.DataFrame(test_features)\n",
    "# features_df.columns = [f'feature_{i}' for i in range(test_features.shape[1])]\n",
    "# features_df.head()\n",
    "\n",
    "# test_df = pd.concat([test.reset_index(drop=True), features_df.reset_index(drop=True)], axis=1)"
   ]
  },
  {
   "cell_type": "code",
   "execution_count": 15,
   "id": "ea5c83f5",
   "metadata": {
    "execution": {
     "iopub.execute_input": "2024-04-20T15:29:51.915592Z",
     "iopub.status.busy": "2024-04-20T15:29:51.915281Z",
     "iopub.status.idle": "2024-04-20T15:29:51.919215Z",
     "shell.execute_reply": "2024-04-20T15:29:51.918423Z"
    },
    "papermill": {
     "duration": 0.01616,
     "end_time": "2024-04-20T15:29:51.921112",
     "exception": false,
     "start_time": "2024-04-20T15:29:51.904952",
     "status": "completed"
    },
    "tags": []
   },
   "outputs": [],
   "source": [
    "# do_cv = True\n",
    "\n",
    "# remove_cols = [ \n",
    "#  'X4_sd',\n",
    "#  'X11_sd',\n",
    "#  'X18_sd',\n",
    "#  'X26_sd',\n",
    "#  'X50_sd',\n",
    "#  'X3112_sd',\n",
    "#  'file_path',\n",
    "#  'jpeg_bytes'\n",
    "# ]\n",
    "\n",
    "# X_full = train_df.drop(columns=CONFIG.TARGET_COLUMNS + remove_cols)\n",
    "# Y_full = train_df[CONFIG.TARGET_COLUMNS]"
   ]
  },
  {
   "cell_type": "code",
   "execution_count": 16,
   "id": "21b6d7b7",
   "metadata": {
    "execution": {
     "iopub.execute_input": "2024-04-20T15:29:51.942177Z",
     "iopub.status.busy": "2024-04-20T15:29:51.941834Z",
     "iopub.status.idle": "2024-04-20T15:29:51.946621Z",
     "shell.execute_reply": "2024-04-20T15:29:51.945756Z"
    },
    "papermill": {
     "duration": 0.018077,
     "end_time": "2024-04-20T15:29:51.948841",
     "exception": false,
     "start_time": "2024-04-20T15:29:51.930764",
     "status": "completed"
    },
    "tags": []
   },
   "outputs": [],
   "source": [
    "# class CustomDataset(Dataset):\n",
    "#     def __init__(self, X, Y):\n",
    "#         self.X = torch.tensor(X.values, dtype=torch.float32)\n",
    "#         self.Y = torch.tensor(Y.values, dtype=torch.long)\n",
    "\n",
    "#     def __len__(self):\n",
    "#         return len(self.X)\n",
    "\n",
    "#     def __getitem__(self, idx):\n",
    "#         return self.X[idx], self.Y[idx]\n",
    "    \n",
    "# class NeuralNetwork(nn.Module):\n",
    "#     def __init__(self, input_size, hidden_size, num_classes):\n",
    "#         super(NeuralNetwork, self).__init__()\n",
    "#         self.fc1 = nn.Linear(input_size, hidden_size)\n",
    "#         self.relu = nn.ReLU()\n",
    "#         self.fc2 = nn.Linear(hidden_size, num_classes)\n",
    "\n",
    "#     def forward(self, x):\n",
    "#         out = self.fc1(x)\n",
    "#         out = self.relu(out)\n",
    "#         out = self.fc2(out)\n",
    "#         return out"
   ]
  },
  {
   "cell_type": "code",
   "execution_count": 17,
   "id": "69b4d37c",
   "metadata": {
    "execution": {
     "iopub.execute_input": "2024-04-20T15:29:51.968811Z",
     "iopub.status.busy": "2024-04-20T15:29:51.968532Z",
     "iopub.status.idle": "2024-04-20T15:29:51.973719Z",
     "shell.execute_reply": "2024-04-20T15:29:51.972870Z"
    },
    "papermill": {
     "duration": 0.017168,
     "end_time": "2024-04-20T15:29:51.975631",
     "exception": false,
     "start_time": "2024-04-20T15:29:51.958463",
     "status": "completed"
    },
    "tags": []
   },
   "outputs": [],
   "source": [
    "# models = {}\n",
    "\n",
    "# xboost = False\n",
    "    \n",
    "# if xboost:\n",
    "#     for column in Y_full.columns:\n",
    "\n",
    "#         model = xgb.XGBRegressor(objective='reg:squarederror', n_estimators=150, learning_rate=0.1, max_depth=10)\n",
    "\n",
    "#         if do_cv:\n",
    "#             print(f\"\\nDoing cross-validation scoring for {column}...\")\n",
    "#             scores = cross_val_score(model, X_full, Y_full[column],\n",
    "#                                      cv=KFold(n_splits=3, shuffle=True, random_state=42),\n",
    "#                                      scoring='r2')        \n",
    "#             print(f\"R^2 score for {column}: {np.mean(scores)}\")\n",
    "\n",
    "#         #train model with all data\n",
    "#         print(f\"Training model for {column}...\")\n",
    "#         model.fit(X_full, Y_full[column])\n",
    "#         models[column] = model\n",
    "\n",
    "#     with open('all_models.pkl', 'wb') as file:\n",
    "#         pickle.dump(models, file)\n",
    "        \n",
    "#     # with open('all_models.pkl', 'rb') as file:\n",
    "#     # models = pickle.load(file)\n",
    "        \n",
    "# else:\n",
    "#     X_train, X_val, Y_train, Y_val = train_test_split(X_full, Y_full, test_size=0.2, random_state=42)\n",
    "\n",
    "#     # Define your datasets for train and validation\n",
    "#     train_dataset = CustomDataset(X_train, Y_train)\n",
    "#     val_dataset = CustomDataset(X_val, Y_val)\n",
    "\n",
    "#     # Define your data loaders for train and validation\n",
    "#     train_dataloader = DataLoader(train_dataset, batch_size=CONFIG.BATCH_SIZE, shuffle=True)\n",
    "#     val_dataloader = DataLoader(val_dataset, batch_size=CONFIG.BATCH_SIZE, shuffle=False)\n",
    "#     model = NeuralNetwork(1700, 512, 6)\n",
    "    \n",
    "   "
   ]
  },
  {
   "cell_type": "code",
   "execution_count": 18,
   "id": "3476d232",
   "metadata": {
    "execution": {
     "iopub.execute_input": "2024-04-20T15:29:51.995544Z",
     "iopub.status.busy": "2024-04-20T15:29:51.995181Z",
     "iopub.status.idle": "2024-04-20T15:29:51.999343Z",
     "shell.execute_reply": "2024-04-20T15:29:51.998419Z"
    },
    "papermill": {
     "duration": 0.016334,
     "end_time": "2024-04-20T15:29:52.001271",
     "exception": false,
     "start_time": "2024-04-20T15:29:51.984937",
     "status": "completed"
    },
    "tags": []
   },
   "outputs": [],
   "source": [
    "# mean_values = Y_full.mean()\n",
    "# submission = pd.DataFrame({'id': test_df['id']})\n",
    "# submission[Y_full.columns] = mean_values\n",
    "\n",
    "# #rename from _mean\n",
    "# submission.columns = submission.columns.str.replace('_mean', '')\n",
    "# submission"
   ]
  },
  {
   "cell_type": "code",
   "execution_count": 19,
   "id": "e94dc721",
   "metadata": {
    "execution": {
     "iopub.execute_input": "2024-04-20T15:29:52.021871Z",
     "iopub.status.busy": "2024-04-20T15:29:52.020942Z",
     "iopub.status.idle": "2024-04-20T15:29:52.025319Z",
     "shell.execute_reply": "2024-04-20T15:29:52.024476Z"
    },
    "papermill": {
     "duration": 0.016749,
     "end_time": "2024-04-20T15:29:52.027287",
     "exception": false,
     "start_time": "2024-04-20T15:29:52.010538",
     "status": "completed"
    },
    "tags": []
   },
   "outputs": [],
   "source": [
    "# remove_cols = [ \n",
    "#  'file_path',\n",
    "#  'jpeg_bytes'\n",
    "# ]\n",
    "\n",
    "# X_test = test_df.drop(columns=remove_cols)\n",
    "\n",
    "# submission['X4'] = models['X4_mean'].predict(X_test)\n",
    "# submission['X11'] = models['X11_mean'].predict(X_test)\n",
    "# submission['X18'] = models['X18_mean'].predict(X_test)\n",
    "# submission['X50'] = models['X50_mean'].predict(X_test)\n",
    "# submission['X26'] = models['X26_mean'].predict(X_test)\n",
    "# submission['X3112'] = models['X3112_mean'].predict(X_test)\n",
    "\n",
    "# submission"
   ]
  },
  {
   "cell_type": "code",
   "execution_count": 20,
   "id": "68f97e56",
   "metadata": {
    "execution": {
     "iopub.execute_input": "2024-04-20T15:29:52.047123Z",
     "iopub.status.busy": "2024-04-20T15:29:52.046846Z",
     "iopub.status.idle": "2024-04-20T15:29:52.050747Z",
     "shell.execute_reply": "2024-04-20T15:29:52.049914Z"
    },
    "papermill": {
     "duration": 0.016363,
     "end_time": "2024-04-20T15:29:52.052854",
     "exception": false,
     "start_time": "2024-04-20T15:29:52.036491",
     "status": "completed"
    },
    "tags": []
   },
   "outputs": [],
   "source": [
    "# submission.to_csv('submission.csv', index=False)"
   ]
  },
  {
   "cell_type": "code",
   "execution_count": 21,
   "id": "0744a5fc",
   "metadata": {
    "execution": {
     "iopub.execute_input": "2024-04-20T15:29:52.072999Z",
     "iopub.status.busy": "2024-04-20T15:29:52.072699Z",
     "iopub.status.idle": "2024-04-20T15:29:52.164262Z",
     "shell.execute_reply": "2024-04-20T15:29:52.163217Z"
    },
    "papermill": {
     "duration": 0.104842,
     "end_time": "2024-04-20T15:29:52.166941",
     "exception": false,
     "start_time": "2024-04-20T15:29:52.062099",
     "status": "completed"
    },
    "tags": []
   },
   "outputs": [],
   "source": [
    "model = torch.load('/kaggle/working/model.pth')\n",
    "model.to(device);"
   ]
  },
  {
   "cell_type": "code",
   "execution_count": 22,
   "id": "f3f31dfe",
   "metadata": {
    "execution": {
     "iopub.execute_input": "2024-04-20T15:29:52.188888Z",
     "iopub.status.busy": "2024-04-20T15:29:52.188560Z",
     "iopub.status.idle": "2024-04-20T15:31:42.207733Z",
     "shell.execute_reply": "2024-04-20T15:31:42.206526Z"
    },
    "papermill": {
     "duration": 110.032822,
     "end_time": "2024-04-20T15:31:42.210302",
     "exception": false,
     "start_time": "2024-04-20T15:29:52.177480",
     "status": "completed"
    },
    "tags": []
   },
   "outputs": [
    {
     "data": {
      "application/vnd.jupyter.widget-view+json": {
       "model_id": "234f64fff77b4f9c8e294464985095c1",
       "version_major": 2,
       "version_minor": 0
      },
      "text/plain": [
       "  0%|          | 0/6545 [00:00<?, ?it/s]"
      ]
     },
     "metadata": {},
     "output_type": "display_data"
    },
    {
     "name": "stdout",
     "output_type": "stream",
     "text": [
      "Submit!\n"
     ]
    }
   ],
   "source": [
    "SUBMISSION_ROWS = []\n",
    "model.eval()\n",
    "\n",
    "for X_sample_test, test_id in tqdm(test_dataset):\n",
    "    X_sample_test['image'] = torch.Tensor(X_sample_test['image']).unsqueeze(0).to(device)\n",
    "    X_sample_test['tabular'] = torch.Tensor(X_sample_test['tabular']).unsqueeze(0).to(device)\n",
    "    with torch.no_grad():\n",
    "        y_pred = model(X_sample_test).detach().cpu().numpy()\n",
    "    \n",
    "    y_pred = SCALER.inverse_transform(y_pred).squeeze()\n",
    "    row = {'id': test_id}\n",
    "    \n",
    "    for k, v in zip(CONFIG.TARGET_COLUMNS, y_pred):\n",
    "        if k in LOG_FEATURES:\n",
    "            row[k.replace('_mean', '')] = 10 ** v\n",
    "        else:\n",
    "            row[k.replace('_mean', '')] = v\n",
    "\n",
    "    SUBMISSION_ROWS.append(row)\n",
    "    \n",
    "submission_df = pd.DataFrame(SUBMISSION_ROWS)\n",
    "submission_df.to_csv('submission.csv', index=False)\n",
    "print(\"Submit!\")"
   ]
  },
  {
   "cell_type": "code",
   "execution_count": null,
   "id": "8682736e",
   "metadata": {
    "papermill": {
     "duration": 0.013507,
     "end_time": "2024-04-20T15:31:42.237685",
     "exception": false,
     "start_time": "2024-04-20T15:31:42.224178",
     "status": "completed"
    },
    "tags": []
   },
   "outputs": [],
   "source": []
  },
  {
   "cell_type": "code",
   "execution_count": null,
   "id": "8c7d73ac",
   "metadata": {
    "papermill": {
     "duration": 0.013147,
     "end_time": "2024-04-20T15:31:42.264391",
     "exception": false,
     "start_time": "2024-04-20T15:31:42.251244",
     "status": "completed"
    },
    "tags": []
   },
   "outputs": [],
   "source": []
  },
  {
   "cell_type": "code",
   "execution_count": null,
   "id": "fd3d75c7",
   "metadata": {
    "papermill": {
     "duration": 0.009429,
     "end_time": "2024-04-20T15:31:42.285036",
     "exception": false,
     "start_time": "2024-04-20T15:31:42.275607",
     "status": "completed"
    },
    "tags": []
   },
   "outputs": [],
   "source": []
  }
 ],
 "metadata": {
  "kaggle": {
   "accelerator": "gpu",
   "dataSources": [
    {
     "databundleVersionId": 8046133,
     "sourceId": 65626,
     "sourceType": "competition"
    },
    {
     "datasetId": 4761376,
     "sourceId": 8069756,
     "sourceType": "datasetVersion"
    },
    {
     "datasetId": 4769096,
     "sourceId": 8080312,
     "sourceType": "datasetVersion"
    },
    {
     "datasetId": 4794400,
     "sourceId": 8115215,
     "sourceType": "datasetVersion"
    },
    {
     "datasetId": 4828729,
     "sourceId": 8161566,
     "sourceType": "datasetVersion"
    }
   ],
   "isGpuEnabled": true,
   "isInternetEnabled": true,
   "language": "python",
   "sourceType": "notebook"
  },
  "kernelspec": {
   "display_name": "Python 3",
   "language": "python",
   "name": "python3"
  },
  "language_info": {
   "codemirror_mode": {
    "name": "ipython",
    "version": 3
   },
   "file_extension": ".py",
   "mimetype": "text/x-python",
   "name": "python",
   "nbconvert_exporter": "python",
   "pygments_lexer": "ipython3",
   "version": "3.10.13"
  },
  "papermill": {
   "default_parameters": {},
   "duration": 3693.509753,
   "end_time": "2024-04-20T15:31:45.603305",
   "environment_variables": {},
   "exception": null,
   "input_path": "__notebook__.ipynb",
   "output_path": "__notebook__.ipynb",
   "parameters": {},
   "start_time": "2024-04-20T14:30:12.093552",
   "version": "2.5.0"
  },
  "widgets": {
   "application/vnd.jupyter.widget-state+json": {
    "state": {
     "117220f5429a494b83617bc742a531f3": {
      "model_module": "@jupyter-widgets/controls",
      "model_module_version": "1.5.0",
      "model_name": "HTMLModel",
      "state": {
       "_dom_classes": [],
       "_model_module": "@jupyter-widgets/controls",
       "_model_module_version": "1.5.0",
       "_model_name": "HTMLModel",
       "_view_count": null,
       "_view_module": "@jupyter-widgets/controls",
       "_view_module_version": "1.5.0",
       "_view_name": "HTMLView",
       "description": "",
       "description_tooltip": null,
       "layout": "IPY_MODEL_41f29d3dfa77451ba65ca4bed1b95f64",
       "placeholder": "​",
       "style": "IPY_MODEL_41a32548a1114dc0a0f025066b797643",
       "value": "100%"
      }
     },
     "186b2225ac87452e9d24dfc1be7614b5": {
      "model_module": "@jupyter-widgets/controls",
      "model_module_version": "1.5.0",
      "model_name": "DescriptionStyleModel",
      "state": {
       "_model_module": "@jupyter-widgets/controls",
       "_model_module_version": "1.5.0",
       "_model_name": "DescriptionStyleModel",
       "_view_count": null,
       "_view_module": "@jupyter-widgets/base",
       "_view_module_version": "1.2.0",
       "_view_name": "StyleView",
       "description_width": ""
      }
     },
     "216cd53be9a1432a96a00c3863954125": {
      "model_module": "@jupyter-widgets/base",
      "model_module_version": "1.2.0",
      "model_name": "LayoutModel",
      "state": {
       "_model_module": "@jupyter-widgets/base",
       "_model_module_version": "1.2.0",
       "_model_name": "LayoutModel",
       "_view_count": null,
       "_view_module": "@jupyter-widgets/base",
       "_view_module_version": "1.2.0",
       "_view_name": "LayoutView",
       "align_content": null,
       "align_items": null,
       "align_self": null,
       "border": null,
       "bottom": null,
       "display": null,
       "flex": null,
       "flex_flow": null,
       "grid_area": null,
       "grid_auto_columns": null,
       "grid_auto_flow": null,
       "grid_auto_rows": null,
       "grid_column": null,
       "grid_gap": null,
       "grid_row": null,
       "grid_template_areas": null,
       "grid_template_columns": null,
       "grid_template_rows": null,
       "height": null,
       "justify_content": null,
       "justify_items": null,
       "left": null,
       "margin": null,
       "max_height": null,
       "max_width": null,
       "min_height": null,
       "min_width": null,
       "object_fit": null,
       "object_position": null,
       "order": null,
       "overflow": null,
       "overflow_x": null,
       "overflow_y": null,
       "padding": null,
       "right": null,
       "top": null,
       "visibility": null,
       "width": null
      }
     },
     "234f64fff77b4f9c8e294464985095c1": {
      "model_module": "@jupyter-widgets/controls",
      "model_module_version": "1.5.0",
      "model_name": "HBoxModel",
      "state": {
       "_dom_classes": [],
       "_model_module": "@jupyter-widgets/controls",
       "_model_module_version": "1.5.0",
       "_model_name": "HBoxModel",
       "_view_count": null,
       "_view_module": "@jupyter-widgets/controls",
       "_view_module_version": "1.5.0",
       "_view_name": "HBoxView",
       "box_style": "",
       "children": [
        "IPY_MODEL_117220f5429a494b83617bc742a531f3",
        "IPY_MODEL_a09c5fe82c444810beb11e1624cecca8",
        "IPY_MODEL_9266926f9d844e6cbde05e5c846cef63"
       ],
       "layout": "IPY_MODEL_abcfa595eea04072937c8b1bfe28fd02"
      }
     },
     "41a32548a1114dc0a0f025066b797643": {
      "model_module": "@jupyter-widgets/controls",
      "model_module_version": "1.5.0",
      "model_name": "DescriptionStyleModel",
      "state": {
       "_model_module": "@jupyter-widgets/controls",
       "_model_module_version": "1.5.0",
       "_model_name": "DescriptionStyleModel",
       "_view_count": null,
       "_view_module": "@jupyter-widgets/base",
       "_view_module_version": "1.2.0",
       "_view_name": "StyleView",
       "description_width": ""
      }
     },
     "41f29d3dfa77451ba65ca4bed1b95f64": {
      "model_module": "@jupyter-widgets/base",
      "model_module_version": "1.2.0",
      "model_name": "LayoutModel",
      "state": {
       "_model_module": "@jupyter-widgets/base",
       "_model_module_version": "1.2.0",
       "_model_name": "LayoutModel",
       "_view_count": null,
       "_view_module": "@jupyter-widgets/base",
       "_view_module_version": "1.2.0",
       "_view_name": "LayoutView",
       "align_content": null,
       "align_items": null,
       "align_self": null,
       "border": null,
       "bottom": null,
       "display": null,
       "flex": null,
       "flex_flow": null,
       "grid_area": null,
       "grid_auto_columns": null,
       "grid_auto_flow": null,
       "grid_auto_rows": null,
       "grid_column": null,
       "grid_gap": null,
       "grid_row": null,
       "grid_template_areas": null,
       "grid_template_columns": null,
       "grid_template_rows": null,
       "height": null,
       "justify_content": null,
       "justify_items": null,
       "left": null,
       "margin": null,
       "max_height": null,
       "max_width": null,
       "min_height": null,
       "min_width": null,
       "object_fit": null,
       "object_position": null,
       "order": null,
       "overflow": null,
       "overflow_x": null,
       "overflow_y": null,
       "padding": null,
       "right": null,
       "top": null,
       "visibility": null,
       "width": null
      }
     },
     "434d7fcad36943a3b0826cc7d9c7d946": {
      "model_module": "@jupyter-widgets/controls",
      "model_module_version": "1.5.0",
      "model_name": "HTMLModel",
      "state": {
       "_dom_classes": [],
       "_model_module": "@jupyter-widgets/controls",
       "_model_module_version": "1.5.0",
       "_model_name": "HTMLModel",
       "_view_count": null,
       "_view_module": "@jupyter-widgets/controls",
       "_view_module_version": "1.5.0",
       "_view_name": "HTMLView",
       "description": "",
       "description_tooltip": null,
       "layout": "IPY_MODEL_af2eccf4fefa442da4e12cf9a4e5ba1b",
       "placeholder": "​",
       "style": "IPY_MODEL_186b2225ac87452e9d24dfc1be7614b5",
       "value": " 21.4M/21.4M [00:00&lt;00:00, 155MB/s]"
      }
     },
     "5298b778c66841669b92b710bdca6041": {
      "model_module": "@jupyter-widgets/controls",
      "model_module_version": "1.5.0",
      "model_name": "ProgressStyleModel",
      "state": {
       "_model_module": "@jupyter-widgets/controls",
       "_model_module_version": "1.5.0",
       "_model_name": "ProgressStyleModel",
       "_view_count": null,
       "_view_module": "@jupyter-widgets/base",
       "_view_module_version": "1.2.0",
       "_view_name": "StyleView",
       "bar_color": null,
       "description_width": ""
      }
     },
     "86ddcc3b78c04a2389145a87c1733a10": {
      "model_module": "@jupyter-widgets/controls",
      "model_module_version": "1.5.0",
      "model_name": "HTMLModel",
      "state": {
       "_dom_classes": [],
       "_model_module": "@jupyter-widgets/controls",
       "_model_module_version": "1.5.0",
       "_model_name": "HTMLModel",
       "_view_count": null,
       "_view_module": "@jupyter-widgets/controls",
       "_view_module_version": "1.5.0",
       "_view_name": "HTMLView",
       "description": "",
       "description_tooltip": null,
       "layout": "IPY_MODEL_216cd53be9a1432a96a00c3863954125",
       "placeholder": "​",
       "style": "IPY_MODEL_eabb83927cd84bf3b4122ad5990d7cdd",
       "value": "model.safetensors: 100%"
      }
     },
     "9266926f9d844e6cbde05e5c846cef63": {
      "model_module": "@jupyter-widgets/controls",
      "model_module_version": "1.5.0",
      "model_name": "HTMLModel",
      "state": {
       "_dom_classes": [],
       "_model_module": "@jupyter-widgets/controls",
       "_model_module_version": "1.5.0",
       "_model_name": "HTMLModel",
       "_view_count": null,
       "_view_module": "@jupyter-widgets/controls",
       "_view_module_version": "1.5.0",
       "_view_name": "HTMLView",
       "description": "",
       "description_tooltip": null,
       "layout": "IPY_MODEL_fe6e12f676ac4a27ba07a40e00df3e4e",
       "placeholder": "​",
       "style": "IPY_MODEL_ceedd42f4d024dc3b209817af02deaa1",
       "value": " 6545/6545 [01:49&lt;00:00, 60.46it/s]"
      }
     },
     "92e65ab3264e4170a9123afea6944989": {
      "model_module": "@jupyter-widgets/base",
      "model_module_version": "1.2.0",
      "model_name": "LayoutModel",
      "state": {
       "_model_module": "@jupyter-widgets/base",
       "_model_module_version": "1.2.0",
       "_model_name": "LayoutModel",
       "_view_count": null,
       "_view_module": "@jupyter-widgets/base",
       "_view_module_version": "1.2.0",
       "_view_name": "LayoutView",
       "align_content": null,
       "align_items": null,
       "align_self": null,
       "border": null,
       "bottom": null,
       "display": null,
       "flex": null,
       "flex_flow": null,
       "grid_area": null,
       "grid_auto_columns": null,
       "grid_auto_flow": null,
       "grid_auto_rows": null,
       "grid_column": null,
       "grid_gap": null,
       "grid_row": null,
       "grid_template_areas": null,
       "grid_template_columns": null,
       "grid_template_rows": null,
       "height": null,
       "justify_content": null,
       "justify_items": null,
       "left": null,
       "margin": null,
       "max_height": null,
       "max_width": null,
       "min_height": null,
       "min_width": null,
       "object_fit": null,
       "object_position": null,
       "order": null,
       "overflow": null,
       "overflow_x": null,
       "overflow_y": null,
       "padding": null,
       "right": null,
       "top": null,
       "visibility": null,
       "width": null
      }
     },
     "a09c5fe82c444810beb11e1624cecca8": {
      "model_module": "@jupyter-widgets/controls",
      "model_module_version": "1.5.0",
      "model_name": "FloatProgressModel",
      "state": {
       "_dom_classes": [],
       "_model_module": "@jupyter-widgets/controls",
       "_model_module_version": "1.5.0",
       "_model_name": "FloatProgressModel",
       "_view_count": null,
       "_view_module": "@jupyter-widgets/controls",
       "_view_module_version": "1.5.0",
       "_view_name": "ProgressView",
       "bar_style": "success",
       "description": "",
       "description_tooltip": null,
       "layout": "IPY_MODEL_92e65ab3264e4170a9123afea6944989",
       "max": 6545.0,
       "min": 0.0,
       "orientation": "horizontal",
       "style": "IPY_MODEL_5298b778c66841669b92b710bdca6041",
       "value": 6545.0
      }
     },
     "abcfa595eea04072937c8b1bfe28fd02": {
      "model_module": "@jupyter-widgets/base",
      "model_module_version": "1.2.0",
      "model_name": "LayoutModel",
      "state": {
       "_model_module": "@jupyter-widgets/base",
       "_model_module_version": "1.2.0",
       "_model_name": "LayoutModel",
       "_view_count": null,
       "_view_module": "@jupyter-widgets/base",
       "_view_module_version": "1.2.0",
       "_view_name": "LayoutView",
       "align_content": null,
       "align_items": null,
       "align_self": null,
       "border": null,
       "bottom": null,
       "display": null,
       "flex": null,
       "flex_flow": null,
       "grid_area": null,
       "grid_auto_columns": null,
       "grid_auto_flow": null,
       "grid_auto_rows": null,
       "grid_column": null,
       "grid_gap": null,
       "grid_row": null,
       "grid_template_areas": null,
       "grid_template_columns": null,
       "grid_template_rows": null,
       "height": null,
       "justify_content": null,
       "justify_items": null,
       "left": null,
       "margin": null,
       "max_height": null,
       "max_width": null,
       "min_height": null,
       "min_width": null,
       "object_fit": null,
       "object_position": null,
       "order": null,
       "overflow": null,
       "overflow_x": null,
       "overflow_y": null,
       "padding": null,
       "right": null,
       "top": null,
       "visibility": null,
       "width": null
      }
     },
     "aeaf4d9287ef4d53b5f49ad94cdd6faf": {
      "model_module": "@jupyter-widgets/controls",
      "model_module_version": "1.5.0",
      "model_name": "ProgressStyleModel",
      "state": {
       "_model_module": "@jupyter-widgets/controls",
       "_model_module_version": "1.5.0",
       "_model_name": "ProgressStyleModel",
       "_view_count": null,
       "_view_module": "@jupyter-widgets/base",
       "_view_module_version": "1.2.0",
       "_view_name": "StyleView",
       "bar_color": null,
       "description_width": ""
      }
     },
     "af2eccf4fefa442da4e12cf9a4e5ba1b": {
      "model_module": "@jupyter-widgets/base",
      "model_module_version": "1.2.0",
      "model_name": "LayoutModel",
      "state": {
       "_model_module": "@jupyter-widgets/base",
       "_model_module_version": "1.2.0",
       "_model_name": "LayoutModel",
       "_view_count": null,
       "_view_module": "@jupyter-widgets/base",
       "_view_module_version": "1.2.0",
       "_view_name": "LayoutView",
       "align_content": null,
       "align_items": null,
       "align_self": null,
       "border": null,
       "bottom": null,
       "display": null,
       "flex": null,
       "flex_flow": null,
       "grid_area": null,
       "grid_auto_columns": null,
       "grid_auto_flow": null,
       "grid_auto_rows": null,
       "grid_column": null,
       "grid_gap": null,
       "grid_row": null,
       "grid_template_areas": null,
       "grid_template_columns": null,
       "grid_template_rows": null,
       "height": null,
       "justify_content": null,
       "justify_items": null,
       "left": null,
       "margin": null,
       "max_height": null,
       "max_width": null,
       "min_height": null,
       "min_width": null,
       "object_fit": null,
       "object_position": null,
       "order": null,
       "overflow": null,
       "overflow_x": null,
       "overflow_y": null,
       "padding": null,
       "right": null,
       "top": null,
       "visibility": null,
       "width": null
      }
     },
     "b03978f5041b4894901b14952ba7136e": {
      "model_module": "@jupyter-widgets/base",
      "model_module_version": "1.2.0",
      "model_name": "LayoutModel",
      "state": {
       "_model_module": "@jupyter-widgets/base",
       "_model_module_version": "1.2.0",
       "_model_name": "LayoutModel",
       "_view_count": null,
       "_view_module": "@jupyter-widgets/base",
       "_view_module_version": "1.2.0",
       "_view_name": "LayoutView",
       "align_content": null,
       "align_items": null,
       "align_self": null,
       "border": null,
       "bottom": null,
       "display": null,
       "flex": null,
       "flex_flow": null,
       "grid_area": null,
       "grid_auto_columns": null,
       "grid_auto_flow": null,
       "grid_auto_rows": null,
       "grid_column": null,
       "grid_gap": null,
       "grid_row": null,
       "grid_template_areas": null,
       "grid_template_columns": null,
       "grid_template_rows": null,
       "height": null,
       "justify_content": null,
       "justify_items": null,
       "left": null,
       "margin": null,
       "max_height": null,
       "max_width": null,
       "min_height": null,
       "min_width": null,
       "object_fit": null,
       "object_position": null,
       "order": null,
       "overflow": null,
       "overflow_x": null,
       "overflow_y": null,
       "padding": null,
       "right": null,
       "top": null,
       "visibility": null,
       "width": null
      }
     },
     "b217c2b7dc0042e481ab439f2866c916": {
      "model_module": "@jupyter-widgets/controls",
      "model_module_version": "1.5.0",
      "model_name": "FloatProgressModel",
      "state": {
       "_dom_classes": [],
       "_model_module": "@jupyter-widgets/controls",
       "_model_module_version": "1.5.0",
       "_model_name": "FloatProgressModel",
       "_view_count": null,
       "_view_module": "@jupyter-widgets/controls",
       "_view_module_version": "1.5.0",
       "_view_name": "ProgressView",
       "bar_style": "success",
       "description": "",
       "description_tooltip": null,
       "layout": "IPY_MODEL_b03978f5041b4894901b14952ba7136e",
       "max": 21355344.0,
       "min": 0.0,
       "orientation": "horizontal",
       "style": "IPY_MODEL_aeaf4d9287ef4d53b5f49ad94cdd6faf",
       "value": 21355344.0
      }
     },
     "ceedd42f4d024dc3b209817af02deaa1": {
      "model_module": "@jupyter-widgets/controls",
      "model_module_version": "1.5.0",
      "model_name": "DescriptionStyleModel",
      "state": {
       "_model_module": "@jupyter-widgets/controls",
       "_model_module_version": "1.5.0",
       "_model_name": "DescriptionStyleModel",
       "_view_count": null,
       "_view_module": "@jupyter-widgets/base",
       "_view_module_version": "1.2.0",
       "_view_name": "StyleView",
       "description_width": ""
      }
     },
     "eabb83927cd84bf3b4122ad5990d7cdd": {
      "model_module": "@jupyter-widgets/controls",
      "model_module_version": "1.5.0",
      "model_name": "DescriptionStyleModel",
      "state": {
       "_model_module": "@jupyter-widgets/controls",
       "_model_module_version": "1.5.0",
       "_model_name": "DescriptionStyleModel",
       "_view_count": null,
       "_view_module": "@jupyter-widgets/base",
       "_view_module_version": "1.2.0",
       "_view_name": "StyleView",
       "description_width": ""
      }
     },
     "ed56554cfe0e4edbab6da147e8dc2c2d": {
      "model_module": "@jupyter-widgets/controls",
      "model_module_version": "1.5.0",
      "model_name": "HBoxModel",
      "state": {
       "_dom_classes": [],
       "_model_module": "@jupyter-widgets/controls",
       "_model_module_version": "1.5.0",
       "_model_name": "HBoxModel",
       "_view_count": null,
       "_view_module": "@jupyter-widgets/controls",
       "_view_module_version": "1.5.0",
       "_view_name": "HBoxView",
       "box_style": "",
       "children": [
        "IPY_MODEL_86ddcc3b78c04a2389145a87c1733a10",
        "IPY_MODEL_b217c2b7dc0042e481ab439f2866c916",
        "IPY_MODEL_434d7fcad36943a3b0826cc7d9c7d946"
       ],
       "layout": "IPY_MODEL_f41ba3b590d1447ba862fd29b363e8a4"
      }
     },
     "f41ba3b590d1447ba862fd29b363e8a4": {
      "model_module": "@jupyter-widgets/base",
      "model_module_version": "1.2.0",
      "model_name": "LayoutModel",
      "state": {
       "_model_module": "@jupyter-widgets/base",
       "_model_module_version": "1.2.0",
       "_model_name": "LayoutModel",
       "_view_count": null,
       "_view_module": "@jupyter-widgets/base",
       "_view_module_version": "1.2.0",
       "_view_name": "LayoutView",
       "align_content": null,
       "align_items": null,
       "align_self": null,
       "border": null,
       "bottom": null,
       "display": null,
       "flex": null,
       "flex_flow": null,
       "grid_area": null,
       "grid_auto_columns": null,
       "grid_auto_flow": null,
       "grid_auto_rows": null,
       "grid_column": null,
       "grid_gap": null,
       "grid_row": null,
       "grid_template_areas": null,
       "grid_template_columns": null,
       "grid_template_rows": null,
       "height": null,
       "justify_content": null,
       "justify_items": null,
       "left": null,
       "margin": null,
       "max_height": null,
       "max_width": null,
       "min_height": null,
       "min_width": null,
       "object_fit": null,
       "object_position": null,
       "order": null,
       "overflow": null,
       "overflow_x": null,
       "overflow_y": null,
       "padding": null,
       "right": null,
       "top": null,
       "visibility": null,
       "width": null
      }
     },
     "fe6e12f676ac4a27ba07a40e00df3e4e": {
      "model_module": "@jupyter-widgets/base",
      "model_module_version": "1.2.0",
      "model_name": "LayoutModel",
      "state": {
       "_model_module": "@jupyter-widgets/base",
       "_model_module_version": "1.2.0",
       "_model_name": "LayoutModel",
       "_view_count": null,
       "_view_module": "@jupyter-widgets/base",
       "_view_module_version": "1.2.0",
       "_view_name": "LayoutView",
       "align_content": null,
       "align_items": null,
       "align_self": null,
       "border": null,
       "bottom": null,
       "display": null,
       "flex": null,
       "flex_flow": null,
       "grid_area": null,
       "grid_auto_columns": null,
       "grid_auto_flow": null,
       "grid_auto_rows": null,
       "grid_column": null,
       "grid_gap": null,
       "grid_row": null,
       "grid_template_areas": null,
       "grid_template_columns": null,
       "grid_template_rows": null,
       "height": null,
       "justify_content": null,
       "justify_items": null,
       "left": null,
       "margin": null,
       "max_height": null,
       "max_width": null,
       "min_height": null,
       "min_width": null,
       "object_fit": null,
       "object_position": null,
       "order": null,
       "overflow": null,
       "overflow_x": null,
       "overflow_y": null,
       "padding": null,
       "right": null,
       "top": null,
       "visibility": null,
       "width": null
      }
     }
    },
    "version_major": 2,
    "version_minor": 0
   }
  }
 },
 "nbformat": 4,
 "nbformat_minor": 5
}
