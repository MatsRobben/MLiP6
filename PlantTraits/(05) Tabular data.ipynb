{
 "cells": [
  {
   "cell_type": "markdown",
   "id": "1ddf872e",
   "metadata": {
    "papermill": {
     "duration": 0.005462,
     "end_time": "2024-05-07T09:39:14.339316",
     "exception": false,
     "start_time": "2024-05-07T09:39:14.333854",
     "status": "completed"
    },
    "tags": []
   },
   "source": [
    "- Notebook modified from https://www.kaggle.com/code/markwijkhuizen/planttraits2024-eda-training-pub.\n",
    "- Training only, EDA part not included.\n",
    "- Image model only, tabular data not used."
   ]
  },
  {
   "cell_type": "markdown",
   "id": "abee9b6a",
   "metadata": {
    "papermill": {
     "duration": 0.004734,
     "end_time": "2024-05-07T09:39:14.349209",
     "exception": false,
     "start_time": "2024-05-07T09:39:14.344475",
     "status": "completed"
    },
    "tags": []
   },
   "source": [
    "## Import Libraries "
   ]
  },
  {
   "cell_type": "code",
   "execution_count": 1,
   "id": "fbdecb6e",
   "metadata": {
    "execution": {
     "iopub.execute_input": "2024-05-07T09:39:14.360379Z",
     "iopub.status.busy": "2024-05-07T09:39:14.360046Z",
     "iopub.status.idle": "2024-05-07T09:39:26.191712Z",
     "shell.execute_reply": "2024-05-07T09:39:26.190668Z"
    },
    "papermill": {
     "duration": 11.839895,
     "end_time": "2024-05-07T09:39:26.193981",
     "exception": false,
     "start_time": "2024-05-07T09:39:14.354086",
     "status": "completed"
    },
    "tags": []
   },
   "outputs": [],
   "source": [
    "import numpy as np\n",
    "import pandas as pd\n",
    "import matplotlib.pyplot as plt\n",
    "import imageio.v3 as imageio\n",
    "import albumentations as A\n",
    "\n",
    "from albumentations.pytorch import ToTensorV2\n",
    "from torch.utils.data import Dataset, DataLoader\n",
    "from torch import nn\n",
    "from tqdm.notebook import tqdm\n",
    "from sklearn.preprocessing import StandardScaler\n",
    "from sklearn.model_selection import train_test_split, KFold, cross_val_score\n",
    "\n",
    "import torch\n",
    "import timm\n",
    "import glob\n",
    "import torchmetrics\n",
    "import time\n",
    "import psutil\n",
    "import os\n",
    "import time\n",
    "import pickle\n",
    "\n",
    "tqdm.pandas()\n",
    "device = torch.device(\"cuda:0\" if torch.cuda.is_available() else \"cpu\")"
   ]
  },
  {
   "cell_type": "code",
   "execution_count": 2,
   "id": "98aaf3b0",
   "metadata": {
    "execution": {
     "iopub.execute_input": "2024-05-07T09:39:26.205898Z",
     "iopub.status.busy": "2024-05-07T09:39:26.205601Z",
     "iopub.status.idle": "2024-05-07T09:39:26.213720Z",
     "shell.execute_reply": "2024-05-07T09:39:26.212897Z"
    },
    "papermill": {
     "duration": 0.016,
     "end_time": "2024-05-07T09:39:26.215664",
     "exception": false,
     "start_time": "2024-05-07T09:39:26.199664",
     "status": "completed"
    },
    "tags": []
   },
   "outputs": [],
   "source": [
    "class Config():\n",
    "    IMAGE_SIZE = 384\n",
    "#     BACKBONE = 'swin_large_patch4_window12_384.ms_in22k_ft_in1k'\n",
    "    BACKBONE = 'tf_efficientnet_b0'\n",
    "    TARGET_COLUMNS = ['X4_mean', 'X11_mean', 'X18_mean', 'X50_mean', 'X26_mean', 'X3112_mean']\n",
    "    \n",
    "    OUTLIERS = {'X4_mean': (0, 1), \n",
    "                'X11_mean': (0.0001, 0.998), \n",
    "                'X18_mean': (0.0001, 0.99), \n",
    "                'X50_mean': (0.0001, 0.999), \n",
    "                'X26_mean': (0.0001, 0.985), \n",
    "                'X3112_mean': (0.0001, 0.99)}\n",
    "    \n",
    "    OUTLIERS = {'X4_mean': (0.005, 0.985), \n",
    "                'X11_mean': (0.005, 0.985), \n",
    "                'X18_mean': (0.005, 0.985), \n",
    "                'X50_mean': (0.005, 0.985), \n",
    "                'X26_mean': (0.005, 0.985), \n",
    "                'X3112_mean': (0.005, 0.985)}\n",
    "    \n",
    "    N_TARGETS = len(TARGET_COLUMNS)\n",
    "    BATCH_SIZE = 32\n",
    "    LR_MAX = 1e-4\n",
    "    WEIGHT_DECAY = 0.01\n",
    "    N_EPOCHS = 15\n",
    "    TRAIN_MODEL = True\n",
    "    IS_INTERACTIVE = os.environ['KAGGLE_KERNEL_RUN_TYPE'] == 'Interactive'\n",
    "    \n",
    "#     MODEL_PATH = '/kaggle/input/plainttraits2024-swintransformer/model.pth'\n",
    "    MODEL_PATH = '/kaggle/input/planttraits2024-swintransformer-tabular/model.pth'\n",
    "        \n",
    "CONFIG = Config()"
   ]
  },
  {
   "cell_type": "markdown",
   "id": "2c932cce",
   "metadata": {
    "papermill": {
     "duration": 0.004671,
     "end_time": "2024-05-07T09:39:26.225283",
     "exception": false,
     "start_time": "2024-05-07T09:39:26.220612",
     "status": "completed"
    },
    "tags": []
   },
   "source": [
    "## Load Data"
   ]
  },
  {
   "cell_type": "code",
   "execution_count": 3,
   "id": "d6a4cd6d",
   "metadata": {
    "execution": {
     "iopub.execute_input": "2024-05-07T09:39:26.236178Z",
     "iopub.status.busy": "2024-05-07T09:39:26.235938Z",
     "iopub.status.idle": "2024-05-07T09:39:26.243243Z",
     "shell.execute_reply": "2024-05-07T09:39:26.242426Z"
    },
    "jupyter": {
     "source_hidden": true
    },
    "papermill": {
     "duration": 0.014749,
     "end_time": "2024-05-07T09:39:26.245097",
     "exception": false,
     "start_time": "2024-05-07T09:39:26.230348",
     "status": "completed"
    },
    "tags": []
   },
   "outputs": [],
   "source": [
    "def plot_hist(df):\n",
    "    num_columns = len(df.columns)\n",
    "    num_rows = (num_columns + 1) // 2\n",
    "    \n",
    "    fig, axes = plt.subplots(num_rows, 2, figsize=(14, 8))\n",
    "    fig.subplots_adjust(hspace=0.5, wspace=0.3)\n",
    "    \n",
    "    for i, column in enumerate(df.columns):\n",
    "        row = i // 2\n",
    "        col = i % 2\n",
    "        ax = axes[row, col]\n",
    "        ax.hist(df[column], bins=30, color='skyblue', edgecolor='black')\n",
    "        ax.set_title(f'Histogram of {column}')\n",
    "        ax.set_xlabel(column)\n",
    "        ax.set_ylabel('Frequency')\n",
    "        ax.grid(True)\n",
    "    \n",
    "    # Remove any unused subplots\n",
    "    for i in range(num_columns, num_rows * 2):\n",
    "        fig.delaxes(axes.flatten()[i])\n",
    "    \n",
    "    plt.show()"
   ]
  },
  {
   "cell_type": "code",
   "execution_count": 4,
   "id": "c82d1228",
   "metadata": {
    "execution": {
     "iopub.execute_input": "2024-05-07T09:39:26.255814Z",
     "iopub.status.busy": "2024-05-07T09:39:26.255560Z",
     "iopub.status.idle": "2024-05-07T09:39:29.531801Z",
     "shell.execute_reply": "2024-05-07T09:39:29.530847Z"
    },
    "papermill": {
     "duration": 3.283969,
     "end_time": "2024-05-07T09:39:29.533958",
     "exception": false,
     "start_time": "2024-05-07T09:39:26.249989",
     "status": "completed"
    },
    "tags": []
   },
   "outputs": [
    {
     "name": "stdout",
     "output_type": "stream",
     "text": [
      "N_TRAIN_SAMPLES: 49168 N_TEST_SAMPLES: 6545\n",
      "CPU times: user 1.81 s, sys: 214 ms, total: 2.02 s\n",
      "Wall time: 3.27 s\n"
     ]
    }
   ],
   "source": [
    "%%time\n",
    "read_images = True\n",
    "\n",
    "if not read_images:\n",
    "    train = pd.read_pickle('/kaggle/input/plainttraits2024-swintransformer/train.pkl')\n",
    "    test = pd.read_pickle('/kaggle/input/plainttraits2024-swintransformer/test.pkl')\n",
    "else: \n",
    "    train = pd.read_csv('/kaggle/input/planttraits2024/train.csv')\n",
    "\n",
    "    test = pd.read_csv('/kaggle/input/planttraits2024/test.csv')\n",
    "\n",
    "for col, value in CONFIG.OUTLIERS.items():\n",
    "    lower_quantile = train[col].quantile(value[0])\n",
    "    upper_quantile = train[col].quantile(value[1])  \n",
    "    train = train[(train[col] >= lower_quantile) & (train[col] <= upper_quantile)]    \n",
    "\n",
    "train = train[train['X4_mean'] > 0]\n",
    "    \n",
    "sd_columns = [col for col in train.columns if col.endswith('_sd')]\n",
    "train = train.drop(columns=sd_columns)\n",
    "    \n",
    "CONFIG.N_TRAIN_SAMPLES = len(train)\n",
    "CONFIG.N_STEPS_PER_EPOCH = (CONFIG.N_TRAIN_SAMPLES // CONFIG.BATCH_SIZE)\n",
    "CONFIG.N_STEPS = CONFIG.N_STEPS_PER_EPOCH * CONFIG.N_EPOCHS + 1    \n",
    "CONFIG.TABULAR_COLUMNS = train.filter(regex='^(WORLDCLIM_BIO|SOIL|MODIS_2000|VOD)').columns\n",
    "    \n",
    "if CONFIG.TRAIN_MODEL:\n",
    "    print('N_TRAIN_SAMPLES:', len(train), 'N_TEST_SAMPLES:', len(test))\n",
    "else:\n",
    "    print('N_TEST_SAMPLES:', len(test))"
   ]
  },
  {
   "cell_type": "code",
   "execution_count": 5,
   "id": "f1e24ad6",
   "metadata": {
    "execution": {
     "iopub.execute_input": "2024-05-07T09:39:29.546067Z",
     "iopub.status.busy": "2024-05-07T09:39:29.545369Z",
     "iopub.status.idle": "2024-05-07T09:39:29.565660Z",
     "shell.execute_reply": "2024-05-07T09:39:29.564809Z"
    },
    "papermill": {
     "duration": 0.028083,
     "end_time": "2024-05-07T09:39:29.567481",
     "exception": false,
     "start_time": "2024-05-07T09:39:29.539398",
     "status": "completed"
    },
    "tags": []
   },
   "outputs": [],
   "source": [
    "# if CONFIG.TRAIN_MODEL:\n",
    "LOG_FEATURES = ['X4_mean', 'X11_mean', 'X18_mean', 'X50_mean', 'X26_mean', 'X3112_mean']\n",
    "\n",
    "y_df = np.zeros_like(train[CONFIG.TARGET_COLUMNS], dtype=np.float32)\n",
    "for target_idx, target in enumerate(CONFIG.TARGET_COLUMNS):\n",
    "    v = train[target].values\n",
    "    if target in LOG_FEATURES:\n",
    "        v = np.log10(v)\n",
    "    y_df[:, target_idx] = v\n",
    "\n",
    "SCALER = StandardScaler()\n",
    "y_df = SCALER.fit_transform(y_df)"
   ]
  },
  {
   "cell_type": "code",
   "execution_count": 6,
   "id": "bc67cc24",
   "metadata": {
    "execution": {
     "iopub.execute_input": "2024-05-07T09:39:29.579093Z",
     "iopub.status.busy": "2024-05-07T09:39:29.578424Z",
     "iopub.status.idle": "2024-05-07T09:39:29.638330Z",
     "shell.execute_reply": "2024-05-07T09:39:29.637554Z"
    },
    "papermill": {
     "duration": 0.068146,
     "end_time": "2024-05-07T09:39:29.640680",
     "exception": false,
     "start_time": "2024-05-07T09:39:29.572534",
     "status": "completed"
    },
    "tags": []
   },
   "outputs": [],
   "source": [
    "# Splitting the data into training and validation sets\n",
    "train_df, val_df, y_train, y_val = train_test_split(train, y_df, test_size=0.2, random_state=42)"
   ]
  },
  {
   "cell_type": "code",
   "execution_count": 7,
   "id": "fed06c2b",
   "metadata": {
    "execution": {
     "iopub.execute_input": "2024-05-07T09:39:29.652816Z",
     "iopub.status.busy": "2024-05-07T09:39:29.652328Z",
     "iopub.status.idle": "2024-05-07T09:39:29.835689Z",
     "shell.execute_reply": "2024-05-07T09:39:29.834686Z"
    },
    "papermill": {
     "duration": 0.19203,
     "end_time": "2024-05-07T09:39:29.838089",
     "exception": false,
     "start_time": "2024-05-07T09:39:29.646059",
     "status": "completed"
    },
    "tags": []
   },
   "outputs": [],
   "source": [
    "SCALER_tabular = StandardScaler()\n",
    "tabular_df_train = SCALER_tabular.fit_transform(train_df[CONFIG.TABULAR_COLUMNS])\n",
    "tabular_df_val = SCALER_tabular.transform(val_df[CONFIG.TABULAR_COLUMNS])\n",
    "tabular_df_test = SCALER_tabular.fit_transform(test[CONFIG.TABULAR_COLUMNS])"
   ]
  },
  {
   "cell_type": "code",
   "execution_count": 8,
   "id": "ed8d9524",
   "metadata": {
    "execution": {
     "iopub.execute_input": "2024-05-07T09:39:29.850224Z",
     "iopub.status.busy": "2024-05-07T09:39:29.849921Z",
     "iopub.status.idle": "2024-05-07T09:39:29.859286Z",
     "shell.execute_reply": "2024-05-07T09:39:29.858331Z"
    },
    "papermill": {
     "duration": 0.017371,
     "end_time": "2024-05-07T09:39:29.861125",
     "exception": false,
     "start_time": "2024-05-07T09:39:29.843754",
     "status": "completed"
    },
    "tags": []
   },
   "outputs": [],
   "source": [
    "MEAN = np.array([0.485, 0.456, 0.406])\n",
    "STD = np.array([0.229, 0.224, 0.225])\n",
    "\n",
    "\n",
    "class Dataset(Dataset):\n",
    "    def __init__(self, X_tabular, y, transforms=None):\n",
    "        self.X_tabular = X_tabular\n",
    "        self.y = y\n",
    "\n",
    "    def __len__(self):\n",
    "        return len(self.X_tabular)\n",
    "\n",
    "    def __getitem__(self, index):\n",
    "        X_sample = {}\n",
    "        X_sample['tabular'] = self.X_tabular[index].astype('float32')\n",
    "        y_sample = self.y[index]\n",
    "        \n",
    "        return X_sample, y_sample\n",
    "\n",
    "if CONFIG.TRAIN_MODEL:\n",
    "    # Creating datasets for training and validation\n",
    "    train_dataset = Dataset(\n",
    "        tabular_df_train,\n",
    "        y_train,\n",
    "    )\n",
    "\n",
    "    val_dataset = Dataset(\n",
    "        tabular_df_val,\n",
    "        y_val,\n",
    "    )\n",
    "\n",
    "    # Creating dataloaders for training and validation\n",
    "    train_dataloader = DataLoader(\n",
    "        train_dataset,\n",
    "        batch_size=CONFIG.BATCH_SIZE,\n",
    "        shuffle=True,\n",
    "        drop_last=True,\n",
    "        num_workers=psutil.cpu_count(),\n",
    "    )\n",
    "\n",
    "    val_dataloader = DataLoader(\n",
    "        val_dataset,\n",
    "        batch_size=CONFIG.BATCH_SIZE,\n",
    "        shuffle=False,  # No need to shuffle validation data\n",
    "        num_workers=psutil.cpu_count(),\n",
    "    )\n",
    "\n",
    "test_dataset = Dataset(\n",
    "    tabular_df_test,\n",
    "    test['id'].values,\n",
    ")"
   ]
  },
  {
   "cell_type": "code",
   "execution_count": 9,
   "id": "6fdb0656",
   "metadata": {
    "execution": {
     "iopub.execute_input": "2024-05-07T09:39:29.872358Z",
     "iopub.status.busy": "2024-05-07T09:39:29.872093Z",
     "iopub.status.idle": "2024-05-07T09:39:30.045534Z",
     "shell.execute_reply": "2024-05-07T09:39:30.044563Z"
    },
    "papermill": {
     "duration": 0.181677,
     "end_time": "2024-05-07T09:39:30.047957",
     "exception": false,
     "start_time": "2024-05-07T09:39:29.866280",
     "status": "completed"
    },
    "tags": []
   },
   "outputs": [],
   "source": [
    "class Model(nn.Module):\n",
    "    def __init__(self):\n",
    "        super().__init__()\n",
    "#         self.backbone = timm.create_model(\n",
    "#                 CONFIG.BACKBONE,\n",
    "#                 pretrained=True,\n",
    "#                 num_classes=0,\n",
    "#         )\n",
    "        \n",
    "        self.linear_layer = nn.Linear(163, 256)\n",
    "        self.relu = nn.ReLU()\n",
    "        \n",
    "        # EfficientNet = 1280, SwinTrans = 1536, Tabular = 163\n",
    "        self.custom_layers = nn.Sequential(\n",
    "            nn.Linear(256, 512),\n",
    "            nn.ReLU(), \n",
    "            nn.Linear(512, 6)  \n",
    "        )\n",
    "        \n",
    "    def forward(self, inputs):\n",
    "        tabular = inputs['tabular']\n",
    "        \n",
    "        x_t = self.linear_layer(tabular)\n",
    "        x_t = self.relu(x_t)\n",
    "        \n",
    "        x = self.custom_layers(x_t)\n",
    "        \n",
    "        return x\n",
    "\n",
    "\n",
    "model = Model()\n",
    "model = model.to(device)\n",
    "# print(model.backbone.head)"
   ]
  },
  {
   "cell_type": "code",
   "execution_count": 10,
   "id": "26badc19",
   "metadata": {
    "execution": {
     "iopub.execute_input": "2024-05-07T09:39:30.059532Z",
     "iopub.status.busy": "2024-05-07T09:39:30.059207Z",
     "iopub.status.idle": "2024-05-07T09:39:30.097340Z",
     "shell.execute_reply": "2024-05-07T09:39:30.096491Z"
    },
    "papermill": {
     "duration": 0.046144,
     "end_time": "2024-05-07T09:39:30.099429",
     "exception": false,
     "start_time": "2024-05-07T09:39:30.053285",
     "status": "completed"
    },
    "tags": []
   },
   "outputs": [],
   "source": [
    "def get_lr_scheduler(optimizer):\n",
    "    return torch.optim.lr_scheduler.OneCycleLR(\n",
    "        optimizer=optimizer,\n",
    "        max_lr=CONFIG.LR_MAX,\n",
    "        total_steps=CONFIG.N_STEPS,\n",
    "        pct_start=0.1,\n",
    "        anneal_strategy='cos',\n",
    "        div_factor=1e1,\n",
    "        final_div_factor=1e1,\n",
    "    )\n",
    "\n",
    "class AverageMeter(object):\n",
    "    def __init__(self):\n",
    "        self.reset()\n",
    "\n",
    "    def reset(self):\n",
    "        self.avg = 0\n",
    "        self.sum = 0\n",
    "        self.count = 0\n",
    "\n",
    "    def update(self, val):\n",
    "        self.sum += val.sum()\n",
    "        self.count += val.numel()\n",
    "        self.avg = self.sum / self.count\n",
    "\n",
    "if CONFIG.TRAIN_MODEL:\n",
    "    MAE = torchmetrics.regression.MeanAbsoluteError().to(device)\n",
    "    R2 = torchmetrics.regression.R2Score(num_outputs=CONFIG.N_TARGETS, multioutput='uniform_average').to(device)\n",
    "    LOSS = AverageMeter()\n",
    "\n",
    "    Y_MEAN = torch.tensor(y_df).mean(dim=0).to(device)\n",
    "    EPS = torch.tensor([1e-6]).to(device)\n",
    "\n",
    "    def r2_loss(y_pred, y_true):\n",
    "        ss_res = torch.sum((y_true - y_pred)**2, dim=0)\n",
    "        ss_total = torch.sum((y_true - Y_MEAN)**2, dim=0)\n",
    "        ss_total = torch.maximum(ss_total, EPS)\n",
    "        r2 = torch.mean(ss_res / ss_total)\n",
    "        return r2\n",
    "\n",
    "    LOSS_FN = r2_loss\n",
    "\n",
    "    optimizer = torch.optim.AdamW(\n",
    "        params=model.parameters(),\n",
    "        lr=CONFIG.LR_MAX,\n",
    "        weight_decay=CONFIG.WEIGHT_DECAY,\n",
    "    )\n",
    "\n",
    "    LR_SCHEDULER = get_lr_scheduler(optimizer)"
   ]
  },
  {
   "cell_type": "code",
   "execution_count": 11,
   "id": "2aa015df",
   "metadata": {
    "execution": {
     "iopub.execute_input": "2024-05-07T09:39:30.110771Z",
     "iopub.status.busy": "2024-05-07T09:39:30.110497Z",
     "iopub.status.idle": "2024-05-07T09:40:47.459792Z",
     "shell.execute_reply": "2024-05-07T09:40:47.458497Z"
    },
    "papermill": {
     "duration": 77.357543,
     "end_time": "2024-05-07T09:40:47.462109",
     "exception": false,
     "start_time": "2024-05-07T09:39:30.104566",
     "status": "completed"
    },
    "tags": []
   },
   "outputs": [
    {
     "name": "stdout",
     "output_type": "stream",
     "text": [
      "Start Training:\n",
      "EPOCH 01, 1229/1229 | loss: 0.8831, mae: 0.7489, r2: 0.1197, step: 0.430s, lr: 5.97e-05\n",
      "EPOCH VAL, 01, 0308/308 | loss: 0.8271, mae: 0.7193, r2: 0.1792, step: 0.017s, lr: 5.97e-05\n",
      "\n",
      "EPOCH 02, 1229/1229 | loss: 0.8091, mae: 0.7095, r2: 0.1970, step: 0.003s, lr: 1.00e-04\n",
      "EPOCH VAL, 02, 0308/308 | loss: 0.8047, mae: 0.7047, r2: 0.2032, step: 0.002s, lr: 1.00e-04\n",
      "\n",
      "EPOCH 03, 1229/1229 | loss: 0.7926, mae: 0.7004, r2: 0.2145, step: 0.003s, lr: 9.89e-05\n",
      "EPOCH VAL, 03, 0308/308 | loss: 0.7971, mae: 0.7031, r2: 0.2098, step: 0.002s, lr: 9.89e-05\n",
      "\n",
      "EPOCH 04, 1229/1229 | loss: 0.7845, mae: 0.6960, r2: 0.2228, step: 0.003s, lr: 9.62e-05\n",
      "EPOCH VAL, 04, 0308/308 | loss: 0.7925, mae: 0.7007, r2: 0.2147, step: 0.003s, lr: 9.62e-05\n",
      "\n",
      "EPOCH 05, 1229/1229 | loss: 0.7780, mae: 0.6925, r2: 0.2293, step: 0.003s, lr: 9.18e-05\n",
      "EPOCH VAL, 05, 0308/308 | loss: 0.7894, mae: 0.6987, r2: 0.2169, step: 0.002s, lr: 9.18e-05\n",
      "\n",
      "EPOCH 06, 1229/1229 | loss: 0.7731, mae: 0.6904, r2: 0.2338, step: 0.003s, lr: 8.61e-05\n",
      "EPOCH VAL, 06, 0308/308 | loss: 0.7847, mae: 0.6948, r2: 0.2234, step: 0.002s, lr: 8.61e-05\n",
      "\n",
      "EPOCH 07, 1229/1229 | loss: 0.7688, mae: 0.6880, r2: 0.2382, step: 0.003s, lr: 7.91e-05\n",
      "EPOCH VAL, 07, 0308/308 | loss: 0.7830, mae: 0.6938, r2: 0.2237, step: 0.002s, lr: 7.91e-05\n",
      "\n",
      "EPOCH 08, 1229/1229 | loss: 0.7657, mae: 0.6863, r2: 0.2417, step: 0.003s, lr: 7.11e-05\n",
      "EPOCH VAL, 08, 0308/308 | loss: 0.7831, mae: 0.6930, r2: 0.2252, step: 0.002s, lr: 7.11e-05\n",
      "\n",
      "EPOCH 09, 1229/1229 | loss: 0.7626, mae: 0.6845, r2: 0.2452, step: 0.003s, lr: 6.25e-05\n",
      "EPOCH VAL, 09, 0308/308 | loss: 0.7798, mae: 0.6924, r2: 0.2288, step: 0.002s, lr: 6.25e-05\n",
      "\n",
      "EPOCH 10, 1229/1229 | loss: 0.7584, mae: 0.6825, r2: 0.2490, step: 0.004s, lr: 5.34e-05\n",
      "EPOCH VAL, 10, 0308/308 | loss: 0.7796, mae: 0.6927, r2: 0.2281, step: 0.002s, lr: 5.34e-05\n",
      "\n",
      "EPOCH 11, 1229/1229 | loss: 0.7554, mae: 0.6812, r2: 0.2518, step: 0.003s, lr: 4.42e-05\n",
      "EPOCH VAL, 11, 0308/308 | loss: 0.7793, mae: 0.6911, r2: 0.2298, step: 0.002s, lr: 4.42e-05\n",
      "\n",
      "EPOCH 12, 1229/1229 | loss: 0.7527, mae: 0.6797, r2: 0.2546, step: 0.003s, lr: 3.52e-05\n",
      "EPOCH VAL, 12, 0308/308 | loss: 0.7775, mae: 0.6905, r2: 0.2302, step: 0.002s, lr: 3.52e-05\n",
      "\n",
      "EPOCH 13, 1229/1229 | loss: 0.7508, mae: 0.6784, r2: 0.2569, step: 0.003s, lr: 2.67e-05\n",
      "EPOCH VAL, 13, 0308/308 | loss: 0.7760, mae: 0.6908, r2: 0.2322, step: 0.002s, lr: 2.67e-05\n",
      "\n",
      "EPOCH 14, 1229/1229 | loss: 0.7482, mae: 0.6773, r2: 0.2592, step: 0.003s, lr: 1.91e-05\n",
      "EPOCH VAL, 14, 0308/308 | loss: 0.7750, mae: 0.6891, r2: 0.2329, step: 0.002s, lr: 1.91e-05\n",
      "\n",
      "EPOCH 15, 1229/1229 | loss: 0.7464, mae: 0.6764, r2: 0.2610, step: 0.003s, lr: 1.26e-05\n",
      "EPOCH VAL, 15, 0308/308 | loss: 0.7745, mae: 0.6898, r2: 0.2335, step: 0.002s, lr: 1.26e-05\n",
      "\n"
     ]
    }
   ],
   "source": [
    "if CONFIG.TRAIN_MODEL:\n",
    "    print(\"Start Training:\")\n",
    "    \n",
    "    best = float('inf')\n",
    "    for epoch in range(CONFIG.N_EPOCHS):\n",
    "        MAE.reset()\n",
    "        R2.reset()\n",
    "        LOSS.reset()\n",
    "        model.train()\n",
    "\n",
    "        for step, (X_batch, y_true) in enumerate(train_dataloader):\n",
    "            X_batch['tabular'] = X_batch['tabular'].to(device)\n",
    "            y_true = y_true.to(device)\n",
    "            t_start = time.perf_counter_ns()\n",
    "            y_pred = model(X_batch)\n",
    "            loss = LOSS_FN(y_pred, y_true)\n",
    "            LOSS.update(loss)\n",
    "            loss.backward()\n",
    "            optimizer.step()\n",
    "            optimizer.zero_grad()\n",
    "            LR_SCHEDULER.step()\n",
    "            MAE.update(y_pred, y_true)\n",
    "            R2.update(y_pred, y_true)\n",
    "\n",
    "            if not CONFIG.IS_INTERACTIVE and (step+1) == len(train_dataloader):\n",
    "                print(\n",
    "                    f'EPOCH {epoch+1:02d}, {step+1:04d}/{len(train_dataloader)} | ' + \n",
    "                    f'loss: {LOSS.avg:.4f}, mae: {MAE.compute().item():.4f}, r2: {R2.compute().item():.4f}, ' +\n",
    "                    f'step: {(time.perf_counter_ns()-t_start)*1e-9:.3f}s, lr: {LR_SCHEDULER.get_last_lr()[0]:.2e}',\n",
    "                )\n",
    "            elif CONFIG.IS_INTERACTIVE:\n",
    "                print(\n",
    "                    f'\\rEPOCH {epoch+1:02d}, {step+1:04d}/{len(train_dataloader)} | ' + \n",
    "                    f'loss: {LOSS.avg:.4f}, mae: {MAE.compute().item():.4f}, r2: {R2.compute().item():.4f}, ' +\n",
    "                    f'step: {(time.perf_counter_ns()-t_start)*1e-9:.3f}s, lr: {LR_SCHEDULER.get_last_lr()[0]:.2e}',\n",
    "                    end='\\n' if (step + 1) == CONFIG.N_STEPS_PER_EPOCH else '', flush=True,\n",
    "                )\n",
    "        \n",
    "        if CONFIG.IS_INTERACTIVE:\n",
    "            print()\n",
    "        \n",
    "        MAE.reset()\n",
    "        R2.reset()\n",
    "        LOSS.reset()\n",
    "        model.eval()\n",
    "        \n",
    "        for step, (X_batch, y_true) in enumerate(val_dataloader):\n",
    "            X_batch['tabular'] = X_batch['tabular'].to(device)\n",
    "            y_true = y_true.to(device)\n",
    "            t_start = time.perf_counter_ns()\n",
    "            with torch.no_grad():\n",
    "                y_pred = model(X_batch)\n",
    "                loss = LOSS_FN(y_pred, y_true)\n",
    "                \n",
    "            LOSS.update(loss)\n",
    "            MAE.update(y_pred, y_true)\n",
    "            R2.update(y_pred, y_true)\n",
    "            if not CONFIG.IS_INTERACTIVE and (step+1) == len(val_dataloader):\n",
    "                print(\n",
    "                    f'EPOCH VAL, {epoch+1:02d}, {step+1:04d}/{len(val_dataloader)} | ' + \n",
    "                    f'loss: {LOSS.avg:.4f}, mae: {MAE.compute().item():.4f}, r2: {R2.compute().item():.4f}, ' +\n",
    "                    f'step: {(time.perf_counter_ns()-t_start)*1e-9:.3f}s, lr: {LR_SCHEDULER.get_last_lr()[0]:.2e}',\n",
    "                )\n",
    "            elif CONFIG.IS_INTERACTIVE:\n",
    "                print(\n",
    "                    f'\\rEPOCH VAL {epoch+1:02d}, {step+1:04d}/{len(val_dataloader)} | ' + \n",
    "                    f'loss: {LOSS.avg:.4f}, mae: {MAE.compute().item():.4f}, r2: {R2.compute().item():.4f}, ' +\n",
    "                    f'step: {(time.perf_counter_ns()-t_start)*1e-9:.3f}s, lr: {LR_SCHEDULER.get_last_lr()[0]:.2e}',\n",
    "                    end='\\n' if (step + 1) == CONFIG.N_STEPS_PER_EPOCH else '', flush=True,\n",
    "                )\n",
    "        print()\n",
    "        if LOSS.avg < best:\n",
    "            best = LOSS.avg\n",
    "            torch.save(model, 'model.pth')\n",
    "            \n",
    "            \n",
    "else:\n",
    "    model = torch.load(CONFIG.MODEL_PATH)\n",
    "    model.to(device)"
   ]
  },
  {
   "cell_type": "code",
   "execution_count": 12,
   "id": "010ccdc1",
   "metadata": {
    "execution": {
     "iopub.execute_input": "2024-05-07T09:40:47.479652Z",
     "iopub.status.busy": "2024-05-07T09:40:47.479310Z",
     "iopub.status.idle": "2024-05-07T09:40:47.487221Z",
     "shell.execute_reply": "2024-05-07T09:40:47.486340Z"
    },
    "papermill": {
     "duration": 0.019049,
     "end_time": "2024-05-07T09:40:47.489254",
     "exception": false,
     "start_time": "2024-05-07T09:40:47.470205",
     "status": "completed"
    },
    "tags": []
   },
   "outputs": [],
   "source": [
    "model = torch.load('/kaggle/working/model.pth')\n",
    "model.to(device);"
   ]
  },
  {
   "cell_type": "code",
   "execution_count": 13,
   "id": "4ec00fb7",
   "metadata": {
    "execution": {
     "iopub.execute_input": "2024-05-07T09:40:47.506065Z",
     "iopub.status.busy": "2024-05-07T09:40:47.505391Z",
     "iopub.status.idle": "2024-05-07T09:40:50.782285Z",
     "shell.execute_reply": "2024-05-07T09:40:50.781027Z"
    },
    "papermill": {
     "duration": 3.287482,
     "end_time": "2024-05-07T09:40:50.784403",
     "exception": false,
     "start_time": "2024-05-07T09:40:47.496921",
     "status": "completed"
    },
    "tags": []
   },
   "outputs": [
    {
     "data": {
      "application/vnd.jupyter.widget-view+json": {
       "model_id": "8d393edd1c084c97b74d7762c9a18d9f",
       "version_major": 2,
       "version_minor": 0
      },
      "text/plain": [
       "  0%|          | 0/6545 [00:00<?, ?it/s]"
      ]
     },
     "metadata": {},
     "output_type": "display_data"
    },
    {
     "name": "stdout",
     "output_type": "stream",
     "text": [
      "Submit!\n"
     ]
    }
   ],
   "source": [
    "SUBMISSION_ROWS = []\n",
    "model.eval()\n",
    "\n",
    "for X_sample_test, test_id in tqdm(test_dataset):\n",
    "    X_sample_test['tabular'] = torch.Tensor(X_sample_test['tabular']).unsqueeze(0).to(device)\n",
    "    with torch.no_grad():\n",
    "        y_pred = model(X_sample_test).detach().cpu().numpy()\n",
    "    \n",
    "    y_pred = SCALER.inverse_transform(y_pred).squeeze()\n",
    "    row = {'id': test_id}\n",
    "    \n",
    "    for k, v in zip(CONFIG.TARGET_COLUMNS, y_pred):\n",
    "        if k in LOG_FEATURES:\n",
    "            row[k.replace('_mean', '')] = 10 ** v\n",
    "        else:\n",
    "            row[k.replace('_mean', '')] = v\n",
    "\n",
    "    SUBMISSION_ROWS.append(row)\n",
    "    \n",
    "submission_df = pd.DataFrame(SUBMISSION_ROWS)\n",
    "submission_df.to_csv('submission.csv', index=False)\n",
    "print(\"Submit!\")"
   ]
  },
  {
   "cell_type": "code",
   "execution_count": null,
   "id": "8ede2444",
   "metadata": {
    "papermill": {
     "duration": 0.007971,
     "end_time": "2024-05-07T09:40:50.800611",
     "exception": false,
     "start_time": "2024-05-07T09:40:50.792640",
     "status": "completed"
    },
    "tags": []
   },
   "outputs": [],
   "source": []
  }
 ],
 "metadata": {
  "kaggle": {
   "accelerator": "gpu",
   "dataSources": [
    {
     "databundleVersionId": 8046133,
     "sourceId": 65626,
     "sourceType": "competition"
    },
    {
     "datasetId": 4761376,
     "sourceId": 8069756,
     "sourceType": "datasetVersion"
    },
    {
     "datasetId": 4932016,
     "sourceId": 8301775,
     "sourceType": "datasetVersion"
    }
   ],
   "isGpuEnabled": true,
   "isInternetEnabled": true,
   "language": "python",
   "sourceType": "notebook"
  },
  "kernelspec": {
   "display_name": "Python 3",
   "language": "python",
   "name": "python3"
  },
  "language_info": {
   "codemirror_mode": {
    "name": "ipython",
    "version": 3
   },
   "file_extension": ".py",
   "mimetype": "text/x-python",
   "name": "python",
   "nbconvert_exporter": "python",
   "pygments_lexer": "ipython3",
   "version": "3.10.13"
  },
  "papermill": {
   "default_parameters": {},
   "duration": 101.063565,
   "end_time": "2024-05-07T09:40:52.731540",
   "environment_variables": {},
   "exception": null,
   "input_path": "__notebook__.ipynb",
   "output_path": "__notebook__.ipynb",
   "parameters": {},
   "start_time": "2024-05-07T09:39:11.667975",
   "version": "2.5.0"
  },
  "widgets": {
   "application/vnd.jupyter.widget-state+json": {
    "state": {
     "21917225822846d693d80e3041bca518": {
      "model_module": "@jupyter-widgets/base",
      "model_module_version": "1.2.0",
      "model_name": "LayoutModel",
      "state": {
       "_model_module": "@jupyter-widgets/base",
       "_model_module_version": "1.2.0",
       "_model_name": "LayoutModel",
       "_view_count": null,
       "_view_module": "@jupyter-widgets/base",
       "_view_module_version": "1.2.0",
       "_view_name": "LayoutView",
       "align_content": null,
       "align_items": null,
       "align_self": null,
       "border": null,
       "bottom": null,
       "display": null,
       "flex": null,
       "flex_flow": null,
       "grid_area": null,
       "grid_auto_columns": null,
       "grid_auto_flow": null,
       "grid_auto_rows": null,
       "grid_column": null,
       "grid_gap": null,
       "grid_row": null,
       "grid_template_areas": null,
       "grid_template_columns": null,
       "grid_template_rows": null,
       "height": null,
       "justify_content": null,
       "justify_items": null,
       "left": null,
       "margin": null,
       "max_height": null,
       "max_width": null,
       "min_height": null,
       "min_width": null,
       "object_fit": null,
       "object_position": null,
       "order": null,
       "overflow": null,
       "overflow_x": null,
       "overflow_y": null,
       "padding": null,
       "right": null,
       "top": null,
       "visibility": null,
       "width": null
      }
     },
     "27b7f830771a4ac5b5a22e1ce8d28687": {
      "model_module": "@jupyter-widgets/base",
      "model_module_version": "1.2.0",
      "model_name": "LayoutModel",
      "state": {
       "_model_module": "@jupyter-widgets/base",
       "_model_module_version": "1.2.0",
       "_model_name": "LayoutModel",
       "_view_count": null,
       "_view_module": "@jupyter-widgets/base",
       "_view_module_version": "1.2.0",
       "_view_name": "LayoutView",
       "align_content": null,
       "align_items": null,
       "align_self": null,
       "border": null,
       "bottom": null,
       "display": null,
       "flex": null,
       "flex_flow": null,
       "grid_area": null,
       "grid_auto_columns": null,
       "grid_auto_flow": null,
       "grid_auto_rows": null,
       "grid_column": null,
       "grid_gap": null,
       "grid_row": null,
       "grid_template_areas": null,
       "grid_template_columns": null,
       "grid_template_rows": null,
       "height": null,
       "justify_content": null,
       "justify_items": null,
       "left": null,
       "margin": null,
       "max_height": null,
       "max_width": null,
       "min_height": null,
       "min_width": null,
       "object_fit": null,
       "object_position": null,
       "order": null,
       "overflow": null,
       "overflow_x": null,
       "overflow_y": null,
       "padding": null,
       "right": null,
       "top": null,
       "visibility": null,
       "width": null
      }
     },
     "2a8d4cec5d19406297dd4122589ced60": {
      "model_module": "@jupyter-widgets/base",
      "model_module_version": "1.2.0",
      "model_name": "LayoutModel",
      "state": {
       "_model_module": "@jupyter-widgets/base",
       "_model_module_version": "1.2.0",
       "_model_name": "LayoutModel",
       "_view_count": null,
       "_view_module": "@jupyter-widgets/base",
       "_view_module_version": "1.2.0",
       "_view_name": "LayoutView",
       "align_content": null,
       "align_items": null,
       "align_self": null,
       "border": null,
       "bottom": null,
       "display": null,
       "flex": null,
       "flex_flow": null,
       "grid_area": null,
       "grid_auto_columns": null,
       "grid_auto_flow": null,
       "grid_auto_rows": null,
       "grid_column": null,
       "grid_gap": null,
       "grid_row": null,
       "grid_template_areas": null,
       "grid_template_columns": null,
       "grid_template_rows": null,
       "height": null,
       "justify_content": null,
       "justify_items": null,
       "left": null,
       "margin": null,
       "max_height": null,
       "max_width": null,
       "min_height": null,
       "min_width": null,
       "object_fit": null,
       "object_position": null,
       "order": null,
       "overflow": null,
       "overflow_x": null,
       "overflow_y": null,
       "padding": null,
       "right": null,
       "top": null,
       "visibility": null,
       "width": null
      }
     },
     "4f28195c4cfb475e93dced03164390d9": {
      "model_module": "@jupyter-widgets/base",
      "model_module_version": "1.2.0",
      "model_name": "LayoutModel",
      "state": {
       "_model_module": "@jupyter-widgets/base",
       "_model_module_version": "1.2.0",
       "_model_name": "LayoutModel",
       "_view_count": null,
       "_view_module": "@jupyter-widgets/base",
       "_view_module_version": "1.2.0",
       "_view_name": "LayoutView",
       "align_content": null,
       "align_items": null,
       "align_self": null,
       "border": null,
       "bottom": null,
       "display": null,
       "flex": null,
       "flex_flow": null,
       "grid_area": null,
       "grid_auto_columns": null,
       "grid_auto_flow": null,
       "grid_auto_rows": null,
       "grid_column": null,
       "grid_gap": null,
       "grid_row": null,
       "grid_template_areas": null,
       "grid_template_columns": null,
       "grid_template_rows": null,
       "height": null,
       "justify_content": null,
       "justify_items": null,
       "left": null,
       "margin": null,
       "max_height": null,
       "max_width": null,
       "min_height": null,
       "min_width": null,
       "object_fit": null,
       "object_position": null,
       "order": null,
       "overflow": null,
       "overflow_x": null,
       "overflow_y": null,
       "padding": null,
       "right": null,
       "top": null,
       "visibility": null,
       "width": null
      }
     },
     "5fc52cdfcc7240c3878345184784388b": {
      "model_module": "@jupyter-widgets/controls",
      "model_module_version": "1.5.0",
      "model_name": "ProgressStyleModel",
      "state": {
       "_model_module": "@jupyter-widgets/controls",
       "_model_module_version": "1.5.0",
       "_model_name": "ProgressStyleModel",
       "_view_count": null,
       "_view_module": "@jupyter-widgets/base",
       "_view_module_version": "1.2.0",
       "_view_name": "StyleView",
       "bar_color": null,
       "description_width": ""
      }
     },
     "664c86de448c4f9f8ae6e1184357394b": {
      "model_module": "@jupyter-widgets/controls",
      "model_module_version": "1.5.0",
      "model_name": "DescriptionStyleModel",
      "state": {
       "_model_module": "@jupyter-widgets/controls",
       "_model_module_version": "1.5.0",
       "_model_name": "DescriptionStyleModel",
       "_view_count": null,
       "_view_module": "@jupyter-widgets/base",
       "_view_module_version": "1.2.0",
       "_view_name": "StyleView",
       "description_width": ""
      }
     },
     "8d393edd1c084c97b74d7762c9a18d9f": {
      "model_module": "@jupyter-widgets/controls",
      "model_module_version": "1.5.0",
      "model_name": "HBoxModel",
      "state": {
       "_dom_classes": [],
       "_model_module": "@jupyter-widgets/controls",
       "_model_module_version": "1.5.0",
       "_model_name": "HBoxModel",
       "_view_count": null,
       "_view_module": "@jupyter-widgets/controls",
       "_view_module_version": "1.5.0",
       "_view_name": "HBoxView",
       "box_style": "",
       "children": [
        "IPY_MODEL_e1f692c0e0ff443a9d9823b121d62f65",
        "IPY_MODEL_dcb4499828384bc0b16f6a981b5f108d",
        "IPY_MODEL_c1ecc30fc27542848eb760e8d5b5775e"
       ],
       "layout": "IPY_MODEL_21917225822846d693d80e3041bca518"
      }
     },
     "c1ecc30fc27542848eb760e8d5b5775e": {
      "model_module": "@jupyter-widgets/controls",
      "model_module_version": "1.5.0",
      "model_name": "HTMLModel",
      "state": {
       "_dom_classes": [],
       "_model_module": "@jupyter-widgets/controls",
       "_model_module_version": "1.5.0",
       "_model_name": "HTMLModel",
       "_view_count": null,
       "_view_module": "@jupyter-widgets/controls",
       "_view_module_version": "1.5.0",
       "_view_name": "HTMLView",
       "description": "",
       "description_tooltip": null,
       "layout": "IPY_MODEL_4f28195c4cfb475e93dced03164390d9",
       "placeholder": "​",
       "style": "IPY_MODEL_664c86de448c4f9f8ae6e1184357394b",
       "value": " 6545/6545 [00:03&lt;00:00, 2127.65it/s]"
      }
     },
     "c940e4601ee744ba9823fe85cc738459": {
      "model_module": "@jupyter-widgets/controls",
      "model_module_version": "1.5.0",
      "model_name": "DescriptionStyleModel",
      "state": {
       "_model_module": "@jupyter-widgets/controls",
       "_model_module_version": "1.5.0",
       "_model_name": "DescriptionStyleModel",
       "_view_count": null,
       "_view_module": "@jupyter-widgets/base",
       "_view_module_version": "1.2.0",
       "_view_name": "StyleView",
       "description_width": ""
      }
     },
     "dcb4499828384bc0b16f6a981b5f108d": {
      "model_module": "@jupyter-widgets/controls",
      "model_module_version": "1.5.0",
      "model_name": "FloatProgressModel",
      "state": {
       "_dom_classes": [],
       "_model_module": "@jupyter-widgets/controls",
       "_model_module_version": "1.5.0",
       "_model_name": "FloatProgressModel",
       "_view_count": null,
       "_view_module": "@jupyter-widgets/controls",
       "_view_module_version": "1.5.0",
       "_view_name": "ProgressView",
       "bar_style": "success",
       "description": "",
       "description_tooltip": null,
       "layout": "IPY_MODEL_2a8d4cec5d19406297dd4122589ced60",
       "max": 6545.0,
       "min": 0.0,
       "orientation": "horizontal",
       "style": "IPY_MODEL_5fc52cdfcc7240c3878345184784388b",
       "value": 6545.0
      }
     },
     "e1f692c0e0ff443a9d9823b121d62f65": {
      "model_module": "@jupyter-widgets/controls",
      "model_module_version": "1.5.0",
      "model_name": "HTMLModel",
      "state": {
       "_dom_classes": [],
       "_model_module": "@jupyter-widgets/controls",
       "_model_module_version": "1.5.0",
       "_model_name": "HTMLModel",
       "_view_count": null,
       "_view_module": "@jupyter-widgets/controls",
       "_view_module_version": "1.5.0",
       "_view_name": "HTMLView",
       "description": "",
       "description_tooltip": null,
       "layout": "IPY_MODEL_27b7f830771a4ac5b5a22e1ce8d28687",
       "placeholder": "​",
       "style": "IPY_MODEL_c940e4601ee744ba9823fe85cc738459",
       "value": "100%"
      }
     }
    },
    "version_major": 2,
    "version_minor": 0
   }
  }
 },
 "nbformat": 4,
 "nbformat_minor": 5
}
